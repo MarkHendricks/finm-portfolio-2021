{
 "cells": [
  {
   "cell_type": "code",
   "execution_count": 1,
   "id": "abbc0986",
   "metadata": {},
   "outputs": [],
   "source": [
    "import numpy as np\n",
    "import pandas as pd\n",
    "pd.options.display.float_format = \"{:,.4f}\".format\n",
    "\n",
    "import matplotlib.pyplot as plt\n",
    "import seaborn as sns\n",
    "\n",
    "import statsmodels.api as sm\n",
    "from sklearn.linear_model import LinearRegression\n",
    "\n",
    "import pandas_datareader.data as web\n",
    "import pandas_datareader as pdr"
   ]
  },
  {
   "cell_type": "code",
   "execution_count": 2,
   "id": "8899fb9b",
   "metadata": {},
   "outputs": [],
   "source": [
    "import sys\n",
    "sys.path.insert(0, '../cmds')\n",
    "from portfolio import *\n",
    "from factor_pricing import *\n",
    "from forecasts import *"
   ]
  },
  {
   "cell_type": "code",
   "execution_count": 3,
   "id": "f020ed2e",
   "metadata": {},
   "outputs": [
    {
     "data": {
      "text/html": [
       "<div>\n",
       "<style scoped>\n",
       "    .dataframe tbody tr th:only-of-type {\n",
       "        vertical-align: middle;\n",
       "    }\n",
       "\n",
       "    .dataframe tbody tr th {\n",
       "        vertical-align: top;\n",
       "    }\n",
       "\n",
       "    .dataframe thead th {\n",
       "        text-align: right;\n",
       "    }\n",
       "</style>\n",
       "<table border=\"1\" class=\"dataframe\">\n",
       "  <thead>\n",
       "    <tr style=\"text-align: right;\">\n",
       "      <th></th>\n",
       "      <th>Name</th>\n",
       "      <th>Unit</th>\n",
       "      <th>Construction</th>\n",
       "      <th>Description</th>\n",
       "    </tr>\n",
       "  </thead>\n",
       "  <tbody>\n",
       "    <tr>\n",
       "      <th>MKT</th>\n",
       "      <td>Market</td>\n",
       "      <td>Excess Return</td>\n",
       "      <td>Market-cap-weighted</td>\n",
       "      <td>US Equities</td>\n",
       "    </tr>\n",
       "    <tr>\n",
       "      <th>CL1</th>\n",
       "      <td>Crude Oil</td>\n",
       "      <td>Excess Return</td>\n",
       "      <td>Long Crude Oil</td>\n",
       "      <td></td>\n",
       "    </tr>\n",
       "  </tbody>\n",
       "</table>\n",
       "</div>"
      ],
      "text/plain": [
       "          Name           Unit         Construction  Description\n",
       "MKT     Market  Excess Return  Market-cap-weighted  US Equities\n",
       "CL1  Crude Oil  Excess Return       Long Crude Oil             "
      ]
     },
     "execution_count": 3,
     "metadata": {},
     "output_type": "execute_result"
    }
   ],
   "source": [
    "info = pd.DataFrame(columns=['Name', 'Unit', 'Construction', 'Description'])\n",
    "info.loc['MKT'] = ['Market', 'Excess Return', 'Market-cap-weighted', 'US Equities']\n",
    "info.loc['CL1'] = ['Crude Oil', 'Excess Return', 'Long Crude Oil', '']\n",
    "info"
   ]
  },
  {
   "cell_type": "code",
   "execution_count": 4,
   "id": "bb58ef64",
   "metadata": {},
   "outputs": [],
   "source": [
    "filepath_data = '../data/factor_pricing_data.xlsx'\n",
    "\n",
    "facs = pd.read_excel(filepath_data,sheet_name='factors (excess returns)')\n",
    "facs.set_index('Date',inplace=True)\n",
    "facs = facs[['MKT']]\n",
    "\n",
    "rf = pd.read_excel(filepath_data,sheet_name='risk-free rate')\n",
    "rf.set_index('Date',inplace=True)\n",
    "\n",
    "filepath_data = '../data/commodities_return_data.xlsx'\n",
    "rets = pd.read_excel(filepath_data,sheet_name='total returns')\n",
    "rets.set_index('Date',inplace=True)\n",
    "rets, facs = rets.align(facs,join='inner',axis=0)\n",
    "rets, rf = rets.align(rf, join='inner',axis=0)\n",
    "retsx = rets.subtract(rf['RF'],axis=0)\n",
    "\n",
    "KEY = 'CL1'\n",
    "facs[KEY] = retsx[KEY]\n",
    "retsx.drop(columns=[KEY],inplace=True)"
   ]
  },
  {
   "cell_type": "code",
   "execution_count": 5,
   "id": "34c80944",
   "metadata": {},
   "outputs": [],
   "source": [
    "with pd.ExcelWriter('midterm_2_data_pricing.xlsx') as writer:  \n",
    "    info.to_excel(writer, sheet_name= 'descriptions')\n",
    "    facs.to_excel(writer, sheet_name='factors (excess returns)')\n",
    "    retsx.to_excel(writer, sheet_name='assets (excess returns)')"
   ]
  }
 ],
 "metadata": {
  "kernelspec": {
   "display_name": "Python 3",
   "language": "python",
   "name": "python3"
  },
  "language_info": {
   "codemirror_mode": {
    "name": "ipython",
    "version": 3
   },
   "file_extension": ".py",
   "mimetype": "text/x-python",
   "name": "python",
   "nbconvert_exporter": "python",
   "pygments_lexer": "ipython3",
   "version": "3.8.9"
  }
 },
 "nbformat": 4,
 "nbformat_minor": 5
}
