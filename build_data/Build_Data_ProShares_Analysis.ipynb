{
 "cells": [
  {
   "cell_type": "markdown",
   "metadata": {},
   "source": [
    "# Required: Active Bloomberg Connection\n",
    "\n",
    "### Additionally, this notebook uses a custom Bloomberg API wrapper imported as bbapi\n",
    "Using the standard Bloomberg API directly will require some modifications."
   ]
  },
  {
   "cell_type": "code",
   "execution_count": 1,
   "metadata": {},
   "outputs": [],
   "source": [
    "import numpy as np\n",
    "import pandas as pd\n",
    "import arch\n",
    "\n",
    "import statsmodels.api as sm\n",
    "\n",
    "import os, sys\n",
    "import pytz\n",
    "from datetime import datetime, timedelta\n",
    "\n",
    "from sqlalchemy import create_engine"
   ]
  },
  {
   "cell_type": "code",
   "execution_count": 2,
   "metadata": {},
   "outputs": [],
   "source": [
    "import sys\n",
    "sys.path.insert(0, '../cmds')\n",
    "from bbapi import *"
   ]
  },
  {
   "cell_type": "code",
   "execution_count": 3,
   "metadata": {},
   "outputs": [],
   "source": [
    "file_out = 'proshares_analysis_data.xlsx'\n",
    "\n",
    "ticks_hedge = [\n",
    "    'HFRIFWI Index',\n",
    "    'MLEIFCTR Index',\n",
    "    'MLEIFCTX Index',\n",
    "    'HDG US Equity',\n",
    "    'QAI US Equity',\n",
    "]\n",
    "\n",
    "ticks_merrill = [\n",
    "    'SPY US Equity',\n",
    "    'USGG3M Index',\n",
    "    'EEM US Equity',\n",
    "    'EFA US Equity',\n",
    "    'EUO US Equity',\n",
    "    'IWM US Equity'\n",
    "]\n",
    "\n",
    "ticks_explore = [\n",
    "    'TRVCI Index',\n",
    "    'HEFA US Equity',\n",
    "    'TAIL US Equity',\n",
    "    'SPXU US Equity',\n",
    "    'UPRO US Equity',\n",
    "]\n",
    "\n",
    "ticks = list(set(ticks_hedge + ticks_merrill + ticks_explore))\n",
    "\n",
    "ticks_secs = []\n",
    "ticks_indexes = []\n",
    "for tick in ticks:\n",
    "    if 'Equity' in tick:\n",
    "        ticks_secs.append(tick)\n",
    "    if 'Index' in tick:\n",
    "        ticks_indexes.append(tick)\n",
    "\n",
    "ticks_yields = 'USGG3M Index'"
   ]
  },
  {
   "cell_type": "code",
   "execution_count": 4,
   "metadata": {},
   "outputs": [],
   "source": [
    "names = bb_ref(ticks, 'Name')\n",
    "info = pd.DataFrame(columns=['Descriptions'])\n",
    "for item in names:\n",
    "    info.loc[item['ticker']] = item['value']"
   ]
  },
  {
   "cell_type": "code",
   "execution_count": 5,
   "metadata": {},
   "outputs": [],
   "source": [
    "fld_secs = 'TOT_RETURN_INDEX_GROSS_DVDS'\n",
    "fld_indexes = 'PX_LAST'\n",
    "\n",
    "date_start = '20110701'\n",
    "date_end = '20210930'\n",
    "\n",
    "ANNUALIZATION = 12"
   ]
  },
  {
   "cell_type": "code",
   "execution_count": 6,
   "metadata": {},
   "outputs": [],
   "source": [
    "securities = bb_hist(ticks_secs,fld_secs,date_start,date_end)\n",
    "securities = securities.pivot(index='date',columns='ticker',values='value')\n",
    "\n",
    "indexes = bb_hist(ticks_indexes,fld_indexes,date_start,date_end)\n",
    "indexes = indexes.pivot(index='date',columns='ticker',values='value')"
   ]
  },
  {
   "cell_type": "code",
   "execution_count": 7,
   "metadata": {},
   "outputs": [],
   "source": [
    "data_daily = securities.join(indexes,how='outer')\n",
    "data_monthly = data_daily.ffill().resample('m').last()\n",
    "rets = data_monthly.pct_change()\n",
    "rets[ticks_yields] = data_monthly[ticks_yields]/100/ANNUALIZATION\n",
    "rets = rets.iloc[1:]\n",
    "rets.index = rets.index.tz_localize(None)"
   ]
  },
  {
   "cell_type": "code",
   "execution_count": 8,
   "metadata": {},
   "outputs": [],
   "source": [
    "with pd.ExcelWriter(file_out) as writer:\n",
    "    info.to_excel(writer, sheet_name= 'descriptions')\n",
    "    rets[ticks_hedge].to_excel(writer, sheet_name='hedge_fund_series')\n",
    "    rets[ticks_merrill].to_excel(writer, sheet_name='merrill_factors')\n",
    "    rets[ticks_explore].to_excel(writer, sheet_name='other_data')"
   ]
  }
 ],
 "metadata": {
  "kernelspec": {
   "display_name": "Python 3",
   "language": "python",
   "name": "python3"
  },
  "language_info": {
   "codemirror_mode": {
    "name": "ipython",
    "version": 3
   },
   "file_extension": ".py",
   "mimetype": "text/x-python",
   "name": "python",
   "nbconvert_exporter": "python",
   "pygments_lexer": "ipython3",
   "version": "3.8.9"
  }
 },
 "nbformat": 4,
 "nbformat_minor": 4
}
