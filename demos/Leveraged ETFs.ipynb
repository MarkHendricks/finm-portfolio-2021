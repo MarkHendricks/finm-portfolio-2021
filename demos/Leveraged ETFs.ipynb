{
 "cells": [
  {
   "cell_type": "markdown",
   "id": "bdb9e8a6",
   "metadata": {},
   "source": [
    "# Leveraged ETFs\n",
    "\n",
    "Consider the cumulative return of an asset:\n",
    "$$r_{0,T}^i \\equiv (1+r^i_1)(1+r^i_2)(1+r_3^i)\\cdot\\cdot\\cdot(1+r^i_T) - 1$$\n",
    "\n",
    "If we want to leverage this with traditionally leverage, we would borrow to invest $w^i>1$. Then our total cumulative return (before considering the borrowing cost) would be\n",
    "$$r_{0,T}^{i,\\text{Levered}} \\equiv w\\cdot (1+r^i_1)(1+r^i_2)(1+r_3^i)\\cdot\\cdot\\cdot(1+r^i_T) - w$$\n",
    "\n",
    "If we use a Levered ETF with leverage factor of $w$, then it leverages each individual return,\n",
    "$$r_{0,T}^{i,\\text{LETF}} \\equiv (1+wr^i_1)(1+wr^i_2)(1+wr_3^i)\\cdot\\cdot\\cdot(1+wr^i_T) - 1$$\n",
    "\n",
    "### These expressions are not equal!\n",
    "Consider $w=3, T=2$\n",
    "$$r_{0,2}^{i,\\text{Levered}} = 3(1+r^i_1+r^i_2+r^i_1r^i_2) - 3 = 3r^i_1 + 3r^i_2 + 3r^i_1r^i_2$$\n",
    "$$r_{0,2}^{i,\\text{LETF}} = 1+3r^i_1+3r^i_2+9r^i_1r^i_2) - 1 = 3r^i_1 + 3r^i_2 + 9r^i_1r^i_2$$\n",
    "So they differ by $$-6r^i_1r^i_2$$ which could be positive or negative.\n",
    "\n",
    "### Note:\n",
    "We have to subtract out the leveraged capital $w$ to get back the total return rate. The cumulative return formula would give a number like 1.10, which is the return factor. It says if we invest 1 we get back 1.10. We want the return rate, so we subtract the invested capital to get a number like 0.10 which says that if we invest 1 we make an extra return of 0.10.\n",
    "\n",
    "For a leveraged position, we must subtract out the total (levered) capital.\n",
    "\n",
    "### Example:"
   ]
  },
  {
   "cell_type": "code",
   "execution_count": 1,
   "id": "830a788a",
   "metadata": {},
   "outputs": [
    {
     "name": "stdout",
     "output_type": "stream",
     "text": [
      "Unlevered cumulative return is 0.0450\n",
      "Levered cumulative return is 0.1350\n",
      "LETF cumulative return is 0.1050\n",
      "Difference is 0.0300\n"
     ]
    }
   ],
   "source": [
    "leverage = 3\n",
    "r1 = .1\n",
    "r2 = -.05\n",
    "cumret = (1+r1)*(1+r2) - 1\n",
    "leveraged_cumret = leverage * cumret\n",
    "letf_cumret = (1+leverage*r1)*(1+leverage*r2) - 1\n",
    "diff = -(leverage*(leverage-1)) * r1*r2\n",
    "\n",
    "print(f'Unlevered cumulative return is {cumret:0.4f}\\nLevered cumulative return is {leveraged_cumret:0.4f}\\nLETF cumulative return is {letf_cumret:0.4f}\\nDifference is {diff:0.4f}')"
   ]
  },
  {
   "cell_type": "markdown",
   "id": "aa4b9584",
   "metadata": {},
   "source": [
    "# Analysis of ProShares Levered SPX ETFs"
   ]
  },
  {
   "cell_type": "code",
   "execution_count": 2,
   "id": "23f112c5",
   "metadata": {},
   "outputs": [],
   "source": [
    "import numpy as np\n",
    "import pandas as pd\n",
    "pd.options.display.float_format = \"{:,.4f}\".format\n",
    "\n",
    "import matplotlib.pyplot as plt\n",
    "import seaborn as sns\n",
    "\n",
    "import statsmodels.api as sm\n",
    "from sklearn.linear_model import LinearRegression"
   ]
  },
  {
   "cell_type": "code",
   "execution_count": 3,
   "id": "c0dd277b",
   "metadata": {},
   "outputs": [],
   "source": [
    "import sys\n",
    "sys.path.insert(0, '../cmds')\n",
    "from portfolio import *"
   ]
  },
  {
   "cell_type": "code",
   "execution_count": 4,
   "id": "548d45dc",
   "metadata": {},
   "outputs": [
    {
     "name": "stderr",
     "output_type": "stream",
     "text": [
      "<ipython-input-4-ab370b476fa0>:13: SettingWithCopyWarning: \n",
      "A value is trying to be set on a copy of a slice from a DataFrame.\n",
      "Try using .loc[row_indexer,col_indexer] = value instead\n",
      "\n",
      "See the caveats in the documentation: https://pandas.pydata.org/pandas-docs/stable/user_guide/indexing.html#returning-a-view-versus-a-copy\n",
      "  spy['SPY 3x'] = 3 * spy['SPY US Equity'].copy()\n",
      "<ipython-input-4-ab370b476fa0>:14: SettingWithCopyWarning: \n",
      "A value is trying to be set on a copy of a slice from a DataFrame.\n",
      "Try using .loc[row_indexer,col_indexer] = value instead\n",
      "\n",
      "See the caveats in the documentation: https://pandas.pydata.org/pandas-docs/stable/user_guide/indexing.html#returning-a-view-versus-a-copy\n",
      "  spy['SPY -3x'] = -3 * spy['SPY US Equity'].copy()\n"
     ]
    }
   ],
   "source": [
    "filepath_data = '../data/proshares_analysis_data.xlsx'\n",
    "info = pd.read_excel(filepath_data,sheet_name='descriptions')\n",
    "info.rename(columns={'Unnamed: 0':'Symbol'},inplace=True)\n",
    "info.set_index('Symbol',inplace=True)\n",
    "\n",
    "data = pd.read_excel(filepath_data,sheet_name='other_data')\n",
    "data.set_index('date',inplace=True)\n",
    "\n",
    "ml = pd.read_excel(filepath_data,sheet_name='merrill_factors')\n",
    "ml.set_index('date',inplace=True)\n",
    "\n",
    "spy = ml[['SPY US Equity']]\n",
    "spy['SPY 3x'] = 3 * spy['SPY US Equity'].copy()\n",
    "spy['SPY -3x'] = -3 * spy['SPY US Equity'].copy()"
   ]
  },
  {
   "cell_type": "code",
   "execution_count": 5,
   "id": "98524d29",
   "metadata": {},
   "outputs": [
    {
     "data": {
      "text/html": [
       "<div>\n",
       "<style scoped>\n",
       "    .dataframe tbody tr th:only-of-type {\n",
       "        vertical-align: middle;\n",
       "    }\n",
       "\n",
       "    .dataframe tbody tr th {\n",
       "        vertical-align: top;\n",
       "    }\n",
       "\n",
       "    .dataframe thead th {\n",
       "        text-align: right;\n",
       "    }\n",
       "</style>\n",
       "<table border=\"1\" class=\"dataframe\">\n",
       "  <thead>\n",
       "    <tr style=\"text-align: right;\">\n",
       "      <th></th>\n",
       "      <th>Descriptions</th>\n",
       "    </tr>\n",
       "    <tr>\n",
       "      <th>Symbol</th>\n",
       "      <th></th>\n",
       "    </tr>\n",
       "  </thead>\n",
       "  <tbody>\n",
       "    <tr>\n",
       "      <th>TRVCI Index</th>\n",
       "      <td>Refinitiv VC Index</td>\n",
       "    </tr>\n",
       "    <tr>\n",
       "      <th>HEFA US Equity</th>\n",
       "      <td>ISHA CURR HEDGED MSCI EAFE</td>\n",
       "    </tr>\n",
       "    <tr>\n",
       "      <th>TAIL US Equity</th>\n",
       "      <td>CAMBRIA TAIL RISK ETF</td>\n",
       "    </tr>\n",
       "    <tr>\n",
       "      <th>SPXU US Equity</th>\n",
       "      <td>PROSH ULTRAPRO SHORT S&amp;P 500</td>\n",
       "    </tr>\n",
       "    <tr>\n",
       "      <th>UPRO US Equity</th>\n",
       "      <td>PROSHARES ULTRAPRO S&amp;P 500</td>\n",
       "    </tr>\n",
       "  </tbody>\n",
       "</table>\n",
       "</div>"
      ],
      "text/plain": [
       "                                Descriptions\n",
       "Symbol                                      \n",
       "TRVCI Index               Refinitiv VC Index\n",
       "HEFA US Equity    ISHA CURR HEDGED MSCI EAFE\n",
       "TAIL US Equity         CAMBRIA TAIL RISK ETF\n",
       "SPXU US Equity  PROSH ULTRAPRO SHORT S&P 500\n",
       "UPRO US Equity    PROSHARES ULTRAPRO S&P 500"
      ]
     },
     "execution_count": 5,
     "metadata": {},
     "output_type": "execute_result"
    }
   ],
   "source": [
    "info.loc[list(data.columns)]"
   ]
  },
  {
   "cell_type": "code",
   "execution_count": 6,
   "id": "ababf1ef",
   "metadata": {},
   "outputs": [
    {
     "data": {
      "text/plain": [
       "<AxesSubplot:title={'center':'Positive Levered S&P'}, xlabel='date'>"
      ]
     },
     "execution_count": 6,
     "metadata": {},
     "output_type": "execute_result"
    },
    {
     "data": {
      "image/png": "[encoded data removed]",
      "text/plain": [
       "<Figure size 432x288 with 1 Axes>"
      ]
     },
     "metadata": {
      "needs_background": "light"
     },
     "output_type": "display_data"
    }
   ],
   "source": [
    "rets = spy.join(data[['SPXU US Equity','UPRO US Equity']],how='inner')\n",
    "cumrets = (1+rets).cumprod()\n",
    "\n",
    "cumrets_decay = pd.DataFrame((cumrets['UPRO US Equity'] / cumrets['SPY 3x']), columns=['+3x'])\n",
    "cumrets_decay['-3x'] = (cumrets['SPXU US Equity'] / cumrets['SPY -3x'])\n",
    "\n",
    "cumrets[['SPY 3x','UPRO US Equity']].plot(title='Positive Levered S&P')"
   ]
  },
  {
   "cell_type": "code",
   "execution_count": 7,
   "id": "6c0406f5",
   "metadata": {},
   "outputs": [
    {
     "data": {
      "text/plain": [
       "<AxesSubplot:title={'center':'Inverse Levered S&P'}, xlabel='date'>"
      ]
     },
     "execution_count": 7,
     "metadata": {},
     "output_type": "execute_result"
    },
    {
     "data": {
      "image/png": "[encoded data removed]",
      "text/plain": [
       "<Figure size 432x288 with 1 Axes>"
      ]
     },
     "metadata": {
      "needs_background": "light"
     },
     "output_type": "display_data"
    }
   ],
   "source": [
    "cumrets[['SPY -3x','SPXU US Equity']].plot(title='Inverse Levered S&P')"
   ]
  },
  {
   "cell_type": "code",
   "execution_count": 8,
   "id": "45cffbd8",
   "metadata": {},
   "outputs": [
    {
     "data": {
      "text/plain": [
       "<AxesSubplot:title={'center':'Value of LETF divided by Levered SPY'}, xlabel='date'>"
      ]
     },
     "execution_count": 8,
     "metadata": {},
     "output_type": "execute_result"
    },
    {
     "data": {
      "image/png": "[encoded data removed]",
      "text/plain": [
       "<Figure size 432x288 with 1 Axes>"
      ]
     },
     "metadata": {
      "needs_background": "light"
     },
     "output_type": "display_data"
    }
   ],
   "source": [
    "cumrets_decay.plot(title='Value of LETF divided by Levered SPY')"
   ]
  },
  {
   "cell_type": "code",
   "execution_count": 9,
   "id": "8ca8f882",
   "metadata": {},
   "outputs": [
    {
     "data": {
      "text/html": [
       "<div>\n",
       "<style scoped>\n",
       "    .dataframe tbody tr th:only-of-type {\n",
       "        vertical-align: middle;\n",
       "    }\n",
       "\n",
       "    .dataframe tbody tr th {\n",
       "        vertical-align: top;\n",
       "    }\n",
       "\n",
       "    .dataframe thead th {\n",
       "        text-align: right;\n",
       "    }\n",
       "</style>\n",
       "<table border=\"1\" class=\"dataframe\">\n",
       "  <thead>\n",
       "    <tr style=\"text-align: right;\">\n",
       "      <th></th>\n",
       "      <th>Mean</th>\n",
       "      <th>Vol</th>\n",
       "      <th>Sharpe</th>\n",
       "      <th>Min</th>\n",
       "      <th>Max</th>\n",
       "    </tr>\n",
       "  </thead>\n",
       "  <tbody>\n",
       "    <tr>\n",
       "      <th>SPY US Equity</th>\n",
       "      <td>0.1475</td>\n",
       "      <td>0.1354</td>\n",
       "      <td>1.0900</td>\n",
       "      <td>-0.1246</td>\n",
       "      <td>0.1270</td>\n",
       "    </tr>\n",
       "    <tr>\n",
       "      <th>SPY 3x</th>\n",
       "      <td>0.4426</td>\n",
       "      <td>0.4061</td>\n",
       "      <td>1.0900</td>\n",
       "      <td>-0.3739</td>\n",
       "      <td>0.3810</td>\n",
       "    </tr>\n",
       "    <tr>\n",
       "      <th>SPY -3x</th>\n",
       "      <td>-0.4426</td>\n",
       "      <td>0.4061</td>\n",
       "      <td>-1.0900</td>\n",
       "      <td>-0.3810</td>\n",
       "      <td>0.3739</td>\n",
       "    </tr>\n",
       "    <tr>\n",
       "      <th>SPXU US Equity</th>\n",
       "      <td>-0.4980</td>\n",
       "      <td>0.3608</td>\n",
       "      <td>-1.3803</td>\n",
       "      <td>-0.3624</td>\n",
       "      <td>0.2761</td>\n",
       "    </tr>\n",
       "    <tr>\n",
       "      <th>UPRO US Equity</th>\n",
       "      <td>0.3886</td>\n",
       "      <td>0.4270</td>\n",
       "      <td>0.9103</td>\n",
       "      <td>-0.4813</td>\n",
       "      <td>0.3717</td>\n",
       "    </tr>\n",
       "  </tbody>\n",
       "</table>\n",
       "</div>"
      ],
      "text/plain": [
       "                  Mean    Vol  Sharpe     Min    Max\n",
       "SPY US Equity   0.1475 0.1354  1.0900 -0.1246 0.1270\n",
       "SPY 3x          0.4426 0.4061  1.0900 -0.3739 0.3810\n",
       "SPY -3x        -0.4426 0.4061 -1.0900 -0.3810 0.3739\n",
       "SPXU US Equity -0.4980 0.3608 -1.3803 -0.3624 0.2761\n",
       "UPRO US Equity  0.3886 0.4270  0.9103 -0.4813 0.3717"
      ]
     },
     "execution_count": 9,
     "metadata": {},
     "output_type": "execute_result"
    }
   ],
   "source": [
    "performanceMetrics(rets,annualization=12)"
   ]
  },
  {
   "cell_type": "code",
   "execution_count": 10,
   "id": "e3502d55",
   "metadata": {},
   "outputs": [
    {
     "data": {
      "text/html": [
       "<div>\n",
       "<style scoped>\n",
       "    .dataframe tbody tr th:only-of-type {\n",
       "        vertical-align: middle;\n",
       "    }\n",
       "\n",
       "    .dataframe tbody tr th {\n",
       "        vertical-align: top;\n",
       "    }\n",
       "\n",
       "    .dataframe thead th {\n",
       "        text-align: right;\n",
       "    }\n",
       "</style>\n",
       "<table border=\"1\" class=\"dataframe\">\n",
       "  <thead>\n",
       "    <tr style=\"text-align: right;\">\n",
       "      <th></th>\n",
       "      <th>Max Drawdown</th>\n",
       "      <th>Peak</th>\n",
       "      <th>Bottom</th>\n",
       "      <th>Recover</th>\n",
       "      <th>Duration (to Recover)</th>\n",
       "    </tr>\n",
       "  </thead>\n",
       "  <tbody>\n",
       "    <tr>\n",
       "      <th>SPY US Equity</th>\n",
       "      <td>-0.1943</td>\n",
       "      <td>2019-12-31</td>\n",
       "      <td>2020-03-31</td>\n",
       "      <td>2020-07-31</td>\n",
       "      <td>213 days</td>\n",
       "    </tr>\n",
       "    <tr>\n",
       "      <th>SPY 3x</th>\n",
       "      <td>-0.5232</td>\n",
       "      <td>2019-12-31</td>\n",
       "      <td>2020-03-31</td>\n",
       "      <td>2020-08-31</td>\n",
       "      <td>244 days</td>\n",
       "    </tr>\n",
       "    <tr>\n",
       "      <th>SPY -3x</th>\n",
       "      <td>-0.9974</td>\n",
       "      <td>2011-09-30</td>\n",
       "      <td>2021-08-31</td>\n",
       "      <td>NaT</td>\n",
       "      <td>NaT</td>\n",
       "    </tr>\n",
       "    <tr>\n",
       "      <th>SPXU US Equity</th>\n",
       "      <td>-0.9981</td>\n",
       "      <td>2011-09-30</td>\n",
       "      <td>2021-08-31</td>\n",
       "      <td>NaT</td>\n",
       "      <td>NaT</td>\n",
       "    </tr>\n",
       "    <tr>\n",
       "      <th>UPRO US Equity</th>\n",
       "      <td>-0.6044</td>\n",
       "      <td>2019-12-31</td>\n",
       "      <td>2020-03-31</td>\n",
       "      <td>2020-12-31</td>\n",
       "      <td>366 days</td>\n",
       "    </tr>\n",
       "  </tbody>\n",
       "</table>\n",
       "</div>"
      ],
      "text/plain": [
       "                Max Drawdown       Peak     Bottom    Recover  \\\n",
       "SPY US Equity        -0.1943 2019-12-31 2020-03-31 2020-07-31   \n",
       "SPY 3x               -0.5232 2019-12-31 2020-03-31 2020-08-31   \n",
       "SPY -3x              -0.9974 2011-09-30 2021-08-31        NaT   \n",
       "SPXU US Equity       -0.9981 2011-09-30 2021-08-31        NaT   \n",
       "UPRO US Equity       -0.6044 2019-12-31 2020-03-31 2020-12-31   \n",
       "\n",
       "               Duration (to Recover)  \n",
       "SPY US Equity               213 days  \n",
       "SPY 3x                      244 days  \n",
       "SPY -3x                          NaT  \n",
       "SPXU US Equity                   NaT  \n",
       "UPRO US Equity              366 days  "
      ]
     },
     "execution_count": 10,
     "metadata": {},
     "output_type": "execute_result"
    }
   ],
   "source": [
    "maximumDrawdown(rets)"
   ]
  },
  {
   "cell_type": "code",
   "execution_count": 11,
   "id": "f1ad91bf",
   "metadata": {},
   "outputs": [
    {
     "data": {
      "text/html": [
       "<div>\n",
       "<style scoped>\n",
       "    .dataframe tbody tr th:only-of-type {\n",
       "        vertical-align: middle;\n",
       "    }\n",
       "\n",
       "    .dataframe tbody tr th {\n",
       "        vertical-align: top;\n",
       "    }\n",
       "\n",
       "    .dataframe thead th {\n",
       "        text-align: right;\n",
       "    }\n",
       "</style>\n",
       "<table border=\"1\" class=\"dataframe\">\n",
       "  <thead>\n",
       "    <tr style=\"text-align: right;\">\n",
       "      <th></th>\n",
       "      <th>alpha</th>\n",
       "      <th>SPY US Equity</th>\n",
       "      <th>r-squared</th>\n",
       "      <th>Treynor Ratio</th>\n",
       "      <th>Info Ratio</th>\n",
       "    </tr>\n",
       "  </thead>\n",
       "  <tbody>\n",
       "    <tr>\n",
       "      <th>SPY US Equity</th>\n",
       "      <td>0.0000</td>\n",
       "      <td>1.0000</td>\n",
       "      <td>1.0000</td>\n",
       "      <td>0.1475</td>\n",
       "      <td>NaN</td>\n",
       "    </tr>\n",
       "    <tr>\n",
       "      <th>SPY 3x</th>\n",
       "      <td>-0.0000</td>\n",
       "      <td>3.0000</td>\n",
       "      <td>1.0000</td>\n",
       "      <td>0.1475</td>\n",
       "      <td>NaN</td>\n",
       "    </tr>\n",
       "    <tr>\n",
       "      <th>SPY -3x</th>\n",
       "      <td>0.0000</td>\n",
       "      <td>-3.0000</td>\n",
       "      <td>1.0000</td>\n",
       "      <td>0.1475</td>\n",
       "      <td>NaN</td>\n",
       "    </tr>\n",
       "    <tr>\n",
       "      <th>SPXU US Equity</th>\n",
       "      <td>-0.1287</td>\n",
       "      <td>-2.5034</td>\n",
       "      <td>0.8821</td>\n",
       "      <td>0.1989</td>\n",
       "      <td>-1.0384</td>\n",
       "    </tr>\n",
       "    <tr>\n",
       "      <th>UPRO US Equity</th>\n",
       "      <td>-0.0750</td>\n",
       "      <td>3.1421</td>\n",
       "      <td>0.9923</td>\n",
       "      <td>0.1237</td>\n",
       "      <td>-2.0074</td>\n",
       "    </tr>\n",
       "  </tbody>\n",
       "</table>\n",
       "</div>"
      ],
      "text/plain": [
       "                 alpha  SPY US Equity  r-squared  Treynor Ratio  Info Ratio\n",
       "SPY US Equity   0.0000         1.0000     1.0000         0.1475         NaN\n",
       "SPY 3x         -0.0000         3.0000     1.0000         0.1475         NaN\n",
       "SPY -3x         0.0000        -3.0000     1.0000         0.1475         NaN\n",
       "SPXU US Equity -0.1287        -2.5034     0.8821         0.1989     -1.0384\n",
       "UPRO US Equity -0.0750         3.1421     0.9923         0.1237     -2.0074"
      ]
     },
     "execution_count": 11,
     "metadata": {},
     "output_type": "execute_result"
    }
   ],
   "source": [
    "get_ols_metrics(rets['SPY US Equity'],rets,annualization=12)"
   ]
  }
 ],
 "metadata": {
  "kernelspec": {
   "display_name": "Python 3",
   "language": "python",
   "name": "python3"
  },
  "language_info": {
   "codemirror_mode": {
    "name": "ipython",
    "version": 3
   },
   "file_extension": ".py",
   "mimetype": "text/x-python",
   "name": "python",
   "nbconvert_exporter": "python",
   "pygments_lexer": "ipython3",
   "version": "3.8.9"
  }
 },
 "nbformat": 4,
 "nbformat_minor": 5
}
