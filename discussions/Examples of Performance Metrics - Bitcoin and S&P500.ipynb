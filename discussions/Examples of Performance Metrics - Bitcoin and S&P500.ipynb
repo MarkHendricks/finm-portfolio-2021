{
 "cells": [
  {
   "cell_type": "markdown",
   "id": "2296573e",
   "metadata": {},
   "source": [
    "# Discussion of Performance Metrics\n",
    "\n",
    "### Informal walkthrough of a few metrics we discussed in Lecture 2\n",
    "\n",
    "May be a useful way to see how we calculate these statistics.\n",
    "\n",
    "Going foward, we calculate many of these stats via imported routines."
   ]
  },
  {
   "cell_type": "code",
   "execution_count": 1,
   "id": "926465f0",
   "metadata": {},
   "outputs": [],
   "source": [
    "import pandas as pd\n",
    "import numpy as np\n",
    "import statsmodels.api as sm\n",
    "\n",
    "import yfinance as yf\n",
    "\n",
    "import matplotlib.pyplot as plt\n",
    "plt.style.use('ggplot')"
   ]
  },
  {
   "cell_type": "markdown",
   "id": "f9aedbaf",
   "metadata": {},
   "source": [
    "## Load Data from Yahoo Finance"
   ]
  },
  {
   "cell_type": "code",
   "execution_count": 2,
   "id": "564a107f",
   "metadata": {},
   "outputs": [
    {
     "name": "stdout",
     "output_type": "stream",
     "text": [
      "[*********************100%***********************]  2 of 2 completed\n"
     ]
    }
   ],
   "source": [
    "df = yf.download(\"SPY BTC-USD\", start=\"2015-01-02\", end=\"2021-09-30\")['Adj Close']"
   ]
  },
  {
   "cell_type": "markdown",
   "id": "5ba68f34",
   "metadata": {},
   "source": [
    "### Modify data to drop NaN and convert to percentage"
   ]
  },
  {
   "cell_type": "code",
   "execution_count": 3,
   "id": "60cdb887",
   "metadata": {},
   "outputs": [
    {
     "data": {
      "text/html": [
       "<div>\n",
       "<style scoped>\n",
       "    .dataframe tbody tr th:only-of-type {\n",
       "        vertical-align: middle;\n",
       "    }\n",
       "\n",
       "    .dataframe tbody tr th {\n",
       "        vertical-align: top;\n",
       "    }\n",
       "\n",
       "    .dataframe thead th {\n",
       "        text-align: right;\n",
       "    }\n",
       "</style>\n",
       "<table border=\"1\" class=\"dataframe\">\n",
       "  <thead>\n",
       "    <tr style=\"text-align: right;\">\n",
       "      <th></th>\n",
       "      <th>BTC-USD</th>\n",
       "      <th>SPY</th>\n",
       "    </tr>\n",
       "    <tr>\n",
       "      <th>Date</th>\n",
       "      <th></th>\n",
       "      <th></th>\n",
       "    </tr>\n",
       "  </thead>\n",
       "  <tbody>\n",
       "    <tr>\n",
       "      <th>2015-01-02</th>\n",
       "      <td>NaN</td>\n",
       "      <td>NaN</td>\n",
       "    </tr>\n",
       "    <tr>\n",
       "      <th>2015-01-05</th>\n",
       "      <td>-0.128743</td>\n",
       "      <td>-0.018060</td>\n",
       "    </tr>\n",
       "    <tr>\n",
       "      <th>2015-01-06</th>\n",
       "      <td>0.042682</td>\n",
       "      <td>-0.009419</td>\n",
       "    </tr>\n",
       "    <tr>\n",
       "      <th>2015-01-07</th>\n",
       "      <td>0.028471</td>\n",
       "      <td>0.012461</td>\n",
       "    </tr>\n",
       "    <tr>\n",
       "      <th>2015-01-08</th>\n",
       "      <td>-0.037331</td>\n",
       "      <td>0.017745</td>\n",
       "    </tr>\n",
       "    <tr>\n",
       "      <th>...</th>\n",
       "      <td>...</td>\n",
       "      <td>...</td>\n",
       "    </tr>\n",
       "    <tr>\n",
       "      <th>2021-09-23</th>\n",
       "      <td>0.030306</td>\n",
       "      <td>0.012150</td>\n",
       "    </tr>\n",
       "    <tr>\n",
       "      <th>2021-09-24</th>\n",
       "      <td>-0.045781</td>\n",
       "      <td>0.001647</td>\n",
       "    </tr>\n",
       "    <tr>\n",
       "      <th>2021-09-27</th>\n",
       "      <td>-0.014100</td>\n",
       "      <td>-0.002861</td>\n",
       "    </tr>\n",
       "    <tr>\n",
       "      <th>2021-09-28</th>\n",
       "      <td>-0.028440</td>\n",
       "      <td>-0.020152</td>\n",
       "    </tr>\n",
       "    <tr>\n",
       "      <th>2021-09-29</th>\n",
       "      <td>0.012912</td>\n",
       "      <td>0.001683</td>\n",
       "    </tr>\n",
       "  </tbody>\n",
       "</table>\n",
       "<p>1694 rows × 2 columns</p>\n",
       "</div>"
      ],
      "text/plain": [
       "             BTC-USD       SPY\n",
       "Date                          \n",
       "2015-01-02       NaN       NaN\n",
       "2015-01-05 -0.128743 -0.018060\n",
       "2015-01-06  0.042682 -0.009419\n",
       "2015-01-07  0.028471  0.012461\n",
       "2015-01-08 -0.037331  0.017745\n",
       "...              ...       ...\n",
       "2021-09-23  0.030306  0.012150\n",
       "2021-09-24 -0.045781  0.001647\n",
       "2021-09-27 -0.014100 -0.002861\n",
       "2021-09-28 -0.028440 -0.020152\n",
       "2021-09-29  0.012912  0.001683\n",
       "\n",
       "[1694 rows x 2 columns]"
      ]
     },
     "execution_count": 3,
     "metadata": {},
     "output_type": "execute_result"
    }
   ],
   "source": [
    "returns = df.dropna(axis=0)\n",
    "returns = returns.pct_change()\n",
    "returns"
   ]
  },
  {
   "cell_type": "markdown",
   "id": "4ed267a7",
   "metadata": {},
   "source": [
    "# Build Dataframe for Metrics\n",
    "\n",
    "### Construct an empty dataframe with pd.DataFrame(), set the columns of the new frame to equal the columns of the \"returns\" dataframe"
   ]
  },
  {
   "cell_type": "code",
   "execution_count": 4,
   "id": "150b7070",
   "metadata": {},
   "outputs": [],
   "source": [
    "metrics = pd.DataFrame(columns=returns.columns)"
   ]
  },
  {
   "cell_type": "markdown",
   "id": "776ec603",
   "metadata": {},
   "source": [
    "#### Note that these are total returns, not excess returns. Sharpe ratio is defined as the mean over vol of excess returns, but it is often extended to total returns when comparing two securities, as the subtraction of the risk-free rate makes little difference to the comparison"
   ]
  },
  {
   "cell_type": "code",
   "execution_count": 5,
   "id": "28c70b0a",
   "metadata": {},
   "outputs": [
    {
     "data": {
      "text/html": [
       "<div>\n",
       "<style scoped>\n",
       "    .dataframe tbody tr th:only-of-type {\n",
       "        vertical-align: middle;\n",
       "    }\n",
       "\n",
       "    .dataframe tbody tr th {\n",
       "        vertical-align: top;\n",
       "    }\n",
       "\n",
       "    .dataframe thead th {\n",
       "        text-align: right;\n",
       "    }\n",
       "</style>\n",
       "<table border=\"1\" class=\"dataframe\">\n",
       "  <thead>\n",
       "    <tr style=\"text-align: right;\">\n",
       "      <th></th>\n",
       "      <th>BTC-USD</th>\n",
       "      <th>SPY</th>\n",
       "    </tr>\n",
       "  </thead>\n",
       "  <tbody>\n",
       "    <tr>\n",
       "      <th>mean</th>\n",
       "      <td>1.004053</td>\n",
       "      <td>0.146261</td>\n",
       "    </tr>\n",
       "    <tr>\n",
       "      <th>vol</th>\n",
       "      <td>0.740679</td>\n",
       "      <td>0.177713</td>\n",
       "    </tr>\n",
       "    <tr>\n",
       "      <th>sharpe</th>\n",
       "      <td>1.355583</td>\n",
       "      <td>0.823020</td>\n",
       "    </tr>\n",
       "  </tbody>\n",
       "</table>\n",
       "</div>"
      ],
      "text/plain": [
       "         BTC-USD       SPY\n",
       "mean    1.004053  0.146261\n",
       "vol     0.740679  0.177713\n",
       "sharpe  1.355583  0.823020"
      ]
     },
     "execution_count": 5,
     "metadata": {},
     "output_type": "execute_result"
    }
   ],
   "source": [
    "metrics.loc['mean'] = returns.mean()\n",
    "metrics.loc['vol'] = returns.std()\n",
    "metrics.loc['sharpe'] = returns.mean() / returns.std()\n",
    "\n",
    "metrics.loc['mean'] *= 252\n",
    "metrics.loc['vol'] *= np.sqrt(252)\n",
    "metrics.loc['sharpe'] *= np.sqrt(252)\n",
    "\n",
    "metrics"
   ]
  },
  {
   "cell_type": "markdown",
   "id": "964dc233",
   "metadata": {},
   "source": [
    "## Plot of SPY and BTC in Cumulative Returns"
   ]
  },
  {
   "cell_type": "code",
   "execution_count": 6,
   "id": "5b33ea63",
   "metadata": {},
   "outputs": [
    {
     "data": {
      "image/png": "[encoded data removed]",
      "text/plain": [
       "<Figure size 720x360 with 2 Axes>"
      ]
     },
     "metadata": {},
     "output_type": "display_data"
    }
   ],
   "source": [
    "fig, ax1 = plt.subplots(figsize=(10,5))\n",
    "\n",
    "ax1.set_xlabel('Date')\n",
    "ax1.set_ylabel('BTC-USD')\n",
    "ax1.plot(returns.index, (1+returns['BTC-USD']).cumprod(), color='r', label='BTC-USD')\n",
    "\n",
    "ax2 = ax1.twinx()  \n",
    "ax2.set_ylabel('SPY')  \n",
    "ax2.plot(returns.index, (1+returns['SPY']).cumprod(), color='g', label='SPY')\n",
    "\n",
    "ax1.legend(loc='upper left')\n",
    "ax2.legend(loc='center left')\n",
    "plt.show()"
   ]
  },
  {
   "cell_type": "markdown",
   "id": "b2a46d6e",
   "metadata": {},
   "source": [
    "## Maximum Drawdown"
   ]
  },
  {
   "cell_type": "code",
   "execution_count": 7,
   "id": "2fa01ef8",
   "metadata": {},
   "outputs": [],
   "source": [
    "cum_returns = (1 + returns).cumprod()\n",
    "rolling_max = cum_returns.cummax()\n",
    "drawdown = (cum_returns - rolling_max) / rolling_max\n",
    "\n",
    "metrics.loc['max drawdown'] = drawdown.min()"
   ]
  },
  {
   "cell_type": "code",
   "execution_count": 8,
   "id": "00ce544e",
   "metadata": {},
   "outputs": [
    {
     "data": {
      "text/plain": [
       "<AxesSubplot:xlabel='Date'>"
      ]
     },
     "execution_count": 8,
     "metadata": {},
     "output_type": "execute_result"
    },
    {
     "data": {
      "image/png": "[encoded data removed]",
      "text/plain": [
       "<Figure size 432x288 with 1 Axes>"
      ]
     },
     "metadata": {},
     "output_type": "display_data"
    }
   ],
   "source": [
    "drawdown['SPY'].plot()"
   ]
  },
  {
   "cell_type": "code",
   "execution_count": 9,
   "id": "67f0d133",
   "metadata": {},
   "outputs": [
    {
     "data": {
      "text/plain": [
       "<AxesSubplot:xlabel='Date'>"
      ]
     },
     "execution_count": 9,
     "metadata": {},
     "output_type": "execute_result"
    },
    {
     "data": {
      "image/png": "[encoded data removed]",
      "text/plain": [
       "<Figure size 432x288 with 1 Axes>"
      ]
     },
     "metadata": {},
     "output_type": "display_data"
    }
   ],
   "source": [
    "drawdown['BTC-USD'].plot()"
   ]
  },
  {
   "cell_type": "markdown",
   "id": "03431ecf",
   "metadata": {},
   "source": [
    "## OLS Regression of BTC on SPY"
   ]
  },
  {
   "cell_type": "code",
   "execution_count": 10,
   "id": "a49ba28f",
   "metadata": {},
   "outputs": [
    {
     "name": "stdout",
     "output_type": "stream",
     "text": [
      "                            OLS Regression Results                            \n",
      "==============================================================================\n",
      "Dep. Variable:                BTC-USD   R-squared:                       0.021\n",
      "Model:                            OLS   Adj. R-squared:                  0.021\n",
      "Method:                 Least Squares   F-statistic:                     37.02\n",
      "Date:                Mon, 04 Oct 2021   Prob (F-statistic):           1.45e-09\n",
      "Time:                        15:42:35   Log-Likelihood:                 2805.4\n",
      "No. Observations:                1693   AIC:                            -5607.\n",
      "Df Residuals:                    1691   BIC:                            -5596.\n",
      "Df Model:                           1                                         \n",
      "Covariance Type:            nonrobust                                         \n",
      "==============================================================================\n",
      "                 coef    std err          t      P>|t|      [0.025      0.975]\n",
      "------------------------------------------------------------------------------\n",
      "const          0.0036      0.001      3.231      0.001       0.001       0.006\n",
      "SPY            0.6100      0.100      6.084      0.000       0.413       0.807\n",
      "==============================================================================\n",
      "Omnibus:                      203.970   Durbin-Watson:                   2.012\n",
      "Prob(Omnibus):                  0.000   Jarque-Bera (JB):             1863.863\n",
      "Skew:                           0.156   Prob(JB):                         0.00\n",
      "Kurtosis:                       8.131   Cond. No.                         89.4\n",
      "==============================================================================\n",
      "\n",
      "Notes:\n",
      "[1] Standard Errors assume that the covariance matrix of the errors is correctly specified.\n"
     ]
    }
   ],
   "source": [
    "y = returns['BTC-USD']\n",
    "# use .add_constant on the X data to include an intercept, (to include an alpha)\n",
    "X = sm.add_constant(returns['SPY'])\n",
    "results = sm.OLS(y,X,missing='drop').fit()\n",
    "print(results.summary())"
   ]
  },
  {
   "cell_type": "markdown",
   "id": "b3636009",
   "metadata": {},
   "source": [
    "## Information Ratio and Treynor Ratio\n",
    "\n",
    "SPY has a market beta of 1, since we are using SPY as \"the market\". We could regress SPY on SPY, and we'd get alpha=0, beta=1, and residuals=0. Thus, Info ratio is undefined, Treynor ratio is simply the mean return."
   ]
  },
  {
   "cell_type": "code",
   "execution_count": 11,
   "id": "bf1eae49",
   "metadata": {},
   "outputs": [],
   "source": [
    "mkt_beta = results.params['SPY']\n",
    "metrics.loc['mkt beta'] = [mkt_beta, 1]"
   ]
  },
  {
   "cell_type": "code",
   "execution_count": 12,
   "id": "184379cc",
   "metadata": {},
   "outputs": [],
   "source": [
    "info_ratio = results.params['const'] / results.resid.std()\n",
    "# annualize by sqrt(252)\n",
    "metrics.loc['info ratio'] = [info_ratio * np.sqrt(252), None]"
   ]
  },
  {
   "cell_type": "code",
   "execution_count": 13,
   "id": "d856d262",
   "metadata": {},
   "outputs": [],
   "source": [
    "treynor_ratio = y.mean() / mkt_beta\n",
    "# annualize by 252\n",
    "metrics.loc['treynor ratio'] = [treynor_ratio * 252, returns['SPY'].mean() * 252]"
   ]
  },
  {
   "cell_type": "code",
   "execution_count": 14,
   "id": "4e5ba617",
   "metadata": {},
   "outputs": [
    {
     "data": {
      "text/html": [
       "<div>\n",
       "<style scoped>\n",
       "    .dataframe tbody tr th:only-of-type {\n",
       "        vertical-align: middle;\n",
       "    }\n",
       "\n",
       "    .dataframe tbody tr th {\n",
       "        vertical-align: top;\n",
       "    }\n",
       "\n",
       "    .dataframe thead th {\n",
       "        text-align: right;\n",
       "    }\n",
       "</style>\n",
       "<table border=\"1\" class=\"dataframe\">\n",
       "  <thead>\n",
       "    <tr style=\"text-align: right;\">\n",
       "      <th></th>\n",
       "      <th>BTC-USD</th>\n",
       "      <th>SPY</th>\n",
       "    </tr>\n",
       "  </thead>\n",
       "  <tbody>\n",
       "    <tr>\n",
       "      <th>mean</th>\n",
       "      <td>1.004053</td>\n",
       "      <td>0.146261</td>\n",
       "    </tr>\n",
       "    <tr>\n",
       "      <th>vol</th>\n",
       "      <td>0.740679</td>\n",
       "      <td>0.177713</td>\n",
       "    </tr>\n",
       "    <tr>\n",
       "      <th>sharpe</th>\n",
       "      <td>1.355583</td>\n",
       "      <td>0.823020</td>\n",
       "    </tr>\n",
       "    <tr>\n",
       "      <th>max drawdown</th>\n",
       "      <td>-0.830363</td>\n",
       "      <td>-0.337173</td>\n",
       "    </tr>\n",
       "    <tr>\n",
       "      <th>mkt beta</th>\n",
       "      <td>0.609996</td>\n",
       "      <td>1.000000</td>\n",
       "    </tr>\n",
       "    <tr>\n",
       "      <th>info ratio</th>\n",
       "      <td>1.248573</td>\n",
       "      <td>NaN</td>\n",
       "    </tr>\n",
       "    <tr>\n",
       "      <th>treynor ratio</th>\n",
       "      <td>1.646000</td>\n",
       "      <td>0.146261</td>\n",
       "    </tr>\n",
       "  </tbody>\n",
       "</table>\n",
       "</div>"
      ],
      "text/plain": [
       "                BTC-USD       SPY\n",
       "mean           1.004053  0.146261\n",
       "vol            0.740679  0.177713\n",
       "sharpe         1.355583  0.823020\n",
       "max drawdown  -0.830363 -0.337173\n",
       "mkt beta       0.609996  1.000000\n",
       "info ratio     1.248573       NaN\n",
       "treynor ratio  1.646000  0.146261"
      ]
     },
     "execution_count": 14,
     "metadata": {},
     "output_type": "execute_result"
    }
   ],
   "source": [
    "metrics"
   ]
  }
 ],
 "metadata": {
  "kernelspec": {
   "display_name": "Python 3",
   "language": "python",
   "name": "python3"
  },
  "language_info": {
   "codemirror_mode": {
    "name": "ipython",
    "version": 3
   },
   "file_extension": ".py",
   "mimetype": "text/x-python",
   "name": "python",
   "nbconvert_exporter": "python",
   "pygments_lexer": "ipython3",
   "version": "3.8.9"
  }
 },
 "nbformat": 4,
 "nbformat_minor": 5
}
