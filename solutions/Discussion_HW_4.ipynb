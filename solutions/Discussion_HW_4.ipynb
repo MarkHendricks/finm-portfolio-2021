{
 "cells": [
  {
   "cell_type": "code",
   "execution_count": 1,
   "id": "e95261dc",
   "metadata": {},
   "outputs": [],
   "source": [
    "import numpy as np\n",
    "import pandas as pd\n",
    "pd.options.display.float_format = \"{:,.4f}\".format\n",
    "\n",
    "import matplotlib.pyplot as plt\n",
    "import seaborn as sns\n",
    "\n",
    "import statsmodels.api as sm\n",
    "from sklearn.linear_model import LinearRegression\n",
    "\n",
    "from scipy import stats"
   ]
  },
  {
   "cell_type": "markdown",
   "id": "d8f57ffd",
   "metadata": {},
   "source": [
    "### This uses factor_pricing.py, which you do not have.\n",
    "### Thus, this notebook is just for demonstration."
   ]
  },
  {
   "cell_type": "code",
   "execution_count": 2,
   "id": "43a486e6",
   "metadata": {},
   "outputs": [],
   "source": [
    "import sys\n",
    "sys.path.insert(0, '../cmds')\n",
    "from portfolio import *\n",
    "from factor_pricing import *"
   ]
  },
  {
   "cell_type": "markdown",
   "id": "ec353423",
   "metadata": {},
   "source": [
    "# Load Data"
   ]
  },
  {
   "cell_type": "code",
   "execution_count": 3,
   "id": "dee985c4",
   "metadata": {},
   "outputs": [],
   "source": [
    "filepath_data = '../data/dfa_analysis_data.xlsx'\n",
    "info = pd.read_excel(filepath_data,sheet_name='descriptions')\n",
    "info.rename(columns={'Unnamed: 0':'Symbol'},inplace=True)\n",
    "info.set_index('Symbol',inplace=True)\n",
    "\n",
    "facs = pd.read_excel(filepath_data,sheet_name='factors')\n",
    "facs.set_index('Date',inplace=True)\n",
    "rf = facs['RF'].copy()\n",
    "facs.drop(columns=['RF'],inplace=True)"
   ]
  },
  {
   "cell_type": "markdown",
   "id": "65e89fc7",
   "metadata": {},
   "source": [
    "# 2. Factors\n",
    "\n",
    "## 2.1"
   ]
  },
  {
   "cell_type": "code",
   "execution_count": 4,
   "id": "bcc85199",
   "metadata": {},
   "outputs": [],
   "source": [
    "dts = dict()\n",
    "dts['early'] = pd.date_range(start=facs.index[0], end='31/12/1980',freq='M')\n",
    "dts['founding'] = pd.date_range(start='1/1/1981', end='31/12/2001',freq='M')\n",
    "dts['recent'] = pd.date_range(start='1/1/2002', end=facs.index[-1],freq='M')\n",
    "\n",
    "dts['1990s'] = pd.date_range(start='1/1/1991', end='31/12/1999',freq='M')\n",
    "dts['modern'] = dts['founding'].union(dts['recent'])\n",
    "dts['all'] = facs.index"
   ]
  },
  {
   "cell_type": "code",
   "execution_count": 5,
   "id": "7d918e05",
   "metadata": {},
   "outputs": [
    {
     "name": "stdout",
     "output_type": "stream",
     "text": [
      "\n",
      "========================================================\n",
      "\n",
      "Period: 1926-07-31 00:00:00 to 1980-12-31 00:00:00\n",
      "\n",
      "========================================================\n"
     ]
    },
    {
     "data": {
      "text/html": [
       "<div>\n",
       "<style scoped>\n",
       "    .dataframe tbody tr th:only-of-type {\n",
       "        vertical-align: middle;\n",
       "    }\n",
       "\n",
       "    .dataframe tbody tr th {\n",
       "        vertical-align: top;\n",
       "    }\n",
       "\n",
       "    .dataframe thead th {\n",
       "        text-align: right;\n",
       "    }\n",
       "</style>\n",
       "<table border=\"1\" class=\"dataframe\">\n",
       "  <thead>\n",
       "    <tr style=\"text-align: right;\">\n",
       "      <th></th>\n",
       "      <th>Mean</th>\n",
       "      <th>Vol</th>\n",
       "      <th>Sharpe</th>\n",
       "      <th>Min</th>\n",
       "      <th>Max</th>\n",
       "      <th>VaR (0.05)</th>\n",
       "    </tr>\n",
       "  </thead>\n",
       "  <tbody>\n",
       "    <tr>\n",
       "      <th>Mkt-RF</th>\n",
       "      <td>0.0811</td>\n",
       "      <td>0.2051</td>\n",
       "      <td>0.3957</td>\n",
       "      <td>-0.2913</td>\n",
       "      <td>0.3885</td>\n",
       "      <td>-0.0840</td>\n",
       "    </tr>\n",
       "    <tr>\n",
       "      <th>SMB</th>\n",
       "      <td>0.0340</td>\n",
       "      <td>0.1146</td>\n",
       "      <td>0.2965</td>\n",
       "      <td>-0.0989</td>\n",
       "      <td>0.3656</td>\n",
       "      <td>-0.0434</td>\n",
       "    </tr>\n",
       "    <tr>\n",
       "      <th>HML</th>\n",
       "      <td>0.0491</td>\n",
       "      <td>0.1338</td>\n",
       "      <td>0.3672</td>\n",
       "      <td>-0.1311</td>\n",
       "      <td>0.3561</td>\n",
       "      <td>-0.0429</td>\n",
       "    </tr>\n",
       "  </tbody>\n",
       "</table>\n",
       "</div>"
      ],
      "text/plain": [
       "         Mean    Vol  Sharpe     Min    Max  VaR (0.05)\n",
       "Mkt-RF 0.0811 0.2051  0.3957 -0.2913 0.3885     -0.0840\n",
       "SMB    0.0340 0.1146  0.2965 -0.0989 0.3656     -0.0434\n",
       "HML    0.0491 0.1338  0.3672 -0.1311 0.3561     -0.0429"
      ]
     },
     "metadata": {},
     "output_type": "display_data"
    },
    {
     "name": "stdout",
     "output_type": "stream",
     "text": [
      "\n",
      "========================================================\n",
      "\n",
      "Period: 1981-01-31 00:00:00 to 2001-12-31 00:00:00\n",
      "\n",
      "========================================================\n"
     ]
    },
    {
     "data": {
      "text/html": [
       "<div>\n",
       "<style scoped>\n",
       "    .dataframe tbody tr th:only-of-type {\n",
       "        vertical-align: middle;\n",
       "    }\n",
       "\n",
       "    .dataframe tbody tr th {\n",
       "        vertical-align: top;\n",
       "    }\n",
       "\n",
       "    .dataframe thead th {\n",
       "        text-align: right;\n",
       "    }\n",
       "</style>\n",
       "<table border=\"1\" class=\"dataframe\">\n",
       "  <thead>\n",
       "    <tr style=\"text-align: right;\">\n",
       "      <th></th>\n",
       "      <th>Mean</th>\n",
       "      <th>Vol</th>\n",
       "      <th>Sharpe</th>\n",
       "      <th>Min</th>\n",
       "      <th>Max</th>\n",
       "      <th>VaR (0.05)</th>\n",
       "    </tr>\n",
       "  </thead>\n",
       "  <tbody>\n",
       "    <tr>\n",
       "      <th>Mkt-RF</th>\n",
       "      <td>0.0773</td>\n",
       "      <td>0.1574</td>\n",
       "      <td>0.4909</td>\n",
       "      <td>-0.2324</td>\n",
       "      <td>0.1247</td>\n",
       "      <td>-0.0645</td>\n",
       "    </tr>\n",
       "    <tr>\n",
       "      <th>SMB</th>\n",
       "      <td>-0.0005</td>\n",
       "      <td>0.1185</td>\n",
       "      <td>-0.0046</td>\n",
       "      <td>-0.1729</td>\n",
       "      <td>0.2148</td>\n",
       "      <td>-0.0465</td>\n",
       "    </tr>\n",
       "    <tr>\n",
       "      <th>HML</th>\n",
       "      <td>0.0636</td>\n",
       "      <td>0.1112</td>\n",
       "      <td>0.5713</td>\n",
       "      <td>-0.0981</td>\n",
       "      <td>0.1248</td>\n",
       "      <td>-0.0418</td>\n",
       "    </tr>\n",
       "  </tbody>\n",
       "</table>\n",
       "</div>"
      ],
      "text/plain": [
       "          Mean    Vol  Sharpe     Min    Max  VaR (0.05)\n",
       "Mkt-RF  0.0773 0.1574  0.4909 -0.2324 0.1247     -0.0645\n",
       "SMB    -0.0005 0.1185 -0.0046 -0.1729 0.2148     -0.0465\n",
       "HML     0.0636 0.1112  0.5713 -0.0981 0.1248     -0.0418"
      ]
     },
     "metadata": {},
     "output_type": "display_data"
    },
    {
     "name": "stdout",
     "output_type": "stream",
     "text": [
      "\n",
      "========================================================\n",
      "\n",
      "Period: 2002-01-31 00:00:00 to 2021-08-31 00:00:00\n",
      "\n",
      "========================================================\n"
     ]
    },
    {
     "data": {
      "text/html": [
       "<div>\n",
       "<style scoped>\n",
       "    .dataframe tbody tr th:only-of-type {\n",
       "        vertical-align: middle;\n",
       "    }\n",
       "\n",
       "    .dataframe tbody tr th {\n",
       "        vertical-align: top;\n",
       "    }\n",
       "\n",
       "    .dataframe thead th {\n",
       "        text-align: right;\n",
       "    }\n",
       "</style>\n",
       "<table border=\"1\" class=\"dataframe\">\n",
       "  <thead>\n",
       "    <tr style=\"text-align: right;\">\n",
       "      <th></th>\n",
       "      <th>Mean</th>\n",
       "      <th>Vol</th>\n",
       "      <th>Sharpe</th>\n",
       "      <th>Min</th>\n",
       "      <th>Max</th>\n",
       "      <th>VaR (0.05)</th>\n",
       "    </tr>\n",
       "  </thead>\n",
       "  <tbody>\n",
       "    <tr>\n",
       "      <th>Mkt-RF</th>\n",
       "      <td>0.0947</td>\n",
       "      <td>0.1509</td>\n",
       "      <td>0.6279</td>\n",
       "      <td>-0.1723</td>\n",
       "      <td>0.1365</td>\n",
       "      <td>-0.0772</td>\n",
       "    </tr>\n",
       "    <tr>\n",
       "      <th>SMB</th>\n",
       "      <td>0.0238</td>\n",
       "      <td>0.0855</td>\n",
       "      <td>0.2786</td>\n",
       "      <td>-0.0526</td>\n",
       "      <td>0.0712</td>\n",
       "      <td>-0.0374</td>\n",
       "    </tr>\n",
       "    <tr>\n",
       "      <th>HML</th>\n",
       "      <td>-0.0117</td>\n",
       "      <td>0.0975</td>\n",
       "      <td>-0.1201</td>\n",
       "      <td>-0.1402</td>\n",
       "      <td>0.0821</td>\n",
       "      <td>-0.0400</td>\n",
       "    </tr>\n",
       "  </tbody>\n",
       "</table>\n",
       "</div>"
      ],
      "text/plain": [
       "          Mean    Vol  Sharpe     Min    Max  VaR (0.05)\n",
       "Mkt-RF  0.0947 0.1509  0.6279 -0.1723 0.1365     -0.0772\n",
       "SMB     0.0238 0.0855  0.2786 -0.0526 0.0712     -0.0374\n",
       "HML    -0.0117 0.0975 -0.1201 -0.1402 0.0821     -0.0400"
      ]
     },
     "metadata": {},
     "output_type": "display_data"
    },
    {
     "name": "stdout",
     "output_type": "stream",
     "text": [
      "\n",
      "========================================================\n",
      "\n",
      "Period: 1991-01-31 00:00:00 to 1999-12-31 00:00:00\n",
      "\n",
      "========================================================\n"
     ]
    },
    {
     "data": {
      "text/html": [
       "<div>\n",
       "<style scoped>\n",
       "    .dataframe tbody tr th:only-of-type {\n",
       "        vertical-align: middle;\n",
       "    }\n",
       "\n",
       "    .dataframe tbody tr th {\n",
       "        vertical-align: top;\n",
       "    }\n",
       "\n",
       "    .dataframe thead th {\n",
       "        text-align: right;\n",
       "    }\n",
       "</style>\n",
       "<table border=\"1\" class=\"dataframe\">\n",
       "  <thead>\n",
       "    <tr style=\"text-align: right;\">\n",
       "      <th></th>\n",
       "      <th>Mean</th>\n",
       "      <th>Vol</th>\n",
       "      <th>Sharpe</th>\n",
       "      <th>Min</th>\n",
       "      <th>Max</th>\n",
       "      <th>VaR (0.05)</th>\n",
       "    </tr>\n",
       "  </thead>\n",
       "  <tbody>\n",
       "    <tr>\n",
       "      <th>Mkt-RF</th>\n",
       "      <td>0.1554</td>\n",
       "      <td>0.1300</td>\n",
       "      <td>1.1952</td>\n",
       "      <td>-0.1608</td>\n",
       "      <td>0.1084</td>\n",
       "      <td>-0.0418</td>\n",
       "    </tr>\n",
       "    <tr>\n",
       "      <th>SMB</th>\n",
       "      <td>0.0014</td>\n",
       "      <td>0.1052</td>\n",
       "      <td>0.0137</td>\n",
       "      <td>-0.0661</td>\n",
       "      <td>0.0846</td>\n",
       "      <td>-0.0505</td>\n",
       "    </tr>\n",
       "    <tr>\n",
       "      <th>HML</th>\n",
       "      <td>0.0124</td>\n",
       "      <td>0.0937</td>\n",
       "      <td>0.1320</td>\n",
       "      <td>-0.0832</td>\n",
       "      <td>0.0647</td>\n",
       "      <td>-0.0410</td>\n",
       "    </tr>\n",
       "  </tbody>\n",
       "</table>\n",
       "</div>"
      ],
      "text/plain": [
       "         Mean    Vol  Sharpe     Min    Max  VaR (0.05)\n",
       "Mkt-RF 0.1554 0.1300  1.1952 -0.1608 0.1084     -0.0418\n",
       "SMB    0.0014 0.1052  0.0137 -0.0661 0.0846     -0.0505\n",
       "HML    0.0124 0.0937  0.1320 -0.0832 0.0647     -0.0410"
      ]
     },
     "metadata": {},
     "output_type": "display_data"
    },
    {
     "name": "stdout",
     "output_type": "stream",
     "text": [
      "\n",
      "========================================================\n",
      "\n",
      "Period: 1981-01-31 00:00:00 to 2021-08-31 00:00:00\n",
      "\n",
      "========================================================\n"
     ]
    },
    {
     "data": {
      "text/html": [
       "<div>\n",
       "<style scoped>\n",
       "    .dataframe tbody tr th:only-of-type {\n",
       "        vertical-align: middle;\n",
       "    }\n",
       "\n",
       "    .dataframe tbody tr th {\n",
       "        vertical-align: top;\n",
       "    }\n",
       "\n",
       "    .dataframe thead th {\n",
       "        text-align: right;\n",
       "    }\n",
       "</style>\n",
       "<table border=\"1\" class=\"dataframe\">\n",
       "  <thead>\n",
       "    <tr style=\"text-align: right;\">\n",
       "      <th></th>\n",
       "      <th>Mean</th>\n",
       "      <th>Vol</th>\n",
       "      <th>Sharpe</th>\n",
       "      <th>Min</th>\n",
       "      <th>Max</th>\n",
       "      <th>VaR (0.05)</th>\n",
       "    </tr>\n",
       "  </thead>\n",
       "  <tbody>\n",
       "    <tr>\n",
       "      <th>Mkt-RF</th>\n",
       "      <td>0.0857</td>\n",
       "      <td>0.1541</td>\n",
       "      <td>0.5560</td>\n",
       "      <td>-0.2324</td>\n",
       "      <td>0.1365</td>\n",
       "      <td>-0.0720</td>\n",
       "    </tr>\n",
       "    <tr>\n",
       "      <th>SMB</th>\n",
       "      <td>0.0112</td>\n",
       "      <td>0.1038</td>\n",
       "      <td>0.1083</td>\n",
       "      <td>-0.1729</td>\n",
       "      <td>0.2148</td>\n",
       "      <td>-0.0418</td>\n",
       "    </tr>\n",
       "    <tr>\n",
       "      <th>HML</th>\n",
       "      <td>0.0272</td>\n",
       "      <td>0.1053</td>\n",
       "      <td>0.2579</td>\n",
       "      <td>-0.1402</td>\n",
       "      <td>0.1248</td>\n",
       "      <td>-0.0410</td>\n",
       "    </tr>\n",
       "  </tbody>\n",
       "</table>\n",
       "</div>"
      ],
      "text/plain": [
       "         Mean    Vol  Sharpe     Min    Max  VaR (0.05)\n",
       "Mkt-RF 0.0857 0.1541  0.5560 -0.2324 0.1365     -0.0720\n",
       "SMB    0.0112 0.1038  0.1083 -0.1729 0.2148     -0.0418\n",
       "HML    0.0272 0.1053  0.2579 -0.1402 0.1248     -0.0410"
      ]
     },
     "metadata": {},
     "output_type": "display_data"
    },
    {
     "name": "stdout",
     "output_type": "stream",
     "text": [
      "\n",
      "========================================================\n",
      "\n",
      "Period: 1926-07-31 00:00:00 to 2021-08-31 00:00:00\n",
      "\n",
      "========================================================\n"
     ]
    },
    {
     "data": {
      "text/html": [
       "<div>\n",
       "<style scoped>\n",
       "    .dataframe tbody tr th:only-of-type {\n",
       "        vertical-align: middle;\n",
       "    }\n",
       "\n",
       "    .dataframe tbody tr th {\n",
       "        vertical-align: top;\n",
       "    }\n",
       "\n",
       "    .dataframe thead th {\n",
       "        text-align: right;\n",
       "    }\n",
       "</style>\n",
       "<table border=\"1\" class=\"dataframe\">\n",
       "  <thead>\n",
       "    <tr style=\"text-align: right;\">\n",
       "      <th></th>\n",
       "      <th>Mean</th>\n",
       "      <th>Vol</th>\n",
       "      <th>Sharpe</th>\n",
       "      <th>Min</th>\n",
       "      <th>Max</th>\n",
       "      <th>VaR (0.05)</th>\n",
       "    </tr>\n",
       "  </thead>\n",
       "  <tbody>\n",
       "    <tr>\n",
       "      <th>Mkt-RF</th>\n",
       "      <td>0.0831</td>\n",
       "      <td>0.1849</td>\n",
       "      <td>0.4493</td>\n",
       "      <td>-0.2913</td>\n",
       "      <td>0.3885</td>\n",
       "      <td>-0.0789</td>\n",
       "    </tr>\n",
       "    <tr>\n",
       "      <th>SMB</th>\n",
       "      <td>0.0243</td>\n",
       "      <td>0.1101</td>\n",
       "      <td>0.2203</td>\n",
       "      <td>-0.1729</td>\n",
       "      <td>0.3656</td>\n",
       "      <td>-0.0420</td>\n",
       "    </tr>\n",
       "    <tr>\n",
       "      <th>HML</th>\n",
       "      <td>0.0397</td>\n",
       "      <td>0.1224</td>\n",
       "      <td>0.3246</td>\n",
       "      <td>-0.1402</td>\n",
       "      <td>0.3561</td>\n",
       "      <td>-0.0418</td>\n",
       "    </tr>\n",
       "  </tbody>\n",
       "</table>\n",
       "</div>"
      ],
      "text/plain": [
       "         Mean    Vol  Sharpe     Min    Max  VaR (0.05)\n",
       "Mkt-RF 0.0831 0.1849  0.4493 -0.2913 0.3885     -0.0789\n",
       "SMB    0.0243 0.1101  0.2203 -0.1729 0.3656     -0.0420\n",
       "HML    0.0397 0.1224  0.3246 -0.1402 0.3561     -0.0418"
      ]
     },
     "metadata": {},
     "output_type": "display_data"
    }
   ],
   "source": [
    "for era in dts.keys():\n",
    "    print(f'\\n========================================================\\n')\n",
    "    print(f'Period: {dts[era][0]} to {dts[era][-1]}')\n",
    "    print(f'\\n========================================================')\n",
    "    display(performanceMetrics(facs.loc[dts[era]],annualization=12).join(tailMetrics(facs.loc[dts[era]],quantile=.05)['VaR (0.05)']))"
   ]
  },
  {
   "cell_type": "markdown",
   "id": "43d9cdb9",
   "metadata": {},
   "source": [
    "## 2.2\n",
    "Regarding the factor premia, we see that...\n",
    "\n",
    "* SMB premium is small in most subsamples and is negative during 1981-2001.\n",
    "\n",
    "* HML is positive overall and in most subsamples, but it is negative in the post-case sample of 2002-2021.\n",
    "\n",
    "* HML's premium drops substantially starting in the 1990's.\n",
    "\n",
    "* MKT is positive in every subsample, and strongly so."
   ]
  },
  {
   "cell_type": "markdown",
   "id": "0ea2725e",
   "metadata": {},
   "source": [
    "## 2.3\n",
    "\n",
    "The correlations are low relative to most equity portfolios (which tend to have high correlations.)\n",
    "\n",
    "* The correlation between MKT and SMB is relatively low, but definitely positive.\n",
    "\n",
    "* The correlation between MKT and HML is negative since DFA's founding, but it was positive before that, such that the 100-year sample is positive."
   ]
  },
  {
   "cell_type": "code",
   "execution_count": 6,
   "id": "f9ada0a9",
   "metadata": {
    "scrolled": false
   },
   "outputs": [
    {
     "name": "stdout",
     "output_type": "stream",
     "text": [
      "MIN Correlation pair is ('SMB', 'HML')\n",
      "MAX Correlation pair is ('SMB', 'Mkt-RF')\n"
     ]
    },
    {
     "data": {
      "image/png": "[encoded data removed]",
      "text/plain": [
       "<Figure size 432x288 with 2 Axes>"
      ]
     },
     "metadata": {
      "needs_background": "light"
     },
     "output_type": "display_data"
    }
   ],
   "source": [
    "display_correlation(facs.loc[dts['modern']])"
   ]
  },
  {
   "cell_type": "code",
   "execution_count": 7,
   "id": "069f77e1",
   "metadata": {},
   "outputs": [
    {
     "name": "stdout",
     "output_type": "stream",
     "text": [
      "\n",
      "========================================================\n",
      "\n",
      "Period: 1926-07-31 00:00:00 to 1980-12-31 00:00:00\n",
      "\n",
      "========================================================\n"
     ]
    },
    {
     "data": {
      "text/html": [
       "<div>\n",
       "<style scoped>\n",
       "    .dataframe tbody tr th:only-of-type {\n",
       "        vertical-align: middle;\n",
       "    }\n",
       "\n",
       "    .dataframe tbody tr th {\n",
       "        vertical-align: top;\n",
       "    }\n",
       "\n",
       "    .dataframe thead th {\n",
       "        text-align: right;\n",
       "    }\n",
       "</style>\n",
       "<table border=\"1\" class=\"dataframe\">\n",
       "  <thead>\n",
       "    <tr style=\"text-align: right;\">\n",
       "      <th></th>\n",
       "      <th>Mkt-RF</th>\n",
       "      <th>SMB</th>\n",
       "      <th>HML</th>\n",
       "    </tr>\n",
       "  </thead>\n",
       "  <tbody>\n",
       "    <tr>\n",
       "      <th>Mkt-RF</th>\n",
       "      <td>1.0000</td>\n",
       "      <td>0.3661</td>\n",
       "      <td>0.4386</td>\n",
       "    </tr>\n",
       "    <tr>\n",
       "      <th>SMB</th>\n",
       "      <td>0.3661</td>\n",
       "      <td>1.0000</td>\n",
       "      <td>0.3088</td>\n",
       "    </tr>\n",
       "    <tr>\n",
       "      <th>HML</th>\n",
       "      <td>0.4386</td>\n",
       "      <td>0.3088</td>\n",
       "      <td>1.0000</td>\n",
       "    </tr>\n",
       "  </tbody>\n",
       "</table>\n",
       "</div>"
      ],
      "text/plain": [
       "        Mkt-RF    SMB    HML\n",
       "Mkt-RF  1.0000 0.3661 0.4386\n",
       "SMB     0.3661 1.0000 0.3088\n",
       "HML     0.4386 0.3088 1.0000"
      ]
     },
     "metadata": {},
     "output_type": "display_data"
    },
    {
     "name": "stdout",
     "output_type": "stream",
     "text": [
      "\n",
      "========================================================\n",
      "\n",
      "Period: 1981-01-31 00:00:00 to 2001-12-31 00:00:00\n",
      "\n",
      "========================================================\n"
     ]
    },
    {
     "data": {
      "text/html": [
       "<div>\n",
       "<style scoped>\n",
       "    .dataframe tbody tr th:only-of-type {\n",
       "        vertical-align: middle;\n",
       "    }\n",
       "\n",
       "    .dataframe tbody tr th {\n",
       "        vertical-align: top;\n",
       "    }\n",
       "\n",
       "    .dataframe thead th {\n",
       "        text-align: right;\n",
       "    }\n",
       "</style>\n",
       "<table border=\"1\" class=\"dataframe\">\n",
       "  <thead>\n",
       "    <tr style=\"text-align: right;\">\n",
       "      <th></th>\n",
       "      <th>Mkt-RF</th>\n",
       "      <th>SMB</th>\n",
       "      <th>HML</th>\n",
       "    </tr>\n",
       "  </thead>\n",
       "  <tbody>\n",
       "    <tr>\n",
       "      <th>Mkt-RF</th>\n",
       "      <td>1.0000</td>\n",
       "      <td>0.1634</td>\n",
       "      <td>-0.5264</td>\n",
       "    </tr>\n",
       "    <tr>\n",
       "      <th>SMB</th>\n",
       "      <td>0.1634</td>\n",
       "      <td>1.0000</td>\n",
       "      <td>-0.4549</td>\n",
       "    </tr>\n",
       "    <tr>\n",
       "      <th>HML</th>\n",
       "      <td>-0.5264</td>\n",
       "      <td>-0.4549</td>\n",
       "      <td>1.0000</td>\n",
       "    </tr>\n",
       "  </tbody>\n",
       "</table>\n",
       "</div>"
      ],
      "text/plain": [
       "        Mkt-RF     SMB     HML\n",
       "Mkt-RF  1.0000  0.1634 -0.5264\n",
       "SMB     0.1634  1.0000 -0.4549\n",
       "HML    -0.5264 -0.4549  1.0000"
      ]
     },
     "metadata": {},
     "output_type": "display_data"
    },
    {
     "name": "stdout",
     "output_type": "stream",
     "text": [
      "\n",
      "========================================================\n",
      "\n",
      "Period: 2002-01-31 00:00:00 to 2021-08-31 00:00:00\n",
      "\n",
      "========================================================\n"
     ]
    },
    {
     "data": {
      "text/html": [
       "<div>\n",
       "<style scoped>\n",
       "    .dataframe tbody tr th:only-of-type {\n",
       "        vertical-align: middle;\n",
       "    }\n",
       "\n",
       "    .dataframe tbody tr th {\n",
       "        vertical-align: top;\n",
       "    }\n",
       "\n",
       "    .dataframe thead th {\n",
       "        text-align: right;\n",
       "    }\n",
       "</style>\n",
       "<table border=\"1\" class=\"dataframe\">\n",
       "  <thead>\n",
       "    <tr style=\"text-align: right;\">\n",
       "      <th></th>\n",
       "      <th>Mkt-RF</th>\n",
       "      <th>SMB</th>\n",
       "      <th>HML</th>\n",
       "    </tr>\n",
       "  </thead>\n",
       "  <tbody>\n",
       "    <tr>\n",
       "      <th>Mkt-RF</th>\n",
       "      <td>1.0000</td>\n",
       "      <td>0.3241</td>\n",
       "      <td>0.2131</td>\n",
       "    </tr>\n",
       "    <tr>\n",
       "      <th>SMB</th>\n",
       "      <td>0.3241</td>\n",
       "      <td>1.0000</td>\n",
       "      <td>0.1753</td>\n",
       "    </tr>\n",
       "    <tr>\n",
       "      <th>HML</th>\n",
       "      <td>0.2131</td>\n",
       "      <td>0.1753</td>\n",
       "      <td>1.0000</td>\n",
       "    </tr>\n",
       "  </tbody>\n",
       "</table>\n",
       "</div>"
      ],
      "text/plain": [
       "        Mkt-RF    SMB    HML\n",
       "Mkt-RF  1.0000 0.3241 0.2131\n",
       "SMB     0.3241 1.0000 0.1753\n",
       "HML     0.2131 0.1753 1.0000"
      ]
     },
     "metadata": {},
     "output_type": "display_data"
    },
    {
     "name": "stdout",
     "output_type": "stream",
     "text": [
      "\n",
      "========================================================\n",
      "\n",
      "Period: 1991-01-31 00:00:00 to 1999-12-31 00:00:00\n",
      "\n",
      "========================================================\n"
     ]
    },
    {
     "data": {
      "text/html": [
       "<div>\n",
       "<style scoped>\n",
       "    .dataframe tbody tr th:only-of-type {\n",
       "        vertical-align: middle;\n",
       "    }\n",
       "\n",
       "    .dataframe tbody tr th {\n",
       "        vertical-align: top;\n",
       "    }\n",
       "\n",
       "    .dataframe thead th {\n",
       "        text-align: right;\n",
       "    }\n",
       "</style>\n",
       "<table border=\"1\" class=\"dataframe\">\n",
       "  <thead>\n",
       "    <tr style=\"text-align: right;\">\n",
       "      <th></th>\n",
       "      <th>Mkt-RF</th>\n",
       "      <th>SMB</th>\n",
       "      <th>HML</th>\n",
       "    </tr>\n",
       "  </thead>\n",
       "  <tbody>\n",
       "    <tr>\n",
       "      <th>Mkt-RF</th>\n",
       "      <td>1.0000</td>\n",
       "      <td>0.1315</td>\n",
       "      <td>-0.4504</td>\n",
       "    </tr>\n",
       "    <tr>\n",
       "      <th>SMB</th>\n",
       "      <td>0.1315</td>\n",
       "      <td>1.0000</td>\n",
       "      <td>-0.3315</td>\n",
       "    </tr>\n",
       "    <tr>\n",
       "      <th>HML</th>\n",
       "      <td>-0.4504</td>\n",
       "      <td>-0.3315</td>\n",
       "      <td>1.0000</td>\n",
       "    </tr>\n",
       "  </tbody>\n",
       "</table>\n",
       "</div>"
      ],
      "text/plain": [
       "        Mkt-RF     SMB     HML\n",
       "Mkt-RF  1.0000  0.1315 -0.4504\n",
       "SMB     0.1315  1.0000 -0.3315\n",
       "HML    -0.4504 -0.3315  1.0000"
      ]
     },
     "metadata": {},
     "output_type": "display_data"
    },
    {
     "name": "stdout",
     "output_type": "stream",
     "text": [
      "\n",
      "========================================================\n",
      "\n",
      "Period: 1981-01-31 00:00:00 to 2021-08-31 00:00:00\n",
      "\n",
      "========================================================\n"
     ]
    },
    {
     "data": {
      "text/html": [
       "<div>\n",
       "<style scoped>\n",
       "    .dataframe tbody tr th:only-of-type {\n",
       "        vertical-align: middle;\n",
       "    }\n",
       "\n",
       "    .dataframe tbody tr th {\n",
       "        vertical-align: top;\n",
       "    }\n",
       "\n",
       "    .dataframe thead th {\n",
       "        text-align: right;\n",
       "    }\n",
       "</style>\n",
       "<table border=\"1\" class=\"dataframe\">\n",
       "  <thead>\n",
       "    <tr style=\"text-align: right;\">\n",
       "      <th></th>\n",
       "      <th>Mkt-RF</th>\n",
       "      <th>SMB</th>\n",
       "      <th>HML</th>\n",
       "    </tr>\n",
       "  </thead>\n",
       "  <tbody>\n",
       "    <tr>\n",
       "      <th>Mkt-RF</th>\n",
       "      <td>1.0000</td>\n",
       "      <td>0.2248</td>\n",
       "      <td>-0.2012</td>\n",
       "    </tr>\n",
       "    <tr>\n",
       "      <th>SMB</th>\n",
       "      <td>0.2248</td>\n",
       "      <td>1.0000</td>\n",
       "      <td>-0.2216</td>\n",
       "    </tr>\n",
       "    <tr>\n",
       "      <th>HML</th>\n",
       "      <td>-0.2012</td>\n",
       "      <td>-0.2216</td>\n",
       "      <td>1.0000</td>\n",
       "    </tr>\n",
       "  </tbody>\n",
       "</table>\n",
       "</div>"
      ],
      "text/plain": [
       "        Mkt-RF     SMB     HML\n",
       "Mkt-RF  1.0000  0.2248 -0.2012\n",
       "SMB     0.2248  1.0000 -0.2216\n",
       "HML    -0.2012 -0.2216  1.0000"
      ]
     },
     "metadata": {},
     "output_type": "display_data"
    },
    {
     "name": "stdout",
     "output_type": "stream",
     "text": [
      "\n",
      "========================================================\n",
      "\n",
      "Period: 1926-07-31 00:00:00 to 2021-08-31 00:00:00\n",
      "\n",
      "========================================================\n"
     ]
    },
    {
     "data": {
      "text/html": [
       "<div>\n",
       "<style scoped>\n",
       "    .dataframe tbody tr th:only-of-type {\n",
       "        vertical-align: middle;\n",
       "    }\n",
       "\n",
       "    .dataframe tbody tr th {\n",
       "        vertical-align: top;\n",
       "    }\n",
       "\n",
       "    .dataframe thead th {\n",
       "        text-align: right;\n",
       "    }\n",
       "</style>\n",
       "<table border=\"1\" class=\"dataframe\">\n",
       "  <thead>\n",
       "    <tr style=\"text-align: right;\">\n",
       "      <th></th>\n",
       "      <th>Mkt-RF</th>\n",
       "      <th>SMB</th>\n",
       "      <th>HML</th>\n",
       "    </tr>\n",
       "  </thead>\n",
       "  <tbody>\n",
       "    <tr>\n",
       "      <th>Mkt-RF</th>\n",
       "      <td>1.0000</td>\n",
       "      <td>0.3171</td>\n",
       "      <td>0.2426</td>\n",
       "    </tr>\n",
       "    <tr>\n",
       "      <th>SMB</th>\n",
       "      <td>0.3171</td>\n",
       "      <td>1.0000</td>\n",
       "      <td>0.1251</td>\n",
       "    </tr>\n",
       "    <tr>\n",
       "      <th>HML</th>\n",
       "      <td>0.2426</td>\n",
       "      <td>0.1251</td>\n",
       "      <td>1.0000</td>\n",
       "    </tr>\n",
       "  </tbody>\n",
       "</table>\n",
       "</div>"
      ],
      "text/plain": [
       "        Mkt-RF    SMB    HML\n",
       "Mkt-RF  1.0000 0.3171 0.2426\n",
       "SMB     0.3171 1.0000 0.1251\n",
       "HML     0.2426 0.1251 1.0000"
      ]
     },
     "metadata": {},
     "output_type": "display_data"
    }
   ],
   "source": [
    "for era in dts.keys():\n",
    "    print(f'\\n========================================================\\n')\n",
    "    print(f'Period: {dts[era][0]} to {dts[era][-1]}')\n",
    "    print(f'\\n========================================================')\n",
    "    display(facs.loc[dts[era]].corr())"
   ]
  },
  {
   "cell_type": "markdown",
   "id": "f08202fc",
   "metadata": {},
   "source": [
    "## 2.4"
   ]
  },
  {
   "cell_type": "code",
   "execution_count": 8,
   "id": "0c2584c2",
   "metadata": {},
   "outputs": [
    {
     "data": {
      "text/plain": [
       "<AxesSubplot:>"
      ]
     },
     "metadata": {},
     "output_type": "display_data"
    },
    {
     "data": {
      "text/plain": [
       "<AxesSubplot:>"
      ]
     },
     "metadata": {},
     "output_type": "display_data"
    },
    {
     "data": {
      "image/png": "[encoded data removed]",
      "text/plain": [
       "<Figure size 432x288 with 1 Axes>"
      ]
     },
     "metadata": {
      "needs_background": "light"
     },
     "output_type": "display_data"
    },
    {
     "data": {
      "image/png": "[encoded data removed]",
      "text/plain": [
       "<Figure size 432x288 with 1 Axes>"
      ]
     },
     "metadata": {
      "needs_background": "light"
     },
     "output_type": "display_data"
    }
   ],
   "source": [
    "display((1+facs.loc[dts['founding']]).cumprod().plot());\n",
    "display((1+facs.loc[dts['recent']]).cumprod().plot());"
   ]
  },
  {
   "cell_type": "markdown",
   "id": "ae54f196",
   "metadata": {},
   "source": [
    "* The plots above show that HML had high returns in the era of the case: 1981-2001.\n",
    "\n",
    "* In the post-case period (2002-2021) HML has a negative mean return. Nonetheless, it may be valuable given that it has negative correlation to MKT during this time.\n",
    "\n",
    "* However, SMB has small or negative returns in this period while being positively correlated to MKT. Thus, it may be reasonable to drop SMB.\n",
    "\n",
    "## Tangency Weights of Factors\n",
    "\n",
    "Another way to consider whether all three factors matter is to remember that if a factor prices, then by the Fundamental Theorem of Asset Pricing it must be part of the tangency portfolio.\n",
    "\n",
    "Calculate the tangency portfolio formed by the factors. Do they all get substantial weight?\n",
    "We see that SMB has very little weight in the three-factor Tangency portfolio.\n",
    "\n",
    "Thus, we again see that SMB may be unnecessary."
   ]
  },
  {
   "cell_type": "code",
   "execution_count": 9,
   "id": "1485cbc6",
   "metadata": {},
   "outputs": [
    {
     "data": {
      "image/png": "[encoded data removed]",
      "text/plain": [
       "<Figure size 576x288 with 1 Axes>"
      ]
     },
     "metadata": {
      "needs_background": "light"
     },
     "output_type": "display_data"
    }
   ],
   "source": [
    "fig = plt.figure(figsize=(8,4))\n",
    "ax1=fig.add_subplot(1,1,1)\n",
    "tangency_weights(facs.loc[dts['modern']]).plot.bar(ax=ax1,title='Tangency Weights');\n",
    "plt.legend([]);"
   ]
  },
  {
   "cell_type": "markdown",
   "id": "d193961d",
   "metadata": {},
   "source": [
    "# 3. CAPM\n",
    "\n",
    "## 3.1"
   ]
  },
  {
   "cell_type": "code",
   "execution_count": 10,
   "id": "caf0240c",
   "metadata": {},
   "outputs": [],
   "source": [
    "# load data\n",
    "rets = pd.read_excel(filepath_data,sheet_name='portfolios (total returns)')\n",
    "rets.set_index('Date',inplace=True)"
   ]
  },
  {
   "cell_type": "code",
   "execution_count": 11,
   "id": "411c8996",
   "metadata": {},
   "outputs": [],
   "source": [
    "# excess portfolio returns\n",
    "retsx = rets.subtract(rf,axis=0)\n",
    "# subsample of modern\n",
    "facsT = facs.loc[dts['modern']]\n",
    "retsxT = retsx.loc[dts['modern']]"
   ]
  },
  {
   "cell_type": "code",
   "execution_count": 12,
   "id": "ea5ef9c3",
   "metadata": {},
   "outputs": [
    {
     "data": {
      "text/html": [
       "<div>\n",
       "<style scoped>\n",
       "    .dataframe tbody tr th:only-of-type {\n",
       "        vertical-align: middle;\n",
       "    }\n",
       "\n",
       "    .dataframe tbody tr th {\n",
       "        vertical-align: top;\n",
       "    }\n",
       "\n",
       "    .dataframe thead th {\n",
       "        text-align: right;\n",
       "    }\n",
       "</style>\n",
       "<table border=\"1\" class=\"dataframe\">\n",
       "  <thead>\n",
       "    <tr style=\"text-align: right;\">\n",
       "      <th></th>\n",
       "      <th>Mean</th>\n",
       "      <th>Vol</th>\n",
       "      <th>Sharpe</th>\n",
       "      <th>Min</th>\n",
       "      <th>Max</th>\n",
       "      <th>VaR (0.05)</th>\n",
       "    </tr>\n",
       "  </thead>\n",
       "  <tbody>\n",
       "    <tr>\n",
       "      <th>SMALL LoBM</th>\n",
       "      <td>0.0222</td>\n",
       "      <td>0.2708</td>\n",
       "      <td>0.0818</td>\n",
       "      <td>-0.3482</td>\n",
       "      <td>0.3666</td>\n",
       "      <td>-0.1147</td>\n",
       "    </tr>\n",
       "    <tr>\n",
       "      <th>ME1 BM2</th>\n",
       "      <td>0.1069</td>\n",
       "      <td>0.2368</td>\n",
       "      <td>0.4513</td>\n",
       "      <td>-0.3142</td>\n",
       "      <td>0.4375</td>\n",
       "      <td>-0.0940</td>\n",
       "    </tr>\n",
       "    <tr>\n",
       "      <th>ME1 BM3</th>\n",
       "      <td>0.0998</td>\n",
       "      <td>0.1974</td>\n",
       "      <td>0.5056</td>\n",
       "      <td>-0.2964</td>\n",
       "      <td>0.2045</td>\n",
       "      <td>-0.0841</td>\n",
       "    </tr>\n",
       "    <tr>\n",
       "      <th>ME1 BM4</th>\n",
       "      <td>0.1248</td>\n",
       "      <td>0.1923</td>\n",
       "      <td>0.6490</td>\n",
       "      <td>-0.2952</td>\n",
       "      <td>0.2583</td>\n",
       "      <td>-0.0773</td>\n",
       "    </tr>\n",
       "    <tr>\n",
       "      <th>SMALL HiBM</th>\n",
       "      <td>0.1343</td>\n",
       "      <td>0.2081</td>\n",
       "      <td>0.6454</td>\n",
       "      <td>-0.2922</td>\n",
       "      <td>0.4072</td>\n",
       "      <td>-0.0878</td>\n",
       "    </tr>\n",
       "    <tr>\n",
       "      <th>ME2 BM1</th>\n",
       "      <td>0.0702</td>\n",
       "      <td>0.2438</td>\n",
       "      <td>0.2879</td>\n",
       "      <td>-0.3329</td>\n",
       "      <td>0.2759</td>\n",
       "      <td>-0.1036</td>\n",
       "    </tr>\n",
       "    <tr>\n",
       "      <th>ME2 BM2</th>\n",
       "      <td>0.1095</td>\n",
       "      <td>0.2018</td>\n",
       "      <td>0.5427</td>\n",
       "      <td>-0.3255</td>\n",
       "      <td>0.1924</td>\n",
       "      <td>-0.0813</td>\n",
       "    </tr>\n",
       "    <tr>\n",
       "      <th>ME2 BM3</th>\n",
       "      <td>0.1099</td>\n",
       "      <td>0.1821</td>\n",
       "      <td>0.6037</td>\n",
       "      <td>-0.2914</td>\n",
       "      <td>0.1861</td>\n",
       "      <td>-0.0768</td>\n",
       "    </tr>\n",
       "    <tr>\n",
       "      <th>ME2 BM4</th>\n",
       "      <td>0.1109</td>\n",
       "      <td>0.1797</td>\n",
       "      <td>0.6173</td>\n",
       "      <td>-0.2527</td>\n",
       "      <td>0.1939</td>\n",
       "      <td>-0.0777</td>\n",
       "    </tr>\n",
       "    <tr>\n",
       "      <th>ME2 BM5</th>\n",
       "      <td>0.1198</td>\n",
       "      <td>0.2120</td>\n",
       "      <td>0.5650</td>\n",
       "      <td>-0.3237</td>\n",
       "      <td>0.2630</td>\n",
       "      <td>-0.0928</td>\n",
       "    </tr>\n",
       "    <tr>\n",
       "      <th>ME3 BM1</th>\n",
       "      <td>0.0807</td>\n",
       "      <td>0.2245</td>\n",
       "      <td>0.3595</td>\n",
       "      <td>-0.3025</td>\n",
       "      <td>0.2249</td>\n",
       "      <td>-0.0968</td>\n",
       "    </tr>\n",
       "    <tr>\n",
       "      <th>ME3 BM2</th>\n",
       "      <td>0.1134</td>\n",
       "      <td>0.1869</td>\n",
       "      <td>0.6070</td>\n",
       "      <td>-0.2938</td>\n",
       "      <td>0.1939</td>\n",
       "      <td>-0.0793</td>\n",
       "    </tr>\n",
       "    <tr>\n",
       "      <th>ME3 BM3</th>\n",
       "      <td>0.0960</td>\n",
       "      <td>0.1699</td>\n",
       "      <td>0.5652</td>\n",
       "      <td>-0.2537</td>\n",
       "      <td>0.1671</td>\n",
       "      <td>-0.0731</td>\n",
       "    </tr>\n",
       "    <tr>\n",
       "      <th>ME3 BM4</th>\n",
       "      <td>0.1123</td>\n",
       "      <td>0.1765</td>\n",
       "      <td>0.6363</td>\n",
       "      <td>-0.2707</td>\n",
       "      <td>0.1663</td>\n",
       "      <td>-0.0728</td>\n",
       "    </tr>\n",
       "    <tr>\n",
       "      <th>ME3 BM5</th>\n",
       "      <td>0.1272</td>\n",
       "      <td>0.1982</td>\n",
       "      <td>0.6418</td>\n",
       "      <td>-0.3137</td>\n",
       "      <td>0.2260</td>\n",
       "      <td>-0.0798</td>\n",
       "    </tr>\n",
       "    <tr>\n",
       "      <th>ME4 BM1</th>\n",
       "      <td>0.1015</td>\n",
       "      <td>0.2024</td>\n",
       "      <td>0.5016</td>\n",
       "      <td>-0.2673</td>\n",
       "      <td>0.2537</td>\n",
       "      <td>-0.0828</td>\n",
       "    </tr>\n",
       "    <tr>\n",
       "      <th>ME4 BM2</th>\n",
       "      <td>0.1001</td>\n",
       "      <td>0.1753</td>\n",
       "      <td>0.5710</td>\n",
       "      <td>-0.2963</td>\n",
       "      <td>0.1578</td>\n",
       "      <td>-0.0708</td>\n",
       "    </tr>\n",
       "    <tr>\n",
       "      <th>ME4 BM3</th>\n",
       "      <td>0.0957</td>\n",
       "      <td>0.1734</td>\n",
       "      <td>0.5520</td>\n",
       "      <td>-0.2587</td>\n",
       "      <td>0.1595</td>\n",
       "      <td>-0.0757</td>\n",
       "    </tr>\n",
       "    <tr>\n",
       "      <th>ME4 BM4</th>\n",
       "      <td>0.1047</td>\n",
       "      <td>0.1730</td>\n",
       "      <td>0.6049</td>\n",
       "      <td>-0.3332</td>\n",
       "      <td>0.1663</td>\n",
       "      <td>-0.0682</td>\n",
       "    </tr>\n",
       "    <tr>\n",
       "      <th>ME4 BM5</th>\n",
       "      <td>0.1111</td>\n",
       "      <td>0.1969</td>\n",
       "      <td>0.5642</td>\n",
       "      <td>-0.3260</td>\n",
       "      <td>0.2021</td>\n",
       "      <td>-0.0837</td>\n",
       "    </tr>\n",
       "    <tr>\n",
       "      <th>BIG LoBM</th>\n",
       "      <td>0.0944</td>\n",
       "      <td>0.1604</td>\n",
       "      <td>0.5882</td>\n",
       "      <td>-0.2226</td>\n",
       "      <td>0.1501</td>\n",
       "      <td>-0.0745</td>\n",
       "    </tr>\n",
       "    <tr>\n",
       "      <th>ME5 BM2</th>\n",
       "      <td>0.0891</td>\n",
       "      <td>0.1543</td>\n",
       "      <td>0.5777</td>\n",
       "      <td>-0.2306</td>\n",
       "      <td>0.1611</td>\n",
       "      <td>-0.0654</td>\n",
       "    </tr>\n",
       "    <tr>\n",
       "      <th>ME5 BM3</th>\n",
       "      <td>0.0857</td>\n",
       "      <td>0.1523</td>\n",
       "      <td>0.5624</td>\n",
       "      <td>-0.2269</td>\n",
       "      <td>0.1445</td>\n",
       "      <td>-0.0692</td>\n",
       "    </tr>\n",
       "    <tr>\n",
       "      <th>ME5 BM4</th>\n",
       "      <td>0.0667</td>\n",
       "      <td>0.1698</td>\n",
       "      <td>0.3931</td>\n",
       "      <td>-0.2759</td>\n",
       "      <td>0.1607</td>\n",
       "      <td>-0.0752</td>\n",
       "    </tr>\n",
       "    <tr>\n",
       "      <th>BIG HiBM</th>\n",
       "      <td>0.0994</td>\n",
       "      <td>0.2056</td>\n",
       "      <td>0.4837</td>\n",
       "      <td>-0.3012</td>\n",
       "      <td>0.2197</td>\n",
       "      <td>-0.0961</td>\n",
       "    </tr>\n",
       "  </tbody>\n",
       "</table>\n",
       "</div>"
      ],
      "text/plain": [
       "             Mean    Vol  Sharpe     Min    Max  VaR (0.05)\n",
       "SMALL LoBM 0.0222 0.2708  0.0818 -0.3482 0.3666     -0.1147\n",
       "ME1 BM2    0.1069 0.2368  0.4513 -0.3142 0.4375     -0.0940\n",
       "ME1 BM3    0.0998 0.1974  0.5056 -0.2964 0.2045     -0.0841\n",
       "ME1 BM4    0.1248 0.1923  0.6490 -0.2952 0.2583     -0.0773\n",
       "SMALL HiBM 0.1343 0.2081  0.6454 -0.2922 0.4072     -0.0878\n",
       "ME2 BM1    0.0702 0.2438  0.2879 -0.3329 0.2759     -0.1036\n",
       "ME2 BM2    0.1095 0.2018  0.5427 -0.3255 0.1924     -0.0813\n",
       "ME2 BM3    0.1099 0.1821  0.6037 -0.2914 0.1861     -0.0768\n",
       "ME2 BM4    0.1109 0.1797  0.6173 -0.2527 0.1939     -0.0777\n",
       "ME2 BM5    0.1198 0.2120  0.5650 -0.3237 0.2630     -0.0928\n",
       "ME3 BM1    0.0807 0.2245  0.3595 -0.3025 0.2249     -0.0968\n",
       "ME3 BM2    0.1134 0.1869  0.6070 -0.2938 0.1939     -0.0793\n",
       "ME3 BM3    0.0960 0.1699  0.5652 -0.2537 0.1671     -0.0731\n",
       "ME3 BM4    0.1123 0.1765  0.6363 -0.2707 0.1663     -0.0728\n",
       "ME3 BM5    0.1272 0.1982  0.6418 -0.3137 0.2260     -0.0798\n",
       "ME4 BM1    0.1015 0.2024  0.5016 -0.2673 0.2537     -0.0828\n",
       "ME4 BM2    0.1001 0.1753  0.5710 -0.2963 0.1578     -0.0708\n",
       "ME4 BM3    0.0957 0.1734  0.5520 -0.2587 0.1595     -0.0757\n",
       "ME4 BM4    0.1047 0.1730  0.6049 -0.3332 0.1663     -0.0682\n",
       "ME4 BM5    0.1111 0.1969  0.5642 -0.3260 0.2021     -0.0837\n",
       "BIG LoBM   0.0944 0.1604  0.5882 -0.2226 0.1501     -0.0745\n",
       "ME5 BM2    0.0891 0.1543  0.5777 -0.2306 0.1611     -0.0654\n",
       "ME5 BM3    0.0857 0.1523  0.5624 -0.2269 0.1445     -0.0692\n",
       "ME5 BM4    0.0667 0.1698  0.3931 -0.2759 0.1607     -0.0752\n",
       "BIG HiBM   0.0994 0.2056  0.4837 -0.3012 0.2197     -0.0961"
      ]
     },
     "metadata": {},
     "output_type": "display_data"
    }
   ],
   "source": [
    "mets = performanceMetrics(retsxT,annualization=12)\n",
    "tail = tailMetrics(retsxT)\n",
    "\n",
    "display(mets.join(tail['VaR (0.05)']))"
   ]
  },
  {
   "cell_type": "markdown",
   "id": "d81248a4",
   "metadata": {},
   "source": [
    "## Explaining premia by risk metrics"
   ]
  },
  {
   "cell_type": "code",
   "execution_count": 13,
   "id": "f74247d2",
   "metadata": {
    "scrolled": false
   },
   "outputs": [
    {
     "data": {
      "image/png": "[encoded data removed]",
      "text/plain": [
       "<Figure size 432x288 with 1 Axes>"
      ]
     },
     "metadata": {
      "needs_background": "light"
     },
     "output_type": "display_data"
    },
    {
     "data": {
      "image/png": "[encoded data removed]",
      "text/plain": [
       "<Figure size 432x288 with 1 Axes>"
      ]
     },
     "metadata": {
      "needs_background": "light"
     },
     "output_type": "display_data"
    },
    {
     "data": {
      "image/png": "[encoded data removed]",
      "text/plain": [
       "<Figure size 432x288 with 1 Axes>"
      ]
     },
     "metadata": {
      "needs_background": "light"
     },
     "output_type": "display_data"
    },
    {
     "data": {
      "image/png": "[encoded data removed]",
      "text/plain": [
       "<Figure size 432x288 with 1 Axes>"
      ]
     },
     "metadata": {
      "needs_background": "light"
     },
     "output_type": "display_data"
    }
   ],
   "source": [
    "lfd = get_ols_metrics(facsT['Mkt-RF'],retsxT,annualization=12)\n",
    "\n",
    "mets['Beta'] = lfd[['Mkt-RF']]\n",
    "mets['VaR'] = tail[['VaR (0.05)']]\n",
    "mets['Skew'] = tail[['Skewness']]\n",
    "\n",
    "mets.plot.scatter(x='Vol',y='Mean');\n",
    "mets.plot.scatter(x='VaR',y='Mean');\n",
    "mets.plot.scatter(x='Skew',y='Mean');\n",
    "mets.plot.scatter(x='Beta',y='Mean');"
   ]
  },
  {
   "cell_type": "markdown",
   "id": "77af4d2b",
   "metadata": {},
   "source": [
    "## 3.2 CAPM Tests: Time-Series Metrics"
   ]
  },
  {
   "cell_type": "code",
   "execution_count": 14,
   "id": "50200b1e",
   "metadata": {},
   "outputs": [
    {
     "data": {
      "text/html": [
       "<div>\n",
       "<style scoped>\n",
       "    .dataframe tbody tr th:only-of-type {\n",
       "        vertical-align: middle;\n",
       "    }\n",
       "\n",
       "    .dataframe tbody tr th {\n",
       "        vertical-align: top;\n",
       "    }\n",
       "\n",
       "    .dataframe thead th {\n",
       "        text-align: right;\n",
       "    }\n",
       "</style>\n",
       "<table border=\"1\" class=\"dataframe\">\n",
       "  <thead>\n",
       "    <tr style=\"text-align: right;\">\n",
       "      <th></th>\n",
       "      <th>alpha</th>\n",
       "      <th>Mkt-RF</th>\n",
       "      <th>r-squared</th>\n",
       "      <th>Treynor Ratio</th>\n",
       "      <th>Info Ratio</th>\n",
       "    </tr>\n",
       "  </thead>\n",
       "  <tbody>\n",
       "    <tr>\n",
       "      <th>SMALL LoBM</th>\n",
       "      <td>-0.0949</td>\n",
       "      <td>1.3654</td>\n",
       "      <td>0.6039</td>\n",
       "      <td>0.0162</td>\n",
       "      <td>-0.5565</td>\n",
       "    </tr>\n",
       "    <tr>\n",
       "      <th>ME1 BM2</th>\n",
       "      <td>0.0058</td>\n",
       "      <td>1.1789</td>\n",
       "      <td>0.5887</td>\n",
       "      <td>0.0906</td>\n",
       "      <td>0.0384</td>\n",
       "    </tr>\n",
       "    <tr>\n",
       "      <th>ME1 BM3</th>\n",
       "      <td>0.0100</td>\n",
       "      <td>1.0485</td>\n",
       "      <td>0.6698</td>\n",
       "      <td>0.0952</td>\n",
       "      <td>0.0880</td>\n",
       "    </tr>\n",
       "    <tr>\n",
       "      <th>ME1 BM4</th>\n",
       "      <td>0.0409</td>\n",
       "      <td>0.9789</td>\n",
       "      <td>0.6153</td>\n",
       "      <td>0.1275</td>\n",
       "      <td>0.3432</td>\n",
       "    </tr>\n",
       "    <tr>\n",
       "      <th>SMALL HiBM</th>\n",
       "      <td>0.0481</td>\n",
       "      <td>1.0062</td>\n",
       "      <td>0.5554</td>\n",
       "      <td>0.1335</td>\n",
       "      <td>0.3464</td>\n",
       "    </tr>\n",
       "    <tr>\n",
       "      <th>ME2 BM1</th>\n",
       "      <td>-0.0454</td>\n",
       "      <td>1.3494</td>\n",
       "      <td>0.7276</td>\n",
       "      <td>0.0520</td>\n",
       "      <td>-0.3571</td>\n",
       "    </tr>\n",
       "    <tr>\n",
       "      <th>ME2 BM2</th>\n",
       "      <td>0.0127</td>\n",
       "      <td>1.1293</td>\n",
       "      <td>0.7440</td>\n",
       "      <td>0.0970</td>\n",
       "      <td>0.1247</td>\n",
       "    </tr>\n",
       "    <tr>\n",
       "      <th>ME2 BM3</th>\n",
       "      <td>0.0224</td>\n",
       "      <td>1.0216</td>\n",
       "      <td>0.7476</td>\n",
       "      <td>0.1076</td>\n",
       "      <td>0.2448</td>\n",
       "    </tr>\n",
       "    <tr>\n",
       "      <th>ME2 BM4</th>\n",
       "      <td>0.0273</td>\n",
       "      <td>0.9753</td>\n",
       "      <td>0.6999</td>\n",
       "      <td>0.1137</td>\n",
       "      <td>0.2777</td>\n",
       "    </tr>\n",
       "    <tr>\n",
       "      <th>ME2 BM5</th>\n",
       "      <td>0.0234</td>\n",
       "      <td>1.1253</td>\n",
       "      <td>0.6690</td>\n",
       "      <td>0.1065</td>\n",
       "      <td>0.1916</td>\n",
       "    </tr>\n",
       "    <tr>\n",
       "      <th>ME3 BM1</th>\n",
       "      <td>-0.0292</td>\n",
       "      <td>1.2818</td>\n",
       "      <td>0.7748</td>\n",
       "      <td>0.0629</td>\n",
       "      <td>-0.2738</td>\n",
       "    </tr>\n",
       "    <tr>\n",
       "      <th>ME3 BM2</th>\n",
       "      <td>0.0194</td>\n",
       "      <td>1.0978</td>\n",
       "      <td>0.8198</td>\n",
       "      <td>0.1033</td>\n",
       "      <td>0.2440</td>\n",
       "    </tr>\n",
       "    <tr>\n",
       "      <th>ME3 BM3</th>\n",
       "      <td>0.0120</td>\n",
       "      <td>0.9805</td>\n",
       "      <td>0.7915</td>\n",
       "      <td>0.0979</td>\n",
       "      <td>0.1545</td>\n",
       "    </tr>\n",
       "    <tr>\n",
       "      <th>ME3 BM4</th>\n",
       "      <td>0.0280</td>\n",
       "      <td>0.9846</td>\n",
       "      <td>0.7389</td>\n",
       "      <td>0.1141</td>\n",
       "      <td>0.3099</td>\n",
       "    </tr>\n",
       "    <tr>\n",
       "      <th>ME3 BM5</th>\n",
       "      <td>0.0370</td>\n",
       "      <td>1.0523</td>\n",
       "      <td>0.6698</td>\n",
       "      <td>0.1209</td>\n",
       "      <td>0.3250</td>\n",
       "    </tr>\n",
       "    <tr>\n",
       "      <th>ME4 BM1</th>\n",
       "      <td>-0.0009</td>\n",
       "      <td>1.1959</td>\n",
       "      <td>0.8292</td>\n",
       "      <td>0.0849</td>\n",
       "      <td>-0.0113</td>\n",
       "    </tr>\n",
       "    <tr>\n",
       "      <th>ME4 BM2</th>\n",
       "      <td>0.0093</td>\n",
       "      <td>1.0593</td>\n",
       "      <td>0.8669</td>\n",
       "      <td>0.0945</td>\n",
       "      <td>0.1461</td>\n",
       "    </tr>\n",
       "    <tr>\n",
       "      <th>ME4 BM3</th>\n",
       "      <td>0.0092</td>\n",
       "      <td>1.0098</td>\n",
       "      <td>0.8057</td>\n",
       "      <td>0.0948</td>\n",
       "      <td>0.1200</td>\n",
       "    </tr>\n",
       "    <tr>\n",
       "      <th>ME4 BM4</th>\n",
       "      <td>0.0207</td>\n",
       "      <td>0.9795</td>\n",
       "      <td>0.7614</td>\n",
       "      <td>0.1069</td>\n",
       "      <td>0.2452</td>\n",
       "    </tr>\n",
       "    <tr>\n",
       "      <th>ME4 BM5</th>\n",
       "      <td>0.0199</td>\n",
       "      <td>1.0645</td>\n",
       "      <td>0.6945</td>\n",
       "      <td>0.1043</td>\n",
       "      <td>0.1824</td>\n",
       "    </tr>\n",
       "    <tr>\n",
       "      <th>BIG LoBM</th>\n",
       "      <td>0.0100</td>\n",
       "      <td>0.9841</td>\n",
       "      <td>0.8941</td>\n",
       "      <td>0.0959</td>\n",
       "      <td>0.1920</td>\n",
       "    </tr>\n",
       "    <tr>\n",
       "      <th>ME5 BM2</th>\n",
       "      <td>0.0091</td>\n",
       "      <td>0.9343</td>\n",
       "      <td>0.8712</td>\n",
       "      <td>0.0954</td>\n",
       "      <td>0.1635</td>\n",
       "    </tr>\n",
       "    <tr>\n",
       "      <th>ME5 BM3</th>\n",
       "      <td>0.0101</td>\n",
       "      <td>0.8819</td>\n",
       "      <td>0.7960</td>\n",
       "      <td>0.0972</td>\n",
       "      <td>0.1469</td>\n",
       "    </tr>\n",
       "    <tr>\n",
       "      <th>ME5 BM4</th>\n",
       "      <td>-0.0111</td>\n",
       "      <td>0.9087</td>\n",
       "      <td>0.6804</td>\n",
       "      <td>0.0735</td>\n",
       "      <td>-0.1160</td>\n",
       "    </tr>\n",
       "    <tr>\n",
       "      <th>BIG HiBM</th>\n",
       "      <td>0.0108</td>\n",
       "      <td>1.0338</td>\n",
       "      <td>0.6006</td>\n",
       "      <td>0.0962</td>\n",
       "      <td>0.0835</td>\n",
       "    </tr>\n",
       "  </tbody>\n",
       "</table>\n",
       "</div>"
      ],
      "text/plain": [
       "             alpha  Mkt-RF  r-squared  Treynor Ratio  Info Ratio\n",
       "SMALL LoBM -0.0949  1.3654     0.6039         0.0162     -0.5565\n",
       "ME1 BM2     0.0058  1.1789     0.5887         0.0906      0.0384\n",
       "ME1 BM3     0.0100  1.0485     0.6698         0.0952      0.0880\n",
       "ME1 BM4     0.0409  0.9789     0.6153         0.1275      0.3432\n",
       "SMALL HiBM  0.0481  1.0062     0.5554         0.1335      0.3464\n",
       "ME2 BM1    -0.0454  1.3494     0.7276         0.0520     -0.3571\n",
       "ME2 BM2     0.0127  1.1293     0.7440         0.0970      0.1247\n",
       "ME2 BM3     0.0224  1.0216     0.7476         0.1076      0.2448\n",
       "ME2 BM4     0.0273  0.9753     0.6999         0.1137      0.2777\n",
       "ME2 BM5     0.0234  1.1253     0.6690         0.1065      0.1916\n",
       "ME3 BM1    -0.0292  1.2818     0.7748         0.0629     -0.2738\n",
       "ME3 BM2     0.0194  1.0978     0.8198         0.1033      0.2440\n",
       "ME3 BM3     0.0120  0.9805     0.7915         0.0979      0.1545\n",
       "ME3 BM4     0.0280  0.9846     0.7389         0.1141      0.3099\n",
       "ME3 BM5     0.0370  1.0523     0.6698         0.1209      0.3250\n",
       "ME4 BM1    -0.0009  1.1959     0.8292         0.0849     -0.0113\n",
       "ME4 BM2     0.0093  1.0593     0.8669         0.0945      0.1461\n",
       "ME4 BM3     0.0092  1.0098     0.8057         0.0948      0.1200\n",
       "ME4 BM4     0.0207  0.9795     0.7614         0.1069      0.2452\n",
       "ME4 BM5     0.0199  1.0645     0.6945         0.1043      0.1824\n",
       "BIG LoBM    0.0100  0.9841     0.8941         0.0959      0.1920\n",
       "ME5 BM2     0.0091  0.9343     0.8712         0.0954      0.1635\n",
       "ME5 BM3     0.0101  0.8819     0.7960         0.0972      0.1469\n",
       "ME5 BM4    -0.0111  0.9087     0.6804         0.0735     -0.1160\n",
       "BIG HiBM    0.0108  1.0338     0.6006         0.0962      0.0835"
      ]
     },
     "metadata": {},
     "output_type": "display_data"
    }
   ],
   "source": [
    "display(lfd)"
   ]
  },
  {
   "cell_type": "markdown",
   "id": "74972e33",
   "metadata": {},
   "source": [
    "If CAPM were true, then we would have the following implications:\n",
    "\n",
    "* Treynor ratio would be the same for every asset, and it would equal the MKT premium.\n",
    "\n",
    "* The alphas would all be zero\n",
    "\n",
    "* The Information Ratios would all be zero\n"
   ]
  },
  {
   "cell_type": "markdown",
   "id": "5d2facfa",
   "metadata": {},
   "source": [
    "## 3.3 Cross-Sectional Test: Yes Intercept"
   ]
  },
  {
   "cell_type": "code",
   "execution_count": 15,
   "id": "ed8a6304",
   "metadata": {},
   "outputs": [
    {
     "name": "stdout",
     "output_type": "stream",
     "text": [
      "Time-Series Test Plots\n"
     ]
    },
    {
     "data": {
      "image/png": "[encoded data removed]",
      "text/plain": [
       "<Figure size 288x288 with 1 Axes>"
      ]
     },
     "metadata": {},
     "output_type": "display_data"
    },
    {
     "data": {
      "image/png": "[encoded data removed]",
      "text/plain": [
       "<Figure size 633.6x288 with 1 Axes>"
      ]
     },
     "metadata": {},
     "output_type": "display_data"
    },
    {
     "name": "stdout",
     "output_type": "stream",
     "text": [
      "Cross-Sectional Test Plots\n"
     ]
    },
    {
     "data": {
      "image/png": "[encoded data removed]",
      "text/plain": [
       "<Figure size 288x288 with 1 Axes>"
      ]
     },
     "metadata": {},
     "output_type": "display_data"
    },
    {
     "data": {
      "image/png": "[encoded data removed]",
      "text/plain": [
       "<Figure size 633.6x288 with 1 Axes>"
      ]
     },
     "metadata": {},
     "output_type": "display_data"
    },
    {
     "name": "stdout",
     "output_type": "stream",
     "text": [
      "\n",
      "ESTIMATES\n"
     ]
    },
    {
     "data": {
      "text/html": [
       "<div>\n",
       "<style scoped>\n",
       "    .dataframe tbody tr th:only-of-type {\n",
       "        vertical-align: middle;\n",
       "    }\n",
       "\n",
       "    .dataframe tbody tr th {\n",
       "        vertical-align: top;\n",
       "    }\n",
       "\n",
       "    .dataframe thead th {\n",
       "        text-align: right;\n",
       "    }\n",
       "</style>\n",
       "<table border=\"1\" class=\"dataframe\">\n",
       "  <thead>\n",
       "    <tr style=\"text-align: right;\">\n",
       "      <th></th>\n",
       "      <th>premium-TS</th>\n",
       "      <th>premium-CS</th>\n",
       "    </tr>\n",
       "  </thead>\n",
       "  <tbody>\n",
       "    <tr>\n",
       "      <th>Mkt-RF</th>\n",
       "      <td>0.0857</td>\n",
       "      <td>-0.0775</td>\n",
       "    </tr>\n",
       "    <tr>\n",
       "      <th>intercept</th>\n",
       "      <td>NaN</td>\n",
       "      <td>0.1820</td>\n",
       "    </tr>\n",
       "  </tbody>\n",
       "</table>\n",
       "</div>"
      ],
      "text/plain": [
       "           premium-TS  premium-CS\n",
       "Mkt-RF         0.0857     -0.0775\n",
       "intercept         NaN      0.1820"
      ]
     },
     "metadata": {},
     "output_type": "display_data"
    },
    {
     "name": "stdout",
     "output_type": "stream",
     "text": [
      "\n",
      "MODEL FIT\n"
     ]
    },
    {
     "data": {
      "text/html": [
       "<div>\n",
       "<style scoped>\n",
       "    .dataframe tbody tr th:only-of-type {\n",
       "        vertical-align: middle;\n",
       "    }\n",
       "\n",
       "    .dataframe tbody tr th {\n",
       "        vertical-align: top;\n",
       "    }\n",
       "\n",
       "    .dataframe thead th {\n",
       "        text-align: right;\n",
       "    }\n",
       "</style>\n",
       "<table border=\"1\" class=\"dataframe\">\n",
       "  <thead>\n",
       "    <tr style=\"text-align: right;\">\n",
       "      <th></th>\n",
       "      <th>MAE-TS</th>\n",
       "      <th>MAE-CS</th>\n",
       "      <th>rsquared</th>\n",
       "    </tr>\n",
       "  </thead>\n",
       "  <tbody>\n",
       "    <tr>\n",
       "      <th>error</th>\n",
       "      <td>0.0227</td>\n",
       "      <td>0.0153</td>\n",
       "      <td>0.1840</td>\n",
       "    </tr>\n",
       "  </tbody>\n",
       "</table>\n",
       "</div>"
      ],
      "text/plain": [
       "       MAE-TS  MAE-CS  rsquared\n",
       "error  0.0227  0.0153    0.1840"
      ]
     },
     "metadata": {},
     "output_type": "display_data"
    },
    {
     "name": "stdout",
     "output_type": "stream",
     "text": [
      "\n",
      "STATISTICAL SIGNIFICANCE\n"
     ]
    },
    {
     "data": {
      "text/html": [
       "<div>\n",
       "<style scoped>\n",
       "    .dataframe tbody tr th:only-of-type {\n",
       "        vertical-align: middle;\n",
       "    }\n",
       "\n",
       "    .dataframe tbody tr th {\n",
       "        vertical-align: top;\n",
       "    }\n",
       "\n",
       "    .dataframe thead th {\n",
       "        text-align: right;\n",
       "    }\n",
       "</style>\n",
       "<table border=\"1\" class=\"dataframe\">\n",
       "  <thead>\n",
       "    <tr style=\"text-align: right;\">\n",
       "      <th>time-series</th>\n",
       "      <th>priced</th>\n",
       "      <th>premium</th>\n",
       "    </tr>\n",
       "    <tr>\n",
       "      <th>p-values</th>\n",
       "      <th></th>\n",
       "      <th></th>\n",
       "    </tr>\n",
       "  </thead>\n",
       "  <tbody>\n",
       "    <tr>\n",
       "      <th>Mkt-RF</th>\n",
       "      <td>0.0004</td>\n",
       "      <td>0.0002</td>\n",
       "    </tr>\n",
       "    <tr>\n",
       "      <th>error</th>\n",
       "      <td>0.0000</td>\n",
       "      <td>NaN</td>\n",
       "    </tr>\n",
       "  </tbody>\n",
       "</table>\n",
       "</div>"
      ],
      "text/plain": [
       "time-series  priced  premium\n",
       "p-values                    \n",
       "Mkt-RF       0.0004   0.0002\n",
       "error        0.0000      NaN"
      ]
     },
     "metadata": {},
     "output_type": "display_data"
    },
    {
     "name": "stdout",
     "output_type": "stream",
     "text": [
      "\"premium\" p-value is the usual t-stat on the time-series factor mean.\n",
      "\"priced\" p-value of factor is the t-stat of forming the tangency portfolio.\n",
      "\"priced\" p-value of \"error\" is the joint-chi-squared test of the time-series alphas\n"
     ]
    }
   ],
   "source": [
    "LFPtests(retsxT,facsT[['Mkt-RF']],annualization=12,useIntCS=True)"
   ]
  },
  {
   "cell_type": "markdown",
   "id": "f8216731",
   "metadata": {},
   "source": [
    "## 3.4 \n",
    "\n",
    "These results support the idea that the MKT premium is not sufficient for explaining all premia in the market.\n",
    "\n",
    "Given that MKT cannot explain these assets, which are sorted by size and value, it is suggestive that there may be premia in size and value. \n",
    "\n",
    "But while we have ruled out MKT as being the only determinant factor, we have not proven size and value matter."
   ]
  },
  {
   "cell_type": "markdown",
   "id": "450b6955",
   "metadata": {},
   "source": [
    "# 4.1 Fama-French 3-Factor Tests\n",
    "## Time-Series Test\n",
    "## Cross-Sectional Test: YES Intercept"
   ]
  },
  {
   "cell_type": "code",
   "execution_count": 16,
   "id": "2eca6a09",
   "metadata": {
    "scrolled": false
   },
   "outputs": [
    {
     "name": "stdout",
     "output_type": "stream",
     "text": [
      "Time-Series Test Plots\n"
     ]
    },
    {
     "data": {
      "image/png": "[encoded data removed]",
      "text/plain": [
       "<Figure size 288x288 with 1 Axes>"
      ]
     },
     "metadata": {},
     "output_type": "display_data"
    },
    {
     "name": "stdout",
     "output_type": "stream",
     "text": [
      "Cross-Sectional Test Plots\n"
     ]
    },
    {
     "data": {
      "image/png": "[encoded data removed]",
      "text/plain": [
       "<Figure size 288x288 with 1 Axes>"
      ]
     },
     "metadata": {},
     "output_type": "display_data"
    },
    {
     "name": "stdout",
     "output_type": "stream",
     "text": [
      "\n",
      "ESTIMATES\n"
     ]
    },
    {
     "data": {
      "text/html": [
       "<div>\n",
       "<style scoped>\n",
       "    .dataframe tbody tr th:only-of-type {\n",
       "        vertical-align: middle;\n",
       "    }\n",
       "\n",
       "    .dataframe tbody tr th {\n",
       "        vertical-align: top;\n",
       "    }\n",
       "\n",
       "    .dataframe thead th {\n",
       "        text-align: right;\n",
       "    }\n",
       "</style>\n",
       "<table border=\"1\" class=\"dataframe\">\n",
       "  <thead>\n",
       "    <tr style=\"text-align: right;\">\n",
       "      <th></th>\n",
       "      <th>premium-TS</th>\n",
       "      <th>premium-CS</th>\n",
       "    </tr>\n",
       "  </thead>\n",
       "  <tbody>\n",
       "    <tr>\n",
       "      <th>HML</th>\n",
       "      <td>0.0272</td>\n",
       "      <td>0.0294</td>\n",
       "    </tr>\n",
       "    <tr>\n",
       "      <th>Mkt-RF</th>\n",
       "      <td>0.0857</td>\n",
       "      <td>-0.0921</td>\n",
       "    </tr>\n",
       "    <tr>\n",
       "      <th>SMB</th>\n",
       "      <td>0.0112</td>\n",
       "      <td>0.0052</td>\n",
       "    </tr>\n",
       "    <tr>\n",
       "      <th>intercept</th>\n",
       "      <td>NaN</td>\n",
       "      <td>0.1825</td>\n",
       "    </tr>\n",
       "  </tbody>\n",
       "</table>\n",
       "</div>"
      ],
      "text/plain": [
       "           premium-TS  premium-CS\n",
       "HML            0.0272      0.0294\n",
       "Mkt-RF         0.0857     -0.0921\n",
       "SMB            0.0112      0.0052\n",
       "intercept         NaN      0.1825"
      ]
     },
     "metadata": {},
     "output_type": "display_data"
    },
    {
     "name": "stdout",
     "output_type": "stream",
     "text": [
      "\n",
      "MODEL FIT\n"
     ]
    },
    {
     "data": {
      "text/html": [
       "<div>\n",
       "<style scoped>\n",
       "    .dataframe tbody tr th:only-of-type {\n",
       "        vertical-align: middle;\n",
       "    }\n",
       "\n",
       "    .dataframe tbody tr th {\n",
       "        vertical-align: top;\n",
       "    }\n",
       "\n",
       "    .dataframe thead th {\n",
       "        text-align: right;\n",
       "    }\n",
       "</style>\n",
       "<table border=\"1\" class=\"dataframe\">\n",
       "  <thead>\n",
       "    <tr style=\"text-align: right;\">\n",
       "      <th></th>\n",
       "      <th>MAE-TS</th>\n",
       "      <th>MAE-CS</th>\n",
       "      <th>rsquared</th>\n",
       "    </tr>\n",
       "  </thead>\n",
       "  <tbody>\n",
       "    <tr>\n",
       "      <th>error</th>\n",
       "      <td>0.0146</td>\n",
       "      <td>0.0121</td>\n",
       "      <td>0.3977</td>\n",
       "    </tr>\n",
       "  </tbody>\n",
       "</table>\n",
       "</div>"
      ],
      "text/plain": [
       "       MAE-TS  MAE-CS  rsquared\n",
       "error  0.0146  0.0121    0.3977"
      ]
     },
     "metadata": {},
     "output_type": "display_data"
    },
    {
     "name": "stdout",
     "output_type": "stream",
     "text": [
      "\n",
      "STATISTICAL SIGNIFICANCE\n"
     ]
    },
    {
     "data": {
      "text/html": [
       "<div>\n",
       "<style scoped>\n",
       "    .dataframe tbody tr th:only-of-type {\n",
       "        vertical-align: middle;\n",
       "    }\n",
       "\n",
       "    .dataframe tbody tr th {\n",
       "        vertical-align: top;\n",
       "    }\n",
       "\n",
       "    .dataframe thead th {\n",
       "        text-align: right;\n",
       "    }\n",
       "</style>\n",
       "<table border=\"1\" class=\"dataframe\">\n",
       "  <thead>\n",
       "    <tr style=\"text-align: right;\">\n",
       "      <th>time-series</th>\n",
       "      <th>priced</th>\n",
       "      <th>premium</th>\n",
       "    </tr>\n",
       "    <tr>\n",
       "      <th>p-values</th>\n",
       "      <th></th>\n",
       "      <th></th>\n",
       "    </tr>\n",
       "  </thead>\n",
       "  <tbody>\n",
       "    <tr>\n",
       "      <th>Mkt-RF</th>\n",
       "      <td>0.0002</td>\n",
       "      <td>0.0002</td>\n",
       "    </tr>\n",
       "    <tr>\n",
       "      <th>SMB</th>\n",
       "      <td>0.7381</td>\n",
       "      <td>0.2450</td>\n",
       "    </tr>\n",
       "    <tr>\n",
       "      <th>HML</th>\n",
       "      <td>0.0171</td>\n",
       "      <td>0.0504</td>\n",
       "    </tr>\n",
       "    <tr>\n",
       "      <th>error</th>\n",
       "      <td>0.0000</td>\n",
       "      <td>NaN</td>\n",
       "    </tr>\n",
       "  </tbody>\n",
       "</table>\n",
       "</div>"
      ],
      "text/plain": [
       "time-series  priced  premium\n",
       "p-values                    \n",
       "Mkt-RF       0.0002   0.0002\n",
       "SMB          0.7381   0.2450\n",
       "HML          0.0171   0.0504\n",
       "error        0.0000      NaN"
      ]
     },
     "metadata": {},
     "output_type": "display_data"
    },
    {
     "name": "stdout",
     "output_type": "stream",
     "text": [
      "\"premium\" p-value is the usual t-stat on the time-series factor mean.\n",
      "\"priced\" p-value of factor is the t-stat of forming the tangency portfolio.\n",
      "\"priced\" p-value of \"error\" is the joint-chi-squared test of the time-series alphas\n"
     ]
    }
   ],
   "source": [
    "LFPtests(retsxT,facsT,annualization=12,useIntCS=True)"
   ]
  },
  {
   "cell_type": "markdown",
   "id": "dab38a7a",
   "metadata": {},
   "source": [
    "# 4.2 Tangency Tests\n",
    "## Time-Series Test\n",
    "## Cross-Sectional Test: Yes Intercept"
   ]
  },
  {
   "cell_type": "code",
   "execution_count": 17,
   "id": "5cbf7a5f",
   "metadata": {
    "scrolled": false
   },
   "outputs": [
    {
     "name": "stdout",
     "output_type": "stream",
     "text": [
      "Time-Series Test Plots\n"
     ]
    },
    {
     "data": {
      "image/png": "[encoded data removed]",
      "text/plain": [
       "<Figure size 288x288 with 1 Axes>"
      ]
     },
     "metadata": {},
     "output_type": "display_data"
    },
    {
     "data": {
      "image/png": "[encoded data removed]",
      "text/plain": [
       "<Figure size 633.6x288 with 1 Axes>"
      ]
     },
     "metadata": {},
     "output_type": "display_data"
    },
    {
     "name": "stdout",
     "output_type": "stream",
     "text": [
      "Cross-Sectional Test Plots\n"
     ]
    },
    {
     "data": {
      "image/png": "[encoded data removed]",
      "text/plain": [
       "<Figure size 288x288 with 1 Axes>"
      ]
     },
     "metadata": {},
     "output_type": "display_data"
    },
    {
     "data": {
      "image/png": "[encoded data removed]",
      "text/plain": [
       "<Figure size 633.6x288 with 1 Axes>"
      ]
     },
     "metadata": {},
     "output_type": "display_data"
    },
    {
     "name": "stdout",
     "output_type": "stream",
     "text": [
      "\n",
      "ESTIMATES\n"
     ]
    },
    {
     "data": {
      "text/html": [
       "<div>\n",
       "<style scoped>\n",
       "    .dataframe tbody tr th:only-of-type {\n",
       "        vertical-align: middle;\n",
       "    }\n",
       "\n",
       "    .dataframe tbody tr th {\n",
       "        vertical-align: top;\n",
       "    }\n",
       "\n",
       "    .dataframe thead th {\n",
       "        text-align: right;\n",
       "    }\n",
       "</style>\n",
       "<table border=\"1\" class=\"dataframe\">\n",
       "  <thead>\n",
       "    <tr style=\"text-align: right;\">\n",
       "      <th></th>\n",
       "      <th>premium-TS</th>\n",
       "      <th>premium-CS</th>\n",
       "    </tr>\n",
       "  </thead>\n",
       "  <tbody>\n",
       "    <tr>\n",
       "      <th>Tangency</th>\n",
       "      <td>0.3884</td>\n",
       "      <td>0.3884</td>\n",
       "    </tr>\n",
       "    <tr>\n",
       "      <th>intercept</th>\n",
       "      <td>NaN</td>\n",
       "      <td>-0.0000</td>\n",
       "    </tr>\n",
       "  </tbody>\n",
       "</table>\n",
       "</div>"
      ],
      "text/plain": [
       "           premium-TS  premium-CS\n",
       "Tangency       0.3884      0.3884\n",
       "intercept         NaN     -0.0000"
      ]
     },
     "metadata": {},
     "output_type": "display_data"
    },
    {
     "name": "stdout",
     "output_type": "stream",
     "text": [
      "\n",
      "MODEL FIT\n"
     ]
    },
    {
     "data": {
      "text/html": [
       "<div>\n",
       "<style scoped>\n",
       "    .dataframe tbody tr th:only-of-type {\n",
       "        vertical-align: middle;\n",
       "    }\n",
       "\n",
       "    .dataframe tbody tr th {\n",
       "        vertical-align: top;\n",
       "    }\n",
       "\n",
       "    .dataframe thead th {\n",
       "        text-align: right;\n",
       "    }\n",
       "</style>\n",
       "<table border=\"1\" class=\"dataframe\">\n",
       "  <thead>\n",
       "    <tr style=\"text-align: right;\">\n",
       "      <th></th>\n",
       "      <th>MAE-TS</th>\n",
       "      <th>MAE-CS</th>\n",
       "      <th>rsquared</th>\n",
       "    </tr>\n",
       "  </thead>\n",
       "  <tbody>\n",
       "    <tr>\n",
       "      <th>error</th>\n",
       "      <td>0.0000</td>\n",
       "      <td>0.0000</td>\n",
       "      <td>1.0000</td>\n",
       "    </tr>\n",
       "  </tbody>\n",
       "</table>\n",
       "</div>"
      ],
      "text/plain": [
       "       MAE-TS  MAE-CS  rsquared\n",
       "error  0.0000  0.0000    1.0000"
      ]
     },
     "metadata": {},
     "output_type": "display_data"
    },
    {
     "name": "stdout",
     "output_type": "stream",
     "text": [
      "\n",
      "STATISTICAL SIGNIFICANCE\n"
     ]
    },
    {
     "data": {
      "text/html": [
       "<div>\n",
       "<style scoped>\n",
       "    .dataframe tbody tr th:only-of-type {\n",
       "        vertical-align: middle;\n",
       "    }\n",
       "\n",
       "    .dataframe tbody tr th {\n",
       "        vertical-align: top;\n",
       "    }\n",
       "\n",
       "    .dataframe thead th {\n",
       "        text-align: right;\n",
       "    }\n",
       "</style>\n",
       "<table border=\"1\" class=\"dataframe\">\n",
       "  <thead>\n",
       "    <tr style=\"text-align: right;\">\n",
       "      <th>time-series</th>\n",
       "      <th>priced</th>\n",
       "      <th>premium</th>\n",
       "    </tr>\n",
       "    <tr>\n",
       "      <th>p-values</th>\n",
       "      <th></th>\n",
       "      <th></th>\n",
       "    </tr>\n",
       "  </thead>\n",
       "  <tbody>\n",
       "    <tr>\n",
       "      <th>Tangency</th>\n",
       "      <td>0.0000</td>\n",
       "      <td>0.0000</td>\n",
       "    </tr>\n",
       "    <tr>\n",
       "      <th>error</th>\n",
       "      <td>1.0000</td>\n",
       "      <td>NaN</td>\n",
       "    </tr>\n",
       "  </tbody>\n",
       "</table>\n",
       "</div>"
      ],
      "text/plain": [
       "time-series  priced  premium\n",
       "p-values                    \n",
       "Tangency     0.0000   0.0000\n",
       "error        1.0000      NaN"
      ]
     },
     "metadata": {},
     "output_type": "display_data"
    },
    {
     "name": "stdout",
     "output_type": "stream",
     "text": [
      "\"premium\" p-value is the usual t-stat on the time-series factor mean.\n",
      "\"priced\" p-value of factor is the t-stat of forming the tangency portfolio.\n",
      "\"priced\" p-value of \"error\" is the joint-chi-squared test of the time-series alphas\n"
     ]
    }
   ],
   "source": [
    "tangency = retsxT @ tangency_weights(retsxT)\n",
    "tangency.columns= ['Tangency']\n",
    "\n",
    "LFPtests(retsxT,tangency,annualization=12,useIntCS=True)"
   ]
  },
  {
   "cell_type": "markdown",
   "id": "43fc4906",
   "metadata": {},
   "source": [
    "## 4.3 \n",
    "\n",
    "### The MAE \n",
    "is shown in the tables above labeled as MODEL FIT.\n",
    "\n",
    "### Joint Test of Alphas\n",
    "\n",
    "These test stats can be found in the tables above labeled as \"STATISTICAL SIGNIFICANCE\" in the \"error\",\"priced\" cell of the table.\n",
    "\n",
    "We note that the p-value for CAPM is 0 to many decimal places. \n",
    "\n",
    "So is the p-value for Fama-French 3 Factor.\n",
    "\n",
    "However, the p-value for the Tangency factor is 1, meaning that its errors are certainly not significant--because they are 0 to machine precision.\n",
    "\n",
    "### Stricter test\n",
    "\n",
    "Checking individual alphas for significance via a t-test may rule out a model.\n",
    "\n",
    "But checking a group of alphas for joint significance via a chi-squared test is a higher hurdle for the model. Even if no individual alpha is significant, the group may be significant. We see this in that the joint test p-values for CAPM and FF are 0 to many decimals.\n",
    "\n",
    "### Testing the Tangency\n",
    "\n",
    "The test statistic can be viewed as the squared Sharpe Ratio of the tangency portfolio formed by alphas compared to the squared Sharpe Ratio of the model tangency portfolio (formed via the factors)."
   ]
  }
 ],
 "metadata": {
  "kernelspec": {
   "display_name": "Python 3",
   "language": "python",
   "name": "python3"
  },
  "language_info": {
   "codemirror_mode": {
    "name": "ipython",
    "version": 3
   },
   "file_extension": ".py",
   "mimetype": "text/x-python",
   "name": "python",
   "nbconvert_exporter": "python",
   "pygments_lexer": "ipython3",
   "version": "3.8.9"
  }
 },
 "nbformat": 4,
 "nbformat_minor": 5
}
