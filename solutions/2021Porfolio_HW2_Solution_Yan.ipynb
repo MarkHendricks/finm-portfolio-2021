{
 "cells": [
  {
   "cell_type": "code",
   "execution_count": 1,
   "id": "b8e5cb7c",
   "metadata": {},
   "outputs": [],
   "source": [
    "import pandas as pd\n",
    "import numpy as np\n",
    "import statsmodels.api as sm\n",
    "from statsmodels.regression.rolling import RollingOLS\n",
    "from sklearn.linear_model import LinearRegression\n",
    "import matplotlib.pyplot as plt\n",
    "import seaborn as sns\n",
    "import warnings\n",
    "warnings.filterwarnings(\"ignore\")"
   ]
  },
  {
   "cell_type": "markdown",
   "id": "af2fdaee",
   "metadata": {},
   "source": [
    "## The ProShares ETF Product"
   ]
  },
  {
   "cell_type": "markdown",
   "id": "617215b5",
   "metadata": {},
   "source": [
    "***1. “Alternative ETFs”***   \n",
    "Describe the two types of investments referenced by this term.\n",
    "\n",
    "<span style=\"color:#00008B\">**Solution:** \n",
    "See Figure 1 of the case. Real estate, commodities, precious metals, currencies, volatility, private equity. \n",
    "</span>\n",
    "\n",
    "***2. Hedge Funds.***  \n",
    "(a)Using just the information in the case, what are two measures by which hedge funds are an attractive investment? \n",
    "\n",
    "<span style=\"color:#00008B\">**Solution:** \n",
    "As seen in Exhibit 1, slide 9-10, the HFRI has a much higher SR than the S&P500 (.84 vs .41) , as well as a significantly smaller drawdown. Slide 7 also emphasizes that the HFRI is not perfectly correlated to equities and bonds, so it provides diversification at the portfolio level.\n",
    "</span>\n",
    "\n",
    "(b)What are the main benefits of investing in hedge funds via an ETF instead of directly? \n",
    "\n",
    "<span style=\"color:#00008B\">**Solution:** \n",
    "See slide 13 of Exhibit 1, for a summary as given by ProShares. Undoubtedly, the ETF charges lower fees, provides more liquidity, opens access beyond institutional and high-net-worth investors. Furthermore, the investment does not have the idiosyncratic risk of a single fund, subject to that single fund's management, legal risks, etc. Of course, there are drawbacks to investing in the ETF instead of a single fund. Namely, the single fund may deliver excess returns (alpha) via specialized information, market access, skill, etc.\n",
    "</span>\n",
    "\n",
    "***3. The Benchmarks.***  \n",
    "(a) Explain as simply as possible how HFRI, MLFM, MLFM-ES, and HDG differ in their construction and purpose.  \n",
    "\n",
    "<span style=\"color:#00008B\">**Solution:** \n",
    "See Footnote7 on Page 3. HFRI was designed to reflect the collective performance of hedge funds through an equally weighted composite of over 2,000 constituent hedge funds that were available to accredited investors.    \n",
    "</span>\n",
    "<br>\n",
    "<span style=\"color:#00008B\">\n",
    "See slide 16 of Exhibit 1 and Page 5. MLFM targets a high correlation to the HFRI. There were six factors in the original Merrill Lynch Factor Model: S&P 500 (U.S. large-cap stocks), Russell 2000 (U.S. small- cap stocks), MSCI EAFE (developed stock markets), MSCI Emerging Markets, the Eurodollar/U.S. dollar exchange rate, and the three-month Eurodollar Deposit yields. \n",
    "</span>\n",
    "<br>\n",
    "<span style=\"color:#00008B\">  \n",
    "See Page 5 of the case. MLFM-ES is an updated version of MLFM such that the six index components are tradable. The MLFM-ES substituted three-month Eurodollar deposit yields with U.S. Treasury Bills and the dollar/euro exchange rates with ProShares UltraShort Euro (EUO). It has a nearly perfect correlation to MLFM. \n",
    "</span>\n",
    "<br>\n",
    "<span style=\"color:#00008B\">    \n",
    "See Page 5 and Exhibit 2 Factor Models. HDG seeks to track the performance of MLFM-ES to strive for a high correlation to hedge fund beta, thus it has the same factors as MLFM-ES.   \n",
    "</span>\n",
    "\n",
    "(b)How well does the Merrill Lynch Factor Model (MLFM) track the HFRI?  \n",
    "\n",
    "<span style=\"color:#00008B\">**Solution:** \n",
    "Exhibit 1, slide 18 shows that MLFM to HFRI has a correlation of 0.90 through 2013.\n",
    "</span>\n",
    "\n",
    "(c)In which factor does the MLFM have the largest loading? (See a slide in Exhibit 1.)  \n",
    "\n",
    "<span style=\"color:#00008B\">**Solution:** \n",
    "By far, the largest factor loading is in t-bills. This is true throughout 2013 and 2014. See Exhibit 1, slides 19-20 for details.\n",
    "</span>\n",
    "\n",
    "(d)What are the main concerns you have for how the MLFM attempts to replicate the HFRI?  \n",
    "\n",
    "<span style=\"color:#00008B\">**Solution:** \n",
    "The factors used in the MLFM are highly correlated, which raises concerns about the factor weights. Also, the dynamic regression used to construct the weights on the six factors was a backward-looking exercise, thus it will always lag behind the changes in hedge fund style. \n",
    "</span>\n",
    "\n",
    "***4. The HDG Product***   \n",
    "(a) What does ProShares ETF, HDG, attempt to track? Is the tracking error small?  \n",
    "\n",
    "<span style=\"color:#00008B\">**Solution:** \n",
    "HDG tracks a modified version of the ML Factor Model, MLFM-ES. The Merrill Lynch Factor Model involves indexes which cannot be exactly traded. For that reason, ProShares created a traded version of the Factor Model which replaces non-traded indexes with liquid, traded securities.</span>\n",
    "\n",
    "<span style=\"color:#00008B\">Exhibit 1, slide 22 shows that this modified benchmark tracks the standard ML Factor Model with a correlation of 99.7% when looking at daily data from 2011-2013.</span>\n",
    "\n",
    "<span style=\"color:#00008B\">Exhibit 2 shows that HDG tracks this benchmark closely, though it does not report a numerical estimate.</span>\n",
    "\n",
    "(b) HDG is, by construction, delivering beta for investors. Isn't the point of hedge funds to generate alpha? Then why would HDG be valuable?  \n",
    "\n",
    "<span style=\"color:#00008B\">**Solution:** HDG may be valuable by delivering complicated or expensive beta to investors. In that sense, a sophisticated \\beta\" could be valued as \\alpha\" by investors, especially if delivered in a low-cost ETF.</span>\n",
    "\n",
    "<span style=\"color:#00008B\">And even if HDG is delivering only accessible beta, it could be valuable to a portfolio through its ability to diversify against traditional equity and bond allocations, as shown in Exhibit 1 and discussed as a benefit of HFRI. And at ETF fees, this could be an efficient way of loading into these alternative exposures.</span>\n",
    "\n",
    "(c) The fees of a typical hedge-fund are 2% on total assets plus 20% of excess returns if positive. HDG's expense ratio is roughly 1% on total assets. What would their respective net Sharpe Ratios be, assuming both have a gross excess returns of 10% and volatility of 20%?\n",
    "\n",
    "<span style=\"color:#00008B\">**Solution:** The gross returns of the underlying assets have a Sharpe Ratio of 0.50. Net of the 1% fee, the net SR for the ETF would then be 9/20 = 0.45. Net of fees, the hedge-fund has 6% excess returns, which leads to a Sharpe Ratio of 6/20 = 0.30.</span>\n",
    "\n",
    "<span style=\"color:#00008B\">Of course, this calculation is very simple, but it intends to illustrate that performance is sensitive to the high fees traditionally charged by hedge funds. In the numerical example above, the ETF delivers 90% of the asset-level Sharpe Ratio, while the Hedge Fund delivers 60% of the underlying asset Sharpe Ratio. Thus, though the ETF may miss some of the individual hedge-fund premia, it also has a lower hurdle rate given the lower fees.</span>"
   ]
  },
  {
   "cell_type": "code",
   "execution_count": 2,
   "id": "59d373f3",
   "metadata": {},
   "outputs": [],
   "source": [
    "hf_data = pd.read_excel('data/proshares_analysis_data.xlsx', sheet_name = 'hedge_fund_series')\n",
    "hf_data = hf_data.set_index('date')\n",
    "\n",
    "factor_data = pd.read_excel('data/proshares_analysis_data.xlsx', sheet_name = 'merrill_factors')\n",
    "factor_data = factor_data.set_index('date')\n",
    "\n",
    "other_data = pd.read_excel('data/proshares_analysis_data.xlsx', sheet_name = 'other_data')\n",
    "other_data = other_data.set_index('date')\n",
    "other_data['SPY US Equity'] = factor_data['SPY US Equity']"
   ]
  },
  {
   "cell_type": "code",
   "execution_count": 3,
   "id": "479a9b31",
   "metadata": {},
   "outputs": [],
   "source": [
    "def summary_stats(df, annual_fac):\n",
    "    report = pd.DataFrame()\n",
    "    report['Mean'] = df.mean() * annual_fac\n",
    "    report['Vol'] = df.std() * np.sqrt(annual_fac)\n",
    "    report['Sharpe'] = report['Mean'] / report['Vol']\n",
    "    return round(report, 4)\n"
   ]
  },
  {
   "cell_type": "code",
   "execution_count": 4,
   "id": "70b6a3b3",
   "metadata": {},
   "outputs": [],
   "source": [
    "def tail_risk_report(data, q):\n",
    "    df = data.copy()\n",
    "    df.index = data.index.date\n",
    "    report = pd.DataFrame(columns = df.columns)\n",
    "    \n",
    "    report.loc['Skewness'] = df.skew()\n",
    "    report.loc['Excess Kurtosis'] = df.kurtosis() - 3\n",
    "    report.loc['VaR'] = df.quantile(q)\n",
    "    report.loc['Expected Shortfall'] = df[df < df.quantile(q)].mean()\n",
    "    \n",
    "    cum_ret = (1 + df).cumprod()\n",
    "    rolling_max = cum_ret.cummax()\n",
    "    drawdown = (cum_ret - rolling_max) / rolling_max\n",
    "    report.loc['Max Drawdown'] = drawdown.min()\n",
    "    report.loc['MDD Start'] = None\n",
    "    report.loc['MDD End'] = drawdown.idxmin()\n",
    "    report.loc['Recovery Date'] = None\n",
    "    \n",
    "    for col in df.columns:\n",
    "        report.loc['MDD Start', col] = (rolling_max.loc[:report.loc['MDD End', col]])[col].idxmax()\n",
    "        recovery_df = (drawdown.loc[report.loc['MDD End', col]:])[col]\n",
    "        # modify the threshold for recovery from 0 to 0.001\n",
    "        try:\n",
    "            report.loc['Recovery Date', col] = recovery_df[recovery_df >= 0].index[0]\n",
    "            report.loc['Recovery period (days)'] = (report.loc['Recovery Date'] - report.loc['MDD Start']).dt.days\n",
    "\n",
    "        except:\n",
    "            report.loc['Recovery Date', col] = None\n",
    "            report.loc['Recovery period (days)'] = None\n",
    "\n",
    "    return round(report,4)"
   ]
  },
  {
   "cell_type": "code",
   "execution_count": 5,
   "id": "e2d764a1",
   "metadata": {},
   "outputs": [],
   "source": [
    "def reg_stats(df, annual_fac):\n",
    "    reg_stats = pd.DataFrame(data = None, index = df.columns, columns = ['beta', \n",
    "                                                                         'Treynor Ratio', \n",
    "                                                                         'Information Ratio'])\n",
    "    for col in df.columns:\n",
    "        # Drop the NAs in y\n",
    "        y = df[col].dropna()\n",
    "        # Align the X with y \n",
    "        X = sm.add_constant(factor_data['SPY US Equity'].loc[y.index])\n",
    "        reg = sm.OLS(y, X).fit()\n",
    "        reg_stats.loc[col, 'beta'] = reg.params[1]\n",
    "        reg_stats.loc[col, 'Treynor Ratio'] = (df[col].mean() * annual_fac) / reg.params[1]\n",
    "        reg_stats.loc[col, 'Information Ratio'] = (reg.params[0] / reg.resid.std()) * np.sqrt(annual_fac)\n",
    "\n",
    "    return reg_stats.astype(float).round(4)"
   ]
  },
  {
   "cell_type": "code",
   "execution_count": 6,
   "id": "4171494f",
   "metadata": {},
   "outputs": [],
   "source": [
    "def display_correlation(df,list_maxmin=True):\n",
    "    \n",
    "    corrmat = df.corr()\n",
    "    #ignore self-correlation\n",
    "    corrmat[corrmat==1] = None\n",
    "    sns.heatmap(corrmat)\n",
    "\n",
    "    if list_maxmin:\n",
    "        corr_rank = corrmat.unstack().sort_values().dropna()\n",
    "        pair_max = corr_rank.index[-1]\n",
    "        pair_min = corr_rank.index[0]\n",
    "\n",
    "        print(f'MIN Correlation pair is {pair_min}')\n",
    "        print(f'MAX Correlation pair is {pair_max}')"
   ]
  },
  {
   "cell_type": "markdown",
   "id": "4299ede7",
   "metadata": {},
   "source": [
    "# 2 Analyzing the Data"
   ]
  },
  {
   "cell_type": "markdown",
   "id": "1c188d07",
   "metadata": {},
   "source": [
    "**1**. For the series in the “hedge fund series” tab, report the following summary statistics:"
   ]
  },
  {
   "cell_type": "code",
   "execution_count": 7,
   "id": "0602e09b",
   "metadata": {},
   "outputs": [
    {
     "data": {
      "text/html": [
       "<div>\n",
       "<style scoped>\n",
       "    .dataframe tbody tr th:only-of-type {\n",
       "        vertical-align: middle;\n",
       "    }\n",
       "\n",
       "    .dataframe tbody tr th {\n",
       "        vertical-align: top;\n",
       "    }\n",
       "\n",
       "    .dataframe thead th {\n",
       "        text-align: right;\n",
       "    }\n",
       "</style>\n",
       "<table border=\"1\" class=\"dataframe\">\n",
       "  <thead>\n",
       "    <tr style=\"text-align: right;\">\n",
       "      <th></th>\n",
       "      <th>Mean</th>\n",
       "      <th>Vol</th>\n",
       "      <th>Sharpe</th>\n",
       "    </tr>\n",
       "  </thead>\n",
       "  <tbody>\n",
       "    <tr>\n",
       "      <th>HFRIFWI Index</th>\n",
       "      <td>0.0508</td>\n",
       "      <td>0.0615</td>\n",
       "      <td>0.8257</td>\n",
       "    </tr>\n",
       "    <tr>\n",
       "      <th>MLEIFCTR Index</th>\n",
       "      <td>0.0388</td>\n",
       "      <td>0.0538</td>\n",
       "      <td>0.7209</td>\n",
       "    </tr>\n",
       "    <tr>\n",
       "      <th>MLEIFCTX Index</th>\n",
       "      <td>0.0373</td>\n",
       "      <td>0.0537</td>\n",
       "      <td>0.6954</td>\n",
       "    </tr>\n",
       "    <tr>\n",
       "      <th>HDG US Equity</th>\n",
       "      <td>0.0281</td>\n",
       "      <td>0.0564</td>\n",
       "      <td>0.4984</td>\n",
       "    </tr>\n",
       "    <tr>\n",
       "      <th>QAI US Equity</th>\n",
       "      <td>0.0255</td>\n",
       "      <td>0.0455</td>\n",
       "      <td>0.5604</td>\n",
       "    </tr>\n",
       "    <tr>\n",
       "      <th>SPY US Equity</th>\n",
       "      <td>0.1475</td>\n",
       "      <td>0.1354</td>\n",
       "      <td>1.0900</td>\n",
       "    </tr>\n",
       "  </tbody>\n",
       "</table>\n",
       "</div>"
      ],
      "text/plain": [
       "                  Mean     Vol  Sharpe\n",
       "HFRIFWI Index   0.0508  0.0615  0.8257\n",
       "MLEIFCTR Index  0.0388  0.0538  0.7209\n",
       "MLEIFCTX Index  0.0373  0.0537  0.6954\n",
       "HDG US Equity   0.0281  0.0564  0.4984\n",
       "QAI US Equity   0.0255  0.0455  0.5604\n",
       "SPY US Equity   0.1475  0.1354  1.0900"
      ]
     },
     "execution_count": 7,
     "metadata": {},
     "output_type": "execute_result"
    }
   ],
   "source": [
    "summary_stats(hf_data.join(factor_data['SPY US Equity']),12)"
   ]
  },
  {
   "cell_type": "markdown",
   "id": "68f090ea",
   "metadata": {},
   "source": [
    "**2.** For the series in the “hedge fund series” tab, calculate the following statistics related to tail- risk."
   ]
  },
  {
   "cell_type": "code",
   "execution_count": 8,
   "id": "f201d710",
   "metadata": {},
   "outputs": [
    {
     "data": {
      "text/html": [
       "<div>\n",
       "<style scoped>\n",
       "    .dataframe tbody tr th:only-of-type {\n",
       "        vertical-align: middle;\n",
       "    }\n",
       "\n",
       "    .dataframe tbody tr th {\n",
       "        vertical-align: top;\n",
       "    }\n",
       "\n",
       "    .dataframe thead th {\n",
       "        text-align: right;\n",
       "    }\n",
       "</style>\n",
       "<table border=\"1\" class=\"dataframe\">\n",
       "  <thead>\n",
       "    <tr style=\"text-align: right;\">\n",
       "      <th></th>\n",
       "      <th>HFRIFWI Index</th>\n",
       "      <th>MLEIFCTR Index</th>\n",
       "      <th>MLEIFCTX Index</th>\n",
       "      <th>HDG US Equity</th>\n",
       "      <th>QAI US Equity</th>\n",
       "      <th>SPY US Equity</th>\n",
       "    </tr>\n",
       "  </thead>\n",
       "  <tbody>\n",
       "    <tr>\n",
       "      <th>Skewness</th>\n",
       "      <td>-1.109248</td>\n",
       "      <td>-0.186692</td>\n",
       "      <td>-0.171632</td>\n",
       "      <td>-0.179641</td>\n",
       "      <td>-0.545085</td>\n",
       "      <td>-0.394559</td>\n",
       "    </tr>\n",
       "    <tr>\n",
       "      <th>Excess Kurtosis</th>\n",
       "      <td>3.730109</td>\n",
       "      <td>-0.570516</td>\n",
       "      <td>-0.624403</td>\n",
       "      <td>-0.418346</td>\n",
       "      <td>-0.330447</td>\n",
       "      <td>-1.437449</td>\n",
       "    </tr>\n",
       "    <tr>\n",
       "      <th>VaR</th>\n",
       "      <td>-0.025311</td>\n",
       "      <td>-0.025527</td>\n",
       "      <td>-0.025629</td>\n",
       "      <td>-0.028529</td>\n",
       "      <td>-0.016172</td>\n",
       "      <td>-0.060906</td>\n",
       "    </tr>\n",
       "    <tr>\n",
       "      <th>Expected Shortfall</th>\n",
       "      <td>-0.038757</td>\n",
       "      <td>-0.032779</td>\n",
       "      <td>-0.032724</td>\n",
       "      <td>-0.034782</td>\n",
       "      <td>-0.026348</td>\n",
       "      <td>-0.079288</td>\n",
       "    </tr>\n",
       "    <tr>\n",
       "      <th>Max Drawdown</th>\n",
       "      <td>-0.115473</td>\n",
       "      <td>-0.0845</td>\n",
       "      <td>-0.083673</td>\n",
       "      <td>-0.088245</td>\n",
       "      <td>-0.075649</td>\n",
       "      <td>-0.194266</td>\n",
       "    </tr>\n",
       "    <tr>\n",
       "      <th>MDD Start</th>\n",
       "      <td>2019-12-31</td>\n",
       "      <td>2019-12-31</td>\n",
       "      <td>2019-12-31</td>\n",
       "      <td>2020-01-31</td>\n",
       "      <td>2019-12-31</td>\n",
       "      <td>2019-12-31</td>\n",
       "    </tr>\n",
       "    <tr>\n",
       "      <th>MDD End</th>\n",
       "      <td>2020-03-31</td>\n",
       "      <td>2020-03-31</td>\n",
       "      <td>2020-03-31</td>\n",
       "      <td>2020-03-31</td>\n",
       "      <td>2020-03-31</td>\n",
       "      <td>2020-03-31</td>\n",
       "    </tr>\n",
       "    <tr>\n",
       "      <th>Recovery Date</th>\n",
       "      <td>2020-08-31</td>\n",
       "      <td>2020-11-30</td>\n",
       "      <td>2020-11-30</td>\n",
       "      <td>2020-11-30</td>\n",
       "      <td>2020-07-31</td>\n",
       "      <td>2020-07-31</td>\n",
       "    </tr>\n",
       "    <tr>\n",
       "      <th>Recovery period (days)</th>\n",
       "      <td>244</td>\n",
       "      <td>335</td>\n",
       "      <td>335</td>\n",
       "      <td>304</td>\n",
       "      <td>213</td>\n",
       "      <td>213</td>\n",
       "    </tr>\n",
       "  </tbody>\n",
       "</table>\n",
       "</div>"
      ],
      "text/plain": [
       "                       HFRIFWI Index MLEIFCTR Index MLEIFCTX Index  \\\n",
       "Skewness                   -1.109248      -0.186692      -0.171632   \n",
       "Excess Kurtosis             3.730109      -0.570516      -0.624403   \n",
       "VaR                        -0.025311      -0.025527      -0.025629   \n",
       "Expected Shortfall         -0.038757      -0.032779      -0.032724   \n",
       "Max Drawdown               -0.115473        -0.0845      -0.083673   \n",
       "MDD Start                 2019-12-31     2019-12-31     2019-12-31   \n",
       "MDD End                   2020-03-31     2020-03-31     2020-03-31   \n",
       "Recovery Date             2020-08-31     2020-11-30     2020-11-30   \n",
       "Recovery period (days)           244            335            335   \n",
       "\n",
       "                       HDG US Equity QAI US Equity SPY US Equity  \n",
       "Skewness                   -0.179641     -0.545085     -0.394559  \n",
       "Excess Kurtosis            -0.418346     -0.330447     -1.437449  \n",
       "VaR                        -0.028529     -0.016172     -0.060906  \n",
       "Expected Shortfall         -0.034782     -0.026348     -0.079288  \n",
       "Max Drawdown               -0.088245     -0.075649     -0.194266  \n",
       "MDD Start                 2020-01-31    2019-12-31    2019-12-31  \n",
       "MDD End                   2020-03-31    2020-03-31    2020-03-31  \n",
       "Recovery Date             2020-11-30    2020-07-31    2020-07-31  \n",
       "Recovery period (days)           304           213           213  "
      ]
     },
     "execution_count": 8,
     "metadata": {},
     "output_type": "execute_result"
    }
   ],
   "source": [
    "tail_risk_report(hf_data.join(factor_data['SPY US Equity']),0.05)"
   ]
  },
  {
   "cell_type": "markdown",
   "id": "a65cf068",
   "metadata": {},
   "source": [
    "**3.** For the series in the “hedge fund series” tab, run a regression of each against SPY (found in the “merrill factors” tab.) Include an intercept. Report the following regression-based statistics:"
   ]
  },
  {
   "cell_type": "code",
   "execution_count": 9,
   "id": "8576f9e8",
   "metadata": {},
   "outputs": [
    {
     "data": {
      "text/html": [
       "<div>\n",
       "<style scoped>\n",
       "    .dataframe tbody tr th:only-of-type {\n",
       "        vertical-align: middle;\n",
       "    }\n",
       "\n",
       "    .dataframe tbody tr th {\n",
       "        vertical-align: top;\n",
       "    }\n",
       "\n",
       "    .dataframe thead th {\n",
       "        text-align: right;\n",
       "    }\n",
       "</style>\n",
       "<table border=\"1\" class=\"dataframe\">\n",
       "  <thead>\n",
       "    <tr style=\"text-align: right;\">\n",
       "      <th></th>\n",
       "      <th>beta</th>\n",
       "      <th>Treynor Ratio</th>\n",
       "      <th>Information Ratio</th>\n",
       "    </tr>\n",
       "  </thead>\n",
       "  <tbody>\n",
       "    <tr>\n",
       "      <th>HFRIFWI Index</th>\n",
       "      <td>0.3943</td>\n",
       "      <td>0.1288</td>\n",
       "      <td>-0.2420</td>\n",
       "    </tr>\n",
       "    <tr>\n",
       "      <th>MLEIFCTR Index</th>\n",
       "      <td>0.3594</td>\n",
       "      <td>0.1080</td>\n",
       "      <td>-0.6153</td>\n",
       "    </tr>\n",
       "    <tr>\n",
       "      <th>MLEIFCTX Index</th>\n",
       "      <td>0.3580</td>\n",
       "      <td>0.1043</td>\n",
       "      <td>-0.6713</td>\n",
       "    </tr>\n",
       "    <tr>\n",
       "      <th>HDG US Equity</th>\n",
       "      <td>0.3692</td>\n",
       "      <td>0.0761</td>\n",
       "      <td>-1.0106</td>\n",
       "    </tr>\n",
       "    <tr>\n",
       "      <th>QAI US Equity</th>\n",
       "      <td>0.2850</td>\n",
       "      <td>0.0894</td>\n",
       "      <td>-0.6873</td>\n",
       "    </tr>\n",
       "  </tbody>\n",
       "</table>\n",
       "</div>"
      ],
      "text/plain": [
       "                  beta  Treynor Ratio  Information Ratio\n",
       "HFRIFWI Index   0.3943         0.1288            -0.2420\n",
       "MLEIFCTR Index  0.3594         0.1080            -0.6153\n",
       "MLEIFCTX Index  0.3580         0.1043            -0.6713\n",
       "HDG US Equity   0.3692         0.0761            -1.0106\n",
       "QAI US Equity   0.2850         0.0894            -0.6873"
      ]
     },
     "execution_count": 9,
     "metadata": {},
     "output_type": "execute_result"
    }
   ],
   "source": [
    "reg_stats(hf_data,12)"
   ]
  },
  {
   "cell_type": "markdown",
   "id": "c8e88cd6",
   "metadata": {},
   "source": []
  },
  {
   "cell_type": "markdown",
   "id": "b8348ca6",
   "metadata": {},
   "source": [
    "4. Relative Performance  \n",
    "Discuss the previous statistics, and what they tell us about...\n",
    "\n",
    "(a) the differences between SPY and the hedge-fund series? \n",
    "\n",
    "<span style=\"color:#00008B\">**Solution:**\n",
    "The SPY has a higher mean, volatility, and Sharpe Ratio than that of all hedge-fund series. Also, the SPY has smaller tail risks in terms of VaR, and CVaR. Besides, all hedge-fund series have a negative information ratio, which indicates that they fail to beat the market. \n",
    "</span>\n",
    "\n",
    "(b) which performs better between HDG and QAI.\n",
    "\n",
    "<span style=\"color:#00008B\">**Solution:**\n",
    "Although HDG has a slightly higher mean return, it also has a higher volatility, so it has a smaller Sharpe Ratio than QAI. In addition, HDG contains more tail risks as it has higher VaR, CVaR, and Maximum Drawdown. The recovery period of HDG is also longer than that of QAI. QAI is also less correlated to the market(See the heat map below), and has a higher Treynor Ratio and Information Ratio. Overall, QAI performs better than HDG. \n",
    "</span>\n",
    "\n",
    "(c) whether HDG and the ML series capture the most notable properties of HFRI.\n",
    "\n",
    "<span style=\"color:#00008B\">**Solution:**\n",
    "Both HDG and the ML series fail to deliver the same high returns compendated with the high risk of HRFI. The HFRI also shows a very high excess kurtosis, but all of the hedge-fund series has a very small excess kurtosis. \n",
    "</span>\n"
   ]
  },
  {
   "cell_type": "markdown",
   "id": "7686555c",
   "metadata": {},
   "source": [
    "5. Report the correlation matrix for these assets.  \n",
    "(a) Show the correlations as a heat map.  \n",
    "(b) Which series have the highest and lowest correlations?"
   ]
  },
  {
   "cell_type": "code",
   "execution_count": 10,
   "id": "47a9b8c1",
   "metadata": {},
   "outputs": [
    {
     "name": "stdout",
     "output_type": "stream",
     "text": [
      "MIN Correlation pair is ('HDG US Equity', 'QAI US Equity')\n",
      "MAX Correlation pair is ('MLEIFCTR Index', 'MLEIFCTX Index')\n"
     ]
    },
    {
     "data": {
      "image/png": "[encoded data removed]",
      "text/plain": [
       "<Figure size 432x288 with 2 Axes>"
      ]
     },
     "metadata": {
      "needs_background": "light"
     },
     "output_type": "display_data"
    }
   ],
   "source": [
    "display_correlation(hf_data.join(factor_data['SPY US Equity']),True)"
   ]
  },
  {
   "cell_type": "markdown",
   "id": "25cd82ae",
   "metadata": {},
   "source": [
    "**6.** Replicate HFRI with the six factors listed on the “merrill factors” tab. Include a constant, and run the unrestricted regression"
   ]
  },
  {
   "cell_type": "code",
   "execution_count": 11,
   "id": "7fda3fbc",
   "metadata": {},
   "outputs": [],
   "source": [
    "y = hf_data['HFRIFWI Index']\n",
    "X = sm.add_constant(factor_data)\n",
    "static_model = sm.OLS(y,X).fit()"
   ]
  },
  {
   "cell_type": "markdown",
   "id": "5c3cf8b5",
   "metadata": {},
   "source": [
    "(a) Report the intercept and betas."
   ]
  },
  {
   "cell_type": "code",
   "execution_count": 12,
   "id": "a25871b0",
   "metadata": {},
   "outputs": [
    {
     "data": {
      "text/html": [
       "<div>\n",
       "<style scoped>\n",
       "    .dataframe tbody tr th:only-of-type {\n",
       "        vertical-align: middle;\n",
       "    }\n",
       "\n",
       "    .dataframe tbody tr th {\n",
       "        vertical-align: top;\n",
       "    }\n",
       "\n",
       "    .dataframe thead th {\n",
       "        text-align: right;\n",
       "    }\n",
       "</style>\n",
       "<table border=\"1\" class=\"dataframe\">\n",
       "  <thead>\n",
       "    <tr style=\"text-align: right;\">\n",
       "      <th></th>\n",
       "      <th>Regression Parameters</th>\n",
       "    </tr>\n",
       "  </thead>\n",
       "  <tbody>\n",
       "    <tr>\n",
       "      <th>const</th>\n",
       "      <td>0.001147</td>\n",
       "    </tr>\n",
       "    <tr>\n",
       "      <th>SPY US Equity</th>\n",
       "      <td>0.072022</td>\n",
       "    </tr>\n",
       "    <tr>\n",
       "      <th>USGG3M Index</th>\n",
       "      <td>-0.400591</td>\n",
       "    </tr>\n",
       "    <tr>\n",
       "      <th>EEM US Equity</th>\n",
       "      <td>0.072159</td>\n",
       "    </tr>\n",
       "    <tr>\n",
       "      <th>EFA US Equity</th>\n",
       "      <td>0.106318</td>\n",
       "    </tr>\n",
       "    <tr>\n",
       "      <th>EUO US Equity</th>\n",
       "      <td>0.022431</td>\n",
       "    </tr>\n",
       "    <tr>\n",
       "      <th>IWM US Equity</th>\n",
       "      <td>0.130892</td>\n",
       "    </tr>\n",
       "  </tbody>\n",
       "</table>\n",
       "</div>"
      ],
      "text/plain": [
       "               Regression Parameters\n",
       "const                       0.001147\n",
       "SPY US Equity               0.072022\n",
       "USGG3M Index               -0.400591\n",
       "EEM US Equity               0.072159\n",
       "EFA US Equity               0.106318\n",
       "EUO US Equity               0.022431\n",
       "IWM US Equity               0.130892"
      ]
     },
     "execution_count": 12,
     "metadata": {},
     "output_type": "execute_result"
    }
   ],
   "source": [
    "static_model.params.to_frame('Regression Parameters')"
   ]
  },
  {
   "cell_type": "markdown",
   "id": "7643cc95",
   "metadata": {},
   "source": [
    "(b) Are the betas realistic position sizes, or do they require huge long-short positions?\n",
    "\n",
    "<span style=\"color:#00008B\">**Solution:**\n",
    "The betas look like realistic position sizes. They do not require huge long-short positions.\n",
    "</span>"
   ]
  },
  {
   "cell_type": "markdown",
   "id": "b7ee8455",
   "metadata": {},
   "source": [
    "(c) Report the R-squared."
   ]
  },
  {
   "cell_type": "code",
   "execution_count": 13,
   "id": "17ceddb7",
   "metadata": {},
   "outputs": [
    {
     "data": {
      "text/plain": [
       "0.8557"
      ]
     },
     "execution_count": 13,
     "metadata": {},
     "output_type": "execute_result"
    }
   ],
   "source": [
    "round(static_model.rsquared,4)"
   ]
  },
  {
   "cell_type": "markdown",
   "id": "2592a7d5",
   "metadata": {},
   "source": [
    "(d)Report the volatility of $\\epsilon^{merr}$, (the tracking error.)\n"
   ]
  },
  {
   "cell_type": "code",
   "execution_count": 14,
   "id": "894147f7",
   "metadata": {},
   "outputs": [
    {
     "data": {
      "text/plain": [
       "0.0234"
      ]
     },
     "execution_count": 14,
     "metadata": {},
     "output_type": "execute_result"
    }
   ],
   "source": [
    "round(static_model.resid.std() * np.sqrt(12),4)"
   ]
  },
  {
   "cell_type": "markdown",
   "id": "99c06fd3",
   "metadata": {},
   "source": [
    "7. Let’s examine the replication out-of-sample."
   ]
  },
  {
   "cell_type": "code",
   "execution_count": 15,
   "id": "6540f489",
   "metadata": {},
   "outputs": [
    {
     "data": {
      "text/html": [
       "<div>\n",
       "<style scoped>\n",
       "    .dataframe tbody tr th:only-of-type {\n",
       "        vertical-align: middle;\n",
       "    }\n",
       "\n",
       "    .dataframe tbody tr th {\n",
       "        vertical-align: top;\n",
       "    }\n",
       "\n",
       "    .dataframe thead th {\n",
       "        text-align: right;\n",
       "    }\n",
       "</style>\n",
       "<table border=\"1\" class=\"dataframe\">\n",
       "  <thead>\n",
       "    <tr style=\"text-align: right;\">\n",
       "      <th></th>\n",
       "      <th>const</th>\n",
       "      <th>SPY US Equity</th>\n",
       "      <th>USGG3M Index</th>\n",
       "      <th>EEM US Equity</th>\n",
       "      <th>EFA US Equity</th>\n",
       "      <th>EUO US Equity</th>\n",
       "      <th>IWM US Equity</th>\n",
       "    </tr>\n",
       "    <tr>\n",
       "      <th>date</th>\n",
       "      <th></th>\n",
       "      <th></th>\n",
       "      <th></th>\n",
       "      <th></th>\n",
       "      <th></th>\n",
       "      <th></th>\n",
       "      <th></th>\n",
       "    </tr>\n",
       "  </thead>\n",
       "  <tbody>\n",
       "    <tr>\n",
       "      <th>2011-08-31</th>\n",
       "      <td>NaN</td>\n",
       "      <td>NaN</td>\n",
       "      <td>NaN</td>\n",
       "      <td>NaN</td>\n",
       "      <td>NaN</td>\n",
       "      <td>NaN</td>\n",
       "      <td>NaN</td>\n",
       "    </tr>\n",
       "    <tr>\n",
       "      <th>2011-09-30</th>\n",
       "      <td>NaN</td>\n",
       "      <td>NaN</td>\n",
       "      <td>NaN</td>\n",
       "      <td>NaN</td>\n",
       "      <td>NaN</td>\n",
       "      <td>NaN</td>\n",
       "      <td>NaN</td>\n",
       "    </tr>\n",
       "    <tr>\n",
       "      <th>2011-10-31</th>\n",
       "      <td>NaN</td>\n",
       "      <td>NaN</td>\n",
       "      <td>NaN</td>\n",
       "      <td>NaN</td>\n",
       "      <td>NaN</td>\n",
       "      <td>NaN</td>\n",
       "      <td>NaN</td>\n",
       "    </tr>\n",
       "    <tr>\n",
       "      <th>2011-11-30</th>\n",
       "      <td>NaN</td>\n",
       "      <td>NaN</td>\n",
       "      <td>NaN</td>\n",
       "      <td>NaN</td>\n",
       "      <td>NaN</td>\n",
       "      <td>NaN</td>\n",
       "      <td>NaN</td>\n",
       "    </tr>\n",
       "    <tr>\n",
       "      <th>2011-12-31</th>\n",
       "      <td>NaN</td>\n",
       "      <td>NaN</td>\n",
       "      <td>NaN</td>\n",
       "      <td>NaN</td>\n",
       "      <td>NaN</td>\n",
       "      <td>NaN</td>\n",
       "      <td>NaN</td>\n",
       "    </tr>\n",
       "    <tr>\n",
       "      <th>...</th>\n",
       "      <td>...</td>\n",
       "      <td>...</td>\n",
       "      <td>...</td>\n",
       "      <td>...</td>\n",
       "      <td>...</td>\n",
       "      <td>...</td>\n",
       "      <td>...</td>\n",
       "    </tr>\n",
       "    <tr>\n",
       "      <th>2021-05-31</th>\n",
       "      <td>0.002788</td>\n",
       "      <td>0.075014</td>\n",
       "      <td>-1.534818</td>\n",
       "      <td>0.104951</td>\n",
       "      <td>0.097579</td>\n",
       "      <td>0.005371</td>\n",
       "      <td>0.147374</td>\n",
       "    </tr>\n",
       "    <tr>\n",
       "      <th>2021-06-30</th>\n",
       "      <td>0.002731</td>\n",
       "      <td>0.073925</td>\n",
       "      <td>-1.480456</td>\n",
       "      <td>0.105029</td>\n",
       "      <td>0.096860</td>\n",
       "      <td>0.003405</td>\n",
       "      <td>0.148293</td>\n",
       "    </tr>\n",
       "    <tr>\n",
       "      <th>2021-07-31</th>\n",
       "      <td>0.002791</td>\n",
       "      <td>0.068513</td>\n",
       "      <td>-1.495962</td>\n",
       "      <td>0.110204</td>\n",
       "      <td>0.094706</td>\n",
       "      <td>0.004556</td>\n",
       "      <td>0.151516</td>\n",
       "    </tr>\n",
       "    <tr>\n",
       "      <th>2021-08-31</th>\n",
       "      <td>0.002740</td>\n",
       "      <td>0.064714</td>\n",
       "      <td>-1.434312</td>\n",
       "      <td>0.109670</td>\n",
       "      <td>0.095753</td>\n",
       "      <td>0.003561</td>\n",
       "      <td>0.153557</td>\n",
       "    </tr>\n",
       "    <tr>\n",
       "      <th>2021-09-30</th>\n",
       "      <td>0.003504</td>\n",
       "      <td>0.044874</td>\n",
       "      <td>-1.879046</td>\n",
       "      <td>0.109874</td>\n",
       "      <td>0.105011</td>\n",
       "      <td>0.010443</td>\n",
       "      <td>0.158179</td>\n",
       "    </tr>\n",
       "  </tbody>\n",
       "</table>\n",
       "<p>122 rows × 7 columns</p>\n",
       "</div>"
      ],
      "text/plain": [
       "               const  SPY US Equity  USGG3M Index  EEM US Equity  \\\n",
       "date                                                               \n",
       "2011-08-31       NaN            NaN           NaN            NaN   \n",
       "2011-09-30       NaN            NaN           NaN            NaN   \n",
       "2011-10-31       NaN            NaN           NaN            NaN   \n",
       "2011-11-30       NaN            NaN           NaN            NaN   \n",
       "2011-12-31       NaN            NaN           NaN            NaN   \n",
       "...              ...            ...           ...            ...   \n",
       "2021-05-31  0.002788       0.075014     -1.534818       0.104951   \n",
       "2021-06-30  0.002731       0.073925     -1.480456       0.105029   \n",
       "2021-07-31  0.002791       0.068513     -1.495962       0.110204   \n",
       "2021-08-31  0.002740       0.064714     -1.434312       0.109670   \n",
       "2021-09-30  0.003504       0.044874     -1.879046       0.109874   \n",
       "\n",
       "            EFA US Equity  EUO US Equity  IWM US Equity  \n",
       "date                                                     \n",
       "2011-08-31            NaN            NaN            NaN  \n",
       "2011-09-30            NaN            NaN            NaN  \n",
       "2011-10-31            NaN            NaN            NaN  \n",
       "2011-11-30            NaN            NaN            NaN  \n",
       "2011-12-31            NaN            NaN            NaN  \n",
       "...                   ...            ...            ...  \n",
       "2021-05-31       0.097579       0.005371       0.147374  \n",
       "2021-06-30       0.096860       0.003405       0.148293  \n",
       "2021-07-31       0.094706       0.004556       0.151516  \n",
       "2021-08-31       0.095753       0.003561       0.153557  \n",
       "2021-09-30       0.105011       0.010443       0.158179  \n",
       "\n",
       "[122 rows x 7 columns]"
      ]
     },
     "execution_count": 15,
     "metadata": {},
     "output_type": "execute_result"
    }
   ],
   "source": [
    "model = RollingOLS(y,X,window=60)\n",
    "rolling_betas = model.fit().params.copy()\n",
    "rolling_betas"
   ]
  },
  {
   "cell_type": "code",
   "execution_count": 16,
   "id": "8b3489b7",
   "metadata": {},
   "outputs": [],
   "source": [
    "rep_IS = (rolling_betas * X).sum(axis=1,skipna=False)\n",
    "rep_OOS = (rolling_betas.shift() * X).sum(axis=1,skipna=False)\n",
    "replication = hf_data[['HFRIFWI Index']].copy()\n",
    "replication['Static-IS-Int'] = static_model.fittedvalues\n",
    "replication['Rolling-IS-Int'] = rep_IS\n",
    "replication['Rolling-OOS-Int'] = rep_OOS"
   ]
  },
  {
   "cell_type": "code",
   "execution_count": 17,
   "id": "be812bf4",
   "metadata": {},
   "outputs": [
    {
     "data": {
      "text/html": [
       "<div>\n",
       "<style scoped>\n",
       "    .dataframe tbody tr th:only-of-type {\n",
       "        vertical-align: middle;\n",
       "    }\n",
       "\n",
       "    .dataframe tbody tr th {\n",
       "        vertical-align: top;\n",
       "    }\n",
       "\n",
       "    .dataframe thead th {\n",
       "        text-align: right;\n",
       "    }\n",
       "</style>\n",
       "<table border=\"1\" class=\"dataframe\">\n",
       "  <thead>\n",
       "    <tr style=\"text-align: right;\">\n",
       "      <th></th>\n",
       "      <th>HFRIFWI Index</th>\n",
       "      <th>Static-IS-Int</th>\n",
       "      <th>Rolling-IS-Int</th>\n",
       "      <th>Rolling-OOS-Int</th>\n",
       "    </tr>\n",
       "  </thead>\n",
       "  <tbody>\n",
       "    <tr>\n",
       "      <th>HFRIFWI Index</th>\n",
       "      <td>1.000000</td>\n",
       "      <td>0.925038</td>\n",
       "      <td>0.966793</td>\n",
       "      <td>0.944550</td>\n",
       "    </tr>\n",
       "    <tr>\n",
       "      <th>Static-IS-Int</th>\n",
       "      <td>0.925038</td>\n",
       "      <td>1.000000</td>\n",
       "      <td>0.992091</td>\n",
       "      <td>0.994047</td>\n",
       "    </tr>\n",
       "    <tr>\n",
       "      <th>Rolling-IS-Int</th>\n",
       "      <td>0.966793</td>\n",
       "      <td>0.992091</td>\n",
       "      <td>1.000000</td>\n",
       "      <td>0.995595</td>\n",
       "    </tr>\n",
       "    <tr>\n",
       "      <th>Rolling-OOS-Int</th>\n",
       "      <td>0.944550</td>\n",
       "      <td>0.994047</td>\n",
       "      <td>0.995595</td>\n",
       "      <td>1.000000</td>\n",
       "    </tr>\n",
       "  </tbody>\n",
       "</table>\n",
       "</div>"
      ],
      "text/plain": [
       "                 HFRIFWI Index  Static-IS-Int  Rolling-IS-Int  Rolling-OOS-Int\n",
       "HFRIFWI Index         1.000000       0.925038        0.966793         0.944550\n",
       "Static-IS-Int         0.925038       1.000000        0.992091         0.994047\n",
       "Rolling-IS-Int        0.966793       0.992091        1.000000         0.995595\n",
       "Rolling-OOS-Int       0.944550       0.994047        0.995595         1.000000"
      ]
     },
     "execution_count": 17,
     "metadata": {},
     "output_type": "execute_result"
    }
   ],
   "source": [
    "replication.corr()"
   ]
  },
  {
   "cell_type": "code",
   "execution_count": 18,
   "id": "4bb5eded",
   "metadata": {},
   "outputs": [
    {
     "data": {
      "text/plain": [
       "<AxesSubplot:xlabel='date'>"
      ]
     },
     "execution_count": 18,
     "metadata": {},
     "output_type": "execute_result"
    },
    {
     "data": {
      "image/png": "[encoded data removed]",
      "text/plain": [
       "<Figure size 432x288 with 1 Axes>"
      ]
     },
     "metadata": {
      "needs_background": "light"
     },
     "output_type": "display_data"
    }
   ],
   "source": [
    "replication[['Rolling-OOS-Int','HFRIFWI Index']].plot()"
   ]
  },
  {
   "cell_type": "markdown",
   "id": "71e06d75",
   "metadata": {},
   "source": [
    "How well does the out-of-sample replication perform with respect to the target?\n",
    "\n",
    "<span style=\"color:#00008B\">**Solution:**\n",
    "The out-of-sample replication performs very well with respect to the target. It has a very high correlation to the HFRI. \n",
    "</span>"
   ]
  },
  {
   "cell_type": "markdown",
   "id": "c759c254",
   "metadata": {},
   "source": [
    "**8.** We estimated the replications using an intercept. Try the full-sample estimation, but this time without an intercept."
   ]
  },
  {
   "cell_type": "code",
   "execution_count": 19,
   "id": "d5c0a97f",
   "metadata": {},
   "outputs": [],
   "source": [
    "y = hf_data['HFRIFWI Index']\n",
    "X = factor_data\n",
    "static_model_noint = sm.OLS(y,X).fit()"
   ]
  },
  {
   "cell_type": "markdown",
   "id": "8bcbb540",
   "metadata": {},
   "source": [
    "(a) Report the regression beta. How does it compare to the estimated beta with an intercept, βˆmerr?\n",
    "\n",
    "<span style=\"color:#00008B\">**Solution:**\n",
    "Without an intercept, the betas are almost identical, except the beta in the 3-month T-bills. The T-bills are such low volatility, they act almost like an intercept. Thus, the regression performance is very similar.\n",
    "</span>"
   ]
  },
  {
   "cell_type": "code",
   "execution_count": 20,
   "id": "4b830db4",
   "metadata": {},
   "outputs": [
    {
     "data": {
      "text/html": [
       "<div>\n",
       "<style scoped>\n",
       "    .dataframe tbody tr th:only-of-type {\n",
       "        vertical-align: middle;\n",
       "    }\n",
       "\n",
       "    .dataframe tbody tr th {\n",
       "        vertical-align: top;\n",
       "    }\n",
       "\n",
       "    .dataframe thead th {\n",
       "        text-align: right;\n",
       "    }\n",
       "</style>\n",
       "<table border=\"1\" class=\"dataframe\">\n",
       "  <thead>\n",
       "    <tr style=\"text-align: right;\">\n",
       "      <th></th>\n",
       "      <th>const</th>\n",
       "      <th>SPY US Equity</th>\n",
       "      <th>USGG3M Index</th>\n",
       "      <th>EEM US Equity</th>\n",
       "      <th>EFA US Equity</th>\n",
       "      <th>EUO US Equity</th>\n",
       "      <th>IWM US Equity</th>\n",
       "    </tr>\n",
       "  </thead>\n",
       "  <tbody>\n",
       "    <tr>\n",
       "      <th>Yes Intercept</th>\n",
       "      <td>0.001147</td>\n",
       "      <td>0.072022</td>\n",
       "      <td>-0.400591</td>\n",
       "      <td>0.072159</td>\n",
       "      <td>0.106318</td>\n",
       "      <td>0.022431</td>\n",
       "      <td>0.130892</td>\n",
       "    </tr>\n",
       "    <tr>\n",
       "      <th>No Intercept</th>\n",
       "      <td>NaN</td>\n",
       "      <td>0.087505</td>\n",
       "      <td>0.334503</td>\n",
       "      <td>0.069936</td>\n",
       "      <td>0.101524</td>\n",
       "      <td>0.023479</td>\n",
       "      <td>0.128999</td>\n",
       "    </tr>\n",
       "  </tbody>\n",
       "</table>\n",
       "</div>"
      ],
      "text/plain": [
       "                  const  SPY US Equity  USGG3M Index  EEM US Equity  \\\n",
       "Yes Intercept  0.001147       0.072022     -0.400591       0.072159   \n",
       "No Intercept        NaN       0.087505      0.334503       0.069936   \n",
       "\n",
       "               EFA US Equity  EUO US Equity  IWM US Equity  \n",
       "Yes Intercept       0.106318       0.022431       0.130892  \n",
       "No Intercept        0.101524       0.023479       0.128999  "
      ]
     },
     "execution_count": 20,
     "metadata": {},
     "output_type": "execute_result"
    }
   ],
   "source": [
    "betas = pd.DataFrame(static_model.params,columns=['Yes Intercept']).T\n",
    "betas.loc['No Intercept'] = static_model_noint.params\n",
    "betas"
   ]
  },
  {
   "cell_type": "markdown",
   "id": "1a1aad23",
   "metadata": {},
   "source": [
    "(b) the mean of the fitted value, $\\check{r}^{hfri}$ . How does it compare to the mean of the HFRI? \n",
    "\n",
    "<span style=\"color:#00008B\">**Solution:**\n",
    "The mean of the fitted value is slightly smaller than the mean of the HFRI. \n",
    "</span>"
   ]
  },
  {
   "cell_type": "code",
   "execution_count": 21,
   "id": "452c001d",
   "metadata": {},
   "outputs": [
    {
     "name": "stdout",
     "output_type": "stream",
     "text": [
      "The mean of the fitted value is 0.0432\n"
     ]
    }
   ],
   "source": [
    "print(\"The mean of the fitted value is\", round(static_model_noint.fittedvalues.mean(),4)*12)"
   ]
  },
  {
   "cell_type": "code",
   "execution_count": 22,
   "id": "f0382558",
   "metadata": {},
   "outputs": [
    {
     "name": "stdout",
     "output_type": "stream",
     "text": [
      "The mean of the HFRI is 0.0504\n"
     ]
    }
   ],
   "source": [
    "print(\"The mean of the HFRI is\",round(hf_data['HFRIFWI Index'].mean(),4)*12)"
   ]
  },
  {
   "cell_type": "markdown",
   "id": "8b6ef9cc",
   "metadata": {},
   "source": [
    "(c) the correlations of the fitted values, $\\check{r}^{hfri}$ to the HFRI. How does the correlation compare to that of the fitted values of $\\hat{r}^{hfri}$?\n",
    "\n",
    "<span style=\"color:#00008B\">**Solution:**\n",
    "The correlations of the fitted values of model without an intercept to the HFRI are quite high. This correlation are very similar to that of the fitted values of the model with an intercept. </span>\n"
   ]
  },
  {
   "cell_type": "code",
   "execution_count": 23,
   "id": "44d06600",
   "metadata": {},
   "outputs": [
    {
     "data": {
      "text/html": [
       "<div>\n",
       "<style scoped>\n",
       "    .dataframe tbody tr th:only-of-type {\n",
       "        vertical-align: middle;\n",
       "    }\n",
       "\n",
       "    .dataframe tbody tr th {\n",
       "        vertical-align: top;\n",
       "    }\n",
       "\n",
       "    .dataframe thead th {\n",
       "        text-align: right;\n",
       "    }\n",
       "</style>\n",
       "<table border=\"1\" class=\"dataframe\">\n",
       "  <thead>\n",
       "    <tr style=\"text-align: right;\">\n",
       "      <th></th>\n",
       "      <th>HFRIFWI Index</th>\n",
       "      <th>Static-IS-Int</th>\n",
       "      <th>Rolling-IS-Int</th>\n",
       "      <th>Rolling-OOS-Int</th>\n",
       "      <th>Static-IS-NoInt</th>\n",
       "    </tr>\n",
       "  </thead>\n",
       "  <tbody>\n",
       "    <tr>\n",
       "      <th>HFRIFWI Index</th>\n",
       "      <td>1.000000</td>\n",
       "      <td>0.925038</td>\n",
       "      <td>0.966793</td>\n",
       "      <td>0.944550</td>\n",
       "      <td>0.924517</td>\n",
       "    </tr>\n",
       "    <tr>\n",
       "      <th>Static-IS-Int</th>\n",
       "      <td>0.925038</td>\n",
       "      <td>1.000000</td>\n",
       "      <td>0.992091</td>\n",
       "      <td>0.994047</td>\n",
       "      <td>0.999437</td>\n",
       "    </tr>\n",
       "    <tr>\n",
       "      <th>Rolling-IS-Int</th>\n",
       "      <td>0.966793</td>\n",
       "      <td>0.992091</td>\n",
       "      <td>1.000000</td>\n",
       "      <td>0.995595</td>\n",
       "      <td>0.990893</td>\n",
       "    </tr>\n",
       "    <tr>\n",
       "      <th>Rolling-OOS-Int</th>\n",
       "      <td>0.944550</td>\n",
       "      <td>0.994047</td>\n",
       "      <td>0.995595</td>\n",
       "      <td>1.000000</td>\n",
       "      <td>0.992507</td>\n",
       "    </tr>\n",
       "    <tr>\n",
       "      <th>Static-IS-NoInt</th>\n",
       "      <td>0.924517</td>\n",
       "      <td>0.999437</td>\n",
       "      <td>0.990893</td>\n",
       "      <td>0.992507</td>\n",
       "      <td>1.000000</td>\n",
       "    </tr>\n",
       "  </tbody>\n",
       "</table>\n",
       "</div>"
      ],
      "text/plain": [
       "                 HFRIFWI Index  Static-IS-Int  Rolling-IS-Int  \\\n",
       "HFRIFWI Index         1.000000       0.925038        0.966793   \n",
       "Static-IS-Int         0.925038       1.000000        0.992091   \n",
       "Rolling-IS-Int        0.966793       0.992091        1.000000   \n",
       "Rolling-OOS-Int       0.944550       0.994047        0.995595   \n",
       "Static-IS-NoInt       0.924517       0.999437        0.990893   \n",
       "\n",
       "                 Rolling-OOS-Int  Static-IS-NoInt  \n",
       "HFRIFWI Index           0.944550         0.924517  \n",
       "Static-IS-Int           0.994047         0.999437  \n",
       "Rolling-IS-Int          0.995595         0.990893  \n",
       "Rolling-OOS-Int         1.000000         0.992507  \n",
       "Static-IS-NoInt         0.992507         1.000000  "
      ]
     },
     "execution_count": 23,
     "metadata": {},
     "output_type": "execute_result"
    }
   ],
   "source": [
    "replication['Static-IS-NoInt'] = static_model_noint.fittedvalues\n",
    "replication.corr()"
   ]
  },
  {
   "cell_type": "markdown",
   "id": "662b680e",
   "metadata": {},
   "source": [
    "Do you think Merrill and ProShares fit their replicators with an intercept or not?\n",
    "\n",
    "<span style=\"color:#00008B\">**Solution:**\n",
    "Recall that if our porfolio is trying to deliver hedge-fund returns (including their mean and high SR)\n",
    "via an ETF, then the replication should definitely not include an intercept in the regression.\n",
    "It should make the replication factors match the mean, so that the investors in the ETF\n",
    "match the mean, not just the variation of HFRI.</span>\n",
    "\n",
    "<span style=\"color:#00008B\">\n",
    "However, if our porfolio is only trying to deliver a hedge, or a similar variation, then we should \n",
    "include an intercept, and accept that the replication will differ in mean returns by alpha\n",
    "but will match variation anyway.</span>\n",
    "\n",
    "<span style=\"color:#00008B\">  \n",
    "Overall, it would seem reasonable and necessary for the replication to attempt to deliver the\n",
    "high mean returns of hedge funds in order to be attractive for investors. For that reason, we\n",
    "expect Merrill and ProShares are not including an intercept when running their regressions\n",
    "and setting their factor weights.</span>"
   ]
  },
  {
   "cell_type": "markdown",
   "id": "f0f1b304",
   "metadata": {},
   "source": [
    "# 3 Extensions"
   ]
  },
  {
   "cell_type": "markdown",
   "id": "37c8976c",
   "metadata": {},
   "source": [
    "**1.** Merrill constrains the weights of each asset in its replication regression of HFRI. Try constraining your weights by re-doing 2.6.\n",
    "\n",
    "(a) Use Non-Negative Least Squares (NNLS) instead of OLS.5"
   ]
  },
  {
   "cell_type": "code",
   "execution_count": 24,
   "id": "0f539876",
   "metadata": {},
   "outputs": [
    {
     "data": {
      "text/html": [
       "<div>\n",
       "<style scoped>\n",
       "    .dataframe tbody tr th:only-of-type {\n",
       "        vertical-align: middle;\n",
       "    }\n",
       "\n",
       "    .dataframe tbody tr th {\n",
       "        vertical-align: top;\n",
       "    }\n",
       "\n",
       "    .dataframe thead th {\n",
       "        text-align: right;\n",
       "    }\n",
       "</style>\n",
       "<table border=\"1\" class=\"dataframe\">\n",
       "  <thead>\n",
       "    <tr style=\"text-align: right;\">\n",
       "      <th></th>\n",
       "      <th>Regression Parameters</th>\n",
       "    </tr>\n",
       "  </thead>\n",
       "  <tbody>\n",
       "    <tr>\n",
       "      <th>SPY US Equity</th>\n",
       "      <td>0.071666</td>\n",
       "    </tr>\n",
       "    <tr>\n",
       "      <th>USGG3M Index</th>\n",
       "      <td>0.000000</td>\n",
       "    </tr>\n",
       "    <tr>\n",
       "      <th>EEM US Equity</th>\n",
       "      <td>0.071478</td>\n",
       "    </tr>\n",
       "    <tr>\n",
       "      <th>EFA US Equity</th>\n",
       "      <td>0.106558</td>\n",
       "    </tr>\n",
       "    <tr>\n",
       "      <th>EUO US Equity</th>\n",
       "      <td>0.022064</td>\n",
       "    </tr>\n",
       "    <tr>\n",
       "      <th>IWM US Equity</th>\n",
       "      <td>0.131764</td>\n",
       "    </tr>\n",
       "    <tr>\n",
       "      <th>constant</th>\n",
       "      <td>0.000954</td>\n",
       "    </tr>\n",
       "  </tbody>\n",
       "</table>\n",
       "</div>"
      ],
      "text/plain": [
       "               Regression Parameters\n",
       "SPY US Equity               0.071666\n",
       "USGG3M Index                0.000000\n",
       "EEM US Equity               0.071478\n",
       "EFA US Equity               0.106558\n",
       "EUO US Equity               0.022064\n",
       "IWM US Equity               0.131764\n",
       "constant                    0.000954"
      ]
     },
     "execution_count": 24,
     "metadata": {},
     "output_type": "execute_result"
    }
   ],
   "source": [
    "reg_nnls = LinearRegression(positive=True)\n",
    "y = hf_data['HFRIFWI Index']\n",
    "X = factor_data\n",
    "# By default, fit_intercept is true so there's no need to add constant\n",
    "nnls_model = reg_nnls.fit(X, y)\n",
    "sum_index = list(factor_data.columns)\n",
    "sum_index.append('constant')\n",
    "coefs = np.append(nnls_model.coef_,nnls_model.intercept_)\n",
    "\n",
    "nnls_reg_summary = pd.DataFrame(coefs,index = sum_index,columns = ['Regression Parameters'])\n",
    "nnls_reg_summary"
   ]
  },
  {
   "cell_type": "markdown",
   "id": "2879cc27",
   "metadata": {},
   "source": [
    "(b) Go further by using a Generalized Linear Model to put separate interval constraints on\n",
    "each beta, rather than simply constraining them to be non-negative.\n",
    "\n",
    "skip."
   ]
  },
  {
   "cell_type": "markdown",
   "id": "222d5d31",
   "metadata": {},
   "source": [
    "**2**. Let’s decompose a few other targets to see if they behave as their name suggests.  \n",
    "(a) Regress HEFA on the same style factors used to decompose HFRI. Does HEFA appear to be a currency-hedged version of EFA?\n",
    "\n",
    "<span style=\"color:#00008B\">**Solution:**\n",
    "Yes, the beta for EFA US Equity is 0.9779, which is very close to 1. The beta for EUO US Equity is the second largest, which is 0.3099. Other betas are relatively small, except the beta for USGG3M Index is very negative, but it has a large p-value. Therefore, we can replicate HEFA very well using only EUO US Equity and EFA. \n",
    "</span>"
   ]
  },
  {
   "cell_type": "code",
   "execution_count": 25,
   "id": "8f916095",
   "metadata": {},
   "outputs": [
    {
     "data": {
      "text/html": [
       "<table class=\"simpletable\">\n",
       "<caption>OLS Regression Results</caption>\n",
       "<tr>\n",
       "  <th>Dep. Variable:</th>     <td>HEFA US Equity</td>  <th>  R-squared:         </th> <td>   0.972</td>\n",
       "</tr>\n",
       "<tr>\n",
       "  <th>Model:</th>                   <td>OLS</td>       <th>  Adj. R-squared:    </th> <td>   0.970</td>\n",
       "</tr>\n",
       "<tr>\n",
       "  <th>Method:</th>             <td>Least Squares</td>  <th>  F-statistic:       </th> <td>   490.4</td>\n",
       "</tr>\n",
       "<tr>\n",
       "  <th>Date:</th>             <td>Tue, 12 Oct 2021</td> <th>  Prob (F-statistic):</th> <td>3.74e-63</td>\n",
       "</tr>\n",
       "<tr>\n",
       "  <th>Time:</th>                 <td>15:42:38</td>     <th>  Log-Likelihood:    </th> <td>  337.21</td>\n",
       "</tr>\n",
       "<tr>\n",
       "  <th>No. Observations:</th>      <td>    91</td>      <th>  AIC:               </th> <td>  -660.4</td>\n",
       "</tr>\n",
       "<tr>\n",
       "  <th>Df Residuals:</th>          <td>    84</td>      <th>  BIC:               </th> <td>  -642.8</td>\n",
       "</tr>\n",
       "<tr>\n",
       "  <th>Df Model:</th>              <td>     6</td>      <th>                     </th>     <td> </td>   \n",
       "</tr>\n",
       "<tr>\n",
       "  <th>Covariance Type:</th>      <td>nonrobust</td>    <th>                     </th>     <td> </td>   \n",
       "</tr>\n",
       "</table>\n",
       "<table class=\"simpletable\">\n",
       "<tr>\n",
       "        <td></td>           <th>coef</th>     <th>std err</th>      <th>t</th>      <th>P>|t|</th>  <th>[0.025</th>    <th>0.975]</th>  \n",
       "</tr>\n",
       "<tr>\n",
       "  <th>const</th>         <td>    0.0010</td> <td>    0.001</td> <td>    1.136</td> <td> 0.259</td> <td>   -0.001</td> <td>    0.003</td>\n",
       "</tr>\n",
       "<tr>\n",
       "  <th>SPY US Equity</th> <td>    0.0340</td> <td>    0.041</td> <td>    0.823</td> <td> 0.413</td> <td>   -0.048</td> <td>    0.116</td>\n",
       "</tr>\n",
       "<tr>\n",
       "  <th>USGG3M Index</th>  <td>   -0.4832</td> <td>    0.921</td> <td>   -0.525</td> <td> 0.601</td> <td>   -2.315</td> <td>    1.348</td>\n",
       "</tr>\n",
       "<tr>\n",
       "  <th>EEM US Equity</th> <td>   -0.0848</td> <td>    0.025</td> <td>   -3.409</td> <td> 0.001</td> <td>   -0.134</td> <td>   -0.035</td>\n",
       "</tr>\n",
       "<tr>\n",
       "  <th>EFA US Equity</th> <td>    0.9779</td> <td>    0.040</td> <td>   24.294</td> <td> 0.000</td> <td>    0.898</td> <td>    1.058</td>\n",
       "</tr>\n",
       "<tr>\n",
       "  <th>EUO US Equity</th> <td>    0.3099</td> <td>    0.019</td> <td>   16.440</td> <td> 0.000</td> <td>    0.272</td> <td>    0.347</td>\n",
       "</tr>\n",
       "<tr>\n",
       "  <th>IWM US Equity</th> <td>    0.0164</td> <td>    0.024</td> <td>    0.682</td> <td> 0.497</td> <td>   -0.031</td> <td>    0.064</td>\n",
       "</tr>\n",
       "</table>\n",
       "<table class=\"simpletable\">\n",
       "<tr>\n",
       "  <th>Omnibus:</th>       <td>14.995</td> <th>  Durbin-Watson:     </th> <td>   2.253</td>\n",
       "</tr>\n",
       "<tr>\n",
       "  <th>Prob(Omnibus):</th> <td> 0.001</td> <th>  Jarque-Bera (JB):  </th> <td>  29.812</td>\n",
       "</tr>\n",
       "<tr>\n",
       "  <th>Skew:</th>          <td>-0.579</td> <th>  Prob(JB):          </th> <td>3.36e-07</td>\n",
       "</tr>\n",
       "<tr>\n",
       "  <th>Kurtosis:</th>      <td> 5.554</td> <th>  Cond. No.          </th> <td>1.42e+03</td>\n",
       "</tr>\n",
       "</table><br/><br/>Notes:<br/>[1] Standard Errors assume that the covariance matrix of the errors is correctly specified.<br/>[2] The condition number is large, 1.42e+03. This might indicate that there are<br/>strong multicollinearity or other numerical problems."
      ],
      "text/plain": [
       "<class 'statsmodels.iolib.summary.Summary'>\n",
       "\"\"\"\n",
       "                            OLS Regression Results                            \n",
       "==============================================================================\n",
       "Dep. Variable:         HEFA US Equity   R-squared:                       0.972\n",
       "Model:                            OLS   Adj. R-squared:                  0.970\n",
       "Method:                 Least Squares   F-statistic:                     490.4\n",
       "Date:                Tue, 12 Oct 2021   Prob (F-statistic):           3.74e-63\n",
       "Time:                        15:42:38   Log-Likelihood:                 337.21\n",
       "No. Observations:                  91   AIC:                            -660.4\n",
       "Df Residuals:                      84   BIC:                            -642.8\n",
       "Df Model:                           6                                         \n",
       "Covariance Type:            nonrobust                                         \n",
       "=================================================================================\n",
       "                    coef    std err          t      P>|t|      [0.025      0.975]\n",
       "---------------------------------------------------------------------------------\n",
       "const             0.0010      0.001      1.136      0.259      -0.001       0.003\n",
       "SPY US Equity     0.0340      0.041      0.823      0.413      -0.048       0.116\n",
       "USGG3M Index     -0.4832      0.921     -0.525      0.601      -2.315       1.348\n",
       "EEM US Equity    -0.0848      0.025     -3.409      0.001      -0.134      -0.035\n",
       "EFA US Equity     0.9779      0.040     24.294      0.000       0.898       1.058\n",
       "EUO US Equity     0.3099      0.019     16.440      0.000       0.272       0.347\n",
       "IWM US Equity     0.0164      0.024      0.682      0.497      -0.031       0.064\n",
       "==============================================================================\n",
       "Omnibus:                       14.995   Durbin-Watson:                   2.253\n",
       "Prob(Omnibus):                  0.001   Jarque-Bera (JB):               29.812\n",
       "Skew:                          -0.579   Prob(JB):                     3.36e-07\n",
       "Kurtosis:                       5.554   Cond. No.                     1.42e+03\n",
       "==============================================================================\n",
       "\n",
       "Notes:\n",
       "[1] Standard Errors assume that the covariance matrix of the errors is correctly specified.\n",
       "[2] The condition number is large, 1.42e+03. This might indicate that there are\n",
       "strong multicollinearity or other numerical problems.\n",
       "\"\"\""
      ]
     },
     "execution_count": 25,
     "metadata": {},
     "output_type": "execute_result"
    }
   ],
   "source": [
    "y = other_data['HEFA US Equity'].dropna()\n",
    "X = sm.add_constant(factor_data.loc[y.index])\n",
    "sm.OLS(y, X).fit().summary()"
   ]
  },
  {
   "cell_type": "markdown",
   "id": "f84c6073",
   "metadata": {},
   "source": [
    "**(b)** Decompose TRVCI with the same style factors used to decompose HFRI. The TRVCI Index tracks venture capital funds–in terms of our styles, what best describes venture capital?\n",
    "\n",
    "<span style=\"color:#00008B\">**Solution:**\n",
    "The venture capital fund is very sensitive to the market and the US treasury-bills indicated by the corresponding betas. This means that the venture capital performs well when the market and the economy are good. However, the p-val for the US treasury-bills beta is very high (0.597), so the beta estimate can be unreliable. \n",
    "</span>"
   ]
  },
  {
   "cell_type": "code",
   "execution_count": 26,
   "id": "87bb9c83",
   "metadata": {},
   "outputs": [
    {
     "data": {
      "text/html": [
       "<table class=\"simpletable\">\n",
       "<caption>OLS Regression Results</caption>\n",
       "<tr>\n",
       "  <th>Dep. Variable:</th>       <td>TRVCI Index</td>   <th>  R-squared:         </th> <td>   0.662</td>\n",
       "</tr>\n",
       "<tr>\n",
       "  <th>Model:</th>                   <td>OLS</td>       <th>  Adj. R-squared:    </th> <td>   0.645</td>\n",
       "</tr>\n",
       "<tr>\n",
       "  <th>Method:</th>             <td>Least Squares</td>  <th>  F-statistic:       </th> <td>   37.57</td>\n",
       "</tr>\n",
       "<tr>\n",
       "  <th>Date:</th>             <td>Tue, 12 Oct 2021</td> <th>  Prob (F-statistic):</th> <td>6.18e-25</td>\n",
       "</tr>\n",
       "<tr>\n",
       "  <th>Time:</th>                 <td>15:42:38</td>     <th>  Log-Likelihood:    </th> <td>  220.85</td>\n",
       "</tr>\n",
       "<tr>\n",
       "  <th>No. Observations:</th>      <td>   122</td>      <th>  AIC:               </th> <td>  -427.7</td>\n",
       "</tr>\n",
       "<tr>\n",
       "  <th>Df Residuals:</th>          <td>   115</td>      <th>  BIC:               </th> <td>  -408.1</td>\n",
       "</tr>\n",
       "<tr>\n",
       "  <th>Df Model:</th>              <td>     6</td>      <th>                     </th>     <td> </td>   \n",
       "</tr>\n",
       "<tr>\n",
       "  <th>Covariance Type:</th>      <td>nonrobust</td>    <th>                     </th>     <td> </td>   \n",
       "</tr>\n",
       "</table>\n",
       "<table class=\"simpletable\">\n",
       "<tr>\n",
       "        <td></td>           <th>coef</th>     <th>std err</th>      <th>t</th>      <th>P>|t|</th>  <th>[0.025</th>    <th>0.975]</th>  \n",
       "</tr>\n",
       "<tr>\n",
       "  <th>const</th>         <td>    0.0040</td> <td>    0.005</td> <td>    0.818</td> <td> 0.415</td> <td>   -0.006</td> <td>    0.014</td>\n",
       "</tr>\n",
       "<tr>\n",
       "  <th>SPY US Equity</th> <td>    1.7351</td> <td>    0.246</td> <td>    7.052</td> <td> 0.000</td> <td>    1.248</td> <td>    2.222</td>\n",
       "</tr>\n",
       "<tr>\n",
       "  <th>USGG3M Index</th>  <td>    2.9773</td> <td>    5.619</td> <td>    0.530</td> <td> 0.597</td> <td>   -8.153</td> <td>   14.107</td>\n",
       "</tr>\n",
       "<tr>\n",
       "  <th>EEM US Equity</th> <td>   -0.0882</td> <td>    0.138</td> <td>   -0.639</td> <td> 0.524</td> <td>   -0.361</td> <td>    0.185</td>\n",
       "</tr>\n",
       "<tr>\n",
       "  <th>EFA US Equity</th> <td>    0.1172</td> <td>    0.226</td> <td>    0.518</td> <td> 0.605</td> <td>   -0.331</td> <td>    0.566</td>\n",
       "</tr>\n",
       "<tr>\n",
       "  <th>EUO US Equity</th> <td>   -0.0202</td> <td>    0.106</td> <td>   -0.190</td> <td> 0.850</td> <td>   -0.231</td> <td>    0.190</td>\n",
       "</tr>\n",
       "<tr>\n",
       "  <th>IWM US Equity</th> <td>   -0.2905</td> <td>    0.150</td> <td>   -1.935</td> <td> 0.055</td> <td>   -0.588</td> <td>    0.007</td>\n",
       "</tr>\n",
       "</table>\n",
       "<table class=\"simpletable\">\n",
       "<tr>\n",
       "  <th>Omnibus:</th>       <td> 0.815</td> <th>  Durbin-Watson:     </th> <td>   2.091</td>\n",
       "</tr>\n",
       "<tr>\n",
       "  <th>Prob(Omnibus):</th> <td> 0.665</td> <th>  Jarque-Bera (JB):  </th> <td>   0.643</td>\n",
       "</tr>\n",
       "<tr>\n",
       "  <th>Skew:</th>          <td>-0.178</td> <th>  Prob(JB):          </th> <td>   0.725</td>\n",
       "</tr>\n",
       "<tr>\n",
       "  <th>Kurtosis:</th>      <td> 3.016</td> <th>  Cond. No.          </th> <td>1.52e+03</td>\n",
       "</tr>\n",
       "</table><br/><br/>Notes:<br/>[1] Standard Errors assume that the covariance matrix of the errors is correctly specified.<br/>[2] The condition number is large, 1.52e+03. This might indicate that there are<br/>strong multicollinearity or other numerical problems."
      ],
      "text/plain": [
       "<class 'statsmodels.iolib.summary.Summary'>\n",
       "\"\"\"\n",
       "                            OLS Regression Results                            \n",
       "==============================================================================\n",
       "Dep. Variable:            TRVCI Index   R-squared:                       0.662\n",
       "Model:                            OLS   Adj. R-squared:                  0.645\n",
       "Method:                 Least Squares   F-statistic:                     37.57\n",
       "Date:                Tue, 12 Oct 2021   Prob (F-statistic):           6.18e-25\n",
       "Time:                        15:42:38   Log-Likelihood:                 220.85\n",
       "No. Observations:                 122   AIC:                            -427.7\n",
       "Df Residuals:                     115   BIC:                            -408.1\n",
       "Df Model:                           6                                         \n",
       "Covariance Type:            nonrobust                                         \n",
       "=================================================================================\n",
       "                    coef    std err          t      P>|t|      [0.025      0.975]\n",
       "---------------------------------------------------------------------------------\n",
       "const             0.0040      0.005      0.818      0.415      -0.006       0.014\n",
       "SPY US Equity     1.7351      0.246      7.052      0.000       1.248       2.222\n",
       "USGG3M Index      2.9773      5.619      0.530      0.597      -8.153      14.107\n",
       "EEM US Equity    -0.0882      0.138     -0.639      0.524      -0.361       0.185\n",
       "EFA US Equity     0.1172      0.226      0.518      0.605      -0.331       0.566\n",
       "EUO US Equity    -0.0202      0.106     -0.190      0.850      -0.231       0.190\n",
       "IWM US Equity    -0.2905      0.150     -1.935      0.055      -0.588       0.007\n",
       "==============================================================================\n",
       "Omnibus:                        0.815   Durbin-Watson:                   2.091\n",
       "Prob(Omnibus):                  0.665   Jarque-Bera (JB):                0.643\n",
       "Skew:                          -0.178   Prob(JB):                        0.725\n",
       "Kurtosis:                       3.016   Cond. No.                     1.52e+03\n",
       "==============================================================================\n",
       "\n",
       "Notes:\n",
       "[1] Standard Errors assume that the covariance matrix of the errors is correctly specified.\n",
       "[2] The condition number is large, 1.52e+03. This might indicate that there are\n",
       "strong multicollinearity or other numerical problems.\n",
       "\"\"\""
      ]
     },
     "execution_count": 26,
     "metadata": {},
     "output_type": "execute_result"
    }
   ],
   "source": [
    "y = other_data['TRVCI Index'].dropna()\n",
    "X = sm.add_constant(factor_data.loc[y.index])\n",
    "sm.OLS(y, X).fit().summary()"
   ]
  },
  {
   "cell_type": "markdown",
   "id": "a670d33f",
   "metadata": {},
   "source": [
    "**(c)** TAIL is an ETF that tracks SPY, but that also buys put options to protect against market downturns. Calculate the statistics in questions 2.1-2.3 for TAIL. Does it seem to behave as indicated by this description? That is, does it have high correlation to SPY while delivering lower tail risk?\n",
    "\n",
    "<span style=\"color:#00008B\">**Solution:**\n",
    "The TAIL does not seem to track the SPY well. It has a much lower and negative Sharpe Ratio, so the returns of TAIL are much worse than SPY. In terms of tail risks, it has a very high skewness and kurtosis. However, the VaR and the CVaR are slightly higher than then SPY, and this makes sense since it buys put options for protection. Besides, it has not recovered from the Maximum drawdown yet. We can conclude that it won't have high correlation to SPY. \n",
    "</span>"
   ]
  },
  {
   "cell_type": "code",
   "execution_count": 27,
   "id": "b554672e",
   "metadata": {},
   "outputs": [
    {
     "data": {
      "text/html": [
       "<div>\n",
       "<style scoped>\n",
       "    .dataframe tbody tr th:only-of-type {\n",
       "        vertical-align: middle;\n",
       "    }\n",
       "\n",
       "    .dataframe tbody tr th {\n",
       "        vertical-align: top;\n",
       "    }\n",
       "\n",
       "    .dataframe thead th {\n",
       "        text-align: right;\n",
       "    }\n",
       "</style>\n",
       "<table border=\"1\" class=\"dataframe\">\n",
       "  <thead>\n",
       "    <tr style=\"text-align: right;\">\n",
       "      <th></th>\n",
       "      <th>Mean</th>\n",
       "      <th>Vol</th>\n",
       "      <th>Sharpe</th>\n",
       "    </tr>\n",
       "  </thead>\n",
       "  <tbody>\n",
       "    <tr>\n",
       "      <th>TAIL US Equity</th>\n",
       "      <td>-0.0452</td>\n",
       "      <td>0.1259</td>\n",
       "      <td>-0.3594</td>\n",
       "    </tr>\n",
       "    <tr>\n",
       "      <th>SPY US Equity</th>\n",
       "      <td>0.1475</td>\n",
       "      <td>0.1354</td>\n",
       "      <td>1.0900</td>\n",
       "    </tr>\n",
       "  </tbody>\n",
       "</table>\n",
       "</div>"
      ],
      "text/plain": [
       "                  Mean     Vol  Sharpe\n",
       "TAIL US Equity -0.0452  0.1259 -0.3594\n",
       "SPY US Equity   0.1475  0.1354  1.0900"
      ]
     },
     "execution_count": 27,
     "metadata": {},
     "output_type": "execute_result"
    }
   ],
   "source": [
    "summary_stats(other_data[['TAIL US Equity','SPY US Equity']],12)"
   ]
  },
  {
   "cell_type": "code",
   "execution_count": 28,
   "id": "2af7bf79",
   "metadata": {},
   "outputs": [
    {
     "data": {
      "text/html": [
       "<div>\n",
       "<style scoped>\n",
       "    .dataframe tbody tr th:only-of-type {\n",
       "        vertical-align: middle;\n",
       "    }\n",
       "\n",
       "    .dataframe tbody tr th {\n",
       "        vertical-align: top;\n",
       "    }\n",
       "\n",
       "    .dataframe thead th {\n",
       "        text-align: right;\n",
       "    }\n",
       "</style>\n",
       "<table border=\"1\" class=\"dataframe\">\n",
       "  <thead>\n",
       "    <tr style=\"text-align: right;\">\n",
       "      <th></th>\n",
       "      <th>TAIL US Equity</th>\n",
       "      <th>SPY US Equity</th>\n",
       "    </tr>\n",
       "  </thead>\n",
       "  <tbody>\n",
       "    <tr>\n",
       "      <th>Skewness</th>\n",
       "      <td>1.369272</td>\n",
       "      <td>-0.394559</td>\n",
       "    </tr>\n",
       "    <tr>\n",
       "      <th>Excess Kurtosis</th>\n",
       "      <td>0.217345</td>\n",
       "      <td>-1.437449</td>\n",
       "    </tr>\n",
       "    <tr>\n",
       "      <th>VaR</th>\n",
       "      <td>-0.042977</td>\n",
       "      <td>-0.060906</td>\n",
       "    </tr>\n",
       "    <tr>\n",
       "      <th>Expected Shortfall</th>\n",
       "      <td>-0.060999</td>\n",
       "      <td>-0.079288</td>\n",
       "    </tr>\n",
       "    <tr>\n",
       "      <th>Max Drawdown</th>\n",
       "      <td>-0.215843</td>\n",
       "      <td>-0.194266</td>\n",
       "    </tr>\n",
       "    <tr>\n",
       "      <th>MDD Start</th>\n",
       "      <td>2020-03-31</td>\n",
       "      <td>2019-12-31</td>\n",
       "    </tr>\n",
       "    <tr>\n",
       "      <th>MDD End</th>\n",
       "      <td>2021-05-31</td>\n",
       "      <td>2020-03-31</td>\n",
       "    </tr>\n",
       "    <tr>\n",
       "      <th>Recovery Date</th>\n",
       "      <td>None</td>\n",
       "      <td>2020-07-31</td>\n",
       "    </tr>\n",
       "    <tr>\n",
       "      <th>Recovery period (days)</th>\n",
       "      <td>NaN</td>\n",
       "      <td>213.0</td>\n",
       "    </tr>\n",
       "  </tbody>\n",
       "</table>\n",
       "</div>"
      ],
      "text/plain": [
       "                       TAIL US Equity SPY US Equity\n",
       "Skewness                     1.369272     -0.394559\n",
       "Excess Kurtosis              0.217345     -1.437449\n",
       "VaR                         -0.042977     -0.060906\n",
       "Expected Shortfall          -0.060999     -0.079288\n",
       "Max Drawdown                -0.215843     -0.194266\n",
       "MDD Start                  2020-03-31    2019-12-31\n",
       "MDD End                    2021-05-31    2020-03-31\n",
       "Recovery Date                    None    2020-07-31\n",
       "Recovery period (days)            NaN         213.0"
      ]
     },
     "execution_count": 28,
     "metadata": {},
     "output_type": "execute_result"
    }
   ],
   "source": [
    "tail_risk_report(other_data[['TAIL US Equity','SPY US Equity']],0.05)"
   ]
  },
  {
   "cell_type": "code",
   "execution_count": 29,
   "id": "80d8a7fd",
   "metadata": {},
   "outputs": [
    {
     "data": {
      "text/html": [
       "<div>\n",
       "<style scoped>\n",
       "    .dataframe tbody tr th:only-of-type {\n",
       "        vertical-align: middle;\n",
       "    }\n",
       "\n",
       "    .dataframe tbody tr th {\n",
       "        vertical-align: top;\n",
       "    }\n",
       "\n",
       "    .dataframe thead th {\n",
       "        text-align: right;\n",
       "    }\n",
       "</style>\n",
       "<table border=\"1\" class=\"dataframe\">\n",
       "  <thead>\n",
       "    <tr style=\"text-align: right;\">\n",
       "      <th></th>\n",
       "      <th>beta</th>\n",
       "      <th>Treynor Ratio</th>\n",
       "      <th>Information Ratio</th>\n",
       "    </tr>\n",
       "  </thead>\n",
       "  <tbody>\n",
       "    <tr>\n",
       "      <th>TAIL US Equity</th>\n",
       "      <td>-0.6514</td>\n",
       "      <td>0.0694</td>\n",
       "      <td>0.8745</td>\n",
       "    </tr>\n",
       "    <tr>\n",
       "      <th>SPY US Equity</th>\n",
       "      <td>1.0000</td>\n",
       "      <td>0.1475</td>\n",
       "      <td>-0.5445</td>\n",
       "    </tr>\n",
       "  </tbody>\n",
       "</table>\n",
       "</div>"
      ],
      "text/plain": [
       "                  beta  Treynor Ratio  Information Ratio\n",
       "TAIL US Equity -0.6514         0.0694             0.8745\n",
       "SPY US Equity   1.0000         0.1475            -0.5445"
      ]
     },
     "execution_count": 29,
     "metadata": {},
     "output_type": "execute_result"
    }
   ],
   "source": [
    "reg_stats(other_data[['TAIL US Equity','SPY US Equity']],12)"
   ]
  },
  {
   "cell_type": "markdown",
   "id": "78a36224",
   "metadata": {},
   "source": [
    "***3. Geared ETFs***   \n",
    "(a) Explain conceptually why Levered ETFs may track their index well for a given day but diverge over time. How is this exacerbated in volatile periods like 2008?\n",
    "\n",
    "<span style=\"color:#00008B\">**Solution:**\n",
    "Even though the tracking error of Levered ETFs in a day is small, the error can become huge over time because of the effect of compounding. During the volatile periods, the Levered ETFs need to be reset daily, so the compounding effect would exacerbate the tracking error. \n",
    "</span>"
   ]
  },
  {
   "cell_type": "markdown",
   "id": "98dc0688",
   "metadata": {},
   "source": [
    "(b) Analyze SPXU and UPRO relative to SPY.\n",
    "\n",
    "i. Analyze them with the statistics from 2.1-2.3. Do these two ETFs seem to live up to their names?\n",
    "\n",
    "<span style=\"color:#00008B\">**Solution:**\n",
    "The mean returns of SPXU and UPRO seem to live up to their names, but in terms of Sharpe Ratio, they do not. Also, the two ETFs have more tail risk in terms of VaR and CVaR. The market beta for SPXU is -2.5034 instead of -3, but the market beta for UPRO is 3.1421, which is very close to 3 as claimed. \n",
    "</span>"
   ]
  },
  {
   "cell_type": "code",
   "execution_count": 30,
   "id": "b4995749",
   "metadata": {},
   "outputs": [
    {
     "data": {
      "text/html": [
       "<div>\n",
       "<style scoped>\n",
       "    .dataframe tbody tr th:only-of-type {\n",
       "        vertical-align: middle;\n",
       "    }\n",
       "\n",
       "    .dataframe tbody tr th {\n",
       "        vertical-align: top;\n",
       "    }\n",
       "\n",
       "    .dataframe thead th {\n",
       "        text-align: right;\n",
       "    }\n",
       "</style>\n",
       "<table border=\"1\" class=\"dataframe\">\n",
       "  <thead>\n",
       "    <tr style=\"text-align: right;\">\n",
       "      <th></th>\n",
       "      <th>Mean</th>\n",
       "      <th>Vol</th>\n",
       "      <th>Sharpe</th>\n",
       "    </tr>\n",
       "  </thead>\n",
       "  <tbody>\n",
       "    <tr>\n",
       "      <th>SPXU US Equity</th>\n",
       "      <td>-0.4980</td>\n",
       "      <td>0.3608</td>\n",
       "      <td>-1.3803</td>\n",
       "    </tr>\n",
       "    <tr>\n",
       "      <th>UPRO US Equity</th>\n",
       "      <td>0.3886</td>\n",
       "      <td>0.4270</td>\n",
       "      <td>0.9103</td>\n",
       "    </tr>\n",
       "    <tr>\n",
       "      <th>SPY US Equity</th>\n",
       "      <td>0.1475</td>\n",
       "      <td>0.1354</td>\n",
       "      <td>1.0900</td>\n",
       "    </tr>\n",
       "  </tbody>\n",
       "</table>\n",
       "</div>"
      ],
      "text/plain": [
       "                  Mean     Vol  Sharpe\n",
       "SPXU US Equity -0.4980  0.3608 -1.3803\n",
       "UPRO US Equity  0.3886  0.4270  0.9103\n",
       "SPY US Equity   0.1475  0.1354  1.0900"
      ]
     },
     "execution_count": 30,
     "metadata": {},
     "output_type": "execute_result"
    }
   ],
   "source": [
    "summary_stats(other_data[['SPXU US Equity','UPRO US Equity','SPY US Equity']], 12)"
   ]
  },
  {
   "cell_type": "code",
   "execution_count": 31,
   "id": "0ef36c3a",
   "metadata": {},
   "outputs": [
    {
     "data": {
      "text/html": [
       "<div>\n",
       "<style scoped>\n",
       "    .dataframe tbody tr th:only-of-type {\n",
       "        vertical-align: middle;\n",
       "    }\n",
       "\n",
       "    .dataframe tbody tr th {\n",
       "        vertical-align: top;\n",
       "    }\n",
       "\n",
       "    .dataframe thead th {\n",
       "        text-align: right;\n",
       "    }\n",
       "</style>\n",
       "<table border=\"1\" class=\"dataframe\">\n",
       "  <thead>\n",
       "    <tr style=\"text-align: right;\">\n",
       "      <th></th>\n",
       "      <th>SPXU US Equity</th>\n",
       "      <th>UPRO US Equity</th>\n",
       "      <th>SPY US Equity</th>\n",
       "    </tr>\n",
       "  </thead>\n",
       "  <tbody>\n",
       "    <tr>\n",
       "      <th>Skewness</th>\n",
       "      <td>0.431867</td>\n",
       "      <td>-0.554275</td>\n",
       "      <td>-0.394559</td>\n",
       "    </tr>\n",
       "    <tr>\n",
       "      <th>Excess Kurtosis</th>\n",
       "      <td>-1.498177</td>\n",
       "      <td>-0.542429</td>\n",
       "      <td>-1.437449</td>\n",
       "    </tr>\n",
       "    <tr>\n",
       "      <th>VaR</th>\n",
       "      <td>-0.187543</td>\n",
       "      <td>-0.188916</td>\n",
       "      <td>-0.060906</td>\n",
       "    </tr>\n",
       "    <tr>\n",
       "      <th>Expected Shortfall</th>\n",
       "      <td>-0.250446</td>\n",
       "      <td>-0.255533</td>\n",
       "      <td>-0.079288</td>\n",
       "    </tr>\n",
       "    <tr>\n",
       "      <th>Max Drawdown</th>\n",
       "      <td>-0.998063</td>\n",
       "      <td>-0.604438</td>\n",
       "      <td>-0.194266</td>\n",
       "    </tr>\n",
       "    <tr>\n",
       "      <th>MDD Start</th>\n",
       "      <td>2011-09-30</td>\n",
       "      <td>2019-12-31</td>\n",
       "      <td>2019-12-31</td>\n",
       "    </tr>\n",
       "    <tr>\n",
       "      <th>MDD End</th>\n",
       "      <td>2021-08-31</td>\n",
       "      <td>2020-03-31</td>\n",
       "      <td>2020-03-31</td>\n",
       "    </tr>\n",
       "    <tr>\n",
       "      <th>Recovery Date</th>\n",
       "      <td>None</td>\n",
       "      <td>2020-12-31</td>\n",
       "      <td>2020-07-31</td>\n",
       "    </tr>\n",
       "    <tr>\n",
       "      <th>Recovery period (days)</th>\n",
       "      <td>NaN</td>\n",
       "      <td>366.0</td>\n",
       "      <td>213.0</td>\n",
       "    </tr>\n",
       "  </tbody>\n",
       "</table>\n",
       "</div>"
      ],
      "text/plain": [
       "                       SPXU US Equity UPRO US Equity SPY US Equity\n",
       "Skewness                     0.431867      -0.554275     -0.394559\n",
       "Excess Kurtosis             -1.498177      -0.542429     -1.437449\n",
       "VaR                         -0.187543      -0.188916     -0.060906\n",
       "Expected Shortfall          -0.250446      -0.255533     -0.079288\n",
       "Max Drawdown                -0.998063      -0.604438     -0.194266\n",
       "MDD Start                  2011-09-30     2019-12-31    2019-12-31\n",
       "MDD End                    2021-08-31     2020-03-31    2020-03-31\n",
       "Recovery Date                    None     2020-12-31    2020-07-31\n",
       "Recovery period (days)            NaN          366.0         213.0"
      ]
     },
     "execution_count": 31,
     "metadata": {},
     "output_type": "execute_result"
    }
   ],
   "source": [
    "tail_risk_report(other_data[['SPXU US Equity','UPRO US Equity','SPY US Equity']], 0.05)"
   ]
  },
  {
   "cell_type": "code",
   "execution_count": 32,
   "id": "1784bef7",
   "metadata": {},
   "outputs": [
    {
     "data": {
      "text/html": [
       "<div>\n",
       "<style scoped>\n",
       "    .dataframe tbody tr th:only-of-type {\n",
       "        vertical-align: middle;\n",
       "    }\n",
       "\n",
       "    .dataframe tbody tr th {\n",
       "        vertical-align: top;\n",
       "    }\n",
       "\n",
       "    .dataframe thead th {\n",
       "        text-align: right;\n",
       "    }\n",
       "</style>\n",
       "<table border=\"1\" class=\"dataframe\">\n",
       "  <thead>\n",
       "    <tr style=\"text-align: right;\">\n",
       "      <th></th>\n",
       "      <th>beta</th>\n",
       "      <th>Treynor Ratio</th>\n",
       "      <th>Information Ratio</th>\n",
       "    </tr>\n",
       "  </thead>\n",
       "  <tbody>\n",
       "    <tr>\n",
       "      <th>SPXU US Equity</th>\n",
       "      <td>-2.5034</td>\n",
       "      <td>0.1989</td>\n",
       "      <td>-1.0384</td>\n",
       "    </tr>\n",
       "    <tr>\n",
       "      <th>UPRO US Equity</th>\n",
       "      <td>3.1421</td>\n",
       "      <td>0.1237</td>\n",
       "      <td>-2.0074</td>\n",
       "    </tr>\n",
       "    <tr>\n",
       "      <th>SPY US Equity</th>\n",
       "      <td>1.0000</td>\n",
       "      <td>0.1475</td>\n",
       "      <td>-0.5445</td>\n",
       "    </tr>\n",
       "  </tbody>\n",
       "</table>\n",
       "</div>"
      ],
      "text/plain": [
       "                  beta  Treynor Ratio  Information Ratio\n",
       "SPXU US Equity -2.5034         0.1989            -1.0384\n",
       "UPRO US Equity  3.1421         0.1237            -2.0074\n",
       "SPY US Equity   1.0000         0.1475            -0.5445"
      ]
     },
     "execution_count": 32,
     "metadata": {},
     "output_type": "execute_result"
    }
   ],
   "source": [
    "reg_stats(other_data[['SPXU US Equity','UPRO US Equity','SPY US Equity']], 12)"
   ]
  },
  {
   "cell_type": "code",
   "execution_count": 33,
   "id": "e2b4db17",
   "metadata": {},
   "outputs": [
    {
     "data": {
      "text/plain": [
       "<AxesSubplot:xlabel='date'>"
      ]
     },
     "execution_count": 33,
     "metadata": {},
     "output_type": "execute_result"
    },
    {
     "data": {
      "image/png": "[encoded data removed]",
      "text/plain": [
       "<Figure size 432x288 with 1 Axes>"
      ]
     },
     "metadata": {
      "needs_background": "light"
     },
     "output_type": "display_data"
    }
   ],
   "source": [
    "(1+other_data[['SPXU US Equity','UPRO US Equity','SPY US Equity']]).cumprod().plot()"
   ]
  },
  {
   "cell_type": "markdown",
   "id": "7d876816",
   "metadata": {},
   "source": [
    "In conclusion, I think \"levered\" ETFs can be a good choice while the overall market is performing well as it can deliver much desirable returns. However, when the market is volatile, the \"levered\" ETFs are very likely to underperform and it contains more tail risk as well. "
   ]
  },
  {
   "cell_type": "code",
   "execution_count": null,
   "id": "8161a6f8",
   "metadata": {},
   "outputs": [],
   "source": []
  }
 ],
 "metadata": {
  "kernelspec": {
   "display_name": "Python 3",
   "language": "python",
   "name": "python3"
  },
  "language_info": {
   "codemirror_mode": {
    "name": "ipython",
    "version": 3
   },
   "file_extension": ".py",
   "mimetype": "text/x-python",
   "name": "python",
   "nbconvert_exporter": "python",
   "pygments_lexer": "ipython3",
   "version": "3.7.4"
  },
  "toc": {
   "base_numbering": 1,
   "nav_menu": {},
   "number_sections": true,
   "sideBar": true,
   "skip_h1_title": true,
   "title_cell": "Table of Contents",
   "title_sidebar": "Contents",
   "toc_cell": false,
   "toc_position": {},
   "toc_section_display": true,
   "toc_window_display": false
  }
 },
 "nbformat": 4,
 "nbformat_minor": 5
}
