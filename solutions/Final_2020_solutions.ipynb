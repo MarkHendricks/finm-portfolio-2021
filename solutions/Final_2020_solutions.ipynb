{
 "cells": [
  {
   "cell_type": "markdown",
   "metadata": {},
   "source": [
    "# 2020 Final Exam"
   ]
  },
  {
   "cell_type": "markdown",
   "metadata": {},
   "source": [
    "## Imports"
   ]
  },
  {
   "cell_type": "code",
   "execution_count": 161,
   "metadata": {},
   "outputs": [],
   "source": [
    "import pandas as pd\n",
    "import numpy as np\n",
    "import matplotlib.pyplot as plt\n",
    "import statsmodels.api as sm\n",
    "from arch import arch_model\n",
    "from arch.univariate import GARCH, EWMAVariance \n",
    "from sklearn import linear_model\n",
    "from numpy.linalg import inv\n",
    "import scipy\n",
    "import scipy.stats as stats\n",
    "from statsmodels.regression.rolling import RollingOLS\n",
    "import seaborn as sns\n",
    "import warnings\n",
    "warnings.filterwarnings(\"ignore\")\n",
    "pd.set_option(\"display.precision\", 4)\n",
    "sns.set(rc={'figure.figsize':(15, 10)})"
   ]
  },
  {
   "cell_type": "markdown",
   "metadata": {},
   "source": [
    "## Data"
   ]
  },
  {
   "cell_type": "code",
   "execution_count": 162,
   "metadata": {},
   "outputs": [
    {
     "data": {
      "text/html": [
       "<div>\n",
       "<style scoped>\n",
       "    .dataframe tbody tr th:only-of-type {\n",
       "        vertical-align: middle;\n",
       "    }\n",
       "\n",
       "    .dataframe tbody tr th {\n",
       "        vertical-align: top;\n",
       "    }\n",
       "\n",
       "    .dataframe thead th {\n",
       "        text-align: right;\n",
       "    }\n",
       "</style>\n",
       "<table border=\"1\" class=\"dataframe\">\n",
       "  <thead>\n",
       "    <tr style=\"text-align: right;\">\n",
       "      <th></th>\n",
       "      <th>RF</th>\n",
       "      <th>MKT</th>\n",
       "      <th>GMWAX</th>\n",
       "    </tr>\n",
       "    <tr>\n",
       "      <th>DATE</th>\n",
       "      <th></th>\n",
       "      <th></th>\n",
       "      <th></th>\n",
       "    </tr>\n",
       "  </thead>\n",
       "  <tbody>\n",
       "    <tr>\n",
       "      <th>1948-01-31</th>\n",
       "      <td>0.0008</td>\n",
       "      <td>-0.0445</td>\n",
       "      <td>NaN</td>\n",
       "    </tr>\n",
       "    <tr>\n",
       "      <th>1948-02-29</th>\n",
       "      <td>0.0008</td>\n",
       "      <td>0.0192</td>\n",
       "      <td>NaN</td>\n",
       "    </tr>\n",
       "    <tr>\n",
       "      <th>1948-03-31</th>\n",
       "      <td>0.0008</td>\n",
       "      <td>0.0819</td>\n",
       "      <td>NaN</td>\n",
       "    </tr>\n",
       "    <tr>\n",
       "      <th>1948-04-30</th>\n",
       "      <td>0.0008</td>\n",
       "      <td>0.0533</td>\n",
       "      <td>NaN</td>\n",
       "    </tr>\n",
       "    <tr>\n",
       "      <th>1948-05-31</th>\n",
       "      <td>0.0008</td>\n",
       "      <td>0.0459</td>\n",
       "      <td>NaN</td>\n",
       "    </tr>\n",
       "  </tbody>\n",
       "</table>\n",
       "</div>"
      ],
      "text/plain": [
       "                RF     MKT  GMWAX\n",
       "DATE                             \n",
       "1948-01-31  0.0008 -0.0445    NaN\n",
       "1948-02-29  0.0008  0.0192    NaN\n",
       "1948-03-31  0.0008  0.0819    NaN\n",
       "1948-04-30  0.0008  0.0533    NaN\n",
       "1948-05-31  0.0008  0.0459    NaN"
      ]
     },
     "execution_count": 162,
     "metadata": {},
     "output_type": "execute_result"
    }
   ],
   "source": [
    "gmo = pd.read_excel('../data/grantham_data.xlsx').set_index('DATE')\n",
    "\n",
    "gmo.head()"
   ]
  },
  {
   "cell_type": "code",
   "execution_count": 163,
   "metadata": {},
   "outputs": [
    {
     "data": {
      "text/html": [
       "<div>\n",
       "<style scoped>\n",
       "    .dataframe tbody tr th:only-of-type {\n",
       "        vertical-align: middle;\n",
       "    }\n",
       "\n",
       "    .dataframe tbody tr th {\n",
       "        vertical-align: top;\n",
       "    }\n",
       "\n",
       "    .dataframe thead th {\n",
       "        text-align: right;\n",
       "    }\n",
       "</style>\n",
       "<table border=\"1\" class=\"dataframe\">\n",
       "  <thead>\n",
       "    <tr style=\"text-align: right;\">\n",
       "      <th></th>\n",
       "      <th>EP</th>\n",
       "    </tr>\n",
       "    <tr>\n",
       "      <th>DATE</th>\n",
       "      <th></th>\n",
       "    </tr>\n",
       "  </thead>\n",
       "  <tbody>\n",
       "    <tr>\n",
       "      <th>1948-01-31</th>\n",
       "      <td>0.1108</td>\n",
       "    </tr>\n",
       "    <tr>\n",
       "      <th>1948-02-29</th>\n",
       "      <td>0.1189</td>\n",
       "    </tr>\n",
       "    <tr>\n",
       "      <th>1948-03-31</th>\n",
       "      <td>0.1196</td>\n",
       "    </tr>\n",
       "    <tr>\n",
       "      <th>1948-04-30</th>\n",
       "      <td>0.1143</td>\n",
       "    </tr>\n",
       "    <tr>\n",
       "      <th>1948-05-31</th>\n",
       "      <td>0.1121</td>\n",
       "    </tr>\n",
       "  </tbody>\n",
       "</table>\n",
       "</div>"
      ],
      "text/plain": [
       "                EP\n",
       "DATE              \n",
       "1948-01-31  0.1108\n",
       "1948-02-29  0.1189\n",
       "1948-03-31  0.1196\n",
       "1948-04-30  0.1143\n",
       "1948-05-31  0.1121"
      ]
     },
     "execution_count": 163,
     "metadata": {},
     "output_type": "execute_result"
    }
   ],
   "source": [
    "EP = pd.read_excel('../data/grantham_data.xlsx',sheet_name=1)\n",
    "EP.columns = ['DATE', 'EP']\n",
    "EP = EP.set_index('DATE')\n",
    "\n",
    "EP.head()"
   ]
  },
  {
   "cell_type": "markdown",
   "metadata": {},
   "source": [
    "# 1 True / False (30pts)\n",
    "\n",
    "You are graded for your (brief) explanation.\n",
    "\n",
    "1. (5pts) Cumulative returns are less risky for longer horizons.\n",
    "\n",
    "<span style=\"color:#00008B\"> **Solution: False.** The longer the horizon, the higher the variance of cumulative returns. That's why cumulative returns are more risky for longer horizons. </span>\n",
    "\n",
    "2. (5pts) In the course, we derived mathematically that high dividend-price ratios must lead to\n",
    "high future returns.\n",
    "\n",
    "<span style=\"color:#00008B\"> **Solution: False.** Mathematically, we saw high dividend price ratios could lead to high future returns, low future dividends, or something else. The fact that they seem to lead to high future returns is an empirical statistical fact, not a mathematical necessity. </span>\n",
    "\n",
    "3. (5pts) From class and homework, we saw that the dividend-price ratio forecasts returns but that\n",
    "the earnings-price ratio does not.\n",
    "\n",
    "<span style=\"color:#00008B\"> **Solution: False.** Dividend-price ratio as well as earnings-price ratio forecast returns.</span>\n",
    "\n",
    "4. (5pts) The Expectations Hypothesis assumes that there is only one priced risk: interest-rate\n",
    "risk.\n",
    "\n",
    "<span style=\"color:#00008B\"> **Solution: True.** As expectations Hypothesis assumes that the various maturities are perfect substitutes and suggests that the shape of the yield curve depends on market participants' expectations of future interest rates. </span>\n",
    "\n",
    "5. (5pts) Empirically, we found that a positive Euro-USD spread in interest rates predicts depreciation\n",
    "in the USD, relative to the Euro.\n",
    "\n",
    "<span style=\"color:#00008B\"> **Solution: False.** It was shown that uncovered interest parity does NOT hold. In fact, using FX spreads as a predictor leads to excess returns as the currency does not depreciate away the interest rate gains. </span>\n",
    "\n",
    "6. (5pts) Statistically, replicating a target with instruments is the same as hedging a target with\n",
    "instruments.\n",
    "\n",
    "<span style=\"color:#00008B\"> **Solution: True.** The difference between the replication and hedge is in \"sign\" of the position. </span>"
   ]
  },
  {
   "cell_type": "markdown",
   "metadata": {},
   "source": [
    "# 2 Short Answer (40pts)\n",
    "\n",
    "1. (5pts) We often annualize means by $h$ and volatilities by $\\sqrt{h}$, where $h$ is the number of periods\n",
    "in the year. Under what assumptions are these scalings mathematically correct?\n",
    "\n",
    "<span style=\"color:#00008B\"> **Solution:** This scaling holds true if we are examining LOG returns which are IID. In practice, the approximation tends to work well so long as the return series autocorrelation is nearly zero. </span>\n",
    "\n",
    "2. (5pts) What features of dividend-price and earnings-price ratios make GMO believe that these\n",
    "signals perform better in long-run compared to the short-run?\n",
    "\n",
    "<span style=\"color:#00008B\"> **Solution:** The high serial correlation in dividend-price and earnings-price ratios maeks GMO believe that their predictive power is stronger over long-run horizons. </span>\n",
    "\n",
    "3. (5pts) In the case, does GMO believe the equity premium will continue to be high? Why or why\n",
    "not?\n",
    "\n",
    "<span style=\"color:#00008B\"> **Solution:** The case shows that the price-dividend and price-earning ratios are much higher than their historic average. This decades-long rise in prices-per-cashflow increased returns, but there seems to be little room for further gains in P/D and P/E ratios. Accordingly, they believe the equity premium will not be as high as it had been historically. </span>\n",
    "\n",
    "4. (5pts) In what sense is GMO's strategy contrarian? Be specific.\n",
    "\n",
    "<span style=\"color:#00008B\"> **Solution:** GMO is, in a macro sense, a value investor. They invest in asset classes with low prices per cash flow. This means that they are buying into depressed assets and missing out on assets with large run-ups in price. The case mentions that as GMO missed the bull market\n",
    "of the late 1990`s, they experienced large withdrawals before ultimately being proven right\n",
    "in the crash of 2000-2001.</span>\n",
    "\n",
    "5. (5pts) Barnstable's view is that stocks outperform over the long-run, but their trading strategy\n",
    "was not implemented well. Name one way in which their strategy did not directly trade on their\n",
    "hypothesis. (The case considered two possible implementations; you are welcome to critique\n",
    "either one.)\n",
    "\n",
    "<span style=\"color:#00008B\"> **Solution:** There are multiple things to say here. The most obvious is that they benchmarked the strategy to a constant 6% per year. While this was the average risk-free rate over previous decades, the risk-free rate was much lower going forward. Accordingly, Barnstable was actually betting on the level of stock return performance, not just that they would outperform the risk-free rate. \n",
    "    \n",
    "<span style=\"color:#00008B\"> A second notable problem is the Trust strategy. Barnstable would essentially sell all exposure to stock underperformance and retain exposure to overperformance. This is strange given that they believe the probability of stock under-performance is nearly zero over 30 years. So why are they giving up returns to sell off this risk exposure which they believe is so small?</span>\n",
    "\n",
    "6. (5pts) Let $\\tilde{r}^{(3)}_{t+1}$ denote one-year excess returns on 3-year treasury bonds. Denote forward spreads as, $f_t^{(3)} - y_t^{(1)} $. Consider the regression,\n",
    "\n",
    "$$ \\tilde{r}_{t+1}^{(3)} = \\alpha + \\beta ( f_t^{(3)} - y_t^{(1)} ) + \\epsilon_{t+1} $$\n",
    "\n",
    "If the expectations hypothesis were true, what could we say about $\\alpha$, $\\beta$ and/or the $R$-squared?\n",
    "\n",
    "<span style=\"color:#00008B\"> **Solution:** R-squared and Beta would be zero. Alpha would be zero in the strong version of the hypothesis and relaxed to be non-zero in the weaker version.</span>\n",
    "\n",
    "7. (5pts) Which model holds better: Covered Interest Parity or Uncovered Interest Parity? Briefly explain why.\n",
    "\n",
    "<span style=\"color:#00008B\"> **Solution:** CIP holds better as it is driven by law of one price or no arbitrage priciple, whereas UIP is just a theory about which risks are priced.</span>\n",
    "\n",
    "8. (5pts) Given the small serial correlation in stock returns, what were two features needed to make\n",
    "the momentum strategy work?\n",
    "\n",
    "<span style=\"color:#00008B\"> **Solution:** 1. Betting on large number of outperformer and underperformer. 2. Bet on extreme outperformer and underperformer</span>"
   ]
  },
  {
   "cell_type": "markdown",
   "metadata": {},
   "source": [
    "## 3 Returns Over Time"
   ]
  },
  {
   "cell_type": "markdown",
   "metadata": {},
   "source": [
    "## 3.1"
   ]
  },
  {
   "cell_type": "code",
   "execution_count": 164,
   "metadata": {},
   "outputs": [],
   "source": [
    "def summary_stats(df, annual_fac=12):\n",
    "    stat_df = (df.mean()*annual_fac).to_frame('Mean')\n",
    "    stat_df['Vol'] = df.std()*np.sqrt(annual_fac)\n",
    "    stat_df['Sharpe'] = stat_df['Mean']/stat_df['Vol']\n",
    "    \n",
    "    return stat_df\n",
    "\n",
    "def p(h, tilde_mu, tilde_sigma):\n",
    "    x = - np.sqrt(h) * tilde_mu / tilde_sigma\n",
    "    val = scipy.stats.norm.cdf(x)\n",
    "    return val[0]\n",
    "\n",
    "def regress(y, X, intercept = True, annual_fac=12):\n",
    "    if intercept == True:\n",
    "        X_ = sm.add_constant(X)\n",
    "        reg = sm.OLS(y, X_).fit()\n",
    "        reg_df = reg.params.to_frame('Regression Parameters')\n",
    "        reg_df.loc[r'$R^{2}$'] = reg.rsquared\n",
    "        reg_df.loc['const'] *= annual_fac\n",
    "    else:\n",
    "        reg = sm.OLS(y, X).fit()\n",
    "        reg_df = reg.params.to_frame('Regression Parameters')\n",
    "        reg_df.loc[r'$R^{2}$'] = reg.rsquared\n",
    "    \n",
    "    return reg_df"
   ]
  },
  {
   "cell_type": "markdown",
   "metadata": {},
   "source": [
    "(a)"
   ]
  },
  {
   "cell_type": "code",
   "execution_count": 165,
   "metadata": {},
   "outputs": [
    {
     "data": {
      "text/html": [
       "<div>\n",
       "<style scoped>\n",
       "    .dataframe tbody tr th:only-of-type {\n",
       "        vertical-align: middle;\n",
       "    }\n",
       "\n",
       "    .dataframe tbody tr th {\n",
       "        vertical-align: top;\n",
       "    }\n",
       "\n",
       "    .dataframe thead th {\n",
       "        text-align: right;\n",
       "    }\n",
       "</style>\n",
       "<table border=\"1\" class=\"dataframe\">\n",
       "  <thead>\n",
       "    <tr style=\"text-align: right;\">\n",
       "      <th></th>\n",
       "      <th>Mean</th>\n",
       "      <th>Vol</th>\n",
       "      <th>Sharpe</th>\n",
       "    </tr>\n",
       "  </thead>\n",
       "  <tbody>\n",
       "    <tr>\n",
       "      <th>$r^{*}$</th>\n",
       "      <td>0.0217</td>\n",
       "      <td>0.1233</td>\n",
       "      <td>0.1764</td>\n",
       "    </tr>\n",
       "  </tbody>\n",
       "</table>\n",
       "</div>"
      ],
      "text/plain": [
       "           Mean     Vol  Sharpe\n",
       "$r^{*}$  0.0217  0.1233  0.1764"
      ]
     },
     "execution_count": 165,
     "metadata": {},
     "output_type": "execute_result"
    }
   ],
   "source": [
    "gmo_ = gmo.dropna()\n",
    "\n",
    "r_star = (gmo_['MKT'] - gmo_['GMWAX']).to_frame(r'$r^{*}$')\n",
    "\n",
    "stats_df = summary_stats(r_star)\n",
    "\n",
    "stats_df"
   ]
  },
  {
   "cell_type": "markdown",
   "metadata": {},
   "source": [
    "(b)"
   ]
  },
  {
   "cell_type": "code",
   "execution_count": 166,
   "metadata": {},
   "outputs": [
    {
     "data": {
      "text/html": [
       "<div>\n",
       "<style scoped>\n",
       "    .dataframe tbody tr th:only-of-type {\n",
       "        vertical-align: middle;\n",
       "    }\n",
       "\n",
       "    .dataframe tbody tr th {\n",
       "        vertical-align: top;\n",
       "    }\n",
       "\n",
       "    .dataframe thead th {\n",
       "        text-align: right;\n",
       "    }\n",
       "</style>\n",
       "<table border=\"1\" class=\"dataframe\">\n",
       "  <thead>\n",
       "    <tr style=\"text-align: right;\">\n",
       "      <th></th>\n",
       "      <th>Mean</th>\n",
       "      <th>Vol</th>\n",
       "      <th>Sharpe</th>\n",
       "    </tr>\n",
       "  </thead>\n",
       "  <tbody>\n",
       "    <tr>\n",
       "      <th>$r^{*}$</th>\n",
       "      <td>0.0174</td>\n",
       "      <td>0.1252</td>\n",
       "      <td>0.139</td>\n",
       "    </tr>\n",
       "  </tbody>\n",
       "</table>\n",
       "</div>"
      ],
      "text/plain": [
       "           Mean     Vol  Sharpe\n",
       "$r^{*}$  0.0174  0.1252   0.139"
      ]
     },
     "execution_count": 166,
     "metadata": {},
     "output_type": "execute_result"
    }
   ],
   "source": [
    "r_star_log = (np.log(1 + gmo_['MKT']) - np.log(1 + gmo_['GMWAX'])).to_frame(r'$r^{*}$').dropna()\n",
    "\n",
    "stats_df_log = summary_stats(r_star_log)\n",
    "\n",
    "stats_df_log"
   ]
  },
  {
   "cell_type": "code",
   "execution_count": 167,
   "metadata": {},
   "outputs": [
    {
     "data": {
      "text/plain": [
       "0.26712401586166784"
      ]
     },
     "execution_count": 167,
     "metadata": {},
     "output_type": "execute_result"
    }
   ],
   "source": [
    "p(20, stats_df_log['Mean'], stats_df_log['Vol'])"
   ]
  },
  {
   "cell_type": "markdown",
   "metadata": {},
   "source": [
    "## 3.2"
   ]
  },
  {
   "cell_type": "markdown",
   "metadata": {},
   "source": [
    "(a)"
   ]
  },
  {
   "cell_type": "code",
   "execution_count": 168,
   "metadata": {},
   "outputs": [
    {
     "data": {
      "text/html": [
       "<table class=\"simpletable\">\n",
       "<caption>OLS Regression Results</caption>\n",
       "<tr>\n",
       "  <th>Dep. Variable:</th>         <td>$r^{*}$</td>     <th>  R-squared:         </th> <td>   0.007</td>\n",
       "</tr>\n",
       "<tr>\n",
       "  <th>Model:</th>                   <td>OLS</td>       <th>  Adj. R-squared:    </th> <td>   0.003</td>\n",
       "</tr>\n",
       "<tr>\n",
       "  <th>Method:</th>             <td>Least Squares</td>  <th>  F-statistic:       </th> <td>   1.900</td>\n",
       "</tr>\n",
       "<tr>\n",
       "  <th>Date:</th>             <td>Mon, 06 Dec 2021</td> <th>  Prob (F-statistic):</th>  <td> 0.169</td> \n",
       "</tr>\n",
       "<tr>\n",
       "  <th>Time:</th>                 <td>12:35:25</td>     <th>  Log-Likelihood:    </th> <td>  551.62</td>\n",
       "</tr>\n",
       "<tr>\n",
       "  <th>No. Observations:</th>      <td>   287</td>      <th>  AIC:               </th> <td>  -1099.</td>\n",
       "</tr>\n",
       "<tr>\n",
       "  <th>Df Residuals:</th>          <td>   285</td>      <th>  BIC:               </th> <td>  -1092.</td>\n",
       "</tr>\n",
       "<tr>\n",
       "  <th>Df Model:</th>              <td>     1</td>      <th>                     </th>     <td> </td>   \n",
       "</tr>\n",
       "<tr>\n",
       "  <th>Covariance Type:</th>      <td>nonrobust</td>    <th>                     </th>     <td> </td>   \n",
       "</tr>\n",
       "</table>\n",
       "<table class=\"simpletable\">\n",
       "<tr>\n",
       "      <td></td>        <th>coef</th>     <th>std err</th>      <th>t</th>      <th>P>|t|</th>  <th>[0.025</th>    <th>0.975]</th>  \n",
       "</tr>\n",
       "<tr>\n",
       "  <th>const</th>    <td>   -0.0083</td> <td>    0.008</td> <td>   -1.075</td> <td> 0.283</td> <td>   -0.023</td> <td>    0.007</td>\n",
       "</tr>\n",
       "<tr>\n",
       "  <th>EP shift</th> <td>    0.2288</td> <td>    0.166</td> <td>    1.378</td> <td> 0.169</td> <td>   -0.098</td> <td>    0.555</td>\n",
       "</tr>\n",
       "</table>\n",
       "<table class=\"simpletable\">\n",
       "<tr>\n",
       "  <th>Omnibus:</th>       <td>23.127</td> <th>  Durbin-Watson:     </th> <td>   2.324</td>\n",
       "</tr>\n",
       "<tr>\n",
       "  <th>Prob(Omnibus):</th> <td> 0.000</td> <th>  Jarque-Bera (JB):  </th> <td>  70.482</td>\n",
       "</tr>\n",
       "<tr>\n",
       "  <th>Skew:</th>          <td>-0.247</td> <th>  Prob(JB):          </th> <td>4.96e-16</td>\n",
       "</tr>\n",
       "<tr>\n",
       "  <th>Kurtosis:</th>      <td> 5.377</td> <th>  Cond. No.          </th> <td>    79.3</td>\n",
       "</tr>\n",
       "</table><br/><br/>Notes:<br/>[1] Standard Errors assume that the covariance matrix of the errors is correctly specified."
      ],
      "text/plain": [
       "<class 'statsmodels.iolib.summary.Summary'>\n",
       "\"\"\"\n",
       "                            OLS Regression Results                            \n",
       "==============================================================================\n",
       "Dep. Variable:                $r^{*}$   R-squared:                       0.007\n",
       "Model:                            OLS   Adj. R-squared:                  0.003\n",
       "Method:                 Least Squares   F-statistic:                     1.900\n",
       "Date:                Mon, 06 Dec 2021   Prob (F-statistic):              0.169\n",
       "Time:                        12:35:25   Log-Likelihood:                 551.62\n",
       "No. Observations:                 287   AIC:                            -1099.\n",
       "Df Residuals:                     285   BIC:                            -1092.\n",
       "Df Model:                           1                                         \n",
       "Covariance Type:            nonrobust                                         \n",
       "==============================================================================\n",
       "                 coef    std err          t      P>|t|      [0.025      0.975]\n",
       "------------------------------------------------------------------------------\n",
       "const         -0.0083      0.008     -1.075      0.283      -0.023       0.007\n",
       "EP shift       0.2288      0.166      1.378      0.169      -0.098       0.555\n",
       "==============================================================================\n",
       "Omnibus:                       23.127   Durbin-Watson:                   2.324\n",
       "Prob(Omnibus):                  0.000   Jarque-Bera (JB):               70.482\n",
       "Skew:                          -0.247   Prob(JB):                     4.96e-16\n",
       "Kurtosis:                       5.377   Cond. No.                         79.3\n",
       "==============================================================================\n",
       "\n",
       "Notes:\n",
       "[1] Standard Errors assume that the covariance matrix of the errors is correctly specified.\n",
       "\"\"\""
      ]
     },
     "execution_count": 168,
     "metadata": {},
     "output_type": "execute_result"
    }
   ],
   "source": [
    "r_star['EP'] = EP['EP']\n",
    "r_star['EP shift'] = r_star['EP'].shift(1)\n",
    "\n",
    "r_star_shift = r_star.dropna()\n",
    "\n",
    "y = r_star_shift[r'$r^{*}$']\n",
    "X = sm.add_constant(r_star_shift['EP shift'])\n",
    "\n",
    "sm.OLS(y, X).fit().summary()"
   ]
  },
  {
   "cell_type": "code",
   "execution_count": 169,
   "metadata": {},
   "outputs": [
    {
     "data": {
      "text/html": [
       "<div>\n",
       "<style scoped>\n",
       "    .dataframe tbody tr th:only-of-type {\n",
       "        vertical-align: middle;\n",
       "    }\n",
       "\n",
       "    .dataframe tbody tr th {\n",
       "        vertical-align: top;\n",
       "    }\n",
       "\n",
       "    .dataframe thead th {\n",
       "        text-align: right;\n",
       "    }\n",
       "</style>\n",
       "<table border=\"1\" class=\"dataframe\">\n",
       "  <thead>\n",
       "    <tr style=\"text-align: right;\">\n",
       "      <th></th>\n",
       "      <th>Regression Parameters</th>\n",
       "    </tr>\n",
       "  </thead>\n",
       "  <tbody>\n",
       "    <tr>\n",
       "      <th>const</th>\n",
       "      <td>-0.0083</td>\n",
       "    </tr>\n",
       "    <tr>\n",
       "      <th>EP shift</th>\n",
       "      <td>0.2288</td>\n",
       "    </tr>\n",
       "    <tr>\n",
       "      <th>$R^{2}$</th>\n",
       "      <td>0.0066</td>\n",
       "    </tr>\n",
       "  </tbody>\n",
       "</table>\n",
       "</div>"
      ],
      "text/plain": [
       "          Regression Parameters\n",
       "const                   -0.0083\n",
       "EP shift                 0.2288\n",
       "$R^{2}$                  0.0066"
      ]
     },
     "execution_count": 169,
     "metadata": {},
     "output_type": "execute_result"
    }
   ],
   "source": [
    "reg_params = regress(y, X, annual_fac=1)\n",
    "\n",
    "reg_params"
   ]
  },
  {
   "cell_type": "markdown",
   "metadata": {},
   "source": [
    "<span style=\"color:#00008B\"> **Q3.2(b):**</span> \n",
    "\n",
    "<span style=\"color:#00008B\"> As we can see from above, $R^2$ is small and $\\beta$ is not statistically significant ($p-value = 0.169$). That's why we can conclude that it's not a very useful strategy.</span>\n",
    "\n",
    "<span style=\"color:#00008B\">In order to conclude that the strategy works well, we would expect to see a high $R^2$ and a statistically significant $\\beta$.</span>"
   ]
  },
  {
   "cell_type": "markdown",
   "metadata": {},
   "source": [
    "(c)"
   ]
  },
  {
   "cell_type": "code",
   "execution_count": 170,
   "metadata": {},
   "outputs": [
    {
     "data": {
      "text/html": [
       "<div>\n",
       "<style scoped>\n",
       "    .dataframe tbody tr th:only-of-type {\n",
       "        vertical-align: middle;\n",
       "    }\n",
       "\n",
       "    .dataframe tbody tr th {\n",
       "        vertical-align: top;\n",
       "    }\n",
       "\n",
       "    .dataframe thead th {\n",
       "        text-align: right;\n",
       "    }\n",
       "</style>\n",
       "<table border=\"1\" class=\"dataframe\">\n",
       "  <thead>\n",
       "    <tr style=\"text-align: right;\">\n",
       "      <th></th>\n",
       "      <th>$E[r^{*}]$</th>\n",
       "    </tr>\n",
       "    <tr>\n",
       "      <th>DATE</th>\n",
       "      <th></th>\n",
       "    </tr>\n",
       "  </thead>\n",
       "  <tbody>\n",
       "    <tr>\n",
       "      <th>1996-11-30</th>\n",
       "      <td>0.0035</td>\n",
       "    </tr>\n",
       "    <tr>\n",
       "      <th>1996-12-31</th>\n",
       "      <td>0.0036</td>\n",
       "    </tr>\n",
       "    <tr>\n",
       "      <th>1997-01-31</th>\n",
       "      <td>0.0034</td>\n",
       "    </tr>\n",
       "    <tr>\n",
       "      <th>1997-02-28</th>\n",
       "      <td>0.0031</td>\n",
       "    </tr>\n",
       "    <tr>\n",
       "      <th>1997-03-31</th>\n",
       "      <td>0.0033</td>\n",
       "    </tr>\n",
       "  </tbody>\n",
       "</table>\n",
       "</div>"
      ],
      "text/plain": [
       "            $E[r^{*}]$\n",
       "DATE                  \n",
       "1996-11-30      0.0035\n",
       "1996-12-31      0.0036\n",
       "1997-01-31      0.0034\n",
       "1997-02-28      0.0031\n",
       "1997-03-31      0.0033"
      ]
     },
     "execution_count": 170,
     "metadata": {},
     "output_type": "execute_result"
    }
   ],
   "source": [
    "r_star_pred = (reg_params.loc['const'][0] + (reg_params.loc['EP shift'][0] * r_star['EP'])).to_frame(r'$E[r^{*}]$')\n",
    "\n",
    "r_star_pred.head()"
   ]
  },
  {
   "cell_type": "code",
   "execution_count": 171,
   "metadata": {},
   "outputs": [
    {
     "data": {
      "text/html": [
       "<div>\n",
       "<style scoped>\n",
       "    .dataframe tbody tr th:only-of-type {\n",
       "        vertical-align: middle;\n",
       "    }\n",
       "\n",
       "    .dataframe tbody tr th {\n",
       "        vertical-align: top;\n",
       "    }\n",
       "\n",
       "    .dataframe thead th {\n",
       "        text-align: right;\n",
       "    }\n",
       "</style>\n",
       "<table border=\"1\" class=\"dataframe\">\n",
       "  <thead>\n",
       "    <tr style=\"text-align: right;\">\n",
       "      <th></th>\n",
       "      <th>$E[r^{*}]$</th>\n",
       "    </tr>\n",
       "    <tr>\n",
       "      <th>DATE</th>\n",
       "      <th></th>\n",
       "    </tr>\n",
       "  </thead>\n",
       "  <tbody>\n",
       "    <tr>\n",
       "      <th>2009-05-31</th>\n",
       "      <td>-0.0064</td>\n",
       "    </tr>\n",
       "  </tbody>\n",
       "</table>\n",
       "</div>"
      ],
      "text/plain": [
       "            $E[r^{*}]$\n",
       "DATE                  \n",
       "2009-05-31     -0.0064"
      ]
     },
     "execution_count": 171,
     "metadata": {},
     "output_type": "execute_result"
    }
   ],
   "source": [
    "r_star_pred.nsmallest(1, [r'$E[r^{*}]$'])"
   ]
  },
  {
   "cell_type": "code",
   "execution_count": 172,
   "metadata": {},
   "outputs": [
    {
     "data": {
      "text/html": [
       "<div>\n",
       "<style scoped>\n",
       "    .dataframe tbody tr th:only-of-type {\n",
       "        vertical-align: middle;\n",
       "    }\n",
       "\n",
       "    .dataframe tbody tr th {\n",
       "        vertical-align: top;\n",
       "    }\n",
       "\n",
       "    .dataframe thead th {\n",
       "        text-align: right;\n",
       "    }\n",
       "</style>\n",
       "<table border=\"1\" class=\"dataframe\">\n",
       "  <thead>\n",
       "    <tr style=\"text-align: right;\">\n",
       "      <th></th>\n",
       "      <th>$E[r^{*}]$</th>\n",
       "    </tr>\n",
       "    <tr>\n",
       "      <th>DATE</th>\n",
       "      <th></th>\n",
       "    </tr>\n",
       "  </thead>\n",
       "  <tbody>\n",
       "    <tr>\n",
       "      <th>2011-09-30</th>\n",
       "      <td>0.0087</td>\n",
       "    </tr>\n",
       "  </tbody>\n",
       "</table>\n",
       "</div>"
      ],
      "text/plain": [
       "            $E[r^{*}]$\n",
       "DATE                  \n",
       "2011-09-30      0.0087"
      ]
     },
     "execution_count": 172,
     "metadata": {},
     "output_type": "execute_result"
    }
   ],
   "source": [
    "r_star_pred.nlargest(1, [r'$E[r^{*}]$'])"
   ]
  },
  {
   "cell_type": "code",
   "execution_count": 173,
   "metadata": {},
   "outputs": [
    {
     "data": {
      "text/html": [
       "<div>\n",
       "<style scoped>\n",
       "    .dataframe tbody tr th:only-of-type {\n",
       "        vertical-align: middle;\n",
       "    }\n",
       "\n",
       "    .dataframe tbody tr th {\n",
       "        vertical-align: top;\n",
       "    }\n",
       "\n",
       "    .dataframe thead th {\n",
       "        text-align: right;\n",
       "    }\n",
       "</style>\n",
       "<table border=\"1\" class=\"dataframe\">\n",
       "  <thead>\n",
       "    <tr style=\"text-align: right;\">\n",
       "      <th></th>\n",
       "      <th>Mean</th>\n",
       "    </tr>\n",
       "  </thead>\n",
       "  <tbody>\n",
       "    <tr>\n",
       "      <th>$E[r^{*}]$</th>\n",
       "      <td>0.0019</td>\n",
       "    </tr>\n",
       "  </tbody>\n",
       "</table>\n",
       "</div>"
      ],
      "text/plain": [
       "              Mean\n",
       "$E[r^{*}]$  0.0019"
      ]
     },
     "execution_count": 173,
     "metadata": {},
     "output_type": "execute_result"
    }
   ],
   "source": [
    "r_star_pred.mean().to_frame('Mean')"
   ]
  },
  {
   "cell_type": "code",
   "execution_count": 174,
   "metadata": {},
   "outputs": [
    {
     "data": {
      "image/png": "[encoded data removed]",
      "text/plain": [
       "<Figure size 1080x720 with 1 Axes>"
      ]
     },
     "metadata": {},
     "output_type": "display_data"
    }
   ],
   "source": [
    "r_star_pred.plot()\n",
    "plt.xlabel('Date', size = 16)\n",
    "plt.ylabel(r'$E[r^{*}]$', size = 16)\n",
    "plt.title(r'$E[r^{*}]$ over time', size = 20)\n",
    "plt.show()"
   ]
  },
  {
   "cell_type": "markdown",
   "metadata": {},
   "source": [
    "(d)"
   ]
  },
  {
   "cell_type": "code",
   "execution_count": 175,
   "metadata": {},
   "outputs": [
    {
     "data": {
      "text/html": [
       "<div>\n",
       "<style scoped>\n",
       "    .dataframe tbody tr th:only-of-type {\n",
       "        vertical-align: middle;\n",
       "    }\n",
       "\n",
       "    .dataframe tbody tr th {\n",
       "        vertical-align: top;\n",
       "    }\n",
       "\n",
       "    .dataframe thead th {\n",
       "        text-align: right;\n",
       "    }\n",
       "</style>\n",
       "<table border=\"1\" class=\"dataframe\">\n",
       "  <thead>\n",
       "    <tr style=\"text-align: right;\">\n",
       "      <th></th>\n",
       "      <th>$w_{t}$</th>\n",
       "    </tr>\n",
       "    <tr>\n",
       "      <th>DATE</th>\n",
       "      <th></th>\n",
       "    </tr>\n",
       "  </thead>\n",
       "  <tbody>\n",
       "    <tr>\n",
       "      <th>1996-11-30</th>\n",
       "      <td>NaN</td>\n",
       "    </tr>\n",
       "    <tr>\n",
       "      <th>1996-12-31</th>\n",
       "      <td>0.6861</td>\n",
       "    </tr>\n",
       "    <tr>\n",
       "      <th>1997-01-31</th>\n",
       "      <td>0.7177</td>\n",
       "    </tr>\n",
       "    <tr>\n",
       "      <th>1997-02-28</th>\n",
       "      <td>0.6768</td>\n",
       "    </tr>\n",
       "    <tr>\n",
       "      <th>1997-03-31</th>\n",
       "      <td>0.6121</td>\n",
       "    </tr>\n",
       "  </tbody>\n",
       "</table>\n",
       "</div>"
      ],
      "text/plain": [
       "            $w_{t}$\n",
       "DATE               \n",
       "1996-11-30      NaN\n",
       "1996-12-31   0.6861\n",
       "1997-01-31   0.7177\n",
       "1997-02-28   0.6768\n",
       "1997-03-31   0.6121"
      ]
     },
     "execution_count": 175,
     "metadata": {},
     "output_type": "execute_result"
    }
   ],
   "source": [
    "weights = (r_star_pred[r'$E[r^{*}]$'] / (4 * r_star[r'$r^{*}$'].var())).shift(1).to_frame(r'$w_{t}$')\n",
    "\n",
    "weights.head()"
   ]
  },
  {
   "cell_type": "code",
   "execution_count": 176,
   "metadata": {},
   "outputs": [
    {
     "data": {
      "text/html": [
       "<div>\n",
       "<style scoped>\n",
       "    .dataframe tbody tr th:only-of-type {\n",
       "        vertical-align: middle;\n",
       "    }\n",
       "\n",
       "    .dataframe tbody tr th {\n",
       "        vertical-align: top;\n",
       "    }\n",
       "\n",
       "    .dataframe thead th {\n",
       "        text-align: right;\n",
       "    }\n",
       "</style>\n",
       "<table border=\"1\" class=\"dataframe\">\n",
       "  <thead>\n",
       "    <tr style=\"text-align: right;\">\n",
       "      <th></th>\n",
       "      <th>$w_{t}$</th>\n",
       "    </tr>\n",
       "    <tr>\n",
       "      <th>DATE</th>\n",
       "      <th></th>\n",
       "    </tr>\n",
       "  </thead>\n",
       "  <tbody>\n",
       "    <tr>\n",
       "      <th>2009-06-30</th>\n",
       "      <td>-1.2711</td>\n",
       "    </tr>\n",
       "  </tbody>\n",
       "</table>\n",
       "</div>"
      ],
      "text/plain": [
       "            $w_{t}$\n",
       "DATE               \n",
       "2009-06-30  -1.2711"
      ]
     },
     "execution_count": 176,
     "metadata": {},
     "output_type": "execute_result"
    }
   ],
   "source": [
    "weights.nsmallest(1, [r'$w_{t}$'])"
   ]
  },
  {
   "cell_type": "code",
   "execution_count": 177,
   "metadata": {},
   "outputs": [
    {
     "data": {
      "text/html": [
       "<div>\n",
       "<style scoped>\n",
       "    .dataframe tbody tr th:only-of-type {\n",
       "        vertical-align: middle;\n",
       "    }\n",
       "\n",
       "    .dataframe tbody tr th {\n",
       "        vertical-align: top;\n",
       "    }\n",
       "\n",
       "    .dataframe thead th {\n",
       "        text-align: right;\n",
       "    }\n",
       "</style>\n",
       "<table border=\"1\" class=\"dataframe\">\n",
       "  <thead>\n",
       "    <tr style=\"text-align: right;\">\n",
       "      <th></th>\n",
       "      <th>$w_{t}$</th>\n",
       "    </tr>\n",
       "    <tr>\n",
       "      <th>DATE</th>\n",
       "      <th></th>\n",
       "    </tr>\n",
       "  </thead>\n",
       "  <tbody>\n",
       "    <tr>\n",
       "      <th>2011-10-31</th>\n",
       "      <td>1.7109</td>\n",
       "    </tr>\n",
       "  </tbody>\n",
       "</table>\n",
       "</div>"
      ],
      "text/plain": [
       "            $w_{t}$\n",
       "DATE               \n",
       "2011-10-31   1.7109"
      ]
     },
     "execution_count": 177,
     "metadata": {},
     "output_type": "execute_result"
    }
   ],
   "source": [
    "weights.nlargest(1, [r'$w_{t}$'])"
   ]
  },
  {
   "cell_type": "code",
   "execution_count": 178,
   "metadata": {},
   "outputs": [
    {
     "data": {
      "text/html": [
       "<div>\n",
       "<style scoped>\n",
       "    .dataframe tbody tr th:only-of-type {\n",
       "        vertical-align: middle;\n",
       "    }\n",
       "\n",
       "    .dataframe tbody tr th {\n",
       "        vertical-align: top;\n",
       "    }\n",
       "\n",
       "    .dataframe thead th {\n",
       "        text-align: right;\n",
       "    }\n",
       "</style>\n",
       "<table border=\"1\" class=\"dataframe\">\n",
       "  <thead>\n",
       "    <tr style=\"text-align: right;\">\n",
       "      <th></th>\n",
       "      <th>Mean</th>\n",
       "    </tr>\n",
       "  </thead>\n",
       "  <tbody>\n",
       "    <tr>\n",
       "      <th>$w_{t}$</th>\n",
       "      <td>0.3818</td>\n",
       "    </tr>\n",
       "  </tbody>\n",
       "</table>\n",
       "</div>"
      ],
      "text/plain": [
       "           Mean\n",
       "$w_{t}$  0.3818"
      ]
     },
     "execution_count": 178,
     "metadata": {},
     "output_type": "execute_result"
    }
   ],
   "source": [
    "weights.mean().to_frame('Mean')"
   ]
  },
  {
   "cell_type": "markdown",
   "metadata": {},
   "source": [
    "(e)"
   ]
  },
  {
   "cell_type": "code",
   "execution_count": 179,
   "metadata": {},
   "outputs": [
    {
     "data": {
      "text/html": [
       "<div>\n",
       "<style scoped>\n",
       "    .dataframe tbody tr th:only-of-type {\n",
       "        vertical-align: middle;\n",
       "    }\n",
       "\n",
       "    .dataframe tbody tr th {\n",
       "        vertical-align: top;\n",
       "    }\n",
       "\n",
       "    .dataframe thead th {\n",
       "        text-align: right;\n",
       "    }\n",
       "</style>\n",
       "<table border=\"1\" class=\"dataframe\">\n",
       "  <thead>\n",
       "    <tr style=\"text-align: right;\">\n",
       "      <th></th>\n",
       "      <th>$r^{dynamic}$</th>\n",
       "    </tr>\n",
       "    <tr>\n",
       "      <th>DATE</th>\n",
       "      <th></th>\n",
       "    </tr>\n",
       "  </thead>\n",
       "  <tbody>\n",
       "    <tr>\n",
       "      <th>1996-12-31</th>\n",
       "      <td>0.0375</td>\n",
       "    </tr>\n",
       "    <tr>\n",
       "      <th>1997-01-31</th>\n",
       "      <td>0.0207</td>\n",
       "    </tr>\n",
       "    <tr>\n",
       "      <th>1997-02-28</th>\n",
       "      <td>-0.0193</td>\n",
       "    </tr>\n",
       "    <tr>\n",
       "      <th>1997-03-31</th>\n",
       "      <td>-0.0116</td>\n",
       "    </tr>\n",
       "    <tr>\n",
       "      <th>1997-04-30</th>\n",
       "      <td>0.0651</td>\n",
       "    </tr>\n",
       "  </tbody>\n",
       "</table>\n",
       "</div>"
      ],
      "text/plain": [
       "            $r^{dynamic}$\n",
       "DATE                     \n",
       "1996-12-31         0.0375\n",
       "1997-01-31         0.0207\n",
       "1997-02-28        -0.0193\n",
       "1997-03-31        -0.0116\n",
       "1997-04-30         0.0651"
      ]
     },
     "execution_count": 179,
     "metadata": {},
     "output_type": "execute_result"
    }
   ],
   "source": [
    "r_dynamic = (weights[r'$w_{t}$'] * r_star[r'$r^{*}$']).to_frame(r'$r^{dynamic}$').dropna()\n",
    "\n",
    "r_dynamic.head()"
   ]
  },
  {
   "cell_type": "code",
   "execution_count": 180,
   "metadata": {},
   "outputs": [
    {
     "data": {
      "text/html": [
       "<div>\n",
       "<style scoped>\n",
       "    .dataframe tbody tr th:only-of-type {\n",
       "        vertical-align: middle;\n",
       "    }\n",
       "\n",
       "    .dataframe tbody tr th {\n",
       "        vertical-align: top;\n",
       "    }\n",
       "\n",
       "    .dataframe thead th {\n",
       "        text-align: right;\n",
       "    }\n",
       "</style>\n",
       "<table border=\"1\" class=\"dataframe\">\n",
       "  <thead>\n",
       "    <tr style=\"text-align: right;\">\n",
       "      <th></th>\n",
       "      <th>Mean</th>\n",
       "      <th>Vol</th>\n",
       "      <th>Sharpe</th>\n",
       "    </tr>\n",
       "  </thead>\n",
       "  <tbody>\n",
       "    <tr>\n",
       "      <th>$r^{dynamic}$</th>\n",
       "      <td>0.0287</td>\n",
       "      <td>0.0768</td>\n",
       "      <td>0.3734</td>\n",
       "    </tr>\n",
       "  </tbody>\n",
       "</table>\n",
       "</div>"
      ],
      "text/plain": [
       "                 Mean     Vol  Sharpe\n",
       "$r^{dynamic}$  0.0287  0.0768  0.3734"
      ]
     },
     "execution_count": 180,
     "metadata": {},
     "output_type": "execute_result"
    }
   ],
   "source": [
    "summary_stats(r_dynamic)"
   ]
  },
  {
   "cell_type": "markdown",
   "metadata": {},
   "source": [
    "(f)"
   ]
  },
  {
   "cell_type": "code",
   "execution_count": 181,
   "metadata": {},
   "outputs": [
    {
     "data": {
      "text/html": [
       "<div>\n",
       "<style scoped>\n",
       "    .dataframe tbody tr th:only-of-type {\n",
       "        vertical-align: middle;\n",
       "    }\n",
       "\n",
       "    .dataframe tbody tr th {\n",
       "        vertical-align: top;\n",
       "    }\n",
       "\n",
       "    .dataframe thead th {\n",
       "        text-align: right;\n",
       "    }\n",
       "</style>\n",
       "<table border=\"1\" class=\"dataframe\">\n",
       "  <thead>\n",
       "    <tr style=\"text-align: right;\">\n",
       "      <th></th>\n",
       "      <th>Mean</th>\n",
       "      <th>Vol</th>\n",
       "      <th>Sharpe</th>\n",
       "    </tr>\n",
       "  </thead>\n",
       "  <tbody>\n",
       "    <tr>\n",
       "      <th>$r^{*}$</th>\n",
       "      <td>0.0217</td>\n",
       "      <td>0.1233</td>\n",
       "      <td>0.1764</td>\n",
       "    </tr>\n",
       "    <tr>\n",
       "      <th>$r^{dynamic}$</th>\n",
       "      <td>0.0287</td>\n",
       "      <td>0.0768</td>\n",
       "      <td>0.3734</td>\n",
       "    </tr>\n",
       "  </tbody>\n",
       "</table>\n",
       "</div>"
      ],
      "text/plain": [
       "                 Mean     Vol  Sharpe\n",
       "$r^{*}$        0.0217  0.1233  0.1764\n",
       "$r^{dynamic}$  0.0287  0.0768  0.3734"
      ]
     },
     "execution_count": 181,
     "metadata": {},
     "output_type": "execute_result"
    }
   ],
   "source": [
    "stats_df.append(summary_stats(r_dynamic))"
   ]
  },
  {
   "cell_type": "markdown",
   "metadata": {},
   "source": [
    "## 4 Risk"
   ]
  },
  {
   "cell_type": "code",
   "execution_count": 182,
   "metadata": {},
   "outputs": [
    {
     "data": {
      "text/html": [
       "<div>\n",
       "<style scoped>\n",
       "    .dataframe tbody tr th:only-of-type {\n",
       "        vertical-align: middle;\n",
       "    }\n",
       "\n",
       "    .dataframe tbody tr th {\n",
       "        vertical-align: top;\n",
       "    }\n",
       "\n",
       "    .dataframe thead th {\n",
       "        text-align: right;\n",
       "    }\n",
       "</style>\n",
       "<table border=\"1\" class=\"dataframe\">\n",
       "  <thead>\n",
       "    <tr style=\"text-align: right;\">\n",
       "      <th></th>\n",
       "      <th>RF</th>\n",
       "      <th>MKT</th>\n",
       "      <th>GMWAX</th>\n",
       "      <th>gmo excess</th>\n",
       "    </tr>\n",
       "    <tr>\n",
       "      <th>DATE</th>\n",
       "      <th></th>\n",
       "      <th></th>\n",
       "      <th></th>\n",
       "      <th></th>\n",
       "    </tr>\n",
       "  </thead>\n",
       "  <tbody>\n",
       "    <tr>\n",
       "      <th>1996-11-30</th>\n",
       "      <td>0.0042</td>\n",
       "      <td>0.0120</td>\n",
       "      <td>0.0452</td>\n",
       "      <td>0.0410</td>\n",
       "    </tr>\n",
       "    <tr>\n",
       "      <th>1996-12-31</th>\n",
       "      <td>0.0041</td>\n",
       "      <td>0.0326</td>\n",
       "      <td>-0.0221</td>\n",
       "      <td>-0.0262</td>\n",
       "    </tr>\n",
       "    <tr>\n",
       "      <th>1997-01-31</th>\n",
       "      <td>0.0042</td>\n",
       "      <td>0.0436</td>\n",
       "      <td>0.0147</td>\n",
       "      <td>0.0105</td>\n",
       "    </tr>\n",
       "    <tr>\n",
       "      <th>1997-02-28</th>\n",
       "      <td>0.0042</td>\n",
       "      <td>-0.0062</td>\n",
       "      <td>0.0223</td>\n",
       "      <td>0.0181</td>\n",
       "    </tr>\n",
       "    <tr>\n",
       "      <th>1997-03-31</th>\n",
       "      <td>0.0043</td>\n",
       "      <td>-0.0340</td>\n",
       "      <td>-0.0152</td>\n",
       "      <td>-0.0194</td>\n",
       "    </tr>\n",
       "  </tbody>\n",
       "</table>\n",
       "</div>"
      ],
      "text/plain": [
       "                RF     MKT   GMWAX  gmo excess\n",
       "DATE                                          \n",
       "1996-11-30  0.0042  0.0120  0.0452      0.0410\n",
       "1996-12-31  0.0041  0.0326 -0.0221     -0.0262\n",
       "1997-01-31  0.0042  0.0436  0.0147      0.0105\n",
       "1997-02-28  0.0042 -0.0062  0.0223      0.0181\n",
       "1997-03-31  0.0043 -0.0340 -0.0152     -0.0194"
      ]
     },
     "execution_count": 182,
     "metadata": {},
     "output_type": "execute_result"
    }
   ],
   "source": [
    "gmo_['gmo excess'] = gmo_['GMWAX'].subtract(gmo_['RF'])\n",
    "\n",
    "gmo_.head()"
   ]
  },
  {
   "cell_type": "markdown",
   "metadata": {},
   "source": [
    "(a)"
   ]
  },
  {
   "cell_type": "code",
   "execution_count": 183,
   "metadata": {},
   "outputs": [
    {
     "data": {
      "text/plain": [
       "-0.04163335024846228"
      ]
     },
     "execution_count": 183,
     "metadata": {},
     "output_type": "execute_result"
    }
   ],
   "source": [
    "gmo_['gmo excess'].quantile(.05)"
   ]
  },
  {
   "cell_type": "markdown",
   "metadata": {},
   "source": [
    "(b)"
   ]
  },
  {
   "cell_type": "code",
   "execution_count": 184,
   "metadata": {},
   "outputs": [
    {
     "data": {
      "text/plain": [
       "0.0008612497600674487"
      ]
     },
     "execution_count": 184,
     "metadata": {},
     "output_type": "execute_result"
    }
   ],
   "source": [
    "gmo_['gmo excess'].var()"
   ]
  },
  {
   "cell_type": "code",
   "execution_count": 185,
   "metadata": {},
   "outputs": [
    {
     "data": {
      "text/plain": [
       "0.029347057093811788"
      ]
     },
     "execution_count": 185,
     "metadata": {},
     "output_type": "execute_result"
    }
   ],
   "source": [
    "gmo_['gmo excess'].std()"
   ]
  },
  {
   "cell_type": "markdown",
   "metadata": {},
   "source": [
    "(c)"
   ]
  },
  {
   "cell_type": "code",
   "execution_count": 186,
   "metadata": {},
   "outputs": [
    {
     "data": {
      "text/plain": [
       "-1.5548963395008706"
      ]
     },
     "execution_count": 186,
     "metadata": {},
     "output_type": "execute_result"
    }
   ],
   "source": [
    "(gmo_['gmo excess'].quantile(.05) - gmo_['gmo excess'].mean()) / gmo_['gmo excess'].std()"
   ]
  },
  {
   "cell_type": "markdown",
   "metadata": {},
   "source": [
    "## 4.2"
   ]
  },
  {
   "cell_type": "markdown",
   "metadata": {},
   "source": [
    "(b) (5pts) Calculate the 5th percentile, 1-day-ahead VaR using simplified formula:\n",
    "\n",
    "VaR = −1.65σt\n",
    "\n",
    "Compare this to the unconditional VaR calculated at the start of this problem."
   ]
  },
  {
   "cell_type": "markdown",
   "metadata": {},
   "source": [
    "## 4.3"
   ]
  },
  {
   "cell_type": "code",
   "execution_count": 187,
   "metadata": {},
   "outputs": [
    {
     "data": {
      "text/html": [
       "<div>\n",
       "<style scoped>\n",
       "    .dataframe tbody tr th:only-of-type {\n",
       "        vertical-align: middle;\n",
       "    }\n",
       "\n",
       "    .dataframe tbody tr th {\n",
       "        vertical-align: top;\n",
       "    }\n",
       "\n",
       "    .dataframe thead th {\n",
       "        text-align: right;\n",
       "    }\n",
       "</style>\n",
       "<table border=\"1\" class=\"dataframe\">\n",
       "  <thead>\n",
       "    <tr style=\"text-align: right;\">\n",
       "      <th></th>\n",
       "      <th>MKT</th>\n",
       "      <th>GMWAX</th>\n",
       "    </tr>\n",
       "    <tr>\n",
       "      <th>DATE</th>\n",
       "      <th></th>\n",
       "      <th></th>\n",
       "    </tr>\n",
       "  </thead>\n",
       "  <tbody>\n",
       "    <tr>\n",
       "      <th>1996-11-30</th>\n",
       "      <td>0.0078</td>\n",
       "      <td>0.0410</td>\n",
       "    </tr>\n",
       "    <tr>\n",
       "      <th>1996-12-31</th>\n",
       "      <td>0.0285</td>\n",
       "      <td>-0.0262</td>\n",
       "    </tr>\n",
       "    <tr>\n",
       "      <th>1997-01-31</th>\n",
       "      <td>0.0394</td>\n",
       "      <td>0.0105</td>\n",
       "    </tr>\n",
       "    <tr>\n",
       "      <th>1997-02-28</th>\n",
       "      <td>-0.0104</td>\n",
       "      <td>0.0181</td>\n",
       "    </tr>\n",
       "    <tr>\n",
       "      <th>1997-03-31</th>\n",
       "      <td>-0.0383</td>\n",
       "      <td>-0.0194</td>\n",
       "    </tr>\n",
       "  </tbody>\n",
       "</table>\n",
       "</div>"
      ],
      "text/plain": [
       "               MKT   GMWAX\n",
       "DATE                      \n",
       "1996-11-30  0.0078  0.0410\n",
       "1996-12-31  0.0285 -0.0262\n",
       "1997-01-31  0.0394  0.0105\n",
       "1997-02-28 -0.0104  0.0181\n",
       "1997-03-31 -0.0383 -0.0194"
      ]
     },
     "execution_count": 187,
     "metadata": {},
     "output_type": "execute_result"
    }
   ],
   "source": [
    "ret_ex = gmo_[['MKT','GMWAX']].subtract(gmo_['RF'], axis = 0)\n",
    "\n",
    "ret_ex.head()"
   ]
  },
  {
   "cell_type": "markdown",
   "metadata": {},
   "source": [
    "(a)"
   ]
  },
  {
   "cell_type": "code",
   "execution_count": 188,
   "metadata": {},
   "outputs": [],
   "source": [
    "mu_tilde = ret_ex.mean() * 12\n",
    "std = ret_ex.std() * np.sqrt(12)\n",
    "Sigma = ret_ex.cov() * 12\n",
    "Sigma_inv = inv(Sigma)\n",
    "N = Sigma.shape[0]\n",
    "\n",
    "weights_t = Sigma_inv @ mu_tilde / (np.ones(N) @ Sigma_inv @ mu_tilde)"
   ]
  },
  {
   "cell_type": "code",
   "execution_count": 189,
   "metadata": {},
   "outputs": [
    {
     "data": {
      "text/html": [
       "<div>\n",
       "<style scoped>\n",
       "    .dataframe tbody tr th:only-of-type {\n",
       "        vertical-align: middle;\n",
       "    }\n",
       "\n",
       "    .dataframe tbody tr th {\n",
       "        vertical-align: top;\n",
       "    }\n",
       "\n",
       "    .dataframe thead th {\n",
       "        text-align: right;\n",
       "    }\n",
       "</style>\n",
       "<table border=\"1\" class=\"dataframe\">\n",
       "  <thead>\n",
       "    <tr style=\"text-align: right;\">\n",
       "      <th></th>\n",
       "      <th>Weights of tangency portfolio</th>\n",
       "    </tr>\n",
       "  </thead>\n",
       "  <tbody>\n",
       "    <tr>\n",
       "      <th>MKT</th>\n",
       "      <td>0.4853</td>\n",
       "    </tr>\n",
       "    <tr>\n",
       "      <th>GMWAX</th>\n",
       "      <td>0.5147</td>\n",
       "    </tr>\n",
       "  </tbody>\n",
       "</table>\n",
       "</div>"
      ],
      "text/plain": [
       "       Weights of tangency portfolio\n",
       "MKT                           0.4853\n",
       "GMWAX                         0.5147"
      ]
     },
     "execution_count": 189,
     "metadata": {},
     "output_type": "execute_result"
    }
   ],
   "source": [
    "pd.DataFrame(weights_t, index=ret_ex.columns, columns=['Weights of tangency portfolio'])"
   ]
  },
  {
   "cell_type": "markdown",
   "metadata": {},
   "source": [
    "(b)"
   ]
  },
  {
   "cell_type": "code",
   "execution_count": 190,
   "metadata": {},
   "outputs": [
    {
     "data": {
      "text/html": [
       "<div>\n",
       "<style scoped>\n",
       "    .dataframe tbody tr th:only-of-type {\n",
       "        vertical-align: middle;\n",
       "    }\n",
       "\n",
       "    .dataframe tbody tr th {\n",
       "        vertical-align: top;\n",
       "    }\n",
       "\n",
       "    .dataframe thead th {\n",
       "        text-align: right;\n",
       "    }\n",
       "</style>\n",
       "<table border=\"1\" class=\"dataframe\">\n",
       "  <thead>\n",
       "    <tr style=\"text-align: right;\">\n",
       "      <th></th>\n",
       "      <th>Mean</th>\n",
       "      <th>Vol</th>\n",
       "      <th>Sharpe</th>\n",
       "    </tr>\n",
       "  </thead>\n",
       "  <tbody>\n",
       "    <tr>\n",
       "      <th>Tangency portfolio</th>\n",
       "      <td>0.0585</td>\n",
       "      <td>0.1028</td>\n",
       "      <td>0.5694</td>\n",
       "    </tr>\n",
       "  </tbody>\n",
       "</table>\n",
       "</div>"
      ],
      "text/plain": [
       "                      Mean     Vol  Sharpe\n",
       "Tangency portfolio  0.0585  0.1028  0.5694"
      ]
     },
     "execution_count": 190,
     "metadata": {},
     "output_type": "execute_result"
    }
   ],
   "source": [
    "tang_df = (ret_ex @ weights_t).to_frame('Tangency portfolio')\n",
    "\n",
    "summary_stats(tang_df)"
   ]
  },
  {
   "cell_type": "markdown",
   "metadata": {},
   "source": [
    "(c)\n",
    "\n",
    "Expected return and covariances used in sample might not hold true for out of sample, so tangency weight will not be same."
   ]
  }
 ],
 "metadata": {
  "kernelspec": {
   "display_name": "Python 3",
   "language": "python",
   "name": "python3"
  },
  "language_info": {
   "codemirror_mode": {
    "name": "ipython",
    "version": 3
   },
   "file_extension": ".py",
   "mimetype": "text/x-python",
   "name": "python",
   "nbconvert_exporter": "python",
   "pygments_lexer": "ipython3",
   "version": "3.8.3"
  }
 },
 "nbformat": 4,
 "nbformat_minor": 4
}
