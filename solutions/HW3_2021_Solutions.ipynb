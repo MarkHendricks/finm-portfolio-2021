{
 "cells": [
  {
   "cell_type": "markdown",
   "metadata": {},
   "source": [
    "# Homework #3 Solutions\n",
    "### Portfolio Theory and Risk Management I"
   ]
  },
  {
   "cell_type": "markdown",
   "metadata": {},
   "source": [
    "## Imports"
   ]
  },
  {
   "cell_type": "code",
   "execution_count": 195,
   "metadata": {},
   "outputs": [],
   "source": [
    "import pandas as pd\n",
    "import numpy as np\n",
    "import matplotlib.pyplot as plt\n",
    "import statsmodels.api as sm\n",
    "from arch import arch_model\n",
    "from arch.univariate import GARCH, EWMAVariance \n",
    "from sklearn import linear_model\n",
    "import scipy.stats as stats\n",
    "from statsmodels.regression.rolling import RollingOLS\n",
    "import seaborn as sns\n",
    "import warnings\n",
    "warnings.filterwarnings(\"ignore\")\n",
    "pd.set_option(\"display.precision\", 4)"
   ]
  },
  {
   "cell_type": "markdown",
   "metadata": {},
   "source": [
    "## Data"
   ]
  },
  {
   "cell_type": "code",
   "execution_count": 196,
   "metadata": {},
   "outputs": [
    {
     "data": {
      "text/html": [
       "<div>\n",
       "<style scoped>\n",
       "    .dataframe tbody tr th:only-of-type {\n",
       "        vertical-align: middle;\n",
       "    }\n",
       "\n",
       "    .dataframe tbody tr th {\n",
       "        vertical-align: top;\n",
       "    }\n",
       "\n",
       "    .dataframe thead th {\n",
       "        text-align: right;\n",
       "    }\n",
       "</style>\n",
       "<table border=\"1\" class=\"dataframe\">\n",
       "  <thead>\n",
       "    <tr style=\"text-align: right;\">\n",
       "      <th></th>\n",
       "      <th>SPX</th>\n",
       "      <th>TB1M</th>\n",
       "    </tr>\n",
       "    <tr>\n",
       "      <th>date</th>\n",
       "      <th></th>\n",
       "      <th></th>\n",
       "    </tr>\n",
       "  </thead>\n",
       "  <tbody>\n",
       "    <tr>\n",
       "      <th>1926-01-30</th>\n",
       "      <td>-0.0018</td>\n",
       "      <td>0.0031</td>\n",
       "    </tr>\n",
       "    <tr>\n",
       "      <th>1926-02-27</th>\n",
       "      <td>-0.0333</td>\n",
       "      <td>0.0026</td>\n",
       "    </tr>\n",
       "    <tr>\n",
       "      <th>1926-03-31</th>\n",
       "      <td>-0.0577</td>\n",
       "      <td>0.0026</td>\n",
       "    </tr>\n",
       "    <tr>\n",
       "      <th>1926-04-30</th>\n",
       "      <td>0.0385</td>\n",
       "      <td>0.0023</td>\n",
       "    </tr>\n",
       "    <tr>\n",
       "      <th>1926-05-28</th>\n",
       "      <td>0.0136</td>\n",
       "      <td>0.0027</td>\n",
       "    </tr>\n",
       "  </tbody>\n",
       "</table>\n",
       "</div>"
      ],
      "text/plain": [
       "               SPX    TB1M\n",
       "date                      \n",
       "1926-01-30 -0.0018  0.0031\n",
       "1926-02-27 -0.0333  0.0026\n",
       "1926-03-31 -0.0577  0.0026\n",
       "1926-04-30  0.0385  0.0023\n",
       "1926-05-28  0.0136  0.0027"
      ]
     },
     "execution_count": 196,
     "metadata": {},
     "output_type": "execute_result"
    }
   ],
   "source": [
    "df = pd.read_excel('../data/barnstable_analysis_data.xlsx', sheet_name = 1)\n",
    "\n",
    "df = df.set_index('date')\n",
    "\n",
    "df.head()"
   ]
  },
  {
   "cell_type": "code",
   "execution_count": 197,
   "metadata": {},
   "outputs": [
    {
     "data": {
      "text/html": [
       "<div>\n",
       "<style scoped>\n",
       "    .dataframe tbody tr th:only-of-type {\n",
       "        vertical-align: middle;\n",
       "    }\n",
       "\n",
       "    .dataframe tbody tr th {\n",
       "        vertical-align: top;\n",
       "    }\n",
       "\n",
       "    .dataframe thead th {\n",
       "        text-align: right;\n",
       "    }\n",
       "</style>\n",
       "<table border=\"1\" class=\"dataframe\">\n",
       "  <thead>\n",
       "    <tr style=\"text-align: right;\">\n",
       "      <th></th>\n",
       "      <th>SPX</th>\n",
       "      <th>TB1M</th>\n",
       "    </tr>\n",
       "    <tr>\n",
       "      <th>date</th>\n",
       "      <th></th>\n",
       "      <th></th>\n",
       "    </tr>\n",
       "  </thead>\n",
       "  <tbody>\n",
       "    <tr>\n",
       "      <th>1926-01-30</th>\n",
       "      <td>-0.0018</td>\n",
       "      <td>0.0031</td>\n",
       "    </tr>\n",
       "    <tr>\n",
       "      <th>1926-02-27</th>\n",
       "      <td>-0.0339</td>\n",
       "      <td>0.0026</td>\n",
       "    </tr>\n",
       "    <tr>\n",
       "      <th>1926-03-31</th>\n",
       "      <td>-0.0594</td>\n",
       "      <td>0.0026</td>\n",
       "    </tr>\n",
       "    <tr>\n",
       "      <th>1926-04-30</th>\n",
       "      <td>0.0378</td>\n",
       "      <td>0.0023</td>\n",
       "    </tr>\n",
       "    <tr>\n",
       "      <th>1926-05-28</th>\n",
       "      <td>0.0135</td>\n",
       "      <td>0.0027</td>\n",
       "    </tr>\n",
       "  </tbody>\n",
       "</table>\n",
       "</div>"
      ],
      "text/plain": [
       "               SPX    TB1M\n",
       "date                      \n",
       "1926-01-30 -0.0018  0.0031\n",
       "1926-02-27 -0.0339  0.0026\n",
       "1926-03-31 -0.0594  0.0026\n",
       "1926-04-30  0.0378  0.0023\n",
       "1926-05-28  0.0135  0.0027"
      ]
     },
     "execution_count": 197,
     "metadata": {},
     "output_type": "execute_result"
    }
   ],
   "source": [
    "log_df = np.log(1 + df)\n",
    "\n",
    "log_df.head()"
   ]
  },
  {
   "cell_type": "markdown",
   "metadata": {},
   "source": [
    "## 1 Barnstable's Analsyis\n",
    "\n",
    "### 1.1 Barnstable's Philosophy\n",
    "   \n",
    "(a) What has Barnstable's investment strategy been in the past?\n",
    "   \n",
    "<span style=\"color:#00008B\">**Solution:** Barnstable has foregone diversification to a large extent and has instead focused on equities, primarily U.S. equities. </span>\n",
    "   \n",
    "(b) Explain the logic behind their view that stocks are safer in the long run.\n",
    "   \n",
    "<span style=\"color:#00008B\">**Solution:** The logic stems from the idea that if log returns are i.i.d., then the annualized average (log) return will converge to the population mean. Thus, if the population mean of equities is higher than other asset classes, the h-period return is almost certainly larger for equities as $h$ gets large.</span>\n",
    "\n",
    "<span style=\"color:#00008B\"> Given that Barnstable is a long-term investor without special need for liquidity, they are willing to maximize the total h-period return even if the one-year returns are riskier. </span>\n",
    "\n",
    "(c) What assumptions underly Barnstable's belief in the long-run safety of stocks?\n",
    "\n",
    "<span style=\"color:#00008B\">**Solution:** The model for convergence in the long-run was based on i.i.d.log returns. So to the extent that means and volatilities change over time, the model would need to be adjusted to capture these conditional statistics.</span>\n",
    "\n",
    "### 1.2 Two Proposals\n",
    "\n",
    "(a) Describe the two proposals Barnstable is considering for how to take advantage of their view regarding the long-run safety of stocks.\n",
    "\n",
    "<span style=\"color:#00008B\">**Solution:** For the trust, Barnstable has exposure to all the upside of the equity market, but is actually insuring against the downside risk as they simply return the asset if it underperforms the 6% strike growth rate. This is a little strange given that Barnstable is confident that the stock will not under-perform. Contrast this with Barnstable's proposed strategy of selling puts. The payoff at maturity of the put is</span>\n",
    "<span style=\"color:#00008B\"> $$ Г_{30}^{\\text{selling puts}} = -max(exp\\{0.06(30)\\} - r_{t,t+30}^M, 0) $$ </span>\n",
    "\n",
    "<span style=\"color:#00008B\">Selling puts increases Barnstable's downside risk in exchange for collecting the put price. Barnstable believes this downside risk is very unlikely.</span>\n",
    "\n",
    "(b) How is the trust different from simply shorting the risk-free rate to take a levered position\n",
    "in stocks?\n",
    "\n",
    "<span style=\"color:#00008B\">**Solution:** The trust allows Barnstable to increase their position in the equity market \n",
    "exactly as would be accomplished by borrowing at the risk-free rate and investing it in stocks. But the trust locks the lenders (preferred shares) into a 30-year commitment. This removes Barnstable's liquidity risk, ensuring that they can hold the investment for the long-run.</span>\n",
    "\n",
    "(c) Do these proposals take the same bet on long-run stock performance? In what outcomes will they have different returns?\n",
    "\n",
    "<span style=\"color:#00008B\">**Solution:** Common shares are identical to buying call options on the stock, with a strike price growing at the $6\\%$ benchmark. The payoff at maturity of the common share is </span>\n",
    "\n",
    "<span style=\"color:#00008B\"> $$ Г_{30}^{\\text{common}} = -max(r_{t,t+30}^M - exp\\{0.06(30)\\}, 0)  $$ </span>\n",
    "\n",
    "<span style=\"color:#00008B\"> The preferred shareholders have an exposure identical to being long the cumulative riskless rate of $6\\%$ and selling puts on the stock, $r^M_{t;t+30}$. So the payoff is</span>\n",
    "\n",
    "<span style=\"color:#00008B\"> $$ Г_{30}^{\\text{preferred}} = exp\\{0.06(30)\\} - max(exp\\{0.06(30)\\} - r_{t,t+30}^M, 0)  $$ </span>\n",
    "\n",
    "<span style=\"color:#00008B\"> One can verify that the payoff of the preferred and common shares indeed sums to the payoff of $r^M_{t;t+30}$.\n",
    "\n",
    "(d) Do the two proposals differ in their risk?\n",
    "\n",
    "<span style=\"color:#00008B\">**Solution:** The risk profiles are enormously different. As described above, the put strategy means Barnstable has a huge liability with respect to stock under-performance. The trust strategy does not have any liability, as that is born by the preferred shareholders. There is a risk to long-run under-performance, and the trust neutralizes Barnstable from this risk while the put strategy loads into it.</span>\n",
    "\n",
    "### 1.3 Do you recommend a direct investment in the S&P, the trust or the puts?\n",
    "<span style=\"color:#00008B\">**Possible Solution:** The trust, it gets rid of Barnstable's liquidity risk when it comes to holding the position, and doesn't have the extreme tail risk that selling the puts does."
   ]
  },
  {
   "cell_type": "markdown",
   "metadata": {},
   "source": [
    "## 2 Estimating Underperformance"
   ]
  },
  {
   "cell_type": "markdown",
   "metadata": {},
   "source": [
    "### 2.1 Summary Statistics"
   ]
  },
  {
   "cell_type": "markdown",
   "metadata": {},
   "source": [
    "(a)"
   ]
  },
  {
   "cell_type": "code",
   "execution_count": 198,
   "metadata": {},
   "outputs": [
    {
     "data": {
      "text/html": [
       "<div>\n",
       "<style scoped>\n",
       "    .dataframe tbody tr th:only-of-type {\n",
       "        vertical-align: middle;\n",
       "    }\n",
       "\n",
       "    .dataframe tbody tr th {\n",
       "        vertical-align: top;\n",
       "    }\n",
       "\n",
       "    .dataframe thead th {\n",
       "        text-align: right;\n",
       "    }\n",
       "</style>\n",
       "<table border=\"1\" class=\"dataframe\">\n",
       "  <thead>\n",
       "    <tr style=\"text-align: right;\">\n",
       "      <th></th>\n",
       "      <th>1965-1999 $\\mu$</th>\n",
       "      <th>1965-1999 $\\sigma$</th>\n",
       "      <th>2000-2021 $\\mu$</th>\n",
       "      <th>2000-2021 $\\sigma$</th>\n",
       "      <th>1926-2021 $\\mu$</th>\n",
       "      <th>1926-2021 $\\sigma$</th>\n",
       "    </tr>\n",
       "  </thead>\n",
       "  <tbody>\n",
       "    <tr>\n",
       "      <th>$r^{M}$</th>\n",
       "      <td>0.1294</td>\n",
       "      <td>0.1494</td>\n",
       "      <td>0.0840</td>\n",
       "      <td>0.1499</td>\n",
       "      <td>0.1157</td>\n",
       "      <td>0.1872</td>\n",
       "    </tr>\n",
       "    <tr>\n",
       "      <th>${\\tilde{r}^{M}}$</th>\n",
       "      <td>0.0679</td>\n",
       "      <td>0.1502</td>\n",
       "      <td>0.0693</td>\n",
       "      <td>0.1505</td>\n",
       "      <td>0.0839</td>\n",
       "      <td>0.1879</td>\n",
       "    </tr>\n",
       "    <tr>\n",
       "      <th>$r^{f}$</th>\n",
       "      <td>0.0615</td>\n",
       "      <td>0.0072</td>\n",
       "      <td>0.0147</td>\n",
       "      <td>0.0050</td>\n",
       "      <td>0.0318</td>\n",
       "      <td>0.0086</td>\n",
       "    </tr>\n",
       "    <tr>\n",
       "      <th>log $r^{M}$</th>\n",
       "      <td>0.1176</td>\n",
       "      <td>0.1496</td>\n",
       "      <td>0.0724</td>\n",
       "      <td>0.1510</td>\n",
       "      <td>0.0979</td>\n",
       "      <td>0.1865</td>\n",
       "    </tr>\n",
       "    <tr>\n",
       "      <th>log ${\\tilde{r}^{M}}$</th>\n",
       "      <td>0.0563</td>\n",
       "      <td>0.1504</td>\n",
       "      <td>0.0577</td>\n",
       "      <td>0.1516</td>\n",
       "      <td>0.0662</td>\n",
       "      <td>0.1872</td>\n",
       "    </tr>\n",
       "    <tr>\n",
       "      <th>log $r^{f}$</th>\n",
       "      <td>0.0613</td>\n",
       "      <td>0.0071</td>\n",
       "      <td>0.0147</td>\n",
       "      <td>0.0050</td>\n",
       "      <td>0.0317</td>\n",
       "      <td>0.0085</td>\n",
       "    </tr>\n",
       "  </tbody>\n",
       "</table>\n",
       "</div>"
      ],
      "text/plain": [
       "                       1965-1999 $\\mu$  1965-1999 $\\sigma$  2000-2021 $\\mu$  \\\n",
       "$r^{M}$                         0.1294              0.1494           0.0840   \n",
       "${\\tilde{r}^{M}}$               0.0679              0.1502           0.0693   \n",
       "$r^{f}$                         0.0615              0.0072           0.0147   \n",
       "log $r^{M}$                     0.1176              0.1496           0.0724   \n",
       "log ${\\tilde{r}^{M}}$           0.0563              0.1504           0.0577   \n",
       "log $r^{f}$                     0.0613              0.0071           0.0147   \n",
       "\n",
       "                       2000-2021 $\\sigma$  1926-2021 $\\mu$  1926-2021 $\\sigma$  \n",
       "$r^{M}$                            0.1499           0.1157              0.1872  \n",
       "${\\tilde{r}^{M}}$                  0.1505           0.0839              0.1879  \n",
       "$r^{f}$                            0.0050           0.0318              0.0086  \n",
       "log $r^{M}$                        0.1510           0.0979              0.1865  \n",
       "log ${\\tilde{r}^{M}}$              0.1516           0.0662              0.1872  \n",
       "log $r^{f}$                        0.0050           0.0317              0.0085  "
      ]
     },
     "execution_count": 198,
     "metadata": {},
     "output_type": "execute_result"
    }
   ],
   "source": [
    "def annualized_stats(data, annual_factor, log = False):\n",
    "    if log == False:\n",
    "        df = pd.DataFrame(data = None, \n",
    "                          index = [r'$r^{M}$',r'${\\tilde{r}^{M}}$',r'$r^{f}$'])\n",
    "    else: \n",
    "        df = pd.DataFrame(data = None, \n",
    "                      index = [r'log $r^{M}$',r'log ${\\tilde{r}^{M}}$',r'log $r^{f}$'])\n",
    "        \n",
    "    df[str(data.index[0].year) + '-' + str(data.index[-1].year) + r' $\\mu$'] = [data['SPX'].mean(),\n",
    "                                                                                data['SPX'].mean()-data['TB1M'].mean(),\n",
    "                                                                                data['TB1M'].mean()] \n",
    "    \n",
    "    df[str(data.index[0].year) + '-' + str(data.index[-1].year) + r' $\\mu$'] *= annual_factor\n",
    "    \n",
    "    df[str(data.index[0].year) + '-' + str(data.index[-1].year) + r' $\\sigma$'] = [data['SPX'].std(),\n",
    "                                                                                   (data['SPX']-data['TB1M']).std(),\n",
    "                                                                                   data['TB1M'].std()] \n",
    "    \n",
    "    df[str(data.index[0].year) + '-' + str(data.index[-1].year) + r' $\\sigma$'] *= np.sqrt(annual_factor)\n",
    "    \n",
    "    return df\n",
    "\n",
    "def join(df_list):\n",
    "    df = df_list[0]\n",
    "    \n",
    "    for df_ in df_list[1:]:\n",
    "        df = df.join(df_)\n",
    "    \n",
    "    return df\n",
    "\n",
    "stats_ = join([annualized_stats(df.loc['1965':'1999'], 12),\n",
    "             annualized_stats(df.loc['2000':], 12),\n",
    "             annualized_stats(df.loc['1926':], 12)])\n",
    "\n",
    "log_stats = join([annualized_stats(log_df.loc['1965':'1999'], 12, log = True),\n",
    "                 annualized_stats(log_df.loc['2000':], 12, log = True),\n",
    "                 annualized_stats(log_df.loc['1926':], 12, log = True)])\n",
    "\n",
    "stats_df = stats_.append(log_stats)\n",
    "stats_df"
   ]
  },
  {
   "cell_type": "markdown",
   "metadata": {},
   "source": [
    "(b)\n",
    "- The earlier subsample has much higher mean returns, but similar excess returns due to the notable decrease in $r^{f}$.\n",
    "- The log returns show lower mean returns as expected."
   ]
  },
  {
   "cell_type": "markdown",
   "metadata": {},
   "source": [
    "### 2.2 Calculating Probabilities 1965-1999"
   ]
  },
  {
   "cell_type": "code",
   "execution_count": 199,
   "metadata": {},
   "outputs": [],
   "source": [
    "def prob_calc(h, tilde_mu, tilde_sigma):\n",
    "    return stats.norm.cdf(- np.sqrt(h) * tilde_mu / tilde_sigma)\n",
    "\n",
    "def prob(h, tilde_mu, tilde_sigma):\n",
    "    prob_df = pd.DataFrame(data = h, columns = ['h'])\n",
    "    \n",
    "    prob_df['Probability'] = prob_calc(prob_df['h'], tilde_mu, tilde_sigma)\n",
    "    \n",
    "    prob_df = prob_df.set_index('h')\n",
    "    \n",
    "    return prob_df"
   ]
  },
  {
   "cell_type": "markdown",
   "metadata": {},
   "source": [
    "(a)"
   ]
  },
  {
   "cell_type": "code",
   "execution_count": 203,
   "metadata": {},
   "outputs": [
    {
     "data": {
      "text/html": [
       "<div>\n",
       "<style scoped>\n",
       "    .dataframe tbody tr th:only-of-type {\n",
       "        vertical-align: middle;\n",
       "    }\n",
       "\n",
       "    .dataframe tbody tr th {\n",
       "        vertical-align: top;\n",
       "    }\n",
       "\n",
       "    .dataframe thead th {\n",
       "        text-align: right;\n",
       "    }\n",
       "</style>\n",
       "<table border=\"1\" class=\"dataframe\">\n",
       "  <thead>\n",
       "    <tr style=\"text-align: right;\">\n",
       "      <th></th>\n",
       "      <th>Probability</th>\n",
       "    </tr>\n",
       "    <tr>\n",
       "      <th>h</th>\n",
       "      <th></th>\n",
       "    </tr>\n",
       "  </thead>\n",
       "  <tbody>\n",
       "    <tr>\n",
       "      <th>22</th>\n",
       "      <td>0.0396</td>\n",
       "    </tr>\n",
       "  </tbody>\n",
       "</table>\n",
       "</div>"
      ],
      "text/plain": [
       "    Probability\n",
       "h              \n",
       "22       0.0396"
      ]
     },
     "execution_count": 203,
     "metadata": {},
     "output_type": "execute_result"
    }
   ],
   "source": [
    "mu_tilde = stats_df.iloc[4, 0]\n",
    "sigma_tilde = stats_df.iloc[4, 1]\n",
    "h = 2021 - 1999\n",
    "\n",
    "prob([h], mu_tilde, sigma_tilde)"
   ]
  },
  {
   "cell_type": "code",
   "execution_count": 204,
   "metadata": {},
   "outputs": [
    {
     "data": {
      "text/html": [
       "<div>\n",
       "<style scoped>\n",
       "    .dataframe tbody tr th:only-of-type {\n",
       "        vertical-align: middle;\n",
       "    }\n",
       "\n",
       "    .dataframe tbody tr th {\n",
       "        vertical-align: top;\n",
       "    }\n",
       "\n",
       "    .dataframe thead th {\n",
       "        text-align: right;\n",
       "    }\n",
       "</style>\n",
       "<table border=\"1\" class=\"dataframe\">\n",
       "  <thead>\n",
       "    <tr style=\"text-align: right;\">\n",
       "      <th></th>\n",
       "      <th>Probability</th>\n",
       "    </tr>\n",
       "    <tr>\n",
       "      <th>h</th>\n",
       "      <th></th>\n",
       "    </tr>\n",
       "  </thead>\n",
       "  <tbody>\n",
       "    <tr>\n",
       "      <th>5</th>\n",
       "      <td>0.2014</td>\n",
       "    </tr>\n",
       "    <tr>\n",
       "      <th>10</th>\n",
       "      <td>0.1183</td>\n",
       "    </tr>\n",
       "    <tr>\n",
       "      <th>15</th>\n",
       "      <td>0.0736</td>\n",
       "    </tr>\n",
       "    <tr>\n",
       "      <th>20</th>\n",
       "      <td>0.0471</td>\n",
       "    </tr>\n",
       "    <tr>\n",
       "      <th>25</th>\n",
       "      <td>0.0307</td>\n",
       "    </tr>\n",
       "    <tr>\n",
       "      <th>30</th>\n",
       "      <td>0.0202</td>\n",
       "    </tr>\n",
       "  </tbody>\n",
       "</table>\n",
       "</div>"
      ],
      "text/plain": [
       "    Probability\n",
       "h              \n",
       "5        0.2014\n",
       "10       0.1183\n",
       "15       0.0736\n",
       "20       0.0471\n",
       "25       0.0307\n",
       "30       0.0202"
      ]
     },
     "execution_count": 204,
     "metadata": {},
     "output_type": "execute_result"
    }
   ],
   "source": [
    "prob(list(range(5,35, 5)), mu_tilde, sigma_tilde)"
   ]
  },
  {
   "cell_type": "markdown",
   "metadata": {},
   "source": [
    "(b)"
   ]
  },
  {
   "cell_type": "code",
   "execution_count": 182,
   "metadata": {},
   "outputs": [
    {
     "data": {
      "text/html": [
       "<div>\n",
       "<style scoped>\n",
       "    .dataframe tbody tr th:only-of-type {\n",
       "        vertical-align: middle;\n",
       "    }\n",
       "\n",
       "    .dataframe tbody tr th {\n",
       "        vertical-align: top;\n",
       "    }\n",
       "\n",
       "    .dataframe thead th {\n",
       "        text-align: right;\n",
       "    }\n",
       "</style>\n",
       "<table border=\"1\" class=\"dataframe\">\n",
       "  <thead>\n",
       "    <tr style=\"text-align: right;\">\n",
       "      <th></th>\n",
       "      <th>Probability</th>\n",
       "    </tr>\n",
       "    <tr>\n",
       "      <th>h</th>\n",
       "      <th></th>\n",
       "    </tr>\n",
       "  </thead>\n",
       "  <tbody>\n",
       "    <tr>\n",
       "      <th>10</th>\n",
       "      <td>0.1183</td>\n",
       "    </tr>\n",
       "    <tr>\n",
       "      <th>30</th>\n",
       "      <td>0.0202</td>\n",
       "    </tr>\n",
       "  </tbody>\n",
       "</table>\n",
       "</div>"
      ],
      "text/plain": [
       "    Probability\n",
       "h              \n",
       "10       0.1183\n",
       "30       0.0202"
      ]
     },
     "execution_count": 182,
     "metadata": {},
     "output_type": "execute_result"
    }
   ],
   "source": [
    "prob([10, 30], mu_tilde, sigma_tilde)"
   ]
  },
  {
   "cell_type": "markdown",
   "metadata": {},
   "source": [
    "(c) "
   ]
  },
  {
   "cell_type": "code",
   "execution_count": 140,
   "metadata": {},
   "outputs": [
    {
     "data": {
      "image/png": "[encoded data removed]",
      "text/plain": [
       "<Figure size 432x288 with 1 Axes>"
      ]
     },
     "metadata": {
      "needs_background": "light"
     },
     "output_type": "display_data"
    }
   ],
   "source": [
    "prob_horizon = prob(list(range(1, 31)), mu_tilde, sigma_tilde)\n",
    "\n",
    "prob_horizon.plot() \n",
    "plt.title('Probability by Investment Horizon')\n",
    "plt.ylabel('Prob. of Shortfall')\n",
    "plt.show()"
   ]
  },
  {
   "cell_type": "markdown",
   "metadata": {},
   "source": [
    "### 2.3 Calculating Probabilities 1965-2021"
   ]
  },
  {
   "cell_type": "code",
   "execution_count": 215,
   "metadata": {},
   "outputs": [
    {
     "data": {
      "text/html": [
       "<div>\n",
       "<style scoped>\n",
       "    .dataframe tbody tr th:only-of-type {\n",
       "        vertical-align: middle;\n",
       "    }\n",
       "\n",
       "    .dataframe tbody tr th {\n",
       "        vertical-align: top;\n",
       "    }\n",
       "\n",
       "    .dataframe thead th {\n",
       "        text-align: right;\n",
       "    }\n",
       "</style>\n",
       "<table border=\"1\" class=\"dataframe\">\n",
       "  <thead>\n",
       "    <tr style=\"text-align: right;\">\n",
       "      <th></th>\n",
       "      <th>Probability</th>\n",
       "    </tr>\n",
       "    <tr>\n",
       "      <th>h</th>\n",
       "      <th></th>\n",
       "    </tr>\n",
       "  </thead>\n",
       "  <tbody>\n",
       "    <tr>\n",
       "      <th>5</th>\n",
       "      <td>0.1976</td>\n",
       "    </tr>\n",
       "    <tr>\n",
       "      <th>10</th>\n",
       "      <td>0.1146</td>\n",
       "    </tr>\n",
       "    <tr>\n",
       "      <th>15</th>\n",
       "      <td>0.0704</td>\n",
       "    </tr>\n",
       "    <tr>\n",
       "      <th>20</th>\n",
       "      <td>0.0445</td>\n",
       "    </tr>\n",
       "    <tr>\n",
       "      <th>25</th>\n",
       "      <td>0.0286</td>\n",
       "    </tr>\n",
       "    <tr>\n",
       "      <th>30</th>\n",
       "      <td>0.0186</td>\n",
       "    </tr>\n",
       "  </tbody>\n",
       "</table>\n",
       "</div>"
      ],
      "text/plain": [
       "    Probability\n",
       "h              \n",
       "5        0.1976\n",
       "10       0.1146\n",
       "15       0.0704\n",
       "20       0.0445\n",
       "25       0.0286\n",
       "30       0.0186"
      ]
     },
     "execution_count": 215,
     "metadata": {},
     "output_type": "execute_result"
    }
   ],
   "source": [
    "log_df1965 = log_df.loc['1965':].dropna()\n",
    "mu_tilde = (log_df1965['SPX'].mean()-log_df1965['TB1M'].mean()) * 12\n",
    "sigma_tilde = (log_df1965['SPX']-log_df1965['TB1M']).std() * np.sqrt(12)\n",
    "\n",
    "prob(list(range(5,35, 5)), mu_tilde, sigma_tilde)"
   ]
  },
  {
   "cell_type": "code",
   "execution_count": 216,
   "metadata": {
    "scrolled": true
   },
   "outputs": [
    {
     "data": {
      "text/html": [
       "<div>\n",
       "<style scoped>\n",
       "    .dataframe tbody tr th:only-of-type {\n",
       "        vertical-align: middle;\n",
       "    }\n",
       "\n",
       "    .dataframe tbody tr th {\n",
       "        vertical-align: top;\n",
       "    }\n",
       "\n",
       "    .dataframe thead th {\n",
       "        text-align: right;\n",
       "    }\n",
       "</style>\n",
       "<table border=\"1\" class=\"dataframe\">\n",
       "  <thead>\n",
       "    <tr style=\"text-align: right;\">\n",
       "      <th></th>\n",
       "      <th>Probability</th>\n",
       "    </tr>\n",
       "    <tr>\n",
       "      <th>h</th>\n",
       "      <th></th>\n",
       "    </tr>\n",
       "  </thead>\n",
       "  <tbody>\n",
       "    <tr>\n",
       "      <th>30</th>\n",
       "      <td>0.0186</td>\n",
       "    </tr>\n",
       "  </tbody>\n",
       "</table>\n",
       "</div>"
      ],
      "text/plain": [
       "    Probability\n",
       "h              \n",
       "30       0.0186"
      ]
     },
     "execution_count": 216,
     "metadata": {},
     "output_type": "execute_result"
    }
   ],
   "source": [
    "prob([30], mu_tilde, sigma_tilde)"
   ]
  },
  {
   "cell_type": "code",
   "execution_count": 217,
   "metadata": {},
   "outputs": [
    {
     "data": {
      "text/html": [
       "<div>\n",
       "<style scoped>\n",
       "    .dataframe tbody tr th:only-of-type {\n",
       "        vertical-align: middle;\n",
       "    }\n",
       "\n",
       "    .dataframe tbody tr th {\n",
       "        vertical-align: top;\n",
       "    }\n",
       "\n",
       "    .dataframe thead th {\n",
       "        text-align: right;\n",
       "    }\n",
       "</style>\n",
       "<table border=\"1\" class=\"dataframe\">\n",
       "  <thead>\n",
       "    <tr style=\"text-align: right;\">\n",
       "      <th></th>\n",
       "      <th>Probability</th>\n",
       "    </tr>\n",
       "    <tr>\n",
       "      <th>h</th>\n",
       "      <th></th>\n",
       "    </tr>\n",
       "  </thead>\n",
       "  <tbody>\n",
       "    <tr>\n",
       "      <th>22</th>\n",
       "      <td>0.0373</td>\n",
       "    </tr>\n",
       "  </tbody>\n",
       "</table>\n",
       "</div>"
      ],
      "text/plain": [
       "    Probability\n",
       "h              \n",
       "22       0.0373"
      ]
     },
     "execution_count": 217,
     "metadata": {},
     "output_type": "execute_result"
    }
   ],
   "source": [
    "prob([2021-1999], mu_tilde, sigma_tilde)"
   ]
  },
  {
   "cell_type": "markdown",
   "metadata": {},
   "source": [
    "The probabilities are very similar."
   ]
  },
  {
   "cell_type": "markdown",
   "metadata": {},
   "source": [
    "### 2.4 Barnstable's Expectations"
   ]
  },
  {
   "cell_type": "markdown",
   "metadata": {},
   "source": [
    "(a)"
   ]
  },
  {
   "cell_type": "code",
   "execution_count": 218,
   "metadata": {},
   "outputs": [
    {
     "data": {
      "text/html": [
       "<div>\n",
       "<style scoped>\n",
       "    .dataframe tbody tr th:only-of-type {\n",
       "        vertical-align: middle;\n",
       "    }\n",
       "\n",
       "    .dataframe tbody tr th {\n",
       "        vertical-align: top;\n",
       "    }\n",
       "\n",
       "    .dataframe thead th {\n",
       "        text-align: right;\n",
       "    }\n",
       "</style>\n",
       "<table border=\"1\" class=\"dataframe\">\n",
       "  <thead>\n",
       "    <tr style=\"text-align: right;\">\n",
       "      <th></th>\n",
       "      <th>Probability</th>\n",
       "    </tr>\n",
       "    <tr>\n",
       "      <th>h</th>\n",
       "      <th></th>\n",
       "    </tr>\n",
       "  </thead>\n",
       "  <tbody>\n",
       "    <tr>\n",
       "      <th>22</th>\n",
       "      <td>0.0783</td>\n",
       "    </tr>\n",
       "  </tbody>\n",
       "</table>\n",
       "</div>"
      ],
      "text/plain": [
       "    Probability\n",
       "h              \n",
       "22       0.0783"
      ]
     },
     "execution_count": 218,
     "metadata": {},
     "output_type": "execute_result"
    }
   ],
   "source": [
    "mu = stats_df.iloc[3,0]\n",
    "bar_r = stats_df.iloc[3,2]\n",
    "sigma = stats_df.iloc[3,1]\n",
    "\n",
    "prob([22], mu - bar_r, sigma)"
   ]
  },
  {
   "cell_type": "markdown",
   "metadata": {},
   "source": [
    "(b)"
   ]
  },
  {
   "cell_type": "code",
   "execution_count": 219,
   "metadata": {},
   "outputs": [
    {
     "data": {
      "text/html": [
       "<div>\n",
       "<style scoped>\n",
       "    .dataframe tbody tr th:only-of-type {\n",
       "        vertical-align: middle;\n",
       "    }\n",
       "\n",
       "    .dataframe tbody tr th {\n",
       "        vertical-align: top;\n",
       "    }\n",
       "\n",
       "    .dataframe thead th {\n",
       "        text-align: right;\n",
       "    }\n",
       "</style>\n",
       "<table border=\"1\" class=\"dataframe\">\n",
       "  <thead>\n",
       "    <tr style=\"text-align: right;\">\n",
       "      <th></th>\n",
       "      <th>Probability</th>\n",
       "    </tr>\n",
       "    <tr>\n",
       "      <th>h</th>\n",
       "      <th></th>\n",
       "    </tr>\n",
       "  </thead>\n",
       "  <tbody>\n",
       "    <tr>\n",
       "      <th>8</th>\n",
       "      <td>0.1168</td>\n",
       "    </tr>\n",
       "  </tbody>\n",
       "</table>\n",
       "</div>"
      ],
      "text/plain": [
       "   Probability\n",
       "h             \n",
       "8       0.1168"
      ]
     },
     "execution_count": 219,
     "metadata": {},
     "output_type": "execute_result"
    }
   ],
   "source": [
    "strike = np.log(1.06)\n",
    "\n",
    "mu65 = log_df['SPX'].mean() * 12\n",
    "\n",
    "sigma65 = log_df['SPX'].std() * np.sqrt(12)\n",
    "\n",
    "mu = 22/8 * (stats_df.iloc[3, 2] - strike) + mu65 - strike\n",
    "\n",
    "prob([8], mu, sigma65)"
   ]
  },
  {
   "cell_type": "markdown",
   "metadata": {},
   "source": [
    "## 3 Modeling Volatility and VaR"
   ]
  },
  {
   "cell_type": "code",
   "execution_count": 254,
   "metadata": {},
   "outputs": [
    {
     "data": {
      "text/html": [
       "<div>\n",
       "<style scoped>\n",
       "    .dataframe tbody tr th:only-of-type {\n",
       "        vertical-align: middle;\n",
       "    }\n",
       "\n",
       "    .dataframe tbody tr th {\n",
       "        vertical-align: top;\n",
       "    }\n",
       "\n",
       "    .dataframe thead th {\n",
       "        text-align: right;\n",
       "    }\n",
       "</style>\n",
       "<table border=\"1\" class=\"dataframe\">\n",
       "  <thead>\n",
       "    <tr style=\"text-align: right;\">\n",
       "      <th></th>\n",
       "      <th>SPX</th>\n",
       "      <th>TB1M</th>\n",
       "      <th>$\\tilde{r}$</th>\n",
       "    </tr>\n",
       "    <tr>\n",
       "      <th>date</th>\n",
       "      <th></th>\n",
       "      <th></th>\n",
       "      <th></th>\n",
       "    </tr>\n",
       "  </thead>\n",
       "  <tbody>\n",
       "    <tr>\n",
       "      <th>1926-01-30</th>\n",
       "      <td>-0.0018</td>\n",
       "      <td>0.0031</td>\n",
       "      <td>-0.0048</td>\n",
       "    </tr>\n",
       "    <tr>\n",
       "      <th>1926-02-27</th>\n",
       "      <td>-0.0333</td>\n",
       "      <td>0.0026</td>\n",
       "      <td>-0.0359</td>\n",
       "    </tr>\n",
       "    <tr>\n",
       "      <th>1926-03-31</th>\n",
       "      <td>-0.0577</td>\n",
       "      <td>0.0026</td>\n",
       "      <td>-0.0603</td>\n",
       "    </tr>\n",
       "    <tr>\n",
       "      <th>1926-04-30</th>\n",
       "      <td>0.0385</td>\n",
       "      <td>0.0023</td>\n",
       "      <td>0.0363</td>\n",
       "    </tr>\n",
       "    <tr>\n",
       "      <th>1926-05-28</th>\n",
       "      <td>0.0136</td>\n",
       "      <td>0.0027</td>\n",
       "      <td>0.0109</td>\n",
       "    </tr>\n",
       "  </tbody>\n",
       "</table>\n",
       "</div>"
      ],
      "text/plain": [
       "               SPX    TB1M  $\\tilde{r}$\n",
       "date                                   \n",
       "1926-01-30 -0.0018  0.0031      -0.0048\n",
       "1926-02-27 -0.0333  0.0026      -0.0359\n",
       "1926-03-31 -0.0577  0.0026      -0.0603\n",
       "1926-04-30  0.0385  0.0023       0.0363\n",
       "1926-05-28  0.0136  0.0027       0.0109"
      ]
     },
     "execution_count": 254,
     "metadata": {},
     "output_type": "execute_result"
    }
   ],
   "source": [
    "df[r'$\\tilde{r}$'] = df['SPX'] - df['TB1M']\n",
    "df.dropna(inplace = True)\n",
    "\n",
    "df.head()"
   ]
  },
  {
   "cell_type": "markdown",
   "metadata": {},
   "source": [
    "### 3.1 Historic VaR"
   ]
  },
  {
   "cell_type": "markdown",
   "metadata": {},
   "source": [
    "(a)"
   ]
  },
  {
   "cell_type": "code",
   "execution_count": 257,
   "metadata": {},
   "outputs": [
    {
     "data": {
      "image/png": "[encoded data removed]",
      "text/plain": [
       "<Figure size 432x288 with 1 Axes>"
      ]
     },
     "metadata": {
      "needs_background": "light"
     },
     "output_type": "display_data"
    }
   ],
   "source": [
    "historic_VaR = df[r'$\\tilde{r}$'].shift().expanding(min_periods = 60).quantile(.05)\n",
    "historic_VaR.plot()\n",
    "\n",
    "plt.title('Historic VaR')\n",
    "plt.ylabel('VaR')\n",
    "plt.xlabel('Date')\n",
    "plt.show()"
   ]
  },
  {
   "cell_type": "markdown",
   "metadata": {},
   "source": [
    "(b) Frequency of periods where $\\tilde{r_{t}} < \\tilde{r}^{VaR, .05}_{t, historic}$ "
   ]
  },
  {
   "cell_type": "code",
   "execution_count": 258,
   "metadata": {},
   "outputs": [
    {
     "data": {
      "text/plain": [
       "0.0288"
      ]
     },
     "execution_count": 258,
     "metadata": {},
     "output_type": "execute_result"
    }
   ],
   "source": [
    "round(len(df[r'$\\tilde{r}$'][df[r'$\\tilde{r}$'] < historic_VaR]) / len(historic_VaR.dropna()), 4)"
   ]
  },
  {
   "cell_type": "markdown",
   "metadata": {},
   "source": [
    "(c)\n",
    "- By definition of VaR, number instances of return should be less than VaR (5%) should be close to 5%, but in our case it is less than 3%\n",
    "- This method of calculation is valid if there is a smooth tail, and does not give correct result if tails are not smooth"
   ]
  },
  {
   "cell_type": "markdown",
   "metadata": {},
   "source": [
    "### 3.2 Volatility"
   ]
  },
  {
   "cell_type": "markdown",
   "metadata": {},
   "source": [
    "Expanding and Rolling Windows:"
   ]
  },
  {
   "cell_type": "code",
   "execution_count": 248,
   "metadata": {},
   "outputs": [],
   "source": [
    "stdev = np.sqrt((df[r'$\\tilde{r}$']**2).shift(1).expanding(60).mean().to_frame('Expanding Window'))\n",
    "\n",
    "stdev['Rolling Window'] = np.sqrt((df[r'$\\tilde{r}$']**2).shift(1).rolling(60).mean())"
   ]
  },
  {
   "cell_type": "markdown",
   "metadata": {},
   "source": [
    "EWMA:"
   ]
  },
  {
   "cell_type": "code",
   "execution_count": 225,
   "metadata": {},
   "outputs": [
    {
     "name": "stdout",
     "output_type": "stream",
     "text": [
      "Iteration:      1,   Func. Count:      3,   Neg. LLF: 4368087.277886891\n",
      "Iteration:      2,   Func. Count:     10,   Neg. LLF: -1842.4652930715574\n",
      "Optimization terminated successfully    (Exit mode 0)\n",
      "            Current function value: -1842.4652930726525\n",
      "            Iterations: 2\n",
      "            Function evaluations: 10\n",
      "            Gradient evaluations: 2\n"
     ]
    },
    {
     "data": {
      "text/plain": [
       "mu    0.0072\n",
       "Name: params, dtype: float64"
      ]
     },
     "execution_count": 225,
     "metadata": {},
     "output_type": "execute_result"
    }
   ],
   "source": [
    "IGARCH = arch_model(df[r'$\\tilde{r}$'])\n",
    "\n",
    "theta = 0.97\n",
    "\n",
    "IGARCH.volatility = EWMAVariance(theta)\n",
    "\n",
    "IGARCH_model = IGARCH.fit()\n",
    "\n",
    "IGARCH_model.params"
   ]
  },
  {
   "cell_type": "markdown",
   "metadata": {},
   "source": [
    "GARCH:"
   ]
  },
  {
   "cell_type": "code",
   "execution_count": 262,
   "metadata": {},
   "outputs": [
    {
     "name": "stdout",
     "output_type": "stream",
     "text": [
      "Iteration:      1,   Func. Count:      6,   Neg. LLF: 1.6852774436705056e+17\n",
      "Iteration:      2,   Func. Count:     17,   Neg. LLF: 8260538509987.657\n",
      "Iteration:      3,   Func. Count:     27,   Neg. LLF: 691678264754941.8\n",
      "Iteration:      4,   Func. Count:     37,   Neg. LLF: -1893.5015384028798\n",
      "Optimization terminated successfully    (Exit mode 0)\n",
      "            Current function value: -1893.5015418394419\n",
      "            Iterations: 8\n",
      "            Function evaluations: 37\n",
      "            Gradient evaluations: 4\n"
     ]
    },
    {
     "data": {
      "text/plain": [
       "mu          7.9792e-03\n",
       "omega       5.8822e-05\n",
       "alpha[1]    9.9998e-02\n",
       "beta[1]     8.7998e-01\n",
       "Name: params, dtype: float64"
      ]
     },
     "execution_count": 262,
     "metadata": {},
     "output_type": "execute_result"
    }
   ],
   "source": [
    "GARCH = arch_model(df[r'$\\tilde{r}$'], vol='Garch', p=1, o=0, q=1, dist='Normal')\n",
    "\n",
    "GARCH_model = GARCH.fit()\n",
    "\n",
    "GARCH_model.params"
   ]
  },
  {
   "cell_type": "markdown",
   "metadata": {},
   "source": [
    "(a)"
   ]
  },
  {
   "cell_type": "code",
   "execution_count": 263,
   "metadata": {},
   "outputs": [
    {
     "data": {
      "image/png": "[encoded data removed]",
      "text/plain": [
       "<Figure size 432x288 with 1 Axes>"
      ]
     },
     "metadata": {
      "needs_background": "light"
     },
     "output_type": "display_data"
    }
   ],
   "source": [
    "stdev[['GARCH','EWMA']] = None\n",
    "\n",
    "### Initialize with the given parameter\n",
    "stdev.iloc[0,2:] = 0.15\n",
    "\n",
    "### Simulate the rest of the period using the initial stdev given\n",
    "for i in range(1, len(stdev)):\n",
    "    ### Forecast variance by plugging the GARCH and IGARCH parameters into their respective equations\n",
    "    stdev['EWMA'].iloc[i] = np.sqrt((stdev['EWMA'].iloc[i-1]**2) * theta \\\n",
    "                                    + (1-theta)*(df[r'$\\tilde{r}$'].iloc[i-1]**2))\n",
    "    stdev['GARCH'].iloc[i] = np.sqrt(GARCH_model.params['omega']\\\n",
    "                                     + (stdev['GARCH'].iloc[i-1]**2) * GARCH_model.params['beta[1]']\\\n",
    "                                     + GARCH_model.params['alpha[1]']*(df[r'$\\tilde{r}$'].iloc[i-1]**2))\n",
    "    \n",
    "stdev.dropna(inplace = True)\n",
    "\n",
    "stdev.plot()\n",
    "\n",
    "plt.title('Volatility Forecasts')\n",
    "plt.ylabel(r'$\\sigma_{t}$')\n",
    "plt.xlabel('Date')\n",
    "plt.show()"
   ]
  },
  {
   "cell_type": "markdown",
   "metadata": {},
   "source": [
    "(b)"
   ]
  },
  {
   "cell_type": "code",
   "execution_count": 264,
   "metadata": {},
   "outputs": [
    {
     "data": {
      "text/html": [
       "<div>\n",
       "<style scoped>\n",
       "    .dataframe tbody tr th:only-of-type {\n",
       "        vertical-align: middle;\n",
       "    }\n",
       "\n",
       "    .dataframe tbody tr th {\n",
       "        vertical-align: top;\n",
       "    }\n",
       "\n",
       "    .dataframe thead th {\n",
       "        text-align: right;\n",
       "    }\n",
       "</style>\n",
       "<table border=\"1\" class=\"dataframe\">\n",
       "  <thead>\n",
       "    <tr style=\"text-align: right;\">\n",
       "      <th></th>\n",
       "      <th>Expanding Window</th>\n",
       "      <th>Rolling Window</th>\n",
       "      <th>GARCH</th>\n",
       "      <th>EWMA</th>\n",
       "    </tr>\n",
       "    <tr>\n",
       "      <th>date</th>\n",
       "      <th></th>\n",
       "      <th></th>\n",
       "      <th></th>\n",
       "      <th></th>\n",
       "    </tr>\n",
       "  </thead>\n",
       "  <tbody>\n",
       "    <tr>\n",
       "      <th>1931-01-31</th>\n",
       "      <td>-0.0992</td>\n",
       "      <td>-0.0992</td>\n",
       "      <td>-0.1228</td>\n",
       "      <td>-0.1434</td>\n",
       "    </tr>\n",
       "    <tr>\n",
       "      <th>1931-02-28</th>\n",
       "      <td>-0.0992</td>\n",
       "      <td>-0.1000</td>\n",
       "      <td>-0.1198</td>\n",
       "      <td>-0.1422</td>\n",
       "    </tr>\n",
       "    <tr>\n",
       "      <th>1931-03-31</th>\n",
       "      <td>-0.1010</td>\n",
       "      <td>-0.1024</td>\n",
       "      <td>-0.1268</td>\n",
       "      <td>-0.1436</td>\n",
       "    </tr>\n",
       "    <tr>\n",
       "      <th>1931-04-30</th>\n",
       "      <td>-0.1013</td>\n",
       "      <td>-0.1027</td>\n",
       "      <td>-0.125</td>\n",
       "      <td>-0.1428</td>\n",
       "    </tr>\n",
       "    <tr>\n",
       "      <th>1931-05-29</th>\n",
       "      <td>-0.1023</td>\n",
       "      <td>-0.1043</td>\n",
       "      <td>-0.1276</td>\n",
       "      <td>-0.1431</td>\n",
       "    </tr>\n",
       "  </tbody>\n",
       "</table>\n",
       "</div>"
      ],
      "text/plain": [
       "            Expanding Window  Rolling Window   GARCH    EWMA\n",
       "date                                                        \n",
       "1931-01-31           -0.0992         -0.0992 -0.1228 -0.1434\n",
       "1931-02-28           -0.0992         -0.1000 -0.1198 -0.1422\n",
       "1931-03-31           -0.1010         -0.1024 -0.1268 -0.1436\n",
       "1931-04-30           -0.1013         -0.1027  -0.125 -0.1428\n",
       "1931-05-29           -0.1023         -0.1043 -0.1276 -0.1431"
      ]
     },
     "execution_count": 264,
     "metadata": {},
     "output_type": "execute_result"
    }
   ],
   "source": [
    "VaR = -1.65 * stdev\n",
    "VaR.head()"
   ]
  },
  {
   "cell_type": "code",
   "execution_count": 265,
   "metadata": {},
   "outputs": [
    {
     "data": {
      "image/png": "[encoded data removed]",
      "text/plain": [
       "<Figure size 432x288 with 1 Axes>"
      ]
     },
     "metadata": {
      "needs_background": "light"
     },
     "output_type": "display_data"
    }
   ],
   "source": [
    "VaR.plot()\n",
    "\n",
    "plt.title('VaR')\n",
    "plt.ylabel('VaR')\n",
    "plt.xlabel('Date')\n",
    "plt.show()"
   ]
  },
  {
   "cell_type": "markdown",
   "metadata": {},
   "source": [
    "(c)"
   ]
  },
  {
   "cell_type": "code",
   "execution_count": 269,
   "metadata": {},
   "outputs": [
    {
     "data": {
      "text/html": [
       "<div>\n",
       "<style scoped>\n",
       "    .dataframe tbody tr th:only-of-type {\n",
       "        vertical-align: middle;\n",
       "    }\n",
       "\n",
       "    .dataframe tbody tr th {\n",
       "        vertical-align: top;\n",
       "    }\n",
       "\n",
       "    .dataframe thead th {\n",
       "        text-align: right;\n",
       "    }\n",
       "</style>\n",
       "<table border=\"1\" class=\"dataframe\">\n",
       "  <thead>\n",
       "    <tr style=\"text-align: right;\">\n",
       "      <th></th>\n",
       "      <th>Expanding Window</th>\n",
       "      <th>Rolling Window</th>\n",
       "      <th>GARCH</th>\n",
       "      <th>EWMA</th>\n",
       "    </tr>\n",
       "  </thead>\n",
       "  <tbody>\n",
       "    <tr>\n",
       "      <th>Frequency</th>\n",
       "      <td>0.0177</td>\n",
       "      <td>0.0483</td>\n",
       "      <td>0.0446</td>\n",
       "      <td>0.0418</td>\n",
       "    </tr>\n",
       "  </tbody>\n",
       "</table>\n",
       "</div>"
      ],
      "text/plain": [
       "           Expanding Window  Rolling Window   GARCH    EWMA\n",
       "Frequency            0.0177          0.0483  0.0446  0.0418"
      ]
     },
     "execution_count": 269,
     "metadata": {},
     "output_type": "execute_result"
    }
   ],
   "source": [
    "freq_df = pd.DataFrame(index = ['Frequency'], columns = VaR.columns)\n",
    "\n",
    "for col in freq_df:\n",
    "    freq_df[col] = len(VaR[df.loc[VaR.index, r'$\\tilde{r}$'] < VaR[col]]) / len(VaR[col].dropna().index)\n",
    "    \n",
    "round(freq_df, 4)"
   ]
  },
  {
   "cell_type": "markdown",
   "metadata": {},
   "source": [
    "## 4 Extensions "
   ]
  },
  {
   "cell_type": "markdown",
   "metadata": {},
   "source": [
    "### 4.1 Performance Probabilities w/ Excess Returns"
   ]
  },
  {
   "cell_type": "markdown",
   "metadata": {},
   "source": [
    "(a)"
   ]
  },
  {
   "cell_type": "code",
   "execution_count": 270,
   "metadata": {},
   "outputs": [
    {
     "data": {
      "text/html": [
       "<div>\n",
       "<style scoped>\n",
       "    .dataframe tbody tr th:only-of-type {\n",
       "        vertical-align: middle;\n",
       "    }\n",
       "\n",
       "    .dataframe tbody tr th {\n",
       "        vertical-align: top;\n",
       "    }\n",
       "\n",
       "    .dataframe thead th {\n",
       "        text-align: right;\n",
       "    }\n",
       "</style>\n",
       "<table border=\"1\" class=\"dataframe\">\n",
       "  <thead>\n",
       "    <tr style=\"text-align: right;\">\n",
       "      <th></th>\n",
       "      <th>Probability</th>\n",
       "    </tr>\n",
       "    <tr>\n",
       "      <th>h</th>\n",
       "      <th></th>\n",
       "    </tr>\n",
       "  </thead>\n",
       "  <tbody>\n",
       "    <tr>\n",
       "      <th>22</th>\n",
       "      <td>0.5181</td>\n",
       "    </tr>\n",
       "  </tbody>\n",
       "</table>\n",
       "</div>"
      ],
      "text/plain": [
       "    Probability\n",
       "h              \n",
       "22       0.5181"
      ]
     },
     "execution_count": 270,
     "metadata": {},
     "output_type": "execute_result"
    }
   ],
   "source": [
    "mu_tilde = stats_df.iloc[4,0]\n",
    "bar_r_tilde = stats_df.iloc[4,2]\n",
    "sigma_tilde = stats_df.iloc[4,1]\n",
    "\n",
    "prob([22], mu_tilde - bar_r_tilde, sigma_tilde)"
   ]
  },
  {
   "cell_type": "markdown",
   "metadata": {},
   "source": [
    "(b)"
   ]
  },
  {
   "cell_type": "code",
   "execution_count": 271,
   "metadata": {},
   "outputs": [
    {
     "data": {
      "text/html": [
       "<div>\n",
       "<style scoped>\n",
       "    .dataframe tbody tr th:only-of-type {\n",
       "        vertical-align: middle;\n",
       "    }\n",
       "\n",
       "    .dataframe tbody tr th {\n",
       "        vertical-align: top;\n",
       "    }\n",
       "\n",
       "    .dataframe thead th {\n",
       "        text-align: right;\n",
       "    }\n",
       "</style>\n",
       "<table border=\"1\" class=\"dataframe\">\n",
       "  <thead>\n",
       "    <tr style=\"text-align: right;\">\n",
       "      <th></th>\n",
       "      <th>Probability</th>\n",
       "    </tr>\n",
       "    <tr>\n",
       "      <th>h</th>\n",
       "      <th></th>\n",
       "    </tr>\n",
       "  </thead>\n",
       "  <tbody>\n",
       "    <tr>\n",
       "      <th>8</th>\n",
       "      <td>0.0003</td>\n",
       "    </tr>\n",
       "  </tbody>\n",
       "</table>\n",
       "</div>"
      ],
      "text/plain": [
       "   Probability\n",
       "h             \n",
       "8       0.0003"
      ]
     },
     "execution_count": 271,
     "metadata": {},
     "output_type": "execute_result"
    }
   ],
   "source": [
    "mu = 22/8 * (stats_df.iloc[4, 2]) + stats_df.iloc[4, 4] \n",
    "\n",
    "prob([8], mu, stats_df.iloc[4,5])"
   ]
  },
  {
   "cell_type": "markdown",
   "metadata": {},
   "source": [
    "(c) Barnstable is susceptible to the fact that the mean of the risk-free rate changes. The strike of the puts is based on historic risk-free data, which results in a higher strike than expected if the risk-free rate decreases (which it does very significantly in the years after the option contract is decided). Barnstable could have used a floating risk-free rate as its strike growth parameter, which would have accounted for this, and would not have made any assumptions about what the mean of the risk-free rate would be in the coming years. "
   ]
  },
  {
   "cell_type": "markdown",
   "metadata": {},
   "source": [
    "### 4.2 Confidence Intervals"
   ]
  },
  {
   "cell_type": "markdown",
   "metadata": {},
   "source": [
    "(a)"
   ]
  },
  {
   "cell_type": "code",
   "execution_count": 272,
   "metadata": {},
   "outputs": [
    {
     "data": {
      "text/html": [
       "<div>\n",
       "<style scoped>\n",
       "    .dataframe tbody tr th:only-of-type {\n",
       "        vertical-align: middle;\n",
       "    }\n",
       "\n",
       "    .dataframe tbody tr th {\n",
       "        vertical-align: top;\n",
       "    }\n",
       "\n",
       "    .dataframe thead th {\n",
       "        text-align: right;\n",
       "    }\n",
       "</style>\n",
       "<table border=\"1\" class=\"dataframe\">\n",
       "  <thead>\n",
       "    <tr style=\"text-align: right;\">\n",
       "      <th></th>\n",
       "      <th>$\\tilde{\\mu}_{q}$</th>\n",
       "    </tr>\n",
       "  </thead>\n",
       "  <tbody>\n",
       "    <tr>\n",
       "      <th>0.05</th>\n",
       "      <td>-0.1911</td>\n",
       "    </tr>\n",
       "    <tr>\n",
       "      <th>0.95</th>\n",
       "      <td>0.3037</td>\n",
       "    </tr>\n",
       "  </tbody>\n",
       "</table>\n",
       "</div>"
      ],
      "text/plain": [
       "      $\\tilde{\\mu}_{q}$\n",
       "0.05            -0.1911\n",
       "0.95             0.3037"
      ]
     },
     "execution_count": 272,
     "metadata": {},
     "output_type": "execute_result"
    }
   ],
   "source": [
    "conf_interval = pd.DataFrame(data = None, index = [0.05, 0.95], columns = [r'$\\tilde{\\mu}_{q}$'])\n",
    "\n",
    "### Use 1965-1999\n",
    "mu_tilde = stats_df.iloc[4,0]\n",
    "sigma_tilde = stats_df.iloc[4,1]\n",
    "\n",
    "### use norm.ppf() to find the z-score\n",
    "conf_interval[conf_interval.columns[0]] = mu_tilde + stats.norm.ppf(conf_interval.index)*sigma_tilde\n",
    "\n",
    "round(conf_interval,4)"
   ]
  },
  {
   "cell_type": "markdown",
   "metadata": {},
   "source": [
    "(b)"
   ]
  },
  {
   "cell_type": "markdown",
   "metadata": {},
   "source": [
    "At $\\tilde{\\mu}_{0.05}$:"
   ]
  },
  {
   "cell_type": "code",
   "execution_count": 273,
   "metadata": {},
   "outputs": [
    {
     "data": {
      "text/html": [
       "<div>\n",
       "<style scoped>\n",
       "    .dataframe tbody tr th:only-of-type {\n",
       "        vertical-align: middle;\n",
       "    }\n",
       "\n",
       "    .dataframe tbody tr th {\n",
       "        vertical-align: top;\n",
       "    }\n",
       "\n",
       "    .dataframe thead th {\n",
       "        text-align: right;\n",
       "    }\n",
       "</style>\n",
       "<table border=\"1\" class=\"dataframe\">\n",
       "  <thead>\n",
       "    <tr style=\"text-align: right;\">\n",
       "      <th></th>\n",
       "      <th>Probability</th>\n",
       "    </tr>\n",
       "    <tr>\n",
       "      <th>h</th>\n",
       "      <th></th>\n",
       "    </tr>\n",
       "  </thead>\n",
       "  <tbody>\n",
       "    <tr>\n",
       "      <th>22</th>\n",
       "      <td>1.0</td>\n",
       "    </tr>\n",
       "  </tbody>\n",
       "</table>\n",
       "</div>"
      ],
      "text/plain": [
       "    Probability\n",
       "h              \n",
       "22          1.0"
      ]
     },
     "execution_count": 273,
     "metadata": {},
     "output_type": "execute_result"
    }
   ],
   "source": [
    "mu_tilde_05 = conf_interval.loc[0.05][0]\n",
    "bar_r_tilde = stats_df.iloc[4,2]\n",
    "sigma_tilde = stats_df.iloc[4,1]\n",
    "\n",
    "prob([22], mu_tilde_05 - bar_r_tilde, sigma_tilde)"
   ]
  },
  {
   "cell_type": "markdown",
   "metadata": {},
   "source": [
    "At $\\tilde{\\mu}_{0.95}$:"
   ]
  },
  {
   "cell_type": "code",
   "execution_count": 235,
   "metadata": {},
   "outputs": [
    {
     "data": {
      "text/html": [
       "<div>\n",
       "<style scoped>\n",
       "    .dataframe tbody tr th:only-of-type {\n",
       "        vertical-align: middle;\n",
       "    }\n",
       "\n",
       "    .dataframe tbody tr th {\n",
       "        vertical-align: top;\n",
       "    }\n",
       "\n",
       "    .dataframe thead th {\n",
       "        text-align: right;\n",
       "    }\n",
       "</style>\n",
       "<table border=\"1\" class=\"dataframe\">\n",
       "  <thead>\n",
       "    <tr style=\"text-align: right;\">\n",
       "      <th></th>\n",
       "      <th>Probability</th>\n",
       "    </tr>\n",
       "    <tr>\n",
       "      <th>h</th>\n",
       "      <th></th>\n",
       "    </tr>\n",
       "  </thead>\n",
       "  <tbody>\n",
       "    <tr>\n",
       "      <th>22</th>\n",
       "      <td>8.6300e-15</td>\n",
       "    </tr>\n",
       "  </tbody>\n",
       "</table>\n",
       "</div>"
      ],
      "text/plain": [
       "    Probability\n",
       "h              \n",
       "22   8.6300e-15"
      ]
     },
     "execution_count": 235,
     "metadata": {},
     "output_type": "execute_result"
    }
   ],
   "source": [
    "mu_tilde_95 = conf_interval.loc[0.95][0]\n",
    "\n",
    "prob([22], mu_tilde_95 - bar_r_tilde, sigma_tilde)"
   ]
  },
  {
   "cell_type": "markdown",
   "metadata": {},
   "source": [
    "(c)"
   ]
  },
  {
   "cell_type": "code",
   "execution_count": 236,
   "metadata": {},
   "outputs": [
    {
     "data": {
      "text/html": [
       "<div>\n",
       "<style scoped>\n",
       "    .dataframe tbody tr th:only-of-type {\n",
       "        vertical-align: middle;\n",
       "    }\n",
       "\n",
       "    .dataframe tbody tr th {\n",
       "        vertical-align: top;\n",
       "    }\n",
       "\n",
       "    .dataframe thead th {\n",
       "        text-align: right;\n",
       "    }\n",
       "</style>\n",
       "<table border=\"1\" class=\"dataframe\">\n",
       "  <thead>\n",
       "    <tr style=\"text-align: right;\">\n",
       "      <th></th>\n",
       "      <th>$\\tilde{\\mu}_{q}$</th>\n",
       "    </tr>\n",
       "  </thead>\n",
       "  <tbody>\n",
       "    <tr>\n",
       "      <th>0.05</th>\n",
       "      <td>-0.1911</td>\n",
       "    </tr>\n",
       "    <tr>\n",
       "      <th>0.95</th>\n",
       "      <td>0.3037</td>\n",
       "    </tr>\n",
       "  </tbody>\n",
       "</table>\n",
       "</div>"
      ],
      "text/plain": [
       "      $\\tilde{\\mu}_{q}$\n",
       "0.05            -0.1911\n",
       "0.95             0.3037"
      ]
     },
     "execution_count": 236,
     "metadata": {},
     "output_type": "execute_result"
    }
   ],
   "source": [
    "round(conf_interval,4)"
   ]
  },
  {
   "cell_type": "code",
   "execution_count": 237,
   "metadata": {},
   "outputs": [
    {
     "data": {
      "text/html": [
       "<div>\n",
       "<style scoped>\n",
       "    .dataframe tbody tr th:only-of-type {\n",
       "        vertical-align: middle;\n",
       "    }\n",
       "\n",
       "    .dataframe tbody tr th {\n",
       "        vertical-align: top;\n",
       "    }\n",
       "\n",
       "    .dataframe thead th {\n",
       "        text-align: right;\n",
       "    }\n",
       "</style>\n",
       "<table border=\"1\" class=\"dataframe\">\n",
       "  <thead>\n",
       "    <tr style=\"text-align: right;\">\n",
       "      <th></th>\n",
       "      <th>2000-2021 $\\mu$</th>\n",
       "    </tr>\n",
       "  </thead>\n",
       "  <tbody>\n",
       "    <tr>\n",
       "      <th>$r^{M}$</th>\n",
       "      <td>0.0840</td>\n",
       "    </tr>\n",
       "    <tr>\n",
       "      <th>${\\tilde{r}^{M}}$</th>\n",
       "      <td>0.0693</td>\n",
       "    </tr>\n",
       "    <tr>\n",
       "      <th>$r^{f}$</th>\n",
       "      <td>0.0147</td>\n",
       "    </tr>\n",
       "    <tr>\n",
       "      <th>log $r^{M}$</th>\n",
       "      <td>0.0724</td>\n",
       "    </tr>\n",
       "    <tr>\n",
       "      <th>log ${\\tilde{r}^{M}}$</th>\n",
       "      <td>0.0577</td>\n",
       "    </tr>\n",
       "    <tr>\n",
       "      <th>log $r^{f}$</th>\n",
       "      <td>0.0147</td>\n",
       "    </tr>\n",
       "  </tbody>\n",
       "</table>\n",
       "</div>"
      ],
      "text/plain": [
       "                       2000-2021 $\\mu$\n",
       "$r^{M}$                         0.0840\n",
       "${\\tilde{r}^{M}}$               0.0693\n",
       "$r^{f}$                         0.0147\n",
       "log $r^{M}$                     0.0724\n",
       "log ${\\tilde{r}^{M}}$           0.0577\n",
       "log $r^{f}$                     0.0147"
      ]
     },
     "execution_count": 237,
     "metadata": {},
     "output_type": "execute_result"
    }
   ],
   "source": [
    "round(stats_df[r'2000-2021 $\\mu$'].to_frame(),4)"
   ]
  },
  {
   "cell_type": "markdown",
   "metadata": {},
   "source": [
    "No, $\\mu$ from 2000-2021 has not been outside the confidence interval defined by the 1965-1999 data."
   ]
  },
  {
   "cell_type": "markdown",
   "metadata": {},
   "source": [
    "(d) From the data we have looked at, it appears that excess return mean is much more stationary than SPY return mean or risk-free rate mean, and we can create better future estimates of excess return mean. Consequently, it makes sense not to enter a contract where a strike (or rate of return paid out, e.g. in the trust) is based off a historical risk-free rate and is set as a constant. Barnstable should find a proposal where their exposure is the risk-free rate. "
   ]
  },
  {
   "cell_type": "markdown",
   "metadata": {},
   "source": [
    "### 4.3 Log-Normal Distribution"
   ]
  },
  {
   "cell_type": "markdown",
   "metadata": {},
   "source": [
    "(a)"
   ]
  },
  {
   "cell_type": "code",
   "execution_count": 238,
   "metadata": {},
   "outputs": [],
   "source": [
    "def log_mu(level_mu, log_sigma):\n",
    "    return np.log(level_mu + 1) - 0.5 * (log_sigma**2)"
   ]
  },
  {
   "cell_type": "code",
   "execution_count": 239,
   "metadata": {},
   "outputs": [
    {
     "name": "stdout",
     "output_type": "stream",
     "text": [
      "Mean log return of stocks: 0.1094\n"
     ]
    }
   ],
   "source": [
    "print('Mean log return of stocks: ' + str(round(log_mu(.13, .16), 4)))"
   ]
  },
  {
   "cell_type": "markdown",
   "metadata": {},
   "source": [
    "No, this is not the same as the 11.72% given in the case."
   ]
  },
  {
   "cell_type": "markdown",
   "metadata": {},
   "source": [
    "(b)"
   ]
  },
  {
   "cell_type": "code",
   "execution_count": 240,
   "metadata": {},
   "outputs": [],
   "source": [
    "def level_var(level_mu, log_sigma):\n",
    "    log_mu_ = log_mu(level_mu, log_sigma)\n",
    "    return np.exp(2*log_mu_ + log_sigma) * (np.exp(log_sigma**2) - 1)"
   ]
  },
  {
   "cell_type": "code",
   "execution_count": 241,
   "metadata": {},
   "outputs": [
    {
     "name": "stdout",
     "output_type": "stream",
     "text": [
      "Variance of level return of stocks: 0.0379\n"
     ]
    }
   ],
   "source": [
    "print('Variance of level return of stocks: ' + str(round(level_var(.13, .16), 4)))"
   ]
  },
  {
   "cell_type": "code",
   "execution_count": 242,
   "metadata": {},
   "outputs": [
    {
     "name": "stdout",
     "output_type": "stream",
     "text": [
      "Standard deviation of level return of stocks: 0.1946\n"
     ]
    }
   ],
   "source": [
    "print('Standard deviation of level return of stocks: ' + str(round(np.sqrt(level_var(.13, .16)), 4)))"
   ]
  },
  {
   "cell_type": "markdown",
   "metadata": {},
   "source": [
    "(c) Mean and volatility are larger for level returns."
   ]
  },
  {
   "cell_type": "markdown",
   "metadata": {},
   "source": [
    "### 4.4\n",
    "Does the analysis change much if we use the pre-1965 data in our estimates of the market return\n",
    "and risk-free rate?\n",
    "<br>\n",
    "\n",
    "Yes it should change quite a bit, as volatility for stocks is much higher, and excess return is much higher for the period, due to the mean of $r^{f}$ being much lower. "
   ]
  },
  {
   "cell_type": "code",
   "execution_count": 243,
   "metadata": {},
   "outputs": [
    {
     "data": {
      "text/html": [
       "<div>\n",
       "<style scoped>\n",
       "    .dataframe tbody tr th:only-of-type {\n",
       "        vertical-align: middle;\n",
       "    }\n",
       "\n",
       "    .dataframe tbody tr th {\n",
       "        vertical-align: top;\n",
       "    }\n",
       "\n",
       "    .dataframe thead th {\n",
       "        text-align: right;\n",
       "    }\n",
       "</style>\n",
       "<table border=\"1\" class=\"dataframe\">\n",
       "  <thead>\n",
       "    <tr style=\"text-align: right;\">\n",
       "      <th></th>\n",
       "      <th>1926-1965 $\\mu$</th>\n",
       "      <th>1926-1965 $\\sigma$</th>\n",
       "    </tr>\n",
       "  </thead>\n",
       "  <tbody>\n",
       "    <tr>\n",
       "      <th>$r^{M}$</th>\n",
       "      <td>0.1198</td>\n",
       "      <td>0.2304</td>\n",
       "    </tr>\n",
       "    <tr>\n",
       "      <th>${\\tilde{r}^{M}}$</th>\n",
       "      <td>0.1049</td>\n",
       "      <td>0.2304</td>\n",
       "    </tr>\n",
       "    <tr>\n",
       "      <th>$r^{f}$</th>\n",
       "      <td>0.0149</td>\n",
       "      <td>0.0039</td>\n",
       "    </tr>\n",
       "  </tbody>\n",
       "</table>\n",
       "</div>"
      ],
      "text/plain": [
       "                   1926-1965 $\\mu$  1926-1965 $\\sigma$\n",
       "$r^{M}$                     0.1198              0.2304\n",
       "${\\tilde{r}^{M}}$           0.1049              0.2304\n",
       "$r^{f}$                     0.0149              0.0039"
      ]
     },
     "execution_count": 243,
     "metadata": {},
     "output_type": "execute_result"
    }
   ],
   "source": [
    "round(annualized_stats(df.loc[:'1965'], 12), 4)"
   ]
  },
  {
   "cell_type": "code",
   "execution_count": 244,
   "metadata": {},
   "outputs": [
    {
     "data": {
      "text/html": [
       "<div>\n",
       "<style scoped>\n",
       "    .dataframe tbody tr th:only-of-type {\n",
       "        vertical-align: middle;\n",
       "    }\n",
       "\n",
       "    .dataframe tbody tr th {\n",
       "        vertical-align: top;\n",
       "    }\n",
       "\n",
       "    .dataframe thead th {\n",
       "        text-align: right;\n",
       "    }\n",
       "</style>\n",
       "<table border=\"1\" class=\"dataframe\">\n",
       "  <thead>\n",
       "    <tr style=\"text-align: right;\">\n",
       "      <th></th>\n",
       "      <th>1965-1999 $\\mu$</th>\n",
       "      <th>1965-1999 $\\sigma$</th>\n",
       "      <th>2000-2021 $\\mu$</th>\n",
       "      <th>2000-2021 $\\sigma$</th>\n",
       "      <th>1926-2021 $\\mu$</th>\n",
       "      <th>1926-2021 $\\sigma$</th>\n",
       "    </tr>\n",
       "  </thead>\n",
       "  <tbody>\n",
       "    <tr>\n",
       "      <th>$r^{M}$</th>\n",
       "      <td>0.1294</td>\n",
       "      <td>0.1494</td>\n",
       "      <td>0.0840</td>\n",
       "      <td>0.1499</td>\n",
       "      <td>0.1157</td>\n",
       "      <td>0.1872</td>\n",
       "    </tr>\n",
       "    <tr>\n",
       "      <th>${\\tilde{r}^{M}}$</th>\n",
       "      <td>0.0679</td>\n",
       "      <td>0.1502</td>\n",
       "      <td>0.0693</td>\n",
       "      <td>0.1505</td>\n",
       "      <td>0.0839</td>\n",
       "      <td>0.1879</td>\n",
       "    </tr>\n",
       "    <tr>\n",
       "      <th>$r^{f}$</th>\n",
       "      <td>0.0615</td>\n",
       "      <td>0.0072</td>\n",
       "      <td>0.0147</td>\n",
       "      <td>0.0050</td>\n",
       "      <td>0.0318</td>\n",
       "      <td>0.0086</td>\n",
       "    </tr>\n",
       "    <tr>\n",
       "      <th>log $r^{M}$</th>\n",
       "      <td>0.1176</td>\n",
       "      <td>0.1496</td>\n",
       "      <td>0.0724</td>\n",
       "      <td>0.1510</td>\n",
       "      <td>0.0979</td>\n",
       "      <td>0.1865</td>\n",
       "    </tr>\n",
       "    <tr>\n",
       "      <th>log ${\\tilde{r}^{M}}$</th>\n",
       "      <td>0.0563</td>\n",
       "      <td>0.1504</td>\n",
       "      <td>0.0577</td>\n",
       "      <td>0.1516</td>\n",
       "      <td>0.0662</td>\n",
       "      <td>0.1872</td>\n",
       "    </tr>\n",
       "    <tr>\n",
       "      <th>log $r^{f}$</th>\n",
       "      <td>0.0613</td>\n",
       "      <td>0.0071</td>\n",
       "      <td>0.0147</td>\n",
       "      <td>0.0050</td>\n",
       "      <td>0.0317</td>\n",
       "      <td>0.0085</td>\n",
       "    </tr>\n",
       "  </tbody>\n",
       "</table>\n",
       "</div>"
      ],
      "text/plain": [
       "                       1965-1999 $\\mu$  1965-1999 $\\sigma$  2000-2021 $\\mu$  \\\n",
       "$r^{M}$                         0.1294              0.1494           0.0840   \n",
       "${\\tilde{r}^{M}}$               0.0679              0.1502           0.0693   \n",
       "$r^{f}$                         0.0615              0.0072           0.0147   \n",
       "log $r^{M}$                     0.1176              0.1496           0.0724   \n",
       "log ${\\tilde{r}^{M}}$           0.0563              0.1504           0.0577   \n",
       "log $r^{f}$                     0.0613              0.0071           0.0147   \n",
       "\n",
       "                       2000-2021 $\\sigma$  1926-2021 $\\mu$  1926-2021 $\\sigma$  \n",
       "$r^{M}$                            0.1499           0.1157              0.1872  \n",
       "${\\tilde{r}^{M}}$                  0.1505           0.0839              0.1879  \n",
       "$r^{f}$                            0.0050           0.0318              0.0086  \n",
       "log $r^{M}$                        0.1510           0.0979              0.1865  \n",
       "log ${\\tilde{r}^{M}}$              0.1516           0.0662              0.1872  \n",
       "log $r^{f}$                        0.0050           0.0317              0.0085  "
      ]
     },
     "execution_count": 244,
     "metadata": {},
     "output_type": "execute_result"
    }
   ],
   "source": [
    "round(stats_df, 4)"
   ]
  }
 ],
 "metadata": {
  "kernelspec": {
   "display_name": "Python 3",
   "language": "python",
   "name": "python3"
  },
  "language_info": {
   "codemirror_mode": {
    "name": "ipython",
    "version": 3
   },
   "file_extension": ".py",
   "mimetype": "text/x-python",
   "name": "python",
   "nbconvert_exporter": "python",
   "pygments_lexer": "ipython3",
   "version": "3.8.3"
  }
 },
 "nbformat": 4,
 "nbformat_minor": 4
}
