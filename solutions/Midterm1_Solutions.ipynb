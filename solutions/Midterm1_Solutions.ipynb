{
 "cells": [
  {
   "cell_type": "markdown",
   "metadata": {},
   "source": [
    "# Midterm #1A\n",
    "## FINM 36700 - 2021"
   ]
  },
  {
   "cell_type": "markdown",
   "metadata": {},
   "source": [
    "## Imports"
   ]
  },
  {
   "cell_type": "code",
   "execution_count": 38,
   "metadata": {},
   "outputs": [],
   "source": [
    "import pandas as pd\n",
    "import numpy as np\n",
    "import matplotlib.pyplot as plt\n",
    "import statsmodels.api as sm\n",
    "from arch import arch_model\n",
    "from arch.univariate import GARCH, EWMAVariance \n",
    "from sklearn import linear_model\n",
    "import scipy\n",
    "import scipy.stats as stats\n",
    "from statsmodels.regression.rolling import RollingOLS\n",
    "import seaborn as sns\n",
    "import warnings\n",
    "warnings.filterwarnings(\"ignore\")\n",
    "pd.set_option(\"display.precision\", 4)"
   ]
  },
  {
   "cell_type": "markdown",
   "metadata": {},
   "source": [
    "## Data"
   ]
  },
  {
   "cell_type": "code",
   "execution_count": 40,
   "metadata": {},
   "outputs": [
    {
     "name": "stdout",
     "output_type": "stream",
     "text": [
      "Sheet names: ['descriptions', 'hedge_fund_series', 'merrill_factors', 'other_data']\n"
     ]
    }
   ],
   "source": [
    "file_path = '../data/proshares_analysis_data.xlsx'\n",
    "xl = pd.ExcelFile(file_path)\n",
    "print('Sheet names: %s'%(xl.sheet_names))\n",
    "\n",
    "df_desc = xl.parse('descriptions')\n",
    "df_hf = xl.parse('hedge_fund_series', index_col = 0, parse_dates=True)\n",
    "df_mf = xl.parse('merrill_factors', index_col = 0, parse_dates=True)\n",
    "df_other = xl.parse('other_data', index_col = 0, parse_dates=True)\n",
    "df_mf_ex = df_mf.subtract(df_mf['USGG3M Index'],axis=0).drop(columns=['USGG3M Index'])"
   ]
  },
  {
   "cell_type": "markdown",
   "metadata": {},
   "source": [
    "# 1. Short Answer \n",
    "\n",
    "(These answers are longer than I expect of students--just being thorough.)\n",
    "\n",
    "## 1\n",
    "**False**. MV Optimization seeks to maximize Sharpe of the portfolio, but that is not achieved by weighting individual assets proportional to their individual Sharpe ratios. Rather, an asset's covariances are an important determinant in whether it has a high/low, positive/negative weight.\n",
    "\n",
    "## 2\n",
    "**False**. Based on our discussion of LETFs, they do not track their benchmark over the long run due to nonlinearities of the compounding. However, many do track their benchmark over the short-run well. We saw for several S&P500 LETFs that over the long-run their cumulative return was a fraction of the benchmark.\n",
    "\n",
    "## 3\n",
    "**Either answer could make sense.**\n",
    "\n",
    "**YES Intercept** This product is new, and we have high uncertainty about what its mean will be over the long-run. Its mean over a single year will be a very noisy, imprecise measure of this. Accordingly, it makes sense to include an intercept to ensure that the one-year sample average is not influencing the regression too much.\n",
    "\n",
    "**NO Intercept** We may be confident that while BITO is new, we have enough data on Bitcoin to expect its long-run mean is much higher than SPY (possibly due to much higher risk.) Thus, if our prior is that the mean of BITO is much higher than the mean of SPY, the replication will fail at matching this unless we exclude an intercept and ensure this difference of means influences the replication regression.\n",
    "\n",
    "## 4\n",
    "**Yes**. Per HW#2, we found that HDG tracks HFRI (via ML Factor Exchange Series) with high R-squared both in-sample and out-of-sample.\n",
    "\n",
    "It is reasonable if an answer emphasizes that HDG's direct benchmark is not HFRI, but rather the ML series. Still, HDG tracks this series with high (even higher!) r-squared both in-sample and out-of-sample.\n",
    "\n",
    "## 5\n",
    "**Alpha is relative to the regressors used in the estimation.** The hedge-fund is likely boasting about alpha relative to just the S&P500, or some other model. Even if the fund has unexplained mean returns relative to SPY, it does not mean it has unexplained mean returns relative to the ML style factors."
   ]
  },
  {
   "cell_type": "markdown",
   "metadata": {},
   "source": [
    "## 2 Allocation"
   ]
  },
  {
   "cell_type": "code",
   "execution_count": 41,
   "metadata": {},
   "outputs": [],
   "source": [
    "def performanceMetrics(returns, annualization=1):\n",
    "    metrics = pd.DataFrame(index=returns.columns)\n",
    "    metrics['Mean'] = returns.mean() * annualization\n",
    "    metrics['Vol'] = returns.std() * np.sqrt(annualization)\n",
    "    metrics['Sharpe'] = (returns.mean() / returns.std()) * np.sqrt(annualization)\n",
    "\n",
    "    metrics['Min'] = returns.min()\n",
    "    metrics['Max'] = returns.max()\n",
    "\n",
    "    return metrics\n",
    "\n",
    "# When calculating the portfolio performance, we could also use the function below \n",
    "def portfolio_stats(omega, mu_tilde, Sigma, annualize_fac):\n",
    "    \n",
    "    # Mean\n",
    "    mean = (mu_tilde @ omega) * annualize_fac\n",
    "\n",
    "    # Volatility\n",
    "    vol = np.sqrt(omega @ Sigma @ omega) * np.sqrt(annualize_fac)\n",
    "\n",
    "    # Sharpe ratio\n",
    "    sharpe_ratio = mean / vol\n",
    "    \n",
    "    df_result = pd.DataFrame(data = [mean, vol, sharpe_ratio], \n",
    "                              index = ['Mean', 'Volatility', 'Sharpe'], \n",
    "                              columns = ['Portfolio Stats'])\n",
    "\n",
    "    return round(df_result, 4)\n",
    "\n",
    "def compute_tangency(df_tilde, diagonalize_Sigma=False):\n",
    "\n",
    "    Sigma = df_tilde.cov()\n",
    "\n",
    "    # N is the number of assets\n",
    "\n",
    "    N = Sigma.shape[0]\n",
    "\n",
    "    Sigma_adj = Sigma.copy()\n",
    "\n",
    "    if diagonalize_Sigma:\n",
    "\n",
    "        Sigma_adj.loc[:,:] = np.diag(np.diag(Sigma_adj))\n",
    "\n",
    "    mu_tilde = df_tilde.mean()\n",
    "\n",
    "    Sigma_inv = np.linalg.inv(Sigma_adj)\n",
    "\n",
    "    weights = Sigma_inv @ mu_tilde / (np.ones(N) @ Sigma_inv @ mu_tilde)\n",
    "\n",
    "    # For convenience, I'll wrap the solution back into a pandas.Series object.\n",
    "    omega_tangency = pd.Series(weights, index=mu_tilde.index)\n",
    "    \n",
    "    return omega_tangency, mu_tilde, Sigma_adj\n",
    "\n",
    "\n",
    "def target_mv_portfolio(df_tilde, target_return=0.01, diagonalize_Sigma=False):\n",
    "\n",
    "    omega_tangency, mu_tilde, Sigma = compute_tangency(df_tilde, diagonalize_Sigma=diagonalize_Sigma)\n",
    "\n",
    "    Sigma_adj = Sigma.copy()\n",
    "\n",
    "    if diagonalize_Sigma:\n",
    "\n",
    "        Sigma_adj.loc[:,:] = np.diag(np.diag(Sigma_adj))\n",
    "\n",
    "    Sigma_inv = np.linalg.inv(Sigma_adj)\n",
    "\n",
    "    N = Sigma_adj.shape[0]\n",
    "\n",
    "    delta_tilde = ((np.ones(N) @ Sigma_inv @ mu_tilde)/(mu_tilde @ Sigma_inv @ mu_tilde)) * target_return\n",
    "\n",
    "    omega_star = delta_tilde * omega_tangency\n",
    "\n",
    "    return omega_star, mu_tilde, Sigma_adj"
   ]
  },
  {
   "cell_type": "markdown",
   "metadata": {},
   "source": [
    "#### 1) Weights of the tangency portfolio"
   ]
  },
  {
   "cell_type": "code",
   "execution_count": 42,
   "metadata": {},
   "outputs": [
    {
     "data": {
      "text/html": [
       "<div>\n",
       "<style scoped>\n",
       "    .dataframe tbody tr th:only-of-type {\n",
       "        vertical-align: middle;\n",
       "    }\n",
       "\n",
       "    .dataframe tbody tr th {\n",
       "        vertical-align: top;\n",
       "    }\n",
       "\n",
       "    .dataframe thead th {\n",
       "        text-align: right;\n",
       "    }\n",
       "</style>\n",
       "<table border=\"1\" class=\"dataframe\">\n",
       "  <thead>\n",
       "    <tr style=\"text-align: right;\">\n",
       "      <th></th>\n",
       "      <th>Tangency Weights</th>\n",
       "    </tr>\n",
       "  </thead>\n",
       "  <tbody>\n",
       "    <tr>\n",
       "      <th>SPY US Equity</th>\n",
       "      <td>2.1736</td>\n",
       "    </tr>\n",
       "    <tr>\n",
       "      <th>EEM US Equity</th>\n",
       "      <td>-0.1521</td>\n",
       "    </tr>\n",
       "    <tr>\n",
       "      <th>EFA US Equity</th>\n",
       "      <td>-0.7548</td>\n",
       "    </tr>\n",
       "    <tr>\n",
       "      <th>EUO US Equity</th>\n",
       "      <td>0.1818</td>\n",
       "    </tr>\n",
       "    <tr>\n",
       "      <th>IWM US Equity</th>\n",
       "      <td>-0.4485</td>\n",
       "    </tr>\n",
       "  </tbody>\n",
       "</table>\n",
       "</div>"
      ],
      "text/plain": [
       "               Tangency Weights\n",
       "SPY US Equity            2.1736\n",
       "EEM US Equity           -0.1521\n",
       "EFA US Equity           -0.7548\n",
       "EUO US Equity            0.1818\n",
       "IWM US Equity           -0.4485"
      ]
     },
     "execution_count": 42,
     "metadata": {},
     "output_type": "execute_result"
    }
   ],
   "source": [
    "omega_tangency, mu_tilde, Sigma = compute_tangency(df_mf_ex)\n",
    "omega_tangency.to_frame('Tangency Weights')"
   ]
  },
  {
   "cell_type": "code",
   "execution_count": 5,
   "metadata": {},
   "outputs": [
    {
     "data": {
      "text/plain": [
       "1.0000000000000007"
      ]
     },
     "execution_count": 5,
     "metadata": {},
     "output_type": "execute_result"
    }
   ],
   "source": [
    "omega_tangency.sum()"
   ]
  },
  {
   "cell_type": "markdown",
   "metadata": {},
   "source": [
    "#### 2) Weights of the optimal portfolio, with targeted excess mean return of 0.02 per month. Is the optimal portfolio invested in the risk-free rate?"
   ]
  },
  {
   "cell_type": "code",
   "execution_count": 6,
   "metadata": {},
   "outputs": [
    {
     "data": {
      "text/html": [
       "<div>\n",
       "<style scoped>\n",
       "    .dataframe tbody tr th:only-of-type {\n",
       "        vertical-align: middle;\n",
       "    }\n",
       "\n",
       "    .dataframe tbody tr th {\n",
       "        vertical-align: top;\n",
       "    }\n",
       "\n",
       "    .dataframe thead th {\n",
       "        text-align: right;\n",
       "    }\n",
       "</style>\n",
       "<table border=\"1\" class=\"dataframe\">\n",
       "  <thead>\n",
       "    <tr style=\"text-align: right;\">\n",
       "      <th></th>\n",
       "      <th>MV Portfolio Weights</th>\n",
       "    </tr>\n",
       "  </thead>\n",
       "  <tbody>\n",
       "    <tr>\n",
       "      <th>SPY US Equity</th>\n",
       "      <td>2.5161</td>\n",
       "    </tr>\n",
       "    <tr>\n",
       "      <th>EEM US Equity</th>\n",
       "      <td>-0.1761</td>\n",
       "    </tr>\n",
       "    <tr>\n",
       "      <th>EFA US Equity</th>\n",
       "      <td>-0.8737</td>\n",
       "    </tr>\n",
       "    <tr>\n",
       "      <th>EUO US Equity</th>\n",
       "      <td>0.2105</td>\n",
       "    </tr>\n",
       "    <tr>\n",
       "      <th>IWM US Equity</th>\n",
       "      <td>-0.5192</td>\n",
       "    </tr>\n",
       "  </tbody>\n",
       "</table>\n",
       "</div>"
      ],
      "text/plain": [
       "               MV Portfolio Weights\n",
       "SPY US Equity                2.5161\n",
       "EEM US Equity               -0.1761\n",
       "EFA US Equity               -0.8737\n",
       "EUO US Equity                0.2105\n",
       "IWM US Equity               -0.5192"
      ]
     },
     "execution_count": 6,
     "metadata": {},
     "output_type": "execute_result"
    }
   ],
   "source": [
    "omega_star, mu_tilde, Sigma = target_mv_portfolio(df_mf_ex, target_return=0.02)\n",
    "omega_star.to_frame('MV Portfolio Weights')"
   ]
  },
  {
   "cell_type": "code",
   "execution_count": 7,
   "metadata": {},
   "outputs": [
    {
     "data": {
      "text/plain": [
       "1.1575610833779102"
      ]
     },
     "execution_count": 7,
     "metadata": {},
     "output_type": "execute_result"
    }
   ],
   "source": [
    "# Since the total weights added up is above 1, the portfolio is short in risk-free rate\n",
    "omega_star.sum()"
   ]
  },
  {
   "cell_type": "markdown",
   "metadata": {},
   "source": [
    "#### 3) Report the man, vol, Sharpe ratio of the optimized portfolio. Annualize all stats"
   ]
  },
  {
   "cell_type": "code",
   "execution_count": 8,
   "metadata": {},
   "outputs": [
    {
     "data": {
      "text/html": [
       "<div>\n",
       "<style scoped>\n",
       "    .dataframe tbody tr th:only-of-type {\n",
       "        vertical-align: middle;\n",
       "    }\n",
       "\n",
       "    .dataframe tbody tr th {\n",
       "        vertical-align: top;\n",
       "    }\n",
       "\n",
       "    .dataframe thead th {\n",
       "        text-align: right;\n",
       "    }\n",
       "</style>\n",
       "<table border=\"1\" class=\"dataframe\">\n",
       "  <thead>\n",
       "    <tr style=\"text-align: right;\">\n",
       "      <th></th>\n",
       "      <th>Mean</th>\n",
       "      <th>Vol</th>\n",
       "      <th>Sharpe</th>\n",
       "      <th>Min</th>\n",
       "      <th>Max</th>\n",
       "    </tr>\n",
       "  </thead>\n",
       "  <tbody>\n",
       "    <tr>\n",
       "      <th>optimal portfolio</th>\n",
       "      <td>0.24</td>\n",
       "      <td>0.1586</td>\n",
       "      <td>1.5136</td>\n",
       "      <td>-0.1123</td>\n",
       "      <td>0.1868</td>\n",
       "    </tr>\n",
       "  </tbody>\n",
       "</table>\n",
       "</div>"
      ],
      "text/plain": [
       "                   Mean     Vol  Sharpe     Min     Max\n",
       "optimal portfolio  0.24  0.1586  1.5136 -0.1123  0.1868"
      ]
     },
     "execution_count": 8,
     "metadata": {},
     "output_type": "execute_result"
    }
   ],
   "source": [
    "df_optimal_port = pd.DataFrame(df_mf_ex @ omega_star, columns= ['optimal portfolio'])\n",
    "performanceMetrics(df_optimal_port, annualization=12)"
   ]
  },
  {
   "cell_type": "markdown",
   "metadata": {},
   "source": [
    "#### 4) Re-calculate the optimal portfolio, with the same targeted excess mean return. But only use data ```through 2018``` in doing the calculation. Calculate the return in 2019-2021 based on those optimal weights. Report on those optimal weights. Report mean, vol, Sharpe ratio of 2019-2020 performance."
   ]
  },
  {
   "cell_type": "code",
   "execution_count": 9,
   "metadata": {},
   "outputs": [],
   "source": [
    "df_mf_ex_is = df_mf_ex.loc[:'2018-12-31',]\n",
    "df_mf_ex_oos = df_mf_ex.loc['2019-01-01':,]"
   ]
  },
  {
   "cell_type": "code",
   "execution_count": 10,
   "metadata": {},
   "outputs": [
    {
     "data": {
      "text/plain": [
       "SPY US Equity    2.9575\n",
       "EEM US Equity   -0.3045\n",
       "EFA US Equity   -0.8239\n",
       "EUO US Equity    0.1676\n",
       "IWM US Equity   -0.7442\n",
       "dtype: float64"
      ]
     },
     "execution_count": 10,
     "metadata": {},
     "output_type": "execute_result"
    }
   ],
   "source": [
    "omega_star_is, mu_tilde_is, Sigma_is = target_mv_portfolio(df_mf_ex_is, target_return=0.02)\n",
    "\n",
    "omega_star_is"
   ]
  },
  {
   "cell_type": "code",
   "execution_count": 11,
   "metadata": {},
   "outputs": [
    {
     "data": {
      "text/html": [
       "<div>\n",
       "<style scoped>\n",
       "    .dataframe tbody tr th:only-of-type {\n",
       "        vertical-align: middle;\n",
       "    }\n",
       "\n",
       "    .dataframe tbody tr th {\n",
       "        vertical-align: top;\n",
       "    }\n",
       "\n",
       "    .dataframe thead th {\n",
       "        text-align: right;\n",
       "    }\n",
       "</style>\n",
       "<table border=\"1\" class=\"dataframe\">\n",
       "  <thead>\n",
       "    <tr style=\"text-align: right;\">\n",
       "      <th></th>\n",
       "      <th>Mean</th>\n",
       "      <th>Vol</th>\n",
       "      <th>Sharpe</th>\n",
       "      <th>Min</th>\n",
       "      <th>Max</th>\n",
       "    </tr>\n",
       "  </thead>\n",
       "  <tbody>\n",
       "    <tr>\n",
       "      <th>optimal portfolio</th>\n",
       "      <td>0.3531</td>\n",
       "      <td>0.2387</td>\n",
       "      <td>1.479</td>\n",
       "      <td>-0.0925</td>\n",
       "      <td>0.2045</td>\n",
       "    </tr>\n",
       "  </tbody>\n",
       "</table>\n",
       "</div>"
      ],
      "text/plain": [
       "                     Mean     Vol  Sharpe     Min     Max\n",
       "optimal portfolio  0.3531  0.2387   1.479 -0.0925  0.2045"
      ]
     },
     "execution_count": 11,
     "metadata": {},
     "output_type": "execute_result"
    }
   ],
   "source": [
    "df_optimal_port_oos = pd.DataFrame(df_mf_ex_oos @ omega_star_is, columns= ['optimal portfolio'])\n",
    "performanceMetrics(df_optimal_port_oos, annualization=12)"
   ]
  },
  {
   "cell_type": "markdown",
   "metadata": {},
   "source": [
    "#### 5) Suppose that instead of optimizing these 5 risky assets, we optimized 5 commodity futures: oil, coffee, cocoa, lumber, cattle, and gold. Do you think the out-of-sample fragility problem would be better or worse than what we have seen optimizing equities?\n",
    "\n",
    "The biggest reason the MV solution is “fragile” out-of-sample is due to the inversion of the covariance matrix. In HW#1 we learned that optimization over highly correlated assets leads to over-fitting, (as seen in extreme long-short portfolios, etc.) Thus, we expect the optimization will be overfit particularly in cases where the assets are highly correlated. \n",
    "\n",
    "The five commodities are much less correlated to each other than our five factors, (which include several equity-focused securities.) We saw lower correlation in commodities in one of our demos, but just from the stated descriptions, we can infer the commodities will likely have less correlation and thus less of a problem with the inverted covariance matrix."
   ]
  },
  {
   "cell_type": "markdown",
   "metadata": {},
   "source": [
    "## 3 Hedging & Replication"
   ]
  },
  {
   "cell_type": "markdown",
   "metadata": {},
   "source": [
    "**3.1:** (5pts) What is the optimal hedge ratio over the full sample of data? That is, for every dollar invested in EEM, what would you invest in SPY?"
   ]
  },
  {
   "cell_type": "code",
   "execution_count": 12,
   "metadata": {},
   "outputs": [
    {
     "data": {
      "text/html": [
       "<div>\n",
       "<style scoped>\n",
       "    .dataframe tbody tr th:only-of-type {\n",
       "        vertical-align: middle;\n",
       "    }\n",
       "\n",
       "    .dataframe tbody tr th {\n",
       "        vertical-align: top;\n",
       "    }\n",
       "\n",
       "    .dataframe thead th {\n",
       "        text-align: right;\n",
       "    }\n",
       "</style>\n",
       "<table border=\"1\" class=\"dataframe\">\n",
       "  <thead>\n",
       "    <tr style=\"text-align: right;\">\n",
       "      <th></th>\n",
       "      <th>$h^{*}$</th>\n",
       "    </tr>\n",
       "  </thead>\n",
       "  <tbody>\n",
       "    <tr>\n",
       "      <th>SPY US Equity</th>\n",
       "      <td>0.9257</td>\n",
       "    </tr>\n",
       "  </tbody>\n",
       "</table>\n",
       "</div>"
      ],
      "text/plain": [
       "               $h^{*}$\n",
       "SPY US Equity   0.9257"
      ]
     },
     "execution_count": 12,
     "metadata": {},
     "output_type": "execute_result"
    }
   ],
   "source": [
    "y = df_mf_ex['EEM US Equity']\n",
    "X = df_mf_ex['SPY US Equity']\n",
    "\n",
    "hedge_reg = sm.OLS(y, X).fit()\n",
    "\n",
    "hedge_reg.params.to_frame(r'$h^{*}$')"
   ]
  },
  {
   "cell_type": "markdown",
   "metadata": {},
   "source": [
    "For every $\\$1$ invested in EEM, we would short $\\$0.9279$ of SPY to build the market hedged position."
   ]
  },
  {
   "cell_type": "markdown",
   "metadata": {},
   "source": [
    "**3.2:** (5pts) What is the mean, volatility, and Sharpe ratio of the hedged position, had we applied\n",
    "that hedge throughout the full sample? Annualize the statistics."
   ]
  },
  {
   "cell_type": "code",
   "execution_count": 13,
   "metadata": {},
   "outputs": [],
   "source": [
    "def summary_stats(df, annual_fac):\n",
    "    ss_df = (df.mean() * annual_fac).to_frame('Mean')\n",
    "    ss_df['Vol'] = df.std() * np.sqrt(annual_fac)\n",
    "    ss_df['Sharpe'] = ss_df['Mean'] / ss_df['Vol']\n",
    "    \n",
    "    return ss_df.T"
   ]
  },
  {
   "cell_type": "code",
   "execution_count": 14,
   "metadata": {},
   "outputs": [
    {
     "data": {
      "text/html": [
       "<div>\n",
       "<style scoped>\n",
       "    .dataframe tbody tr th:only-of-type {\n",
       "        vertical-align: middle;\n",
       "    }\n",
       "\n",
       "    .dataframe tbody tr th {\n",
       "        vertical-align: top;\n",
       "    }\n",
       "\n",
       "    .dataframe thead th {\n",
       "        text-align: right;\n",
       "    }\n",
       "</style>\n",
       "<table border=\"1\" class=\"dataframe\">\n",
       "  <thead>\n",
       "    <tr style=\"text-align: right;\">\n",
       "      <th></th>\n",
       "      <th>Market Hedged EEM</th>\n",
       "    </tr>\n",
       "  </thead>\n",
       "  <tbody>\n",
       "    <tr>\n",
       "      <th>Mean</th>\n",
       "      <td>-0.0935</td>\n",
       "    </tr>\n",
       "    <tr>\n",
       "      <th>Vol</th>\n",
       "      <td>0.1258</td>\n",
       "    </tr>\n",
       "    <tr>\n",
       "      <th>Sharpe</th>\n",
       "      <td>-0.7433</td>\n",
       "    </tr>\n",
       "  </tbody>\n",
       "</table>\n",
       "</div>"
      ],
      "text/plain": [
       "        Market Hedged EEM\n",
       "Mean              -0.0935\n",
       "Vol                0.1258\n",
       "Sharpe            -0.7433"
      ]
     },
     "execution_count": 14,
     "metadata": {},
     "output_type": "execute_result"
    }
   ],
   "source": [
    "hedged_pos = (df_mf_ex['EEM US Equity'] - hedge_reg.params[0] * df_mf_ex['SPY US Equity']).to_frame('Market Hedged EEM')\n",
    "\n",
    "summary_stats(hedged_pos, 12)"
   ]
  },
  {
   "cell_type": "markdown",
   "metadata": {},
   "source": [
    "**3.3:** (5pts) Does it have the same mean as EEM? Why or why not?"
   ]
  },
  {
   "cell_type": "code",
   "execution_count": 15,
   "metadata": {},
   "outputs": [
    {
     "name": "stdout",
     "output_type": "stream",
     "text": [
      "EEM mean annualized excess return: 0.0378\n"
     ]
    }
   ],
   "source": [
    "print('EEM mean annualized excess return: ' + str(round(df_mf_ex['EEM US Equity'].mean() * 12, 4)))"
   ]
  },
  {
   "cell_type": "markdown",
   "metadata": {},
   "source": [
    "No, the hedged portfolio does not have the same mean as EEM. This is because we have subtracted a hedged position of SPY from EEM. The mean of the hedged portfolio is the following:\n",
    "> $\\mu_{h} = \\mu_{EEM} - \\beta_{SPY,EEM} \\cdot \\mu_{SPY}$. \n",
    "\n",
    "The hedged portfolio is EEM with exposure to SPY hedged out, so as long as some exposure to SPY exists and SPY has a non-zero mean the mean of the hedged portfolio will be different than the mean of EEM."
   ]
  },
  {
   "cell_type": "markdown",
   "metadata": {},
   "source": [
    "**Another acceptable answer if students interpreted this question as asking if the mean of the lhs and rhs of the regression are the same:**\n",
    "\n",
    "The mean is not the same as EEM due to the fact that we did not include an intercept. Thus, the regression is balancing two objectives: match the mean and match the variation. To fit the variation, the regression gives up a lot of error on the mean return. This is particularly acute in this regression due to the fact that SPY and EEM have substantially different means."
   ]
  },
  {
   "cell_type": "markdown",
   "metadata": {},
   "source": [
    "**3.4:** (5pts) Suppose we estimated a multifactor regression where in addition to SPY, we had IWM as a regressor. Why might this regression be difficult to use for attribution or even hedging?"
   ]
  },
  {
   "cell_type": "code",
   "execution_count": 16,
   "metadata": {},
   "outputs": [
    {
     "data": {
      "text/html": [
       "<div>\n",
       "<style scoped>\n",
       "    .dataframe tbody tr th:only-of-type {\n",
       "        vertical-align: middle;\n",
       "    }\n",
       "\n",
       "    .dataframe tbody tr th {\n",
       "        vertical-align: top;\n",
       "    }\n",
       "\n",
       "    .dataframe thead th {\n",
       "        text-align: right;\n",
       "    }\n",
       "</style>\n",
       "<table border=\"1\" class=\"dataframe\">\n",
       "  <thead>\n",
       "    <tr style=\"text-align: right;\">\n",
       "      <th></th>\n",
       "      <th>Unnamed: 0</th>\n",
       "      <th>Descriptions</th>\n",
       "    </tr>\n",
       "  </thead>\n",
       "  <tbody>\n",
       "    <tr>\n",
       "      <th>0</th>\n",
       "      <td>MLEIFCTR Index</td>\n",
       "      <td>ML Factor Model</td>\n",
       "    </tr>\n",
       "    <tr>\n",
       "      <th>1</th>\n",
       "      <td>EFA US Equity</td>\n",
       "      <td>ISHARES MSCI EAFE ETF</td>\n",
       "    </tr>\n",
       "    <tr>\n",
       "      <th>2</th>\n",
       "      <td>HFRIFWI Index</td>\n",
       "      <td>Hedge Fund Research HFRI Fund</td>\n",
       "    </tr>\n",
       "    <tr>\n",
       "      <th>3</th>\n",
       "      <td>HDG US Equity</td>\n",
       "      <td>PROSHARES HEDGE REPLICAT ETF</td>\n",
       "    </tr>\n",
       "    <tr>\n",
       "      <th>4</th>\n",
       "      <td>UPRO US Equity</td>\n",
       "      <td>PROSHARES ULTRAPRO S&amp;P 500</td>\n",
       "    </tr>\n",
       "    <tr>\n",
       "      <th>5</th>\n",
       "      <td>TRVCI Index</td>\n",
       "      <td>Refinitiv VC Index</td>\n",
       "    </tr>\n",
       "    <tr>\n",
       "      <th>6</th>\n",
       "      <td>USGG3M Index</td>\n",
       "      <td>US Generic Govt 3 Mth</td>\n",
       "    </tr>\n",
       "    <tr>\n",
       "      <th>7</th>\n",
       "      <td>SPY US Equity</td>\n",
       "      <td>SPDR S&amp;P 500 ETF TRUST</td>\n",
       "    </tr>\n",
       "    <tr>\n",
       "      <th>8</th>\n",
       "      <td>EEM US Equity</td>\n",
       "      <td>ISHARES MSCI EMERGING MARKET</td>\n",
       "    </tr>\n",
       "    <tr>\n",
       "      <th>9</th>\n",
       "      <td>EUO US Equity</td>\n",
       "      <td>PROSHARES ULTRASHORT EURO</td>\n",
       "    </tr>\n",
       "    <tr>\n",
       "      <th>10</th>\n",
       "      <td>IWM US Equity</td>\n",
       "      <td>ISHARES RUSSELL 2000 ETF</td>\n",
       "    </tr>\n",
       "    <tr>\n",
       "      <th>11</th>\n",
       "      <td>TAIL US Equity</td>\n",
       "      <td>CAMBRIA TAIL RISK ETF</td>\n",
       "    </tr>\n",
       "    <tr>\n",
       "      <th>12</th>\n",
       "      <td>QAI US Equity</td>\n",
       "      <td>IQ HEDGE MULTI-STRAT TRACKER</td>\n",
       "    </tr>\n",
       "    <tr>\n",
       "      <th>13</th>\n",
       "      <td>MLEIFCTX Index</td>\n",
       "      <td>ML Factor ModelX</td>\n",
       "    </tr>\n",
       "    <tr>\n",
       "      <th>14</th>\n",
       "      <td>SPXU US Equity</td>\n",
       "      <td>PROSH ULTRAPRO SHORT S&amp;P 500</td>\n",
       "    </tr>\n",
       "    <tr>\n",
       "      <th>15</th>\n",
       "      <td>HEFA US Equity</td>\n",
       "      <td>ISHA CURR HEDGED MSCI EAFE</td>\n",
       "    </tr>\n",
       "  </tbody>\n",
       "</table>\n",
       "</div>"
      ],
      "text/plain": [
       "        Unnamed: 0                   Descriptions\n",
       "0   MLEIFCTR Index                ML Factor Model\n",
       "1    EFA US Equity          ISHARES MSCI EAFE ETF\n",
       "2    HFRIFWI Index  Hedge Fund Research HFRI Fund\n",
       "3    HDG US Equity   PROSHARES HEDGE REPLICAT ETF\n",
       "4   UPRO US Equity     PROSHARES ULTRAPRO S&P 500\n",
       "5      TRVCI Index             Refinitiv VC Index\n",
       "6     USGG3M Index          US Generic Govt 3 Mth\n",
       "7    SPY US Equity         SPDR S&P 500 ETF TRUST\n",
       "8    EEM US Equity   ISHARES MSCI EMERGING MARKET\n",
       "9    EUO US Equity      PROSHARES ULTRASHORT EURO\n",
       "10   IWM US Equity       ISHARES RUSSELL 2000 ETF\n",
       "11  TAIL US Equity          CAMBRIA TAIL RISK ETF\n",
       "12   QAI US Equity   IQ HEDGE MULTI-STRAT TRACKER\n",
       "13  MLEIFCTX Index               ML Factor ModelX\n",
       "14  SPXU US Equity   PROSH ULTRAPRO SHORT S&P 500\n",
       "15  HEFA US Equity     ISHA CURR HEDGED MSCI EAFE"
      ]
     },
     "execution_count": 16,
     "metadata": {},
     "output_type": "execute_result"
    }
   ],
   "source": [
    "df_desc"
   ]
  },
  {
   "cell_type": "code",
   "execution_count": 17,
   "metadata": {},
   "outputs": [
    {
     "name": "stdout",
     "output_type": "stream",
     "text": [
      "Correlation between IWM and SPY: 0.8816\n"
     ]
    }
   ],
   "source": [
    "print('Correlation between IWM and SPY: ' + str(round(df_mf_ex.corr().loc['IWM US Equity', 'SPY US Equity'], 4)))"
   ]
  },
  {
   "cell_type": "markdown",
   "metadata": {},
   "source": [
    "IWM and SPY are highly correlated (both are ETFs that track a large number of US equities across many industries), which would lead to multi-collinearity in our multifactor regression. This could lead to unreliable $\\beta$ 's as the model will be prone to overfit. \n",
    "\n",
    "Because we will have more factors, rebalancing and transaction costs could also become potential issues. "
   ]
  },
  {
   "cell_type": "markdown",
   "metadata": {},
   "source": [
    "## 4 Modeling Risk"
   ]
  },
  {
   "cell_type": "markdown",
   "metadata": {},
   "source": [
    "1. SPY and EFA are highly correlated, yet SPY has had a much higher return. How confident are we that SPY will overperform EFA over the next 10 years?\n",
    "Note: $R_{t}$ denotes the log returns. \n",
    "\n",
    "$$\n",
    "Pr(R^{SPY}_{t,t+10}>R^{EFA}_{t,t+10})\n",
    " = Pr(\\overline{R^{SPY}_{t,t+10}}>\\overline{R^{EFA}_{t,t+10}})\n",
    " = Pr(\\overline{R^{SPY}_{t,t+10}} - \\overline{R^{EFA}_{t,t+10}} >0)\n",
    "$$\n",
    "\n",
    "$$\n",
    " \\overline{R^{SPY}_{t,t+10}} - \\overline{R^{EFA}_{t,t+10}} \\sim N(\\mu_{SPY} - \\mu_{EFA}, Var(R^{SPY} - R^{EFA}))\n",
    "$$\n"
   ]
  },
  {
   "cell_type": "code",
   "execution_count": 18,
   "metadata": {},
   "outputs": [],
   "source": [
    "df_mf['R_diff'] = np.log(1+df_mf['SPY US Equity']) - np.log(1+df_mf['EFA US Equity'])"
   ]
  },
  {
   "cell_type": "code",
   "execution_count": 19,
   "metadata": {},
   "outputs": [
    {
     "name": "stdout",
     "output_type": "stream",
     "text": [
      "The probability of SPY overperforming EFA over the next 10 years is 0.9997096146741639.\n"
     ]
    }
   ],
   "source": [
    "tilde_mu = df_mf['R_diff'].mean()*12\n",
    "tilde_sigma = df_mf['R_diff'].std()*np.sqrt(12)\n",
    "\n",
    "def p(h, tilde_mu, tilde_sigma):\n",
    "    x = - np.sqrt(h) * tilde_mu / tilde_sigma\n",
    "    val = scipy.stats.norm.cdf(x)\n",
    "    return val\n",
    "\n",
    "print(f\"The probability of SPY overperforming EFA over the next 10 years is {1 - p(10, tilde_mu, tilde_sigma)}.\")"
   ]
  },
  {
   "cell_type": "markdown",
   "metadata": {},
   "source": [
    "2. Calculate the 60-month rolling volatility of EFA.  \n",
    "Use the latest estimate of the volatility (Sep 2021), along with the normality formula, to calculate\n",
    "a Sep 2021 estimate of the 1-month, 1% VaR. In using the VaR formula, assume that the mean\n",
    "is zero."
   ]
  },
  {
   "cell_type": "code",
   "execution_count": 20,
   "metadata": {},
   "outputs": [
    {
     "data": {
      "text/plain": [
       "date\n",
       "2021-05-31    0.0417\n",
       "2021-06-30    0.0416\n",
       "2021-07-31    0.0414\n",
       "2021-08-31    0.0414\n",
       "2021-09-30    0.0417\n",
       "Name: EFA US Equity, dtype: float64"
      ]
     },
     "execution_count": 20,
     "metadata": {},
     "output_type": "execute_result"
    }
   ],
   "source": [
    "sigma_roll = df_mf['EFA US Equity'].dropna().rolling(60).std()\n",
    "sigma_roll.tail()"
   ]
  },
  {
   "cell_type": "code",
   "execution_count": 21,
   "metadata": {},
   "outputs": [],
   "source": [
    "vol_latest = sigma_roll[-1]"
   ]
  },
  {
   "cell_type": "code",
   "execution_count": 22,
   "metadata": {},
   "outputs": [],
   "source": [
    "mu = 0\n",
    "z_phi = scipy.stats.norm.ppf(0.01)\n",
    "VaR_estimate = mu + z_phi*vol_latest"
   ]
  },
  {
   "cell_type": "code",
   "execution_count": 23,
   "metadata": {},
   "outputs": [
    {
     "data": {
      "text/plain": [
       "-0.09699717879816319"
      ]
     },
     "execution_count": 23,
     "metadata": {},
     "output_type": "execute_result"
    }
   ],
   "source": [
    "VaR_estimate"
   ]
  },
  {
   "cell_type": "code",
   "execution_count": 24,
   "metadata": {},
   "outputs": [
    {
     "data": {
      "text/plain": [
       "-2.3263478740408408"
      ]
     },
     "execution_count": 24,
     "metadata": {},
     "output_type": "execute_result"
    }
   ],
   "source": [
    "z_phi"
   ]
  }
 ],
 "metadata": {
  "kernelspec": {
   "display_name": "Python 3",
   "language": "python",
   "name": "python3"
  },
  "language_info": {
   "codemirror_mode": {
    "name": "ipython",
    "version": 3
   },
   "file_extension": ".py",
   "mimetype": "text/x-python",
   "name": "python",
   "nbconvert_exporter": "python",
   "pygments_lexer": "ipython3",
   "version": "3.8.3"
  }
 },
 "nbformat": 4,
 "nbformat_minor": 4
}
