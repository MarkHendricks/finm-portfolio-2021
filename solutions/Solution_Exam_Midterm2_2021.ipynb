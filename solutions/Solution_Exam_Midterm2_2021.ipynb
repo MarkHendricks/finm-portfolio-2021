{
 "cells": [
  {
   "cell_type": "markdown",
   "metadata": {},
   "source": [
    "# Midterm #2"
   ]
  },
  {
   "cell_type": "markdown",
   "metadata": {},
   "source": [
    "## Imports"
   ]
  },
  {
   "cell_type": "code",
   "execution_count": 3,
   "metadata": {
    "ExecuteTime": {
     "end_time": "2021-11-15T20:49:22.197116Z",
     "start_time": "2021-11-15T20:49:20.745712Z"
    }
   },
   "outputs": [],
   "source": [
    "import pandas as pd\n",
    "import numpy as np\n",
    "import matplotlib.pyplot as plt\n",
    "import statsmodels.api as sm\n",
    "from arch import arch_model\n",
    "from arch.univariate import GARCH, EWMAVariance \n",
    "from sklearn import linear_model\n",
    "import scipy.stats as stats\n",
    "from statsmodels.regression.rolling import RollingOLS\n",
    "import seaborn as sns\n",
    "import warnings\n",
    "warnings.filterwarnings(\"ignore\")\n",
    "pd.set_option(\"display.precision\", 4)"
   ]
  },
  {
   "cell_type": "markdown",
   "metadata": {},
   "source": [
    "## Data"
   ]
  },
  {
   "cell_type": "code",
   "execution_count": 4,
   "metadata": {
    "ExecuteTime": {
     "end_time": "2021-11-15T20:50:23.561896Z",
     "start_time": "2021-11-15T20:50:23.235183Z"
    }
   },
   "outputs": [
    {
     "data": {
      "text/html": [
       "<div>\n",
       "<style scoped>\n",
       "    .dataframe tbody tr th:only-of-type {\n",
       "        vertical-align: middle;\n",
       "    }\n",
       "\n",
       "    .dataframe tbody tr th {\n",
       "        vertical-align: top;\n",
       "    }\n",
       "\n",
       "    .dataframe thead th {\n",
       "        text-align: right;\n",
       "    }\n",
       "</style>\n",
       "<table border=\"1\" class=\"dataframe\">\n",
       "  <thead>\n",
       "    <tr style=\"text-align: right;\">\n",
       "      <th></th>\n",
       "      <th>NG1</th>\n",
       "      <th>KC1</th>\n",
       "      <th>CC1</th>\n",
       "      <th>LB1</th>\n",
       "      <th>CT1</th>\n",
       "      <th>SB1</th>\n",
       "      <th>LC1</th>\n",
       "      <th>W1</th>\n",
       "      <th>S1</th>\n",
       "      <th>C1</th>\n",
       "      <th>GC1</th>\n",
       "      <th>SI1</th>\n",
       "      <th>HG1</th>\n",
       "      <th>PA1</th>\n",
       "    </tr>\n",
       "    <tr>\n",
       "      <th>Date</th>\n",
       "      <th></th>\n",
       "      <th></th>\n",
       "      <th></th>\n",
       "      <th></th>\n",
       "      <th></th>\n",
       "      <th></th>\n",
       "      <th></th>\n",
       "      <th></th>\n",
       "      <th></th>\n",
       "      <th></th>\n",
       "      <th></th>\n",
       "      <th></th>\n",
       "      <th></th>\n",
       "      <th></th>\n",
       "    </tr>\n",
       "  </thead>\n",
       "  <tbody>\n",
       "    <tr>\n",
       "      <th>2000-01-31</th>\n",
       "      <td>0.1389</td>\n",
       "      <td>-0.1217</td>\n",
       "      <td>-0.0543</td>\n",
       "      <td>-0.0110</td>\n",
       "      <td>0.1362</td>\n",
       "      <td>-0.1185</td>\n",
       "      <td>0.0204</td>\n",
       "      <td>0.0271</td>\n",
       "      <td>0.0961</td>\n",
       "      <td>0.0717</td>\n",
       "      <td>-0.0262</td>\n",
       "      <td>-0.0274</td>\n",
       "      <td>-0.0141</td>\n",
       "      <td>0.0749</td>\n",
       "    </tr>\n",
       "    <tr>\n",
       "      <th>2000-02-29</th>\n",
       "      <td>0.0329</td>\n",
       "      <td>-0.1051</td>\n",
       "      <td>-0.0571</td>\n",
       "      <td>-0.0516</td>\n",
       "      <td>-0.0261</td>\n",
       "      <td>-0.1464</td>\n",
       "      <td>-0.0100</td>\n",
       "      <td>-0.0404</td>\n",
       "      <td>-0.0176</td>\n",
       "      <td>-0.0270</td>\n",
       "      <td>0.0345</td>\n",
       "      <td>-0.0495</td>\n",
       "      <td>-0.0718</td>\n",
       "      <td>0.4646</td>\n",
       "    </tr>\n",
       "    <tr>\n",
       "      <th>2000-03-31</th>\n",
       "      <td>0.0619</td>\n",
       "      <td>0.0333</td>\n",
       "      <td>0.0577</td>\n",
       "      <td>-0.0214</td>\n",
       "      <td>0.0225</td>\n",
       "      <td>0.2641</td>\n",
       "      <td>0.0300</td>\n",
       "      <td>0.0570</td>\n",
       "      <td>0.0836</td>\n",
       "      <td>0.0930</td>\n",
       "      <td>-0.0584</td>\n",
       "      <td>-0.0102</td>\n",
       "      <td>0.0118</td>\n",
       "      <td>-0.1683</td>\n",
       "    </tr>\n",
       "    <tr>\n",
       "      <th>2000-04-30</th>\n",
       "      <td>0.0620</td>\n",
       "      <td>-0.0856</td>\n",
       "      <td>-0.0709</td>\n",
       "      <td>-0.0822</td>\n",
       "      <td>-0.0464</td>\n",
       "      <td>-0.1300</td>\n",
       "      <td>0.0242</td>\n",
       "      <td>-0.0809</td>\n",
       "      <td>-0.0394</td>\n",
       "      <td>-0.0565</td>\n",
       "      <td>-0.0179</td>\n",
       "      <td>-0.0166</td>\n",
       "      <td>-0.0171</td>\n",
       "      <td>0.0375</td>\n",
       "    </tr>\n",
       "    <tr>\n",
       "      <th>2000-05-31</th>\n",
       "      <td>0.3818</td>\n",
       "      <td>-0.0291</td>\n",
       "      <td>0.1222</td>\n",
       "      <td>-0.0133</td>\n",
       "      <td>0.1194</td>\n",
       "      <td>0.4582</td>\n",
       "      <td>-0.0923</td>\n",
       "      <td>0.1292</td>\n",
       "      <td>-0.0221</td>\n",
       "      <td>0.0006</td>\n",
       "      <td>-0.0159</td>\n",
       "      <td>-0.0088</td>\n",
       "      <td>0.0216</td>\n",
       "      <td>-0.0674</td>\n",
       "    </tr>\n",
       "  </tbody>\n",
       "</table>\n",
       "</div>"
      ],
      "text/plain": [
       "               NG1     KC1     CC1     LB1     CT1     SB1     LC1      W1  \\\n",
       "Date                                                                         \n",
       "2000-01-31  0.1389 -0.1217 -0.0543 -0.0110  0.1362 -0.1185  0.0204  0.0271   \n",
       "2000-02-29  0.0329 -0.1051 -0.0571 -0.0516 -0.0261 -0.1464 -0.0100 -0.0404   \n",
       "2000-03-31  0.0619  0.0333  0.0577 -0.0214  0.0225  0.2641  0.0300  0.0570   \n",
       "2000-04-30  0.0620 -0.0856 -0.0709 -0.0822 -0.0464 -0.1300  0.0242 -0.0809   \n",
       "2000-05-31  0.3818 -0.0291  0.1222 -0.0133  0.1194  0.4582 -0.0923  0.1292   \n",
       "\n",
       "                S1      C1     GC1     SI1     HG1     PA1  \n",
       "Date                                                        \n",
       "2000-01-31  0.0961  0.0717 -0.0262 -0.0274 -0.0141  0.0749  \n",
       "2000-02-29 -0.0176 -0.0270  0.0345 -0.0495 -0.0718  0.4646  \n",
       "2000-03-31  0.0836  0.0930 -0.0584 -0.0102  0.0118 -0.1683  \n",
       "2000-04-30 -0.0394 -0.0565 -0.0179 -0.0166 -0.0171  0.0375  \n",
       "2000-05-31 -0.0221  0.0006 -0.0159 -0.0088  0.0216 -0.0674  "
      ]
     },
     "execution_count": 4,
     "metadata": {},
     "output_type": "execute_result"
    }
   ],
   "source": [
    "#commodities = pd.read_excel('../data/midterm_2_data_pricing.xlsx', sheet_name = 'assets (excess returns)').set_index('Date')\n",
    "commodities = pd.read_excel('midterm_2_data_pricing.xlsx', sheet_name = 'assets (excess returns)').set_index('Date')\n",
    "#factors = pd.read_excel('../data/midterm_2_data_pricing.xlsx', sheet_name = 'factors (excess returns)').set_index('Date')\n",
    "factors = pd.read_excel('midterm_2_data_pricing.xlsx', sheet_name = 'factors (excess returns)').set_index('Date')\n",
    "\n",
    "commodities.head()"
   ]
  },
  {
   "cell_type": "code",
   "execution_count": 5,
   "metadata": {
    "ExecuteTime": {
     "end_time": "2021-11-15T20:50:24.379019Z",
     "start_time": "2021-11-15T20:50:24.367770Z"
    }
   },
   "outputs": [
    {
     "data": {
      "text/html": [
       "<div>\n",
       "<style scoped>\n",
       "    .dataframe tbody tr th:only-of-type {\n",
       "        vertical-align: middle;\n",
       "    }\n",
       "\n",
       "    .dataframe tbody tr th {\n",
       "        vertical-align: top;\n",
       "    }\n",
       "\n",
       "    .dataframe thead th {\n",
       "        text-align: right;\n",
       "    }\n",
       "</style>\n",
       "<table border=\"1\" class=\"dataframe\">\n",
       "  <thead>\n",
       "    <tr style=\"text-align: right;\">\n",
       "      <th></th>\n",
       "      <th>MKT</th>\n",
       "      <th>CL1</th>\n",
       "    </tr>\n",
       "    <tr>\n",
       "      <th>Date</th>\n",
       "      <th></th>\n",
       "      <th></th>\n",
       "    </tr>\n",
       "  </thead>\n",
       "  <tbody>\n",
       "    <tr>\n",
       "      <th>2000-01-31</th>\n",
       "      <td>-0.0474</td>\n",
       "      <td>0.0756</td>\n",
       "    </tr>\n",
       "    <tr>\n",
       "      <th>2000-02-29</th>\n",
       "      <td>0.0245</td>\n",
       "      <td>0.0966</td>\n",
       "    </tr>\n",
       "    <tr>\n",
       "      <th>2000-03-31</th>\n",
       "      <td>0.0520</td>\n",
       "      <td>-0.1207</td>\n",
       "    </tr>\n",
       "    <tr>\n",
       "      <th>2000-04-30</th>\n",
       "      <td>-0.0640</td>\n",
       "      <td>-0.0477</td>\n",
       "    </tr>\n",
       "    <tr>\n",
       "      <th>2000-05-31</th>\n",
       "      <td>-0.0442</td>\n",
       "      <td>0.1220</td>\n",
       "    </tr>\n",
       "  </tbody>\n",
       "</table>\n",
       "</div>"
      ],
      "text/plain": [
       "               MKT     CL1\n",
       "Date                      \n",
       "2000-01-31 -0.0474  0.0756\n",
       "2000-02-29  0.0245  0.0966\n",
       "2000-03-31  0.0520 -0.1207\n",
       "2000-04-30 -0.0640 -0.0477\n",
       "2000-05-31 -0.0442  0.1220"
      ]
     },
     "execution_count": 5,
     "metadata": {},
     "output_type": "execute_result"
    }
   ],
   "source": [
    "factors.head()"
   ]
  },
  {
   "cell_type": "markdown",
   "metadata": {},
   "source": [
    "## 1. Short Answer\n",
    "\n",
    "**1.1:** \n",
    "False. If the factors work perfectly for pricing, then together they span the tangency. This means that a portfolio of the factors has the maximum Sharpe ratio--it says nothing about their individual Sharpe ratios.\n",
    "\n",
    "**1.2:**\n",
    "Depends. True if \"investment\" beta refers to the factor which is conservative minus agressive investment, which actually means beta to a low-investment factor. \n",
    "\n",
    "False if interpreted as beta to high (strong) investment. Fama-French find that correlation to conservative (low) investment is what boosts mean returns.\n",
    "\n",
    "**1.3:**\n",
    "Even if individual Sharpe Ratios are zero, they may have substantial marginal impact on a portfolio with just the market factor. So looking at their univariate stats is not enough.\n",
    "\n",
    "Still, reasonable to point out that weak mean returns mean they may not be as important as DFA thought at the time of the case.\n",
    "\n",
    "\n",
    "**1.4:**\n",
    "Nothing. Fama-French does not make any prediction about how the asset's characteristics impacts mean returns. It only predicts that the asset's beta impacts returns. Thus, if it has zero correlation (and thus zero beta) to the factors, then its expected return in the model is zero. And its characteristic beyond that is irrelevant to the model.\n",
    "\n",
    "\n",
    "**1.5:**\n",
    "The construction of the momentum portfolio does two things:\n",
    "* diversifies idiosyncratic risk by going long lots of winners and shorting lots of losers. Not just going long-short the most extreme, but in Fama-French construction, utilizing top/bottom 30%!\n",
    "\n",
    "* Avoid too much turnover by ranking winners and losers on rolling 12 month period rather than a single period. This smoothes the ranking and reduces turnover.\n",
    "\n",
    "**1.6:**\n",
    "A long-only momentum fund is extremely correlated to the market equity factor, as seen in HW#6, section 2. (Note that you did not need to do Section 1 to answer this.) This greatly reduces the attractiveness of momentum relative to its long-short construction, which has higher Sharpe and near zero correlation to the market equity factor.\n",
    "\n",
    "**1.7:**\n",
    "* We know NOTHING about their time-series regression fits as seen in R-squared.\n",
    "\n",
    "* All their Treynor ratios should be identical, and equal to the market premium.\n",
    "\n",
    "* All their information ratios should be zero.\n",
    "\n",
    "**1.8:**\n",
    "* The Central Limit Theorem supported this. One could note that the assumptions were extreme, but the overall results support this. (Barnstable made the more tenuous bet that it would outperform a constant 6% rate, but we asked about the risk-free rate.)\n",
    "\n",
    "* This is extremely likely given the mathematics of how means versus volatilities compound. Though the log iid assumption is strong, we saw much evidence that Sharpe ratios grow nearly with the square-root of the horizon, which would make the 100-year Sharpe about 10x the 1-year Sharpe.\n",
    "\n",
    "* This is definitely false. The volatility of the cumulative return GROWS with the horizon. The Central Limit Theorem gave the result that the volatility of the *average* return shrinks with the horizon, (see the first bullet point,) but that the volatility of the *cumulative* return grows with horizon."
   ]
  },
  {
   "cell_type": "markdown",
   "metadata": {},
   "source": [
    "## 2 Pricing Model: Time-Series Test"
   ]
  },
  {
   "cell_type": "code",
   "execution_count": 6,
   "metadata": {
    "ExecuteTime": {
     "end_time": "2021-11-15T20:50:30.006580Z",
     "start_time": "2021-11-15T20:50:29.937610Z"
    }
   },
   "outputs": [
    {
     "data": {
      "text/html": [
       "<div>\n",
       "<style scoped>\n",
       "    .dataframe tbody tr th:only-of-type {\n",
       "        vertical-align: middle;\n",
       "    }\n",
       "\n",
       "    .dataframe tbody tr th {\n",
       "        vertical-align: top;\n",
       "    }\n",
       "\n",
       "    .dataframe thead th {\n",
       "        text-align: right;\n",
       "    }\n",
       "</style>\n",
       "<table border=\"1\" class=\"dataframe\">\n",
       "  <thead>\n",
       "    <tr style=\"text-align: right;\">\n",
       "      <th></th>\n",
       "      <th>$\\alpha$</th>\n",
       "      <th>MKT</th>\n",
       "      <th>CL1</th>\n",
       "    </tr>\n",
       "  </thead>\n",
       "  <tbody>\n",
       "    <tr>\n",
       "      <th>NG1</th>\n",
       "      <td>0.1195</td>\n",
       "      <td>-0.0377</td>\n",
       "      <td>0.2502</td>\n",
       "    </tr>\n",
       "    <tr>\n",
       "      <th>KC1</th>\n",
       "      <td>0.0203</td>\n",
       "      <td>0.2992</td>\n",
       "      <td>0.0321</td>\n",
       "    </tr>\n",
       "    <tr>\n",
       "      <th>CC1</th>\n",
       "      <td>0.0632</td>\n",
       "      <td>0.1139</td>\n",
       "      <td>0.1243</td>\n",
       "    </tr>\n",
       "    <tr>\n",
       "      <th>LB1</th>\n",
       "      <td>0.0555</td>\n",
       "      <td>0.7791</td>\n",
       "      <td>0.1874</td>\n",
       "    </tr>\n",
       "    <tr>\n",
       "      <th>CT1</th>\n",
       "      <td>0.013</td>\n",
       "      <td>0.5291</td>\n",
       "      <td>0.0629</td>\n",
       "    </tr>\n",
       "    <tr>\n",
       "      <th>SB1</th>\n",
       "      <td>0.0696</td>\n",
       "      <td>0.0579</td>\n",
       "      <td>0.1628</td>\n",
       "    </tr>\n",
       "    <tr>\n",
       "      <th>LC1</th>\n",
       "      <td>0.0163</td>\n",
       "      <td>0.1068</td>\n",
       "      <td>0.0529</td>\n",
       "    </tr>\n",
       "    <tr>\n",
       "      <th>W1</th>\n",
       "      <td>0.0558</td>\n",
       "      <td>0.2912</td>\n",
       "      <td>-0.0026</td>\n",
       "    </tr>\n",
       "    <tr>\n",
       "      <th>S1</th>\n",
       "      <td>0.0421</td>\n",
       "      <td>0.3533</td>\n",
       "      <td>0.0386</td>\n",
       "    </tr>\n",
       "    <tr>\n",
       "      <th>C1</th>\n",
       "      <td>0.0609</td>\n",
       "      <td>0.2551</td>\n",
       "      <td>0.0652</td>\n",
       "    </tr>\n",
       "    <tr>\n",
       "      <th>GC1</th>\n",
       "      <td>0.075</td>\n",
       "      <td>0.0089</td>\n",
       "      <td>0.0634</td>\n",
       "    </tr>\n",
       "    <tr>\n",
       "      <th>SI1</th>\n",
       "      <td>0.0629</td>\n",
       "      <td>0.2604</td>\n",
       "      <td>0.2118</td>\n",
       "    </tr>\n",
       "    <tr>\n",
       "      <th>HG1</th>\n",
       "      <td>0.0333</td>\n",
       "      <td>0.6099</td>\n",
       "      <td>0.1624</td>\n",
       "    </tr>\n",
       "    <tr>\n",
       "      <th>PA1</th>\n",
       "      <td>0.0818</td>\n",
       "      <td>0.471</td>\n",
       "      <td>0.1312</td>\n",
       "    </tr>\n",
       "  </tbody>\n",
       "</table>\n",
       "</div>"
      ],
      "text/plain": [
       "    $\\alpha$     MKT     CL1\n",
       "NG1   0.1195 -0.0377  0.2502\n",
       "KC1   0.0203  0.2992  0.0321\n",
       "CC1   0.0632  0.1139  0.1243\n",
       "LB1   0.0555  0.7791  0.1874\n",
       "CT1    0.013  0.5291  0.0629\n",
       "SB1   0.0696  0.0579  0.1628\n",
       "LC1   0.0163  0.1068  0.0529\n",
       "W1    0.0558  0.2912 -0.0026\n",
       "S1    0.0421  0.3533  0.0386\n",
       "C1    0.0609  0.2551  0.0652\n",
       "GC1    0.075  0.0089  0.0634\n",
       "SI1   0.0629  0.2604  0.2118\n",
       "HG1   0.0333  0.6099  0.1624\n",
       "PA1   0.0818   0.471  0.1312"
      ]
     },
     "execution_count": 6,
     "metadata": {},
     "output_type": "execute_result"
    }
   ],
   "source": [
    "ts_test = pd.DataFrame(data = None, index = commodities.columns, columns = [r'$\\alpha$', 'MKT', 'CL1'])\n",
    "\n",
    "for asset in ts_test.index:\n",
    "    y = commodities[asset]\n",
    "    X = sm.add_constant(factors[['MKT','CL1']])\n",
    "\n",
    "    reg = sm.OLS(y, X).fit().params\n",
    "    ts_test.loc[asset] = [reg[0] * 12, reg[1], reg[2]]\n",
    "    \n",
    "ts_test"
   ]
  },
  {
   "cell_type": "markdown",
   "metadata": {},
   "source": [
    "**2.1:** (5pts) For the asset NG1, report the alpha and betas of the regression."
   ]
  },
  {
   "cell_type": "code",
   "execution_count": 7,
   "metadata": {
    "ExecuteTime": {
     "end_time": "2021-11-15T20:50:33.248514Z",
     "start_time": "2021-11-15T20:50:33.238531Z"
    }
   },
   "outputs": [
    {
     "data": {
      "text/html": [
       "<div>\n",
       "<style scoped>\n",
       "    .dataframe tbody tr th:only-of-type {\n",
       "        vertical-align: middle;\n",
       "    }\n",
       "\n",
       "    .dataframe tbody tr th {\n",
       "        vertical-align: top;\n",
       "    }\n",
       "\n",
       "    .dataframe thead th {\n",
       "        text-align: right;\n",
       "    }\n",
       "</style>\n",
       "<table border=\"1\" class=\"dataframe\">\n",
       "  <thead>\n",
       "    <tr style=\"text-align: right;\">\n",
       "      <th></th>\n",
       "      <th>NG1</th>\n",
       "    </tr>\n",
       "  </thead>\n",
       "  <tbody>\n",
       "    <tr>\n",
       "      <th>$\\alpha$</th>\n",
       "      <td>0.1195</td>\n",
       "    </tr>\n",
       "    <tr>\n",
       "      <th>MKT</th>\n",
       "      <td>-0.0377</td>\n",
       "    </tr>\n",
       "    <tr>\n",
       "      <th>CL1</th>\n",
       "      <td>0.2502</td>\n",
       "    </tr>\n",
       "  </tbody>\n",
       "</table>\n",
       "</div>"
      ],
      "text/plain": [
       "             NG1\n",
       "$\\alpha$  0.1195\n",
       "MKT      -0.0377\n",
       "CL1       0.2502"
      ]
     },
     "execution_count": 7,
     "metadata": {},
     "output_type": "execute_result"
    }
   ],
   "source": [
    "ts_test.loc['NG1'].to_frame()"
   ]
  },
  {
   "cell_type": "markdown",
   "metadata": {},
   "source": [
    "**2.2:** (5pts) Report the two factor premia implied by the time-series test. Annualize them."
   ]
  },
  {
   "cell_type": "code",
   "execution_count": 8,
   "metadata": {
    "ExecuteTime": {
     "end_time": "2021-11-15T20:50:36.482092Z",
     "start_time": "2021-11-15T20:50:36.471102Z"
    }
   },
   "outputs": [
    {
     "data": {
      "text/html": [
       "<div>\n",
       "<style scoped>\n",
       "    .dataframe tbody tr th:only-of-type {\n",
       "        vertical-align: middle;\n",
       "    }\n",
       "\n",
       "    .dataframe tbody tr th {\n",
       "        vertical-align: top;\n",
       "    }\n",
       "\n",
       "    .dataframe thead th {\n",
       "        text-align: right;\n",
       "    }\n",
       "</style>\n",
       "<table border=\"1\" class=\"dataframe\">\n",
       "  <thead>\n",
       "    <tr style=\"text-align: right;\">\n",
       "      <th></th>\n",
       "      <th>Factor Premia</th>\n",
       "    </tr>\n",
       "  </thead>\n",
       "  <tbody>\n",
       "    <tr>\n",
       "      <th>MKT</th>\n",
       "      <td>0.0707</td>\n",
       "    </tr>\n",
       "    <tr>\n",
       "      <th>CL1</th>\n",
       "      <td>0.1087</td>\n",
       "    </tr>\n",
       "  </tbody>\n",
       "</table>\n",
       "</div>"
      ],
      "text/plain": [
       "     Factor Premia\n",
       "MKT         0.0707\n",
       "CL1         0.1087"
      ]
     },
     "execution_count": 8,
     "metadata": {},
     "output_type": "execute_result"
    }
   ],
   "source": [
    "(factors.mean() * 12).to_frame('Factor Premia')"
   ]
  },
  {
   "cell_type": "markdown",
   "metadata": {},
   "source": [
    "**2.3:** (5pts) Report the Mean Absolute Pricing Error (MAE) of the model. Annualize it."
   ]
  },
  {
   "cell_type": "code",
   "execution_count": 9,
   "metadata": {
    "ExecuteTime": {
     "end_time": "2021-11-15T20:50:37.476197Z",
     "start_time": "2021-11-15T20:50:37.470215Z"
    }
   },
   "outputs": [
    {
     "name": "stdout",
     "output_type": "stream",
     "text": [
      "MAE: 0.0549\n"
     ]
    }
   ],
   "source": [
    "print('MAE: ' + str(round(ts_test[r'$\\alpha$'].abs().mean(), 4)))"
   ]
  },
  {
   "cell_type": "markdown",
   "metadata": {},
   "source": [
    "**2.4:** (5pts) Report the largest predicted premium from the model, and note which asset it is."
   ]
  },
  {
   "cell_type": "code",
   "execution_count": 10,
   "metadata": {
    "ExecuteTime": {
     "end_time": "2021-11-15T20:50:39.252951Z",
     "start_time": "2021-11-15T20:50:39.239547Z"
    }
   },
   "outputs": [
    {
     "data": {
      "text/html": [
       "<div>\n",
       "<style scoped>\n",
       "    .dataframe tbody tr th:only-of-type {\n",
       "        vertical-align: middle;\n",
       "    }\n",
       "\n",
       "    .dataframe tbody tr th {\n",
       "        vertical-align: top;\n",
       "    }\n",
       "\n",
       "    .dataframe thead th {\n",
       "        text-align: right;\n",
       "    }\n",
       "</style>\n",
       "<table border=\"1\" class=\"dataframe\">\n",
       "  <thead>\n",
       "    <tr style=\"text-align: right;\">\n",
       "      <th></th>\n",
       "      <th>Predicted Premium</th>\n",
       "    </tr>\n",
       "  </thead>\n",
       "  <tbody>\n",
       "    <tr>\n",
       "      <th>LB1</th>\n",
       "      <td>0.0754</td>\n",
       "    </tr>\n",
       "  </tbody>\n",
       "</table>\n",
       "</div>"
      ],
      "text/plain": [
       "     Predicted Premium\n",
       "LB1             0.0754"
      ]
     },
     "execution_count": 10,
     "metadata": {},
     "output_type": "execute_result"
    }
   ],
   "source": [
    "(factors.mean() * 12 * ts_test[['MKT','CL1']]).sum(axis = 1).to_frame('Predicted Premium').nlargest(1, 'Predicted Premium')"
   ]
  },
  {
   "cell_type": "markdown",
   "metadata": {},
   "source": [
    "LB1 is the lumber future. "
   ]
  },
  {
   "cell_type": "markdown",
   "metadata": {},
   "source": [
    "## 3 Pricing Model: Cross-Sectional Test"
   ]
  },
  {
   "cell_type": "code",
   "execution_count": 11,
   "metadata": {
    "ExecuteTime": {
     "end_time": "2021-11-15T20:50:41.279227Z",
     "start_time": "2021-11-15T20:50:41.269148Z"
    }
   },
   "outputs": [],
   "source": [
    "y = commodities.mean()\n",
    "X = sm.add_constant(ts_test[['MKT','CL1']].astype(float))\n",
    "\n",
    "cross_sect = sm.OLS(y, X).fit()"
   ]
  },
  {
   "cell_type": "markdown",
   "metadata": {},
   "source": [
    "**3.1:** (5pts) For the cross-sectional regression, report the:\n",
    "- $R^{2}$\n",
    "- Intercept. Annualize this number."
   ]
  },
  {
   "cell_type": "code",
   "execution_count": 12,
   "metadata": {
    "ExecuteTime": {
     "end_time": "2021-11-15T20:50:42.731867Z",
     "start_time": "2021-11-15T20:50:42.726383Z"
    }
   },
   "outputs": [
    {
     "name": "stdout",
     "output_type": "stream",
     "text": [
      "R-squared: 0.6313\n"
     ]
    }
   ],
   "source": [
    "print('R-squared: ' + str(round(cross_sect.rsquared, 4)))"
   ]
  },
  {
   "cell_type": "code",
   "execution_count": 13,
   "metadata": {
    "ExecuteTime": {
     "end_time": "2021-11-15T20:50:43.935533Z",
     "start_time": "2021-11-15T20:50:43.929259Z"
    }
   },
   "outputs": [
    {
     "name": "stdout",
     "output_type": "stream",
     "text": [
      "Alpha: 0.0456\n"
     ]
    }
   ],
   "source": [
    "print('Alpha: ' + str(round(cross_sect.params[0] * 12, 4)))"
   ]
  },
  {
   "cell_type": "markdown",
   "metadata": {},
   "source": [
    "**3.2:** (4pts) Are either, neither, or both of these estimated metrics evidence against the model?\n"
   ]
  },
  {
   "cell_type": "markdown",
   "metadata": {},
   "source": [
    "Both of these estimated metrics are evidence against the model. $R^{2}$ would be 1 and $\\alpha$ would be equal to zero if all asset return were be explained by these two premia.  "
   ]
  },
  {
   "cell_type": "markdown",
   "metadata": {},
   "source": [
    "**3.3:** (4pts) Report the estimated factor premia. (i.e. the two cross-sectional regression slopes). Annualize this number."
   ]
  },
  {
   "cell_type": "code",
   "execution_count": 14,
   "metadata": {
    "ExecuteTime": {
     "end_time": "2021-11-15T20:50:46.553296Z",
     "start_time": "2021-11-15T20:50:46.542046Z"
    }
   },
   "outputs": [
    {
     "data": {
      "text/html": [
       "<div>\n",
       "<style scoped>\n",
       "    .dataframe tbody tr th:only-of-type {\n",
       "        vertical-align: middle;\n",
       "    }\n",
       "\n",
       "    .dataframe tbody tr th {\n",
       "        vertical-align: top;\n",
       "    }\n",
       "\n",
       "    .dataframe thead th {\n",
       "        text-align: right;\n",
       "    }\n",
       "</style>\n",
       "<table border=\"1\" class=\"dataframe\">\n",
       "  <thead>\n",
       "    <tr style=\"text-align: right;\">\n",
       "      <th></th>\n",
       "      <th>Estimated Factor Premia</th>\n",
       "    </tr>\n",
       "  </thead>\n",
       "  <tbody>\n",
       "    <tr>\n",
       "      <th>MKT</th>\n",
       "      <td>0.0186</td>\n",
       "    </tr>\n",
       "    <tr>\n",
       "      <th>CL1</th>\n",
       "      <td>0.3319</td>\n",
       "    </tr>\n",
       "  </tbody>\n",
       "</table>\n",
       "</div>"
      ],
      "text/plain": [
       "     Estimated Factor Premia\n",
       "MKT                   0.0186\n",
       "CL1                   0.3319"
      ]
     },
     "execution_count": 14,
     "metadata": {},
     "output_type": "execute_result"
    }
   ],
   "source": [
    "(cross_sect.params[1:] * 12).to_frame('Estimated Factor Premia')"
   ]
  },
  {
   "cell_type": "markdown",
   "metadata": {},
   "source": [
    "**3.4:** (4pts) Report the Mean Absolute Pricing Error (MAE) of the model. Annualize it."
   ]
  },
  {
   "cell_type": "code",
   "execution_count": 15,
   "metadata": {
    "ExecuteTime": {
     "end_time": "2021-11-15T20:50:51.752907Z",
     "start_time": "2021-11-15T20:50:51.742770Z"
    }
   },
   "outputs": [
    {
     "name": "stdout",
     "output_type": "stream",
     "text": [
      "MAE: 0.0169\n"
     ]
    }
   ],
   "source": [
    "predicted = cross_sect.params[0] + (ts_test[['MKT','CL1']] * cross_sect.params[1:]).sum(axis=1)\n",
    "MAE_cs = (commodities.mean() - predicted).abs().mean() * 12\n",
    "\n",
    "print('MAE: ' + str(round(MAE_cs, 4)))"
   ]
  },
  {
   "cell_type": "code",
   "execution_count": 16,
   "metadata": {
    "ExecuteTime": {
     "end_time": "2021-11-15T20:50:52.320197Z",
     "start_time": "2021-11-15T20:50:52.314282Z"
    }
   },
   "outputs": [
    {
     "name": "stdout",
     "output_type": "stream",
     "text": [
      "MAE: 0.0169\n"
     ]
    }
   ],
   "source": [
    "MAE_cs = cross_sect.resid.abs().mean() * 12\n",
    "\n",
    "print('MAE: ' + str(round(MAE_cs, 4)))"
   ]
  },
  {
   "cell_type": "markdown",
   "metadata": {},
   "source": [
    "### OR ( both 'including the intercept' and 'excluding the intercept' will get full credit on 3.4 and 3.5)"
   ]
  },
  {
   "cell_type": "code",
   "execution_count": 17,
   "metadata": {
    "ExecuteTime": {
     "end_time": "2021-11-15T20:51:57.114967Z",
     "start_time": "2021-11-15T20:51:57.105213Z"
    }
   },
   "outputs": [
    {
     "name": "stdout",
     "output_type": "stream",
     "text": [
      "MAE: 0.0456\n"
     ]
    }
   ],
   "source": [
    "predicted_without_intercept = (ts_test[['MKT','CL1']] * cross_sect.params[1:]).sum(axis=1)\n",
    "MAE_cs_without_intercept = (commodities.mean() - predicted_without_intercept).abs().mean() * 12\n",
    "\n",
    "print('MAE: ' + str(round(MAE_cs_without_intercept, 4)))"
   ]
  },
  {
   "cell_type": "markdown",
   "metadata": {},
   "source": [
    "**3.5:** (4pts) Report the largest predicted premium from the model, and note which asset it is."
   ]
  },
  {
   "cell_type": "code",
   "execution_count": 159,
   "metadata": {},
   "outputs": [
    {
     "data": {
      "text/html": [
       "<div>\n",
       "<style scoped>\n",
       "    .dataframe tbody tr th:only-of-type {\n",
       "        vertical-align: middle;\n",
       "    }\n",
       "\n",
       "    .dataframe tbody tr th {\n",
       "        vertical-align: top;\n",
       "    }\n",
       "\n",
       "    .dataframe thead th {\n",
       "        text-align: right;\n",
       "    }\n",
       "</style>\n",
       "<table border=\"1\" class=\"dataframe\">\n",
       "  <thead>\n",
       "    <tr style=\"text-align: right;\">\n",
       "      <th></th>\n",
       "      <th>Predicted Premium</th>\n",
       "    </tr>\n",
       "  </thead>\n",
       "  <tbody>\n",
       "    <tr>\n",
       "      <th>NG1</th>\n",
       "      <td>0.1279</td>\n",
       "    </tr>\n",
       "  </tbody>\n",
       "</table>\n",
       "</div>"
      ],
      "text/plain": [
       "     Predicted Premium\n",
       "NG1             0.1279"
      ]
     },
     "execution_count": 159,
     "metadata": {},
     "output_type": "execute_result"
    }
   ],
   "source": [
    "(predicted * 12).nlargest(1).to_frame('Predicted Premium')"
   ]
  },
  {
   "cell_type": "markdown",
   "metadata": {},
   "source": [
    "NG1 is the natural gas future."
   ]
  },
  {
   "cell_type": "code",
   "execution_count": 18,
   "metadata": {
    "ExecuteTime": {
     "end_time": "2021-11-15T20:52:18.105119Z",
     "start_time": "2021-11-15T20:52:18.095748Z"
    }
   },
   "outputs": [
    {
     "data": {
      "text/html": [
       "<div>\n",
       "<style scoped>\n",
       "    .dataframe tbody tr th:only-of-type {\n",
       "        vertical-align: middle;\n",
       "    }\n",
       "\n",
       "    .dataframe tbody tr th {\n",
       "        vertical-align: top;\n",
       "    }\n",
       "\n",
       "    .dataframe thead th {\n",
       "        text-align: right;\n",
       "    }\n",
       "</style>\n",
       "<table border=\"1\" class=\"dataframe\">\n",
       "  <thead>\n",
       "    <tr style=\"text-align: right;\">\n",
       "      <th></th>\n",
       "      <th>Predicted Premium</th>\n",
       "    </tr>\n",
       "  </thead>\n",
       "  <tbody>\n",
       "    <tr>\n",
       "      <th>NG1</th>\n",
       "      <td>0.0823</td>\n",
       "    </tr>\n",
       "  </tbody>\n",
       "</table>\n",
       "</div>"
      ],
      "text/plain": [
       "     Predicted Premium\n",
       "NG1             0.0823"
      ]
     },
     "execution_count": 18,
     "metadata": {},
     "output_type": "execute_result"
    }
   ],
   "source": [
    "# If not including the intercept in the model, \n",
    "\n",
    "(predicted_without_intercept * 12).nlargest(1).to_frame('Predicted Premium')"
   ]
  },
  {
   "cell_type": "markdown",
   "metadata": {},
   "source": [
    "## 4 Pricing Model: Conceptual Questions"
   ]
  },
  {
   "cell_type": "markdown",
   "metadata": {},
   "source": [
    "**4.1:** (5pts) Which is more useful in assessing the model’s fit for pricing: the r-squared of the timeseries regressions, the r-squared of the cross-sectional regression, or neither?"
   ]
  },
  {
   "cell_type": "markdown",
   "metadata": {},
   "source": [
    "The r-squared of the cross-sectional regression. We do not care about the r-squared of the time series regressions for pricing, while for the cross-sectional regression if r-squared is not equal to one then we know the pricing model is not completely explaining all premia that exist."
   ]
  },
  {
   "cell_type": "markdown",
   "metadata": {},
   "source": [
    "**4.2:** (5pts) We calculated the MAE from the time-series estimation and from the cross-sectional (with intercept) estimation. Is one always bigger than the other? Why or why not?"
   ]
  },
  {
   "cell_type": "markdown",
   "metadata": {},
   "source": [
    "- If we use an intercept in the cross-section, then the cross-sectional fit has to be better than the time-series fit. \n",
    "- The cross-sectional fit gets to adjust the factor premia, which can only help. So, the MAE from the time-series will always be bigger. "
   ]
  },
  {
   "cell_type": "markdown",
   "metadata": {},
   "source": [
    "**4.3:** (5pts) If we add another factor, will the time-series MAE decrease? And how about the crosssectional MAE? Explain."
   ]
  },
  {
   "cell_type": "markdown",
   "metadata": {},
   "source": [
    "- It is unclear whether MAE will increase or decrease in the time series test, as the intercept may increase or decrease when we add a factor.\n",
    "- In the cross-sectional regression the fit must improve, as when we add a factor $R^{2}$ must increase."
   ]
  },
  {
   "cell_type": "markdown",
   "metadata": {},
   "source": [
    "**4.4:** Suppose we built a tangency portfolio using only the factors."
   ]
  },
  {
   "cell_type": "markdown",
   "metadata": {},
   "source": [
    "(a) (2pts) Compute tangency weights using just the two factors as the asset space. Does CL1 have much weight in this factor-tangency portfolio?"
   ]
  },
  {
   "cell_type": "code",
   "execution_count": 142,
   "metadata": {},
   "outputs": [
    {
     "data": {
      "text/html": [
       "<div>\n",
       "<style scoped>\n",
       "    .dataframe tbody tr th:only-of-type {\n",
       "        vertical-align: middle;\n",
       "    }\n",
       "\n",
       "    .dataframe tbody tr th {\n",
       "        vertical-align: top;\n",
       "    }\n",
       "\n",
       "    .dataframe thead th {\n",
       "        text-align: right;\n",
       "    }\n",
       "</style>\n",
       "<table border=\"1\" class=\"dataframe\">\n",
       "  <thead>\n",
       "    <tr style=\"text-align: right;\">\n",
       "      <th></th>\n",
       "      <th>Tangency Weights</th>\n",
       "    </tr>\n",
       "  </thead>\n",
       "  <tbody>\n",
       "    <tr>\n",
       "      <th>MKT</th>\n",
       "      <td>0.8811</td>\n",
       "    </tr>\n",
       "    <tr>\n",
       "      <th>CL1</th>\n",
       "      <td>0.1189</td>\n",
       "    </tr>\n",
       "  </tbody>\n",
       "</table>\n",
       "</div>"
      ],
      "text/plain": [
       "     Tangency Weights\n",
       "MKT            0.8811\n",
       "CL1            0.1189"
      ]
     },
     "execution_count": 142,
     "metadata": {},
     "output_type": "execute_result"
    }
   ],
   "source": [
    "mu = factors.mean()\n",
    "sigma = factors.cov()\n",
    "w_tan_unscaled = np.linalg.inv(sigma) @ mu\n",
    "\n",
    "wtan = pd.DataFrame(w_tan_unscaled / w_tan_unscaled.sum(), \n",
    "                    index = ['MKT','CL1'], \n",
    "                    columns = ['Tangency Weights'])\n",
    "\n",
    "wtan"
   ]
  },
  {
   "cell_type": "markdown",
   "metadata": {},
   "source": [
    "CL1 does not have much weight in this factor-tangency portfolio."
   ]
  },
  {
   "cell_type": "markdown",
   "metadata": {},
   "source": [
    "(b)  (3pts) Conceptually, does this seem like evidence that CL1 is a useful pricing factor? Why?"
   ]
  },
  {
   "cell_type": "markdown",
   "metadata": {},
   "source": [
    "It is a much less useful pricing factor than the market. If factors price well, we expect them to have large weights in the tangency portfolio as that is where we would seek to extract premium. "
   ]
  }
 ],
 "metadata": {
  "kernelspec": {
   "display_name": "Python 3 (ipykernel)",
   "language": "python",
   "name": "python3"
  },
  "language_info": {
   "codemirror_mode": {
    "name": "ipython",
    "version": 3
   },
   "file_extension": ".py",
   "mimetype": "text/x-python",
   "name": "python",
   "nbconvert_exporter": "python",
   "pygments_lexer": "ipython3",
   "version": "3.8.12"
  },
  "toc": {
   "base_numbering": 1,
   "nav_menu": {},
   "number_sections": false,
   "sideBar": true,
   "skip_h1_title": false,
   "title_cell": "Table of Contents",
   "title_sidebar": "Contents",
   "toc_cell": false,
   "toc_position": {},
   "toc_section_display": true,
   "toc_window_display": false
  }
 },
 "nbformat": 4,
 "nbformat_minor": 4
}
