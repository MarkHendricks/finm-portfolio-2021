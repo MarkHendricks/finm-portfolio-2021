{
 "cells": [
  {
   "cell_type": "code",
   "execution_count": 1,
   "id": "469dfb76",
   "metadata": {},
   "outputs": [],
   "source": [
    "import pandas as pd\n",
    "import numpy as np\n",
    "import matplotlib.pyplot as plt\n",
    "import statsmodels.api as sm\n",
    "from sklearn import linear_model\n",
    "import scipy.stats as stats\n",
    "import seaborn as sns\n",
    "import warnings\n",
    "warnings.filterwarnings(\"ignore\")\n",
    "pd.set_option(\"display.precision\", 4)"
   ]
  },
  {
   "cell_type": "markdown",
   "id": "5cefcf0a",
   "metadata": {},
   "source": [
    "### 1 The Momentum Product\n",
    "\n",
    "(1) What is novel about the AQR Momentum product under construction compared to the various\n",
    "momentum investment products already offered?\n",
    "\n",
    "<span style=\"color:#00008B\">**Solution:** The new product is a momentum mutual fund, and thus it will be available to retail investors rather than just those able to invest in hedge-funds.\n",
    "To satisfy regulatory requirements, this implementation of momentum will be restricted to longonly\n",
    "and to large stocks.</span>\n",
    "   \n",
    "   (2) Name three reasons the momentum investment product will not exactly track the momentum\n",
    "index, (i.e. why the strategy will have tracking error.)\n",
    "\n",
    "<span style=\"color:#00008B\">**Solution:** There are many ways in which the fund might introduce tracking error as they try to minimize trading costs. Examples include, </span>\n",
    " - <span style=\"color:#00008B\"> rebalancing at longer frequencies. (ie. quarterly vs monthly.)</span>\n",
    " - <span style=\"color:#00008B\"> keeping stocks which technically no longer rank as momentum stocks but are deemed close enough. </span>\n",
    " - <span style=\"color:#00008B\"> executing trades slowly so as to reduce price-impact and illiquidity. </span>\n",
    " - <span style=\"color:#00008B\"> considering tax implications of the trades suggested by the momentum ranking and altering the portfolio construction accordingly. </span>\n",
    "   \n",
    "(3) When constructing the momentum portfolio, AQR ranks stocks on their returns from month\n",
    "$t-12$ through $t-2$. Why don't they include the $t-1$ return in this ranking?\n",
    "   \n",
    "<span style=\"color:#00008B\">**Solution:** Market microstructure and liquidity issues cause prices reversion (not momentum!) in one-month returns. See footnote 2. </span>"
   ]
  },
  {
   "cell_type": "markdown",
   "id": "d8684f74",
   "metadata": {},
   "source": [
    "### 2 Investigating Momentum\n",
    "\n",
    "***1. Is momentum still profitable?***\n",
    "\n",
    "The excess returns of lucrative trading strategies often disappear once the strategy is well-known.\n",
    "The first widely-cited paper on momentum was published in 1993. Have momentum returns or\n",
    "risk changed since then? The AQR case takes place at the end of 2008. Have momentum returns\n",
    "changed in 2009-2020?\n",
    "\n",
    "Investigate by filling out the summary statistics below for the full-sample and three sub-samples.\n",
    "\n",
    "(a) Using the data provided, fill in Table 1 with the appropriate stats for $\\tilde{r}^{rmom:FF}$.\n",
    "\n",
    "(b) Has momentum changed much over time, as seen through these subsample statistics?\n",
    "\n",
    "(c) Does this data support AQR's argument that momentum is an important piece of the ideal\n",
    "portfolio? What if mean returns to momentum are in actuality near zero due to transaction\n",
    "costs - would there still be evidence here that momentum is valuable?"
   ]
  },
  {
   "cell_type": "code",
   "execution_count": 2,
   "id": "6c2cac1d",
   "metadata": {},
   "outputs": [],
   "source": [
    "path = 'momentum_data-2.xlsx'\n",
    "df_mom_size = pd.read_excel(path, sheet_name=4).set_index('Date')\n",
    "df_factors = pd.read_excel(path, sheet_name=1).set_index('Date')\n",
    "df_mom_size = df_mom_size.join(df_factors)\n",
    "\n",
    "rf = pd.read_excel(path, sheet_name=5).set_index('Date')\n",
    "df_mom_size = df_mom_size.join(rf)\n",
    "\n",
    "df_momentum = pd.read_excel(path, sheet_name=3).set_index('Date')\n",
    "df_momentum = df_momentum.join(rf)"
   ]
  },
  {
   "cell_type": "code",
   "execution_count": 3,
   "id": "fd33b1c6",
   "metadata": {},
   "outputs": [],
   "source": [
    "#1 \n",
    "df_mom_size['rx_mom_FF'] = (1/2 *(df_mom_size['BIG HiPRIOR'] + df_mom_size['SMALL HiPRIOR']) -\n",
    "  1/2 * (df_mom_size['BIG LoPRIOR'] + df_mom_size['SMALL LoPRIOR'])) # same as UMD"
   ]
  },
  {
   "cell_type": "code",
   "execution_count": 4,
   "id": "733f163f",
   "metadata": {},
   "outputs": [
    {
     "data": {
      "text/plain": [
       "Date\n",
       "1927-01-31    0.0036\n",
       "1927-02-28   -0.0215\n",
       "1927-03-31    0.0362\n",
       "1927-04-30    0.0430\n",
       "1927-05-31    0.0301\n",
       "               ...  \n",
       "2021-05-31    0.0088\n",
       "2021-06-30    0.0224\n",
       "2021-07-31   -0.0229\n",
       "2021-08-31    0.0252\n",
       "2021-09-30    0.0157\n",
       "Name: rx_mom_FF, Length: 1137, dtype: float64"
      ]
     },
     "execution_count": 4,
     "metadata": {},
     "output_type": "execute_result"
    }
   ],
   "source": [
    "df_mom_size['rx_mom_FF']"
   ]
  },
  {
   "cell_type": "code",
   "execution_count": 5,
   "id": "2ba55594",
   "metadata": {},
   "outputs": [
    {
     "data": {
      "text/html": [
       "<style  type=\"text/css\" >\n",
       "</style><table id=\"T_c7a2e_\" ><caption>Solution Table 1: Momentum performance over time.</caption><thead>    <tr>        <th class=\"blank level0\" ></th>        <th class=\"col_heading level0 col0\" >mean </th>        <th class=\"col_heading level0 col1\" >vol </th>        <th class=\"col_heading level0 col2\" >sharpe_ratio </th>        <th class=\"col_heading level0 col3\" >skew </th>        <th class=\"col_heading level0 col4\" >corr_to_mkt </th>        <th class=\"col_heading level0 col5\" >corr_to_value</th>    </tr></thead><tbody>\n",
       "                <tr>\n",
       "                        <th id=\"T_c7a2e_level0_row0\" class=\"row_heading level0 row0\" >1927-2021</th>\n",
       "                        <td id=\"T_c7a2e_row0_col0\" class=\"data row0 col0\" >0.0777</td>\n",
       "                        <td id=\"T_c7a2e_row0_col1\" class=\"data row0 col1\" >0.1634</td>\n",
       "                        <td id=\"T_c7a2e_row0_col2\" class=\"data row0 col2\" >0.4754</td>\n",
       "                        <td id=\"T_c7a2e_row0_col3\" class=\"data row0 col3\" >-3.0206</td>\n",
       "                        <td id=\"T_c7a2e_row0_col4\" class=\"data row0 col4\" >-0.3450</td>\n",
       "                        <td id=\"T_c7a2e_row0_col5\" class=\"data row0 col5\" >-0.4240</td>\n",
       "            </tr>\n",
       "            <tr>\n",
       "                        <th id=\"T_c7a2e_level0_row1\" class=\"row_heading level0 row1\" >1927-1993</th>\n",
       "                        <td id=\"T_c7a2e_row1_col0\" class=\"data row1 col0\" >0.0902</td>\n",
       "                        <td id=\"T_c7a2e_row1_col1\" class=\"data row1 col1\" >0.1600</td>\n",
       "                        <td id=\"T_c7a2e_row1_col2\" class=\"data row1 col2\" >0.5635</td>\n",
       "                        <td id=\"T_c7a2e_row1_col3\" class=\"data row1 col3\" >-3.8084</td>\n",
       "                        <td id=\"T_c7a2e_row1_col4\" class=\"data row1 col4\" >-0.3623</td>\n",
       "                        <td id=\"T_c7a2e_row1_col5\" class=\"data row1 col5\" >-0.4960</td>\n",
       "            </tr>\n",
       "            <tr>\n",
       "                        <th id=\"T_c7a2e_level0_row2\" class=\"row_heading level0 row2\" >1994-2008</th>\n",
       "                        <td id=\"T_c7a2e_row2_col0\" class=\"data row2 col0\" >0.1043</td>\n",
       "                        <td id=\"T_c7a2e_row2_col1\" class=\"data row2 col1\" >0.1756</td>\n",
       "                        <td id=\"T_c7a2e_row2_col2\" class=\"data row2 col2\" >0.5938</td>\n",
       "                        <td id=\"T_c7a2e_row2_col3\" class=\"data row2 col3\" >-0.5812</td>\n",
       "                        <td id=\"T_c7a2e_row2_col4\" class=\"data row2 col4\" >-0.2345</td>\n",
       "                        <td id=\"T_c7a2e_row2_col5\" class=\"data row2 col5\" >-0.1300</td>\n",
       "            </tr>\n",
       "            <tr>\n",
       "                        <th id=\"T_c7a2e_level0_row3\" class=\"row_heading level0 row3\" >2009-2021</th>\n",
       "                        <td id=\"T_c7a2e_row3_col0\" class=\"data row3 col0\" >-0.0250</td>\n",
       "                        <td id=\"T_c7a2e_row3_col1\" class=\"data row3 col1\" >0.1648</td>\n",
       "                        <td id=\"T_c7a2e_row3_col2\" class=\"data row3 col2\" >-0.1519</td>\n",
       "                        <td id=\"T_c7a2e_row3_col3\" class=\"data row3 col3\" >-2.8264</td>\n",
       "                        <td id=\"T_c7a2e_row3_col4\" class=\"data row3 col4\" >-0.3832</td>\n",
       "                        <td id=\"T_c7a2e_row3_col5\" class=\"data row3 col5\" >-0.4626</td>\n",
       "            </tr>\n",
       "    </tbody></table>"
      ],
      "text/plain": [
       "<pandas.io.formats.style.Styler at 0x7fd044d76d60>"
      ]
     },
     "execution_count": 5,
     "metadata": {},
     "output_type": "execute_result"
    }
   ],
   "source": [
    "def table_row(df, portfolio, annualize_factor=12):\n",
    "    mean = df[portfolio].mean() * annualize_factor\n",
    "    vol = df[portfolio].std() * np.sqrt(annualize_factor)\n",
    "    sharpe_ratio = mean/vol\n",
    "    skew = df[portfolio].skew() #unscaled\n",
    "    corr = df[[portfolio, 'MKT', 'HML']].corr()\n",
    "    corr_to_mkt = corr.loc[portfolio, 'MKT']\n",
    "    corr_to_value = corr.loc[portfolio, 'HML']\n",
    "    return [mean, vol, sharpe_ratio, skew, corr_to_mkt, corr_to_value]\n",
    "\n",
    "\n",
    "table1 = pd.DataFrame(index=['1927-2021', '1927-1993', '1994-2008', '2009-2021'],\n",
    "    columns=['mean ', 'vol ', 'sharpe_ratio ', 'skew ', 'corr_to_mkt ', 'corr_to_value', ])\n",
    "\n",
    "table1.loc['1927-2021', :] = table_row(df_mom_size.loc['1927':'2020',:], portfolio='rx_mom_FF')\n",
    "table1.loc['1927-1993', :] = table_row(df_mom_size.loc['1927':'1993',:], portfolio='rx_mom_FF')\n",
    "table1.loc['1994-2008', :] = table_row(df_mom_size.loc['1994':'2008',:], portfolio='rx_mom_FF')\n",
    "table1.loc['2009-2021', :] = table_row(df_mom_size.loc['2009':'2020',:], portfolio='rx_mom_FF')\n",
    "table1.style.set_caption('Solution Table 1: Momentum performance over time.')"
   ]
  },
  {
   "cell_type": "markdown",
   "id": "811aea79",
   "metadata": {},
   "source": [
    "<span style=\"color:#00008B\">**Solution:**</span>\n",
    "\n",
    "<span style=\"color:#00008B\"> (a) See Solution Table 1, which gives stats of the monthly returns. (All but skewness are annualized.)</span>\n",
    " \n",
    "<span style=\"color:#00008B\"> (b) Momentum's performance has been fairly consistent over the entire sample\n",
    "except that in the past 12 years the mean return has been very poor. This is driven mostly by the year 2009. Note that even in the final subsample the correlations to the market and value are close to their usual values, and the overall volatility is close to the usual.</span>\n",
    "\n",
    "<span style=\"color:#00008B\"> It's also noticeable that in the subperiod 1994-2008, the momentum has the best performance. The sharpe ratio is the highest, and the sknewness is only slightly negative. The correlations to the market and the value factor are the lowest. And this is exactly the period that momentum was published and well-practiced. </span>\n",
    "\n",
    "<span style=\"color:#00008B\"> (c) The persistent performance over time (except for the 2009 crash which causes low mean return in 2009-2020) seems to support the idea that momentum is not just a\n",
    "statistical anomaly. Even in the final subsample, it gives negative correlation to the market\n",
    "and value to the point it is valuable to a mean-variance investor even with a mean return\n",
    "near zero.</span>"
   ]
  },
  {
   "cell_type": "markdown",
   "id": "3176e771",
   "metadata": {},
   "source": [
    "***2. The case is about whether a long-only implementation of momentum is valuable.***\n",
    "\n",
    "Construct your own long-only implementation:,\n",
    "\n",
    "$$ \\tilde{r}^{momU:FF} = \\frac{1}{2} \\left( r^{momBU} + r^{momSU} \\right) - r^f $$\n",
    "\n",
    "Note that this is following the FF approach of treating big and small stocks separately. This\n",
    "would be very similar to a scaled version of,\n",
    "\n",
    "$$ \\tilde{r}^{momU} = \\frac{1}{3} \\left( r^{mom(8)} + r^{mom(9)} + r^{mom(10)} \\right) - r^f $$\n",
    "\n",
    "For the question below, use the FF-style, $\\tilde{r}^{momU:FF}_t$.\n",
    "\n",
    "(a) Fill out Table 2 for the data in the period 1994-2021.\n",
    "\n",
    "(b) Is long-only momentum as attractive as long-short momentum with respect to mean, volatility,\n",
    "and Sharpe Ratio?\n",
    "\n",
    "(c) Is long-only momentum as diversifying as long-short momentum with respect to market\n",
    "and value premia?\n",
    "\n",
    "(d) Show a plot of the cumulative product of $1 + \\tilde{r}^{mom:FF}$ and $1 + \\tilde{r}^{momU:FF}$ over the 2006-2021 subsample."
   ]
  },
  {
   "cell_type": "code",
   "execution_count": 6,
   "id": "4467c96c",
   "metadata": {},
   "outputs": [
    {
     "data": {
      "text/html": [
       "<style  type=\"text/css\" >\n",
       "</style><table id=\"T_f1831_\" ><caption>Solution Table 2: Long-only momentum performance.</caption><thead>    <tr>        <th class=\"blank level0\" ></th>        <th class=\"col_heading level0 col0\" >mean </th>        <th class=\"col_heading level0 col1\" >vol </th>        <th class=\"col_heading level0 col2\" >sharpe_ratio </th>        <th class=\"col_heading level0 col3\" >skew </th>        <th class=\"col_heading level0 col4\" >corr_to_mkt </th>        <th class=\"col_heading level0 col5\" >corr_to_value</th>    </tr></thead><tbody>\n",
       "                <tr>\n",
       "                        <th id=\"T_f1831_level0_row0\" class=\"row_heading level0 row0\" >long_short</th>\n",
       "                        <td id=\"T_f1831_row0_col0\" class=\"data row0 col0\" >0.0443</td>\n",
       "                        <td id=\"T_f1831_row0_col1\" class=\"data row0 col1\" >0.1708</td>\n",
       "                        <td id=\"T_f1831_row0_col2\" class=\"data row0 col2\" >0.2592</td>\n",
       "                        <td id=\"T_f1831_row0_col3\" class=\"data row0 col3\" >-1.4107</td>\n",
       "                        <td id=\"T_f1831_row0_col4\" class=\"data row0 col4\" >-0.3065</td>\n",
       "                        <td id=\"T_f1831_row0_col5\" class=\"data row0 col5\" >-0.2543</td>\n",
       "            </tr>\n",
       "            <tr>\n",
       "                        <th id=\"T_f1831_level0_row1\" class=\"row_heading level0 row1\" >long_only</th>\n",
       "                        <td id=\"T_f1831_row1_col0\" class=\"data row1 col0\" >0.1237</td>\n",
       "                        <td id=\"T_f1831_row1_col1\" class=\"data row1 col1\" >0.1772</td>\n",
       "                        <td id=\"T_f1831_row1_col2\" class=\"data row1 col2\" >0.6979</td>\n",
       "                        <td id=\"T_f1831_row1_col3\" class=\"data row1 col3\" >-0.5019</td>\n",
       "                        <td id=\"T_f1831_row1_col4\" class=\"data row1 col4\" >0.9002</td>\n",
       "                        <td id=\"T_f1831_row1_col5\" class=\"data row1 col5\" >-0.1374</td>\n",
       "            </tr>\n",
       "    </tbody></table>"
      ],
      "text/plain": [
       "<pandas.io.formats.style.Styler at 0x7fd045be5070>"
      ]
     },
     "execution_count": 6,
     "metadata": {},
     "output_type": "execute_result"
    }
   ],
   "source": [
    "#2 \n",
    "df_mom_size['rx_mom_U_FF'] = (1/2 * (df_mom_size['BIG HiPRIOR'] + df_mom_size['SMALL HiPRIOR']) -\n",
    "    df_mom_size['RF'])\n",
    "\n",
    "table2 = pd.DataFrame(index=['long_short', 'long_only'],\n",
    "    columns=['mean ', 'vol ', 'sharpe_ratio ', 'skew ', 'corr_to_mkt ', 'corr_to_value', ])\n",
    "\n",
    "table2.loc['long_short', :] = table_row(df_mom_size['1994':], portfolio='rx_mom_FF')\n",
    "table2.loc['long_only', :] = table_row(df_mom_size['1994':], portfolio='rx_mom_U_FF')\n",
    "table2.style.set_caption('Solution Table 2: Long-only momentum performance.')"
   ]
  },
  {
   "cell_type": "code",
   "execution_count": 7,
   "id": "7e123950",
   "metadata": {},
   "outputs": [
    {
     "data": {
      "image/png": "[encoded data removed]",
      "text/plain": [
       "<Figure size 1152x288 with 1 Axes>"
      ]
     },
     "metadata": {},
     "output_type": "display_data"
    }
   ],
   "source": [
    "sns.set_style(\"whitegrid\")\n",
    "(df_mom_size.loc['1994':'2021', 'rx_mom_FF'] + 1).cumprod().plot(figsize=(16,4))\n",
    "(df_mom_size.loc['1994':'2021', 'rx_mom_U_FF'] + 1).cumprod().plot(figsize=(16,4))\n",
    "plt.title('Figure 1: Cumulative excess return on baseline momentum and long-only momentum strategies.')\n",
    "plt.legend();"
   ]
  },
  {
   "cell_type": "markdown",
   "id": "fc2e674b",
   "metadata": {},
   "source": [
    "<span style=\"color:#00008B\">**Solution:**</span>\n",
    "\n",
    "<span style=\"color:#00008B\"> (a) See Solution Table 2, which gives stats of the monthly returns. (All but skewness are annualized.) </span>\n",
    "    \n",
    "<span style=\"color:#00008B\"> (b) During the period of 1994-2021, the mean, and Sharpe ratio are much higher in the long-only strategy, while the vol is about the same. It also has much less skewness. On these measures, it looks even more attractive. </span>\n",
    "    \n",
    "<span style=\"color:#00008B\"> (c) The long-only strategy is extremely correlated with the market and thus should not be promoted based on its diversification to the market. The long-short strategy has\n",
    "almost no market correlation and substantially negative correlation to value. </span>\n",
    "    \n",
    "<span style=\"color:#00008B\"> (d) See Figure 1. From 1994 to 2021, the long-and-short momentum stratery only out-performed the long-only strategy in 2003 and 2009. There one sees that the long-and-short momentum strategy suffered massive losses in 2009, (roughly -80% return,) while the long-only strategy was down about 50%\n",
    "in 2008 and up in 2009. This is a good illustration of the long-only strategy having less skewness. After 2009, the performance of long-and-short stratery was quite stable, and it has never returned to the previous level. On the other hand, the long-only strategy has recovered and soared after 2009. </span>"
   ]
  },
  {
   "cell_type": "markdown",
   "id": "c03276b8",
   "metadata": {},
   "source": [
    "***3. Is momentum just data mining, or is it a robust strategy?***\n",
    "\n",
    "Assess how sensitive the threshold for the “winners” and “losers” is in the results. Specifically, we compare three constructions:\n",
    " - long the top 1 decile and short the bottom 1 deciles\n",
    " $$ \\tilde{r}^{momD1} = r^{mom(10)} - r^{mom(1)} $$\n",
    " - long the top 3 deciles and short the bottom 3 deciles\n",
    " $$ \\tilde{r}^{momD3} = \\frac{1}{3}\\sum_{k=8}^{10} r^{mom(k)} - \\frac{1}{3}\\sum_{k=1}^{3} r^{mom(k)}$$\n",
    " - long the top 5 deciles and short the bottom 5 deciles\n",
    " $$ \\tilde{r}^{momD5} = \\frac{1}{5}\\sum_{k=6}^{10} r^{mom(k)} - \\frac{1}{5}\\sum_{k=1}^{5} r^{mom(k)}$$\n",
    "\n",
    "(a) Compare all three constructions, (in the full-sample period,) by filling out the stats in the\n",
    "table below for the period 1994-2021.\n",
    "\n",
    "(b) Do the tradeoffs between the 1-decile, 3-decile, and 5-decile constructions line up with the theoretical tradeoffs we discussed in the lecture?\n",
    "\n",
    "(c) Should AQR’s retail product consider using a 1-decile or 5-decile construction?\n",
    "\n",
    "(d) Does $\\tilde{r}^{momD3}$ have similar stats to the Fama-French construction in (1). Recall that con- struction is also a 3-decile, long-short construction, but it is segmented for small and large stocks. Compare the middle row of Table 3 with the top row of Table 2."
   ]
  },
  {
   "cell_type": "code",
   "execution_count": 8,
   "id": "2675f2ea",
   "metadata": {},
   "outputs": [
    {
     "data": {
      "text/html": [
       "<style  type=\"text/css\" >\n",
       "</style><table id=\"T_cebc8_\" ><caption>Table 3: Robustness of momentum construction.</caption><thead>    <tr>        <th class=\"blank level0\" ></th>        <th class=\"col_heading level0 col0\" >mean </th>        <th class=\"col_heading level0 col1\" >vol </th>        <th class=\"col_heading level0 col2\" >sharpe_ratio </th>        <th class=\"col_heading level0 col3\" >skew </th>        <th class=\"col_heading level0 col4\" >corr_to_mkt </th>        <th class=\"col_heading level0 col5\" >corr_to_value</th>    </tr></thead><tbody>\n",
       "                <tr>\n",
       "                        <th id=\"T_cebc8_level0_row0\" class=\"row_heading level0 row0\" >rx_mom_D1</th>\n",
       "                        <td id=\"T_cebc8_row0_col0\" class=\"data row0 col0\" >0.0731</td>\n",
       "                        <td id=\"T_cebc8_row0_col1\" class=\"data row0 col1\" >0.3018</td>\n",
       "                        <td id=\"T_cebc8_row0_col2\" class=\"data row0 col2\" >0.2423</td>\n",
       "                        <td id=\"T_cebc8_row0_col3\" class=\"data row0 col3\" >-1.3013</td>\n",
       "                        <td id=\"T_cebc8_row0_col4\" class=\"data row0 col4\" >-0.3337</td>\n",
       "                        <td id=\"T_cebc8_row0_col5\" class=\"data row0 col5\" >-0.2587</td>\n",
       "            </tr>\n",
       "            <tr>\n",
       "                        <th id=\"T_cebc8_level0_row1\" class=\"row_heading level0 row1\" >rx_mom_D3</th>\n",
       "                        <td id=\"T_cebc8_row1_col0\" class=\"data row1 col0\" >0.0317</td>\n",
       "                        <td id=\"T_cebc8_row1_col1\" class=\"data row1 col1\" >0.1947</td>\n",
       "                        <td id=\"T_cebc8_row1_col2\" class=\"data row1 col2\" >0.1631</td>\n",
       "                        <td id=\"T_cebc8_row1_col3\" class=\"data row1 col3\" >-1.3430</td>\n",
       "                        <td id=\"T_cebc8_row1_col4\" class=\"data row1 col4\" >-0.3654</td>\n",
       "                        <td id=\"T_cebc8_row1_col5\" class=\"data row1 col5\" >-0.2370</td>\n",
       "            </tr>\n",
       "            <tr>\n",
       "                        <th id=\"T_cebc8_level0_row2\" class=\"row_heading level0 row2\" >rx_mom_D5</th>\n",
       "                        <td id=\"T_cebc8_row2_col0\" class=\"data row2 col0\" >0.0159</td>\n",
       "                        <td id=\"T_cebc8_row2_col1\" class=\"data row2 col1\" >0.1354</td>\n",
       "                        <td id=\"T_cebc8_row2_col2\" class=\"data row2 col2\" >0.1173</td>\n",
       "                        <td id=\"T_cebc8_row2_col3\" class=\"data row2 col3\" >-1.4285</td>\n",
       "                        <td id=\"T_cebc8_row2_col4\" class=\"data row2 col4\" >-0.3583</td>\n",
       "                        <td id=\"T_cebc8_row2_col5\" class=\"data row2 col5\" >-0.2312</td>\n",
       "            </tr>\n",
       "    </tbody></table>"
      ],
      "text/plain": [
       "<pandas.io.formats.style.Styler at 0x7fd045b6fee0>"
      ]
     },
     "execution_count": 8,
     "metadata": {},
     "output_type": "execute_result"
    }
   ],
   "source": [
    "#3\n",
    "\n",
    "df_momentum['rx_mom_D1'] = df_momentum['Hi PRIOR'] - df_momentum['Lo PRIOR']\n",
    "table3 = pd.DataFrame(columns=['mean ', 'vol ', 'sharpe_ratio ', 'skew ', 'corr_to_mkt ', 'corr_to_value', ])\n",
    "\n",
    "df = df_mom_size.join(df_momentum, rsuffix='momentum_')\n",
    "df['rx_mom_D3'] = (1/3 * (df['PRIOR 8'] + df['PRIOR 9'] + df['Hi PRIOR']) -\\\n",
    "                1/3 * (df['Lo PRIOR'] + df['PRIOR 2'] + df['PRIOR 3']))\n",
    "df['rx_mom_D5'] = (1/5 * (df['PRIOR 6'] + df['PRIOR 7'] + df['PRIOR 8'] + df['PRIOR 9'] + df['Hi PRIOR']) -\\\n",
    "                1/5 * (df['Lo PRIOR'] + df['PRIOR 2'] + df['PRIOR 3'] + df['PRIOR 4'] + df['PRIOR 5']))\n",
    "table3.loc['rx_mom_D1', :] = table_row(df['1994':], portfolio='rx_mom_D1')\n",
    "table3.loc['rx_mom_D3', :] = table_row(df['1994':], portfolio='rx_mom_D3')\n",
    "table3.loc['rx_mom_D5', :] = table_row(df['1994':], portfolio='rx_mom_D5')\n",
    "\n",
    "table3.style.set_caption('Table 3: Robustness of momentum construction.')"
   ]
  },
  {
   "cell_type": "code",
   "execution_count": 9,
   "id": "c7d8d0fb",
   "metadata": {},
   "outputs": [
    {
     "data": {
      "text/html": [
       "<style  type=\"text/css\" >\n",
       "</style><table id=\"T_c3bf5_\" ><caption>Solution Table 2: Long-only momentum performance.</caption><thead>    <tr>        <th class=\"blank level0\" ></th>        <th class=\"col_heading level0 col0\" >mean </th>        <th class=\"col_heading level0 col1\" >vol </th>        <th class=\"col_heading level0 col2\" >sharpe_ratio </th>        <th class=\"col_heading level0 col3\" >skew </th>        <th class=\"col_heading level0 col4\" >corr_to_mkt </th>        <th class=\"col_heading level0 col5\" >corr_to_value</th>    </tr></thead><tbody>\n",
       "                <tr>\n",
       "                        <th id=\"T_c3bf5_level0_row0\" class=\"row_heading level0 row0\" >long_short</th>\n",
       "                        <td id=\"T_c3bf5_row0_col0\" class=\"data row0 col0\" >0.0443</td>\n",
       "                        <td id=\"T_c3bf5_row0_col1\" class=\"data row0 col1\" >0.1708</td>\n",
       "                        <td id=\"T_c3bf5_row0_col2\" class=\"data row0 col2\" >0.2592</td>\n",
       "                        <td id=\"T_c3bf5_row0_col3\" class=\"data row0 col3\" >-1.4107</td>\n",
       "                        <td id=\"T_c3bf5_row0_col4\" class=\"data row0 col4\" >-0.3065</td>\n",
       "                        <td id=\"T_c3bf5_row0_col5\" class=\"data row0 col5\" >-0.2543</td>\n",
       "            </tr>\n",
       "            <tr>\n",
       "                        <th id=\"T_c3bf5_level0_row1\" class=\"row_heading level0 row1\" >long_only</th>\n",
       "                        <td id=\"T_c3bf5_row1_col0\" class=\"data row1 col0\" >0.1237</td>\n",
       "                        <td id=\"T_c3bf5_row1_col1\" class=\"data row1 col1\" >0.1772</td>\n",
       "                        <td id=\"T_c3bf5_row1_col2\" class=\"data row1 col2\" >0.6979</td>\n",
       "                        <td id=\"T_c3bf5_row1_col3\" class=\"data row1 col3\" >-0.5019</td>\n",
       "                        <td id=\"T_c3bf5_row1_col4\" class=\"data row1 col4\" >0.9002</td>\n",
       "                        <td id=\"T_c3bf5_row1_col5\" class=\"data row1 col5\" >-0.1374</td>\n",
       "            </tr>\n",
       "    </tbody></table>"
      ],
      "text/plain": [
       "<pandas.io.formats.style.Styler at 0x7fd0460eaf70>"
      ]
     },
     "execution_count": 9,
     "metadata": {},
     "output_type": "execute_result"
    }
   ],
   "source": [
    "table2.style.set_caption('Solution Table 2: Long-only momentum performance.')"
   ]
  },
  {
   "cell_type": "markdown",
   "id": "ecfa1f57",
   "metadata": {},
   "source": [
    "<span style=\"color:#00008B\">**Solution:**</span>\n",
    "\n",
    "<span style=\"color:#00008B\"> (a) See Table 3, which gives stats of the monthly returns. (All but skewness are annualized.) </span>\n",
    "    \n",
    "<span style=\"color:#00008B\"> (b) The lecture implies that the more extreme the cutoff for the \"winners\", the higher the mean return of the momentum portfolio. The downside is that we would expect higher volatility.\n",
    "This is consistent with what we see here. </span>\n",
    "\n",
    "<span style=\"color:#00008B\"> (c) If AQR can accept a higher volality and take on high concentrations in individual stocks, it can consider the 1-decile contruction as a retail product as the performance of the 1-decile construction is stronger. If AQR chooses the 5-decile construction, it means that it will hold all securities on the market, the trading costs from the rebalancing would be huge and the premium would be smaller too, but it has a smaller volality and a very diversified portfolio. I don't think AQR will choose either option. \n",
    "    \n",
    "<span style=\"color:#00008B\"> (d) The Fama-French construction has a larger mean, a smaller vol, and thus a higher sharpe ratio. Other measures are on the same scale as those of the 3-decile construction. This shows that segment by size actually gives a better performance. \n"
   ]
  },
  {
   "cell_type": "markdown",
   "id": "3c5f2b8b",
   "metadata": {},
   "source": [
    "***4. Does implementing momentum require trading lots of small stocks—thus causing even larger trading costs?***\n",
    "\n",
    "For regulatory and liquidity reasons, AQR is particularly interested in using larger stocks for their momentum baskets. (Though they will launch one product that focuses on medium-sized stocks.)\n",
    "\n",
    "Use the data provided on both small-stock “winners”, $r^{momSU}$, and small-stock “losers”, $r^{momSD}$, to construct a small-stock momentum portfolio,\n",
    " $$ \\tilde{r}^{momS} = r^{momSU} - r^{momSD} $$\n",
    " \n",
    "Similarly, use the data provided to construct a big-stock momentum portfolio,\n",
    " $$ \\tilde{r}^{momB} = r^{momBU} - r^{momBD} $$\n",
    "\n",
    "(a) Fill out Table 4 over the sample 1994-2021.\n",
    "\n",
    "(b) Is the attractiveness of the momentum strategy mostly driven by the small stocks? That is, does a momentum strategy in large stocks still deliver excess returns at comparable risk?\n"
   ]
  },
  {
   "cell_type": "code",
   "execution_count": 10,
   "id": "759782e9",
   "metadata": {},
   "outputs": [
    {
     "data": {
      "text/html": [
       "<style  type=\"text/css\" >\n",
       "</style><table id=\"T_78309_\" ><caption>Table 4: Small stock momentum performance.</caption><thead>    <tr>        <th class=\"blank level0\" ></th>        <th class=\"col_heading level0 col0\" >mean </th>        <th class=\"col_heading level0 col1\" >vol </th>        <th class=\"col_heading level0 col2\" >sharpe_ratio </th>        <th class=\"col_heading level0 col3\" >skew </th>        <th class=\"col_heading level0 col4\" >corr_to_mkt </th>        <th class=\"col_heading level0 col5\" >corr_to_v</th>    </tr></thead><tbody>\n",
       "                <tr>\n",
       "                        <th id=\"T_78309_level0_row0\" class=\"row_heading level0 row0\" >rx_mom_FF</th>\n",
       "                        <td id=\"T_78309_row0_col0\" class=\"data row0 col0\" >0.0443</td>\n",
       "                        <td id=\"T_78309_row0_col1\" class=\"data row0 col1\" >0.1708</td>\n",
       "                        <td id=\"T_78309_row0_col2\" class=\"data row0 col2\" >0.2592</td>\n",
       "                        <td id=\"T_78309_row0_col3\" class=\"data row0 col3\" >-1.4107</td>\n",
       "                        <td id=\"T_78309_row0_col4\" class=\"data row0 col4\" >-0.3065</td>\n",
       "                        <td id=\"T_78309_row0_col5\" class=\"data row0 col5\" >-0.2543</td>\n",
       "            </tr>\n",
       "            <tr>\n",
       "                        <th id=\"T_78309_level0_row1\" class=\"row_heading level0 row1\" >rx_mom_S</th>\n",
       "                        <td id=\"T_78309_row1_col0\" class=\"data row1 col0\" >0.0577</td>\n",
       "                        <td id=\"T_78309_row1_col1\" class=\"data row1 col1\" >0.1738</td>\n",
       "                        <td id=\"T_78309_row1_col2\" class=\"data row1 col2\" >0.3321</td>\n",
       "                        <td id=\"T_78309_row1_col3\" class=\"data row1 col3\" >-1.7289</td>\n",
       "                        <td id=\"T_78309_row1_col4\" class=\"data row1 col4\" >-0.3093</td>\n",
       "                        <td id=\"T_78309_row1_col5\" class=\"data row1 col5\" >-0.1925</td>\n",
       "            </tr>\n",
       "            <tr>\n",
       "                        <th id=\"T_78309_level0_row2\" class=\"row_heading level0 row2\" >rx_mom_B</th>\n",
       "                        <td id=\"T_78309_row2_col0\" class=\"data row2 col0\" >0.0308</td>\n",
       "                        <td id=\"T_78309_row2_col1\" class=\"data row2 col1\" >0.1837</td>\n",
       "                        <td id=\"T_78309_row2_col2\" class=\"data row2 col2\" >0.1679</td>\n",
       "                        <td id=\"T_78309_row2_col3\" class=\"data row2 col3\" >-0.8475</td>\n",
       "                        <td id=\"T_78309_row2_col4\" class=\"data row2 col4\" >-0.2774</td>\n",
       "                        <td id=\"T_78309_row2_col5\" class=\"data row2 col5\" >-0.2908</td>\n",
       "            </tr>\n",
       "    </tbody></table>"
      ],
      "text/plain": [
       "<pandas.io.formats.style.Styler at 0x7fd03d122b20>"
      ]
     },
     "execution_count": 10,
     "metadata": {},
     "output_type": "execute_result"
    }
   ],
   "source": [
    "#4\n",
    "df['rx_mom_S'] = df['SMALL HiPRIOR'] - df['SMALL LoPRIOR']\n",
    "df['rx_mom_B'] = df['BIG HiPRIOR'] - df['BIG LoPRIOR']\n",
    "table4 = pd.DataFrame(columns=['mean ', 'vol ', 'sharpe_ratio ', 'skew ', 'corr_to_mkt ','corr_to_v'])\n",
    "table4.loc['rx_mom_FF', :] = table_row(df['1994':], portfolio='rx_mom_FF')\n",
    "table4.loc['rx_mom_S', :] = table_row(df['1994':], portfolio='rx_mom_S')\n",
    "table4.loc['rx_mom_B', :] = table_row(df['1994':], portfolio='rx_mom_B')\n",
    "table4.style.set_caption('Table 4: Small stock momentum performance.')"
   ]
  },
  {
   "cell_type": "markdown",
   "id": "7a96a398",
   "metadata": {},
   "source": [
    "<span style=\"color:#00008B\">**Solution:**</span>\n",
    "\n",
    "<span style=\"color:#00008B\"> It doesn't seem like the attractiveness of the momentum strategy is mostly driven by the small stocks as the all three momentum constructions have comparable performance. However, when taking the regulatory and liquidity issue into consideration, a momentum strategy in large stocks still delivers excess returns at comparable risk. "
   ]
  },
  {
   "cell_type": "markdown",
   "id": "de093866",
   "metadata": {},
   "source": [
    "#### 5 In conclusion, what is your assessment of the AQR retail product? Is it capturing the important features of the Fama-French construction of momentum? Would you suggest any modifications?\n",
    "<span style=\"color:#00008B\">**Solution:** The AQR retail product is substantially different from what we typically refer to as momentum. Though it has strong expected returns, it is almost all from market premium. This is a feature of being long-only and won't be fixed by modifying the exact constructions decile, sorting by size, etc. </span>"
   ]
  },
  {
   "cell_type": "code",
   "execution_count": null,
   "id": "f4dc2be2",
   "metadata": {},
   "outputs": [],
   "source": []
  }
 ],
 "metadata": {
  "kernelspec": {
   "display_name": "Python 3",
   "language": "python",
   "name": "python3"
  },
  "language_info": {
   "codemirror_mode": {
    "name": "ipython",
    "version": 3
   },
   "file_extension": ".py",
   "mimetype": "text/x-python",
   "name": "python",
   "nbconvert_exporter": "python",
   "pygments_lexer": "ipython3",
   "version": "3.8.8"
  }
 },
 "nbformat": 4,
 "nbformat_minor": 5
}
